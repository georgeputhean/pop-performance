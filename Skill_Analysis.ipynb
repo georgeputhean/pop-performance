{
  "nbformat": 4,
  "nbformat_minor": 0,
  "metadata": {
    "colab": {
      "provenance": [],
      "mount_file_id": "1WPa0cnat8Ddlu4iAUar8ZwMCxzF9S9Dd",
      "authorship_tag": "ABX9TyMaTu7IjTNgLef+2EKv3NdK",
      "include_colab_link": true
    },
    "kernelspec": {
      "name": "python3",
      "display_name": "Python 3"
    },
    "language_info": {
      "name": "python"
    }
  },
  "cells": [
    {
      "cell_type": "markdown",
      "metadata": {
        "id": "view-in-github",
        "colab_type": "text"
      },
      "source": [
        "<a href=\"https://colab.research.google.com/github/georgeputhean/pop-performance/blob/main/Skill_Analysis.ipynb\" target=\"_parent\"><img src=\"https://colab.research.google.com/assets/colab-badge.svg\" alt=\"Open In Colab\"/></a>"
      ]
    },
    {
      "cell_type": "code",
      "execution_count": 139,
      "metadata": {
        "id": "XMRSXzFldZs6"
      },
      "outputs": [],
      "source": [
        "import pandas as pd\n",
        "pd.options.mode.chained_assignment = None\n",
        "from sklearn.linear_model import LinearRegression"
      ]
    },
    {
      "cell_type": "code",
      "source": [
        "feature=pd.read_csv(\"/content/Feature_Pop  (1).csv\")\n",
        "target=pd.read_csv(\"/content/Target_Pop (2).csv\")\n",
        "#get rid of the first column which is useless\n",
        "target.drop(labels=['Unnamed: 0'],axis=1,inplace=True)\n",
        "feature.drop(labels=['Unnamed: 0'],axis=1,inplace=True)"
      ],
      "metadata": {
        "id": "1IzvTE7je724"
      },
      "execution_count": 165,
      "outputs": []
    },
    {
      "cell_type": "code",
      "source": [
        "feature['Total Score'].unique()"
      ],
      "metadata": {
        "colab": {
          "base_uri": "https://localhost:8080/"
        },
        "id": "deLI9QAQgbW3",
        "outputId": "b9c97a1d-c730-4699-f458-2901212897a8"
      },
      "execution_count": 166,
      "outputs": [
        {
          "output_type": "execute_result",
          "data": {
            "text/plain": [
              "array([16,  0, 23, 19, 20, 18, 24, 26, 21, 30, 27, 22, 29, 17, 25])"
            ]
          },
          "metadata": {},
          "execution_count": 166
        }
      ]
    },
    {
      "cell_type": "code",
      "source": [
        "feature_encoded=pd.get_dummies(feature,columns=['Skill to Improve 1', 'Skill to Improve 2'],drop_first=True)"
      ],
      "metadata": {
        "id": "VUoQorwzfOHl"
      },
      "execution_count": 167,
      "outputs": []
    },
    {
      "cell_type": "code",
      "source": [
        "target.info()"
      ],
      "metadata": {
        "colab": {
          "base_uri": "https://localhost:8080/"
        },
        "id": "CAtvgaNYHVud",
        "outputId": "fd46dfe9-e26c-454e-fd58-48498398a791"
      },
      "execution_count": 168,
      "outputs": [
        {
          "output_type": "stream",
          "name": "stdout",
          "text": [
            "<class 'pandas.core.frame.DataFrame'>\n",
            "RangeIndex: 1057 entries, 0 to 1056\n",
            "Data columns (total 23 columns):\n",
            " #   Column                                  Non-Null Count  Dtype  \n",
            "---  ------                                  --------------  -----  \n",
            " 0   EGRA Section 1a Score                   1057 non-null   int64  \n",
            " 1   EGRA Section 1b Score                   1057 non-null   int64  \n",
            " 2   EGRA Section 1c Score                   1057 non-null   int64  \n",
            " 3   EGRA Section 2a Score                   1057 non-null   int64  \n",
            " 4   EGRA Section 2b Score                   1057 non-null   int64  \n",
            " 5   EGRA Section 3 Letters Correct          1057 non-null   int64  \n",
            " 6   EGRA Section 3 Time Completed           1055 non-null   float64\n",
            " 7   EGRA Section 3 LPM                      1057 non-null   float64\n",
            " 8   EGRA Section 4 Words Correct            1057 non-null   int64  \n",
            " 9   EGRA Section 4 Time Completed           1052 non-null   float64\n",
            " 10  EGRA Section 4: WPM                     1057 non-null   int64  \n",
            " 11  EGRA Section 5 Words Correct            1057 non-null   int64  \n",
            " 12  EGRA Section 5 Time Completed           1054 non-null   float64\n",
            " 13  EGRA Section 5 CWPM                     1057 non-null   int64  \n",
            " 14  EGRA Section 5 Questions Correct        1057 non-null   int64  \n",
            " 15  EGRA Section 6 Written Words Correct    1057 non-null   int64  \n",
            " 16  EGRA Section 6 Correct Space/Direction  1057 non-null   int64  \n",
            " 17  EGRA Section 6 Correct Punctuation      1057 non-null   int64  \n",
            " 18  EGRA Section 6 Correct Use of Capitals  1057 non-null   int64  \n",
            " 19  EGRA Section 7a Score                   1057 non-null   int64  \n",
            " 20  EGRA Section 1 Total Score              1057 non-null   int64  \n",
            " 21  EGRA Section 6 Total Score              1057 non-null   int64  \n",
            " 22  Cumulative Score                        1057 non-null   float64\n",
            "dtypes: float64(5), int64(18)\n",
            "memory usage: 190.1 KB\n"
          ]
        }
      ]
    },
    {
      "cell_type": "code",
      "source": [
        "feature_encoded.columns"
      ],
      "metadata": {
        "colab": {
          "base_uri": "https://localhost:8080/"
        },
        "id": "0ilO2Q9YfmPK",
        "outputId": "6f9e95f3-2759-45a3-8e7f-bcc1b8050519"
      },
      "execution_count": 169,
      "outputs": [
        {
          "output_type": "execute_result",
          "data": {
            "text/plain": [
              "Index(['Grade_x', 'School Year_x', 'Pre or Post?',\n",
              "       'Main Language Used In Exam', 'EGRA Question 1: Reading Habit',\n",
              "       'EGRA Last Book Read', 'Reads With Others',\n",
              "       'How Often, ReadsWithOthers', 'Student Gender', 'Q1 Rating or Answer',\n",
              "       'Q2 Rating', 'Q3 Rating or Answer', 'Q4 Rating or Answer',\n",
              "       'Q5 Rating or Answer', 'Q6 Rating or Answer', 'Q7 Rating', 'Q8 Rating',\n",
              "       'Minutes Spent Observing', 'Minutes Spent Coaching', 'Total Score',\n",
              "       'Teacher Number: Gender',\n",
              "       'Teacher Number: School Years in Teacher Support Program',\n",
              "       'Teacher Present', 'Average Students Enrolled',\n",
              "       'Skill to Improve 1_Communication of Content',\n",
              "       'Skill to Improve 1_Lesson Objectives',\n",
              "       'Skill to Improve 1_Lesson Plan Delivery', 'Skill to Improve 1_None',\n",
              "       'Skill to Improve 1_Patient, Caring and Kind Personality',\n",
              "       'Skill to Improve 1_Preparation',\n",
              "       'Skill to Improve 2_Communication of Content',\n",
              "       'Skill to Improve 2_Lesson Objectives',\n",
              "       'Skill to Improve 2_Lesson Plan Delivery', 'Skill to Improve 2_None',\n",
              "       'Skill to Improve 2_Patient, Caring and Kind Personality',\n",
              "       'Skill to Improve 2_Preparation', 'Skill to Improve 2_Professionalism'],\n",
              "      dtype='object')"
            ]
          },
          "metadata": {},
          "execution_count": 169
        }
      ]
    },
    {
      "cell_type": "code",
      "source": [
        "X=feature_encoded[['Grade_x', 'School Year_x', 'Pre or Post?',\n",
        "       'Main Language Used In Exam', 'EGRA Question 1: Reading Habit',\n",
        "       'EGRA Last Book Read', 'Reads With Others',\n",
        "       'How Often, ReadsWithOthers', 'Student Gender', \n",
        "       'Minutes Spent Observing', 'Minutes Spent Coaching', 'Total Score',\n",
        "       'Teacher Number: Gender',\n",
        "       'Teacher Number: School Years in Teacher Support Program',\n",
        "       'Teacher Present', 'Average Students Enrolled',\n",
        "       'Skill to Improve 1_Communication of Content',\n",
        "       'Skill to Improve 1_Lesson Objectives',\n",
        "       'Skill to Improve 1_Lesson Plan Delivery', 'Skill to Improve 1_None',\n",
        "       'Skill to Improve 1_Patient, Caring and Kind Personality',\n",
        "       'Skill to Improve 1_Preparation',\n",
        "       'Skill to Improve 2_Communication of Content',\n",
        "       'Skill to Improve 2_Lesson Objectives',\n",
        "       'Skill to Improve 2_Lesson Plan Delivery', 'Skill to Improve 2_None',\n",
        "       'Skill to Improve 2_Patient, Caring and Kind Personality',\n",
        "       'Skill to Improve 2_Preparation', 'Skill to Improve 2_Professionalism']]"
      ],
      "metadata": {
        "id": "7-gsL_hlClBU"
      },
      "execution_count": 170,
      "outputs": []
    },
    {
      "cell_type": "code",
      "source": [
        "X.info()"
      ],
      "metadata": {
        "colab": {
          "base_uri": "https://localhost:8080/"
        },
        "id": "_9d33z9iDV7_",
        "outputId": "f228820a-3531-4071-f3d5-177a7fe0ba68"
      },
      "execution_count": 171,
      "outputs": [
        {
          "output_type": "stream",
          "name": "stdout",
          "text": [
            "<class 'pandas.core.frame.DataFrame'>\n",
            "RangeIndex: 1057 entries, 0 to 1056\n",
            "Data columns (total 29 columns):\n",
            " #   Column                                                   Non-Null Count  Dtype  \n",
            "---  ------                                                   --------------  -----  \n",
            " 0   Grade_x                                                  1057 non-null   int64  \n",
            " 1   School Year_x                                            1057 non-null   int64  \n",
            " 2   Pre or Post?                                             1057 non-null   int64  \n",
            " 3   Main Language Used In Exam                               1057 non-null   int64  \n",
            " 4   EGRA Question 1: Reading Habit                           1057 non-null   int64  \n",
            " 5   EGRA Last Book Read                                      1057 non-null   int64  \n",
            " 6   Reads With Others                                        1057 non-null   int64  \n",
            " 7   How Often, ReadsWithOthers                               1057 non-null   int64  \n",
            " 8   Student Gender                                           1057 non-null   int64  \n",
            " 9   Minutes Spent Observing                                  1057 non-null   float64\n",
            " 10  Minutes Spent Coaching                                   1057 non-null   float64\n",
            " 11  Total Score                                              1057 non-null   int64  \n",
            " 12  Teacher Number: Gender                                   1057 non-null   int64  \n",
            " 13  Teacher Number: School Years in Teacher Support Program  1057 non-null   int64  \n",
            " 14  Teacher Present                                          1057 non-null   int64  \n",
            " 15  Average Students Enrolled                                1057 non-null   int64  \n",
            " 16  Skill to Improve 1_Communication of Content              1057 non-null   uint8  \n",
            " 17  Skill to Improve 1_Lesson Objectives                     1057 non-null   uint8  \n",
            " 18  Skill to Improve 1_Lesson Plan Delivery                  1057 non-null   uint8  \n",
            " 19  Skill to Improve 1_None                                  1057 non-null   uint8  \n",
            " 20  Skill to Improve 1_Patient, Caring and Kind Personality  1057 non-null   uint8  \n",
            " 21  Skill to Improve 1_Preparation                           1057 non-null   uint8  \n",
            " 22  Skill to Improve 2_Communication of Content              1057 non-null   uint8  \n",
            " 23  Skill to Improve 2_Lesson Objectives                     1057 non-null   uint8  \n",
            " 24  Skill to Improve 2_Lesson Plan Delivery                  1057 non-null   uint8  \n",
            " 25  Skill to Improve 2_None                                  1057 non-null   uint8  \n",
            " 26  Skill to Improve 2_Patient, Caring and Kind Personality  1057 non-null   uint8  \n",
            " 27  Skill to Improve 2_Preparation                           1057 non-null   uint8  \n",
            " 28  Skill to Improve 2_Professionalism                       1057 non-null   uint8  \n",
            "dtypes: float64(2), int64(14), uint8(13)\n",
            "memory usage: 145.7 KB\n"
          ]
        }
      ]
    },
    {
      "cell_type": "code",
      "source": [
        "X[['Grade_x', 'School Year_x', 'Pre or Post?',\n",
        "       'Main Language Used In Exam', 'EGRA Question 1: Reading Habit',\n",
        "       'EGRA Last Book Read', 'Reads With Others',\n",
        "       'How Often, ReadsWithOthers', 'Student Gender', \n",
        "       'Teacher Number: Gender',\n",
        "       'Teacher Number: School Years in Teacher Support Program',\n",
        "       'Teacher Present',\n",
        "       'Skill to Improve 1_Communication of Content',\n",
        "       'Skill to Improve 1_Lesson Objectives',\n",
        "       'Skill to Improve 1_Lesson Plan Delivery', 'Skill to Improve 1_None',\n",
        "       'Skill to Improve 1_Patient, Caring and Kind Personality',\n",
        "       'Skill to Improve 1_Preparation',\n",
        "       'Skill to Improve 2_Communication of Content',\n",
        "       'Skill to Improve 2_Lesson Objectives',\n",
        "       'Skill to Improve 2_Lesson Plan Delivery', 'Skill to Improve 2_None',\n",
        "       'Skill to Improve 2_Patient, Caring and Kind Personality',\n",
        "       'Skill to Improve 2_Preparation', 'Skill to Improve 2_Professionalism']]=X[['Grade_x', 'School Year_x', 'Pre or Post?',\n",
        "       'Main Language Used In Exam', 'EGRA Question 1: Reading Habit',\n",
        "       'EGRA Last Book Read', 'Reads With Others',\n",
        "       'How Often, ReadsWithOthers', 'Student Gender', \n",
        "       'Teacher Number: Gender',\n",
        "       'Teacher Number: School Years in Teacher Support Program',\n",
        "       'Teacher Present',\n",
        "       'Skill to Improve 1_Communication of Content',\n",
        "       'Skill to Improve 1_Lesson Objectives',\n",
        "       'Skill to Improve 1_Lesson Plan Delivery', 'Skill to Improve 1_None',\n",
        "       'Skill to Improve 1_Patient, Caring and Kind Personality',\n",
        "       'Skill to Improve 1_Preparation',\n",
        "       'Skill to Improve 2_Communication of Content',\n",
        "       'Skill to Improve 2_Lesson Objectives',\n",
        "       'Skill to Improve 2_Lesson Plan Delivery', 'Skill to Improve 2_None',\n",
        "       'Skill to Improve 2_Patient, Caring and Kind Personality',\n",
        "       'Skill to Improve 2_Preparation', 'Skill to Improve 2_Professionalism']].apply(lambda x: x.astype('category'))"
      ],
      "metadata": {
        "id": "-sCL5VJrBfzf"
      },
      "execution_count": 172,
      "outputs": []
    },
    {
      "cell_type": "code",
      "source": [
        "X1=X.filter(like='Skill to Improve')"
      ],
      "metadata": {
        "id": "dH_x_d4s0kbv"
      },
      "execution_count": 173,
      "outputs": []
    },
    {
      "cell_type": "code",
      "source": [
        "X.info()"
      ],
      "metadata": {
        "colab": {
          "base_uri": "https://localhost:8080/"
        },
        "id": "Gj0-nGQR0mxu",
        "outputId": "54ee82fa-f42a-4065-8497-4239ef851a90"
      },
      "execution_count": 174,
      "outputs": [
        {
          "output_type": "stream",
          "name": "stdout",
          "text": [
            "<class 'pandas.core.frame.DataFrame'>\n",
            "RangeIndex: 1057 entries, 0 to 1056\n",
            "Data columns (total 29 columns):\n",
            " #   Column                                                   Non-Null Count  Dtype   \n",
            "---  ------                                                   --------------  -----   \n",
            " 0   Grade_x                                                  1057 non-null   category\n",
            " 1   School Year_x                                            1057 non-null   category\n",
            " 2   Pre or Post?                                             1057 non-null   category\n",
            " 3   Main Language Used In Exam                               1057 non-null   category\n",
            " 4   EGRA Question 1: Reading Habit                           1057 non-null   category\n",
            " 5   EGRA Last Book Read                                      1057 non-null   category\n",
            " 6   Reads With Others                                        1057 non-null   category\n",
            " 7   How Often, ReadsWithOthers                               1057 non-null   category\n",
            " 8   Student Gender                                           1057 non-null   category\n",
            " 9   Minutes Spent Observing                                  1057 non-null   float64 \n",
            " 10  Minutes Spent Coaching                                   1057 non-null   float64 \n",
            " 11  Total Score                                              1057 non-null   int64   \n",
            " 12  Teacher Number: Gender                                   1057 non-null   category\n",
            " 13  Teacher Number: School Years in Teacher Support Program  1057 non-null   category\n",
            " 14  Teacher Present                                          1057 non-null   category\n",
            " 15  Average Students Enrolled                                1057 non-null   int64   \n",
            " 16  Skill to Improve 1_Communication of Content              1057 non-null   category\n",
            " 17  Skill to Improve 1_Lesson Objectives                     1057 non-null   category\n",
            " 18  Skill to Improve 1_Lesson Plan Delivery                  1057 non-null   category\n",
            " 19  Skill to Improve 1_None                                  1057 non-null   category\n",
            " 20  Skill to Improve 1_Patient, Caring and Kind Personality  1057 non-null   category\n",
            " 21  Skill to Improve 1_Preparation                           1057 non-null   category\n",
            " 22  Skill to Improve 2_Communication of Content              1057 non-null   category\n",
            " 23  Skill to Improve 2_Lesson Objectives                     1057 non-null   category\n",
            " 24  Skill to Improve 2_Lesson Plan Delivery                  1057 non-null   category\n",
            " 25  Skill to Improve 2_None                                  1057 non-null   category\n",
            " 26  Skill to Improve 2_Patient, Caring and Kind Personality  1057 non-null   category\n",
            " 27  Skill to Improve 2_Preparation                           1057 non-null   category\n",
            " 28  Skill to Improve 2_Professionalism                       1057 non-null   category\n",
            "dtypes: category(25), float64(2), int64(2)\n",
            "memory usage: 62.3 KB\n"
          ]
        }
      ]
    },
    {
      "cell_type": "code",
      "source": [
        "feature_encoded"
      ],
      "metadata": {
        "colab": {
          "base_uri": "https://localhost:8080/",
          "height": 574
        },
        "id": "PCcEmaYkBSay",
        "outputId": "7c9cbe0e-7ed2-4422-82af-509fa891da4f"
      },
      "execution_count": 175,
      "outputs": [
        {
          "output_type": "execute_result",
          "data": {
            "text/plain": [
              "      Grade_x  School Year_x  Pre or Post?  Main Language Used In Exam  \\\n",
              "0           4           2020             0                           3   \n",
              "1           4           2020             0                           3   \n",
              "2           4           2020             0                           3   \n",
              "3           4           2020             0                           2   \n",
              "4           4           2020             0                           3   \n",
              "...       ...            ...           ...                         ...   \n",
              "1052        2           2020             0                           1   \n",
              "1053        2           2020             0                           3   \n",
              "1054        2           2020             0                           1   \n",
              "1055        2           2020             0                           3   \n",
              "1056        2           2020             0                           1   \n",
              "\n",
              "      EGRA Question 1: Reading Habit  EGRA Last Book Read  Reads With Others  \\\n",
              "0                                  1                    1                  1   \n",
              "1                                  1                    0                  1   \n",
              "2                                  1                    0                  1   \n",
              "3                                  1                    0                  1   \n",
              "4                                  1                    1                  0   \n",
              "...                              ...                  ...                ...   \n",
              "1052                               0                    0                  0   \n",
              "1053                               1                    0                  1   \n",
              "1054                               1                    0                  1   \n",
              "1055                               1                    1                  1   \n",
              "1056                               1                    0                  1   \n",
              "\n",
              "      How Often, ReadsWithOthers  Student Gender  Q1 Rating or Answer  ...  \\\n",
              "0                              1               1                    2  ...   \n",
              "1                              3               0                    2  ...   \n",
              "2                              1               0                    2  ...   \n",
              "3                              1               0                    2  ...   \n",
              "4                              2               0                    2  ...   \n",
              "...                          ...             ...                  ...  ...   \n",
              "1052                           2               0                    3  ...   \n",
              "1053                           1               0                    3  ...   \n",
              "1054                           3               1                    3  ...   \n",
              "1055                           3               1                    3  ...   \n",
              "1056                           3               0                    3  ...   \n",
              "\n",
              "      Skill to Improve 1_None  \\\n",
              "0                           0   \n",
              "1                           0   \n",
              "2                           0   \n",
              "3                           0   \n",
              "4                           0   \n",
              "...                       ...   \n",
              "1052                        0   \n",
              "1053                        0   \n",
              "1054                        0   \n",
              "1055                        0   \n",
              "1056                        0   \n",
              "\n",
              "      Skill to Improve 1_Patient, Caring and Kind Personality  \\\n",
              "0                                                     0         \n",
              "1                                                     0         \n",
              "2                                                     0         \n",
              "3                                                     0         \n",
              "4                                                     0         \n",
              "...                                                 ...         \n",
              "1052                                                  0         \n",
              "1053                                                  0         \n",
              "1054                                                  0         \n",
              "1055                                                  0         \n",
              "1056                                                  0         \n",
              "\n",
              "      Skill to Improve 1_Preparation  \\\n",
              "0                                  1   \n",
              "1                                  1   \n",
              "2                                  1   \n",
              "3                                  1   \n",
              "4                                  1   \n",
              "...                              ...   \n",
              "1052                               0   \n",
              "1053                               0   \n",
              "1054                               0   \n",
              "1055                               0   \n",
              "1056                               0   \n",
              "\n",
              "      Skill to Improve 2_Communication of Content  \\\n",
              "0                                               0   \n",
              "1                                               0   \n",
              "2                                               0   \n",
              "3                                               0   \n",
              "4                                               0   \n",
              "...                                           ...   \n",
              "1052                                            0   \n",
              "1053                                            0   \n",
              "1054                                            0   \n",
              "1055                                            0   \n",
              "1056                                            0   \n",
              "\n",
              "      Skill to Improve 2_Lesson Objectives  \\\n",
              "0                                        0   \n",
              "1                                        0   \n",
              "2                                        0   \n",
              "3                                        0   \n",
              "4                                        0   \n",
              "...                                    ...   \n",
              "1052                                     1   \n",
              "1053                                     1   \n",
              "1054                                     1   \n",
              "1055                                     1   \n",
              "1056                                     1   \n",
              "\n",
              "      Skill to Improve 2_Lesson Plan Delivery  Skill to Improve 2_None  \\\n",
              "0                                           0                        0   \n",
              "1                                           0                        0   \n",
              "2                                           0                        0   \n",
              "3                                           0                        0   \n",
              "4                                           0                        0   \n",
              "...                                       ...                      ...   \n",
              "1052                                        0                        0   \n",
              "1053                                        0                        0   \n",
              "1054                                        0                        0   \n",
              "1055                                        0                        0   \n",
              "1056                                        0                        0   \n",
              "\n",
              "      Skill to Improve 2_Patient, Caring and Kind Personality  \\\n",
              "0                                                     0         \n",
              "1                                                     0         \n",
              "2                                                     0         \n",
              "3                                                     0         \n",
              "4                                                     0         \n",
              "...                                                 ...         \n",
              "1052                                                  0         \n",
              "1053                                                  0         \n",
              "1054                                                  0         \n",
              "1055                                                  0         \n",
              "1056                                                  0         \n",
              "\n",
              "      Skill to Improve 2_Preparation  Skill to Improve 2_Professionalism  \n",
              "0                                  1                                   0  \n",
              "1                                  1                                   0  \n",
              "2                                  1                                   0  \n",
              "3                                  1                                   0  \n",
              "4                                  1                                   0  \n",
              "...                              ...                                 ...  \n",
              "1052                               0                                   0  \n",
              "1053                               0                                   0  \n",
              "1054                               0                                   0  \n",
              "1055                               0                                   0  \n",
              "1056                               0                                   0  \n",
              "\n",
              "[1057 rows x 37 columns]"
            ],
            "text/html": [
              "\n",
              "  <div id=\"df-6dca67cf-d913-4882-bcd1-a6aa6049ef65\">\n",
              "    <div class=\"colab-df-container\">\n",
              "      <div>\n",
              "<style scoped>\n",
              "    .dataframe tbody tr th:only-of-type {\n",
              "        vertical-align: middle;\n",
              "    }\n",
              "\n",
              "    .dataframe tbody tr th {\n",
              "        vertical-align: top;\n",
              "    }\n",
              "\n",
              "    .dataframe thead th {\n",
              "        text-align: right;\n",
              "    }\n",
              "</style>\n",
              "<table border=\"1\" class=\"dataframe\">\n",
              "  <thead>\n",
              "    <tr style=\"text-align: right;\">\n",
              "      <th></th>\n",
              "      <th>Grade_x</th>\n",
              "      <th>School Year_x</th>\n",
              "      <th>Pre or Post?</th>\n",
              "      <th>Main Language Used In Exam</th>\n",
              "      <th>EGRA Question 1: Reading Habit</th>\n",
              "      <th>EGRA Last Book Read</th>\n",
              "      <th>Reads With Others</th>\n",
              "      <th>How Often, ReadsWithOthers</th>\n",
              "      <th>Student Gender</th>\n",
              "      <th>Q1 Rating or Answer</th>\n",
              "      <th>...</th>\n",
              "      <th>Skill to Improve 1_None</th>\n",
              "      <th>Skill to Improve 1_Patient, Caring and Kind Personality</th>\n",
              "      <th>Skill to Improve 1_Preparation</th>\n",
              "      <th>Skill to Improve 2_Communication of Content</th>\n",
              "      <th>Skill to Improve 2_Lesson Objectives</th>\n",
              "      <th>Skill to Improve 2_Lesson Plan Delivery</th>\n",
              "      <th>Skill to Improve 2_None</th>\n",
              "      <th>Skill to Improve 2_Patient, Caring and Kind Personality</th>\n",
              "      <th>Skill to Improve 2_Preparation</th>\n",
              "      <th>Skill to Improve 2_Professionalism</th>\n",
              "    </tr>\n",
              "  </thead>\n",
              "  <tbody>\n",
              "    <tr>\n",
              "      <th>0</th>\n",
              "      <td>4</td>\n",
              "      <td>2020</td>\n",
              "      <td>0</td>\n",
              "      <td>3</td>\n",
              "      <td>1</td>\n",
              "      <td>1</td>\n",
              "      <td>1</td>\n",
              "      <td>1</td>\n",
              "      <td>1</td>\n",
              "      <td>2</td>\n",
              "      <td>...</td>\n",
              "      <td>0</td>\n",
              "      <td>0</td>\n",
              "      <td>1</td>\n",
              "      <td>0</td>\n",
              "      <td>0</td>\n",
              "      <td>0</td>\n",
              "      <td>0</td>\n",
              "      <td>0</td>\n",
              "      <td>1</td>\n",
              "      <td>0</td>\n",
              "    </tr>\n",
              "    <tr>\n",
              "      <th>1</th>\n",
              "      <td>4</td>\n",
              "      <td>2020</td>\n",
              "      <td>0</td>\n",
              "      <td>3</td>\n",
              "      <td>1</td>\n",
              "      <td>0</td>\n",
              "      <td>1</td>\n",
              "      <td>3</td>\n",
              "      <td>0</td>\n",
              "      <td>2</td>\n",
              "      <td>...</td>\n",
              "      <td>0</td>\n",
              "      <td>0</td>\n",
              "      <td>1</td>\n",
              "      <td>0</td>\n",
              "      <td>0</td>\n",
              "      <td>0</td>\n",
              "      <td>0</td>\n",
              "      <td>0</td>\n",
              "      <td>1</td>\n",
              "      <td>0</td>\n",
              "    </tr>\n",
              "    <tr>\n",
              "      <th>2</th>\n",
              "      <td>4</td>\n",
              "      <td>2020</td>\n",
              "      <td>0</td>\n",
              "      <td>3</td>\n",
              "      <td>1</td>\n",
              "      <td>0</td>\n",
              "      <td>1</td>\n",
              "      <td>1</td>\n",
              "      <td>0</td>\n",
              "      <td>2</td>\n",
              "      <td>...</td>\n",
              "      <td>0</td>\n",
              "      <td>0</td>\n",
              "      <td>1</td>\n",
              "      <td>0</td>\n",
              "      <td>0</td>\n",
              "      <td>0</td>\n",
              "      <td>0</td>\n",
              "      <td>0</td>\n",
              "      <td>1</td>\n",
              "      <td>0</td>\n",
              "    </tr>\n",
              "    <tr>\n",
              "      <th>3</th>\n",
              "      <td>4</td>\n",
              "      <td>2020</td>\n",
              "      <td>0</td>\n",
              "      <td>2</td>\n",
              "      <td>1</td>\n",
              "      <td>0</td>\n",
              "      <td>1</td>\n",
              "      <td>1</td>\n",
              "      <td>0</td>\n",
              "      <td>2</td>\n",
              "      <td>...</td>\n",
              "      <td>0</td>\n",
              "      <td>0</td>\n",
              "      <td>1</td>\n",
              "      <td>0</td>\n",
              "      <td>0</td>\n",
              "      <td>0</td>\n",
              "      <td>0</td>\n",
              "      <td>0</td>\n",
              "      <td>1</td>\n",
              "      <td>0</td>\n",
              "    </tr>\n",
              "    <tr>\n",
              "      <th>4</th>\n",
              "      <td>4</td>\n",
              "      <td>2020</td>\n",
              "      <td>0</td>\n",
              "      <td>3</td>\n",
              "      <td>1</td>\n",
              "      <td>1</td>\n",
              "      <td>0</td>\n",
              "      <td>2</td>\n",
              "      <td>0</td>\n",
              "      <td>2</td>\n",
              "      <td>...</td>\n",
              "      <td>0</td>\n",
              "      <td>0</td>\n",
              "      <td>1</td>\n",
              "      <td>0</td>\n",
              "      <td>0</td>\n",
              "      <td>0</td>\n",
              "      <td>0</td>\n",
              "      <td>0</td>\n",
              "      <td>1</td>\n",
              "      <td>0</td>\n",
              "    </tr>\n",
              "    <tr>\n",
              "      <th>...</th>\n",
              "      <td>...</td>\n",
              "      <td>...</td>\n",
              "      <td>...</td>\n",
              "      <td>...</td>\n",
              "      <td>...</td>\n",
              "      <td>...</td>\n",
              "      <td>...</td>\n",
              "      <td>...</td>\n",
              "      <td>...</td>\n",
              "      <td>...</td>\n",
              "      <td>...</td>\n",
              "      <td>...</td>\n",
              "      <td>...</td>\n",
              "      <td>...</td>\n",
              "      <td>...</td>\n",
              "      <td>...</td>\n",
              "      <td>...</td>\n",
              "      <td>...</td>\n",
              "      <td>...</td>\n",
              "      <td>...</td>\n",
              "      <td>...</td>\n",
              "    </tr>\n",
              "    <tr>\n",
              "      <th>1052</th>\n",
              "      <td>2</td>\n",
              "      <td>2020</td>\n",
              "      <td>0</td>\n",
              "      <td>1</td>\n",
              "      <td>0</td>\n",
              "      <td>0</td>\n",
              "      <td>0</td>\n",
              "      <td>2</td>\n",
              "      <td>0</td>\n",
              "      <td>3</td>\n",
              "      <td>...</td>\n",
              "      <td>0</td>\n",
              "      <td>0</td>\n",
              "      <td>0</td>\n",
              "      <td>0</td>\n",
              "      <td>1</td>\n",
              "      <td>0</td>\n",
              "      <td>0</td>\n",
              "      <td>0</td>\n",
              "      <td>0</td>\n",
              "      <td>0</td>\n",
              "    </tr>\n",
              "    <tr>\n",
              "      <th>1053</th>\n",
              "      <td>2</td>\n",
              "      <td>2020</td>\n",
              "      <td>0</td>\n",
              "      <td>3</td>\n",
              "      <td>1</td>\n",
              "      <td>0</td>\n",
              "      <td>1</td>\n",
              "      <td>1</td>\n",
              "      <td>0</td>\n",
              "      <td>3</td>\n",
              "      <td>...</td>\n",
              "      <td>0</td>\n",
              "      <td>0</td>\n",
              "      <td>0</td>\n",
              "      <td>0</td>\n",
              "      <td>1</td>\n",
              "      <td>0</td>\n",
              "      <td>0</td>\n",
              "      <td>0</td>\n",
              "      <td>0</td>\n",
              "      <td>0</td>\n",
              "    </tr>\n",
              "    <tr>\n",
              "      <th>1054</th>\n",
              "      <td>2</td>\n",
              "      <td>2020</td>\n",
              "      <td>0</td>\n",
              "      <td>1</td>\n",
              "      <td>1</td>\n",
              "      <td>0</td>\n",
              "      <td>1</td>\n",
              "      <td>3</td>\n",
              "      <td>1</td>\n",
              "      <td>3</td>\n",
              "      <td>...</td>\n",
              "      <td>0</td>\n",
              "      <td>0</td>\n",
              "      <td>0</td>\n",
              "      <td>0</td>\n",
              "      <td>1</td>\n",
              "      <td>0</td>\n",
              "      <td>0</td>\n",
              "      <td>0</td>\n",
              "      <td>0</td>\n",
              "      <td>0</td>\n",
              "    </tr>\n",
              "    <tr>\n",
              "      <th>1055</th>\n",
              "      <td>2</td>\n",
              "      <td>2020</td>\n",
              "      <td>0</td>\n",
              "      <td>3</td>\n",
              "      <td>1</td>\n",
              "      <td>1</td>\n",
              "      <td>1</td>\n",
              "      <td>3</td>\n",
              "      <td>1</td>\n",
              "      <td>3</td>\n",
              "      <td>...</td>\n",
              "      <td>0</td>\n",
              "      <td>0</td>\n",
              "      <td>0</td>\n",
              "      <td>0</td>\n",
              "      <td>1</td>\n",
              "      <td>0</td>\n",
              "      <td>0</td>\n",
              "      <td>0</td>\n",
              "      <td>0</td>\n",
              "      <td>0</td>\n",
              "    </tr>\n",
              "    <tr>\n",
              "      <th>1056</th>\n",
              "      <td>2</td>\n",
              "      <td>2020</td>\n",
              "      <td>0</td>\n",
              "      <td>1</td>\n",
              "      <td>1</td>\n",
              "      <td>0</td>\n",
              "      <td>1</td>\n",
              "      <td>3</td>\n",
              "      <td>0</td>\n",
              "      <td>3</td>\n",
              "      <td>...</td>\n",
              "      <td>0</td>\n",
              "      <td>0</td>\n",
              "      <td>0</td>\n",
              "      <td>0</td>\n",
              "      <td>1</td>\n",
              "      <td>0</td>\n",
              "      <td>0</td>\n",
              "      <td>0</td>\n",
              "      <td>0</td>\n",
              "      <td>0</td>\n",
              "    </tr>\n",
              "  </tbody>\n",
              "</table>\n",
              "<p>1057 rows × 37 columns</p>\n",
              "</div>\n",
              "      <button class=\"colab-df-convert\" onclick=\"convertToInteractive('df-6dca67cf-d913-4882-bcd1-a6aa6049ef65')\"\n",
              "              title=\"Convert this dataframe to an interactive table.\"\n",
              "              style=\"display:none;\">\n",
              "        \n",
              "  <svg xmlns=\"http://www.w3.org/2000/svg\" height=\"24px\"viewBox=\"0 0 24 24\"\n",
              "       width=\"24px\">\n",
              "    <path d=\"M0 0h24v24H0V0z\" fill=\"none\"/>\n",
              "    <path d=\"M18.56 5.44l.94 2.06.94-2.06 2.06-.94-2.06-.94-.94-2.06-.94 2.06-2.06.94zm-11 1L8.5 8.5l.94-2.06 2.06-.94-2.06-.94L8.5 2.5l-.94 2.06-2.06.94zm10 10l.94 2.06.94-2.06 2.06-.94-2.06-.94-.94-2.06-.94 2.06-2.06.94z\"/><path d=\"M17.41 7.96l-1.37-1.37c-.4-.4-.92-.59-1.43-.59-.52 0-1.04.2-1.43.59L10.3 9.45l-7.72 7.72c-.78.78-.78 2.05 0 2.83L4 21.41c.39.39.9.59 1.41.59.51 0 1.02-.2 1.41-.59l7.78-7.78 2.81-2.81c.8-.78.8-2.07 0-2.86zM5.41 20L4 18.59l7.72-7.72 1.47 1.35L5.41 20z\"/>\n",
              "  </svg>\n",
              "      </button>\n",
              "      \n",
              "  <style>\n",
              "    .colab-df-container {\n",
              "      display:flex;\n",
              "      flex-wrap:wrap;\n",
              "      gap: 12px;\n",
              "    }\n",
              "\n",
              "    .colab-df-convert {\n",
              "      background-color: #E8F0FE;\n",
              "      border: none;\n",
              "      border-radius: 50%;\n",
              "      cursor: pointer;\n",
              "      display: none;\n",
              "      fill: #1967D2;\n",
              "      height: 32px;\n",
              "      padding: 0 0 0 0;\n",
              "      width: 32px;\n",
              "    }\n",
              "\n",
              "    .colab-df-convert:hover {\n",
              "      background-color: #E2EBFA;\n",
              "      box-shadow: 0px 1px 2px rgba(60, 64, 67, 0.3), 0px 1px 3px 1px rgba(60, 64, 67, 0.15);\n",
              "      fill: #174EA6;\n",
              "    }\n",
              "\n",
              "    [theme=dark] .colab-df-convert {\n",
              "      background-color: #3B4455;\n",
              "      fill: #D2E3FC;\n",
              "    }\n",
              "\n",
              "    [theme=dark] .colab-df-convert:hover {\n",
              "      background-color: #434B5C;\n",
              "      box-shadow: 0px 1px 3px 1px rgba(0, 0, 0, 0.15);\n",
              "      filter: drop-shadow(0px 1px 2px rgba(0, 0, 0, 0.3));\n",
              "      fill: #FFFFFF;\n",
              "    }\n",
              "  </style>\n",
              "\n",
              "      <script>\n",
              "        const buttonEl =\n",
              "          document.querySelector('#df-6dca67cf-d913-4882-bcd1-a6aa6049ef65 button.colab-df-convert');\n",
              "        buttonEl.style.display =\n",
              "          google.colab.kernel.accessAllowed ? 'block' : 'none';\n",
              "\n",
              "        async function convertToInteractive(key) {\n",
              "          const element = document.querySelector('#df-6dca67cf-d913-4882-bcd1-a6aa6049ef65');\n",
              "          const dataTable =\n",
              "            await google.colab.kernel.invokeFunction('convertToInteractive',\n",
              "                                                     [key], {});\n",
              "          if (!dataTable) return;\n",
              "\n",
              "          const docLinkHtml = 'Like what you see? Visit the ' +\n",
              "            '<a target=\"_blank\" href=https://colab.research.google.com/notebooks/data_table.ipynb>data table notebook</a>'\n",
              "            + ' to learn more about interactive tables.';\n",
              "          element.innerHTML = '';\n",
              "          dataTable['output_type'] = 'display_data';\n",
              "          await google.colab.output.renderOutput(dataTable, element);\n",
              "          const docLink = document.createElement('div');\n",
              "          docLink.innerHTML = docLinkHtml;\n",
              "          element.appendChild(docLink);\n",
              "        }\n",
              "      </script>\n",
              "    </div>\n",
              "  </div>\n",
              "  "
            ]
          },
          "metadata": {},
          "execution_count": 175
        }
      ]
    },
    {
      "cell_type": "code",
      "source": [
        "X.info()"
      ],
      "metadata": {
        "colab": {
          "base_uri": "https://localhost:8080/"
        },
        "id": "om2NR1Uwi0LJ",
        "outputId": "fcf00465-8b9a-47a6-c548-9d2c0ab5d7e2"
      },
      "execution_count": 176,
      "outputs": [
        {
          "output_type": "stream",
          "name": "stdout",
          "text": [
            "<class 'pandas.core.frame.DataFrame'>\n",
            "RangeIndex: 1057 entries, 0 to 1056\n",
            "Data columns (total 29 columns):\n",
            " #   Column                                                   Non-Null Count  Dtype   \n",
            "---  ------                                                   --------------  -----   \n",
            " 0   Grade_x                                                  1057 non-null   category\n",
            " 1   School Year_x                                            1057 non-null   category\n",
            " 2   Pre or Post?                                             1057 non-null   category\n",
            " 3   Main Language Used In Exam                               1057 non-null   category\n",
            " 4   EGRA Question 1: Reading Habit                           1057 non-null   category\n",
            " 5   EGRA Last Book Read                                      1057 non-null   category\n",
            " 6   Reads With Others                                        1057 non-null   category\n",
            " 7   How Often, ReadsWithOthers                               1057 non-null   category\n",
            " 8   Student Gender                                           1057 non-null   category\n",
            " 9   Minutes Spent Observing                                  1057 non-null   float64 \n",
            " 10  Minutes Spent Coaching                                   1057 non-null   float64 \n",
            " 11  Total Score                                              1057 non-null   int64   \n",
            " 12  Teacher Number: Gender                                   1057 non-null   category\n",
            " 13  Teacher Number: School Years in Teacher Support Program  1057 non-null   category\n",
            " 14  Teacher Present                                          1057 non-null   category\n",
            " 15  Average Students Enrolled                                1057 non-null   int64   \n",
            " 16  Skill to Improve 1_Communication of Content              1057 non-null   category\n",
            " 17  Skill to Improve 1_Lesson Objectives                     1057 non-null   category\n",
            " 18  Skill to Improve 1_Lesson Plan Delivery                  1057 non-null   category\n",
            " 19  Skill to Improve 1_None                                  1057 non-null   category\n",
            " 20  Skill to Improve 1_Patient, Caring and Kind Personality  1057 non-null   category\n",
            " 21  Skill to Improve 1_Preparation                           1057 non-null   category\n",
            " 22  Skill to Improve 2_Communication of Content              1057 non-null   category\n",
            " 23  Skill to Improve 2_Lesson Objectives                     1057 non-null   category\n",
            " 24  Skill to Improve 2_Lesson Plan Delivery                  1057 non-null   category\n",
            " 25  Skill to Improve 2_None                                  1057 non-null   category\n",
            " 26  Skill to Improve 2_Patient, Caring and Kind Personality  1057 non-null   category\n",
            " 27  Skill to Improve 2_Preparation                           1057 non-null   category\n",
            " 28  Skill to Improve 2_Professionalism                       1057 non-null   category\n",
            "dtypes: category(25), float64(2), int64(2)\n",
            "memory usage: 62.3 KB\n"
          ]
        }
      ]
    },
    {
      "cell_type": "code",
      "source": [
        "X[['Minutes Spent Observing', 'Minutes Spent Coaching']].isnull().sum(axis = 1)#=X[['Minutes Spent Observing', 'Minutes Spent Coaching']]"
      ],
      "metadata": {
        "colab": {
          "base_uri": "https://localhost:8080/"
        },
        "id": "UhhC1-g-FbD3",
        "outputId": "1cb084e8-6714-464e-db9a-e75b134b5545"
      },
      "execution_count": 177,
      "outputs": [
        {
          "output_type": "execute_result",
          "data": {
            "text/plain": [
              "0       0\n",
              "1       0\n",
              "2       0\n",
              "3       0\n",
              "4       0\n",
              "       ..\n",
              "1052    0\n",
              "1053    0\n",
              "1054    0\n",
              "1055    0\n",
              "1056    0\n",
              "Length: 1057, dtype: int64"
            ]
          },
          "metadata": {},
          "execution_count": 177
        }
      ]
    },
    {
      "cell_type": "code",
      "source": [
        "y=target['EGRA Section 5 CWPM']\n",
        "x=X1"
      ],
      "metadata": {
        "id": "9fs0aHmSKziQ"
      },
      "execution_count": 178,
      "outputs": []
    },
    {
      "cell_type": "code",
      "source": [
        "from sklearn.ensemble import GradientBoostingRegressor\n",
        "from sklearn.metrics import mean_squared_error\n",
        "from sklearn.model_selection import train_test_split\n",
        "from sklearn.inspection import permutation_importance\n",
        "import statsmodels.api as sm\n",
        "import pandas as pd\n",
        "import matplotlib.pyplot as plt\n",
        "import numpy as np\n",
        "\n",
        "\n",
        "X_train, X_test, y_train, y_test = train_test_split(x, y, test_size=.2, random_state=1066)\n",
        "model = GradientBoostingRegressor(learning_rate=0.05, max_depth=5, n_estimators=500, min_samples_split=5, n_iter_no_change=10)\n",
        "model.fit(X_train, y_train)\n",
        "rmse = np.sqrt(mean_squared_error(y_test, model.predict(X_test)))\n",
        "print(\"{:.2f}-> root mean square error\".format(rmse))\n",
        "feature_importance = model.feature_importances_\n",
        "sorted_idx = np.argsort(feature_importance)\n",
        "fig = plt.figure(figsize=(12, 6))\n",
        "plt.barh(range(len(sorted_idx)), feature_importance[sorted_idx], align='center')\n",
        "plt.yticks(range(len(sorted_idx)), np.array(X_test.columns)[sorted_idx])\n",
        "plt.title('Feature Importance')"
      ],
      "metadata": {
        "colab": {
          "base_uri": "https://localhost:8080/",
          "height": 425
        },
        "id": "Hh6mdZEchB5L",
        "outputId": "f6786994-1fba-415c-fae8-23d5f0924619"
      },
      "execution_count": 179,
      "outputs": [
        {
          "output_type": "stream",
          "name": "stdout",
          "text": [
            "32.19-> root mean square error\n"
          ]
        },
        {
          "output_type": "execute_result",
          "data": {
            "text/plain": [
              "Text(0.5, 1.0, 'Feature Importance')"
            ]
          },
          "metadata": {},
          "execution_count": 179
        },
        {
          "output_type": "display_data",
          "data": {
            "text/plain": [
              "<Figure size 864x432 with 1 Axes>"
            ],
            "image/png": "[encoded data removed]"
          },
          "metadata": {
            "needs_background": "light"
          }
        }
      ]
    },
    {
      "cell_type": "code",
      "source": [
        "x=X\n",
        "y=target['EGRA Section 5 CWPM']"
      ],
      "metadata": {
        "id": "-fiEwRchLxPo"
      },
      "execution_count": 180,
      "outputs": []
    },
    {
      "cell_type": "code",
      "source": [
        "X_train, X_test, y_train, y_test = train_test_split(x, y, test_size=.2, random_state=1066)\n",
        "model = GradientBoostingRegressor(learning_rate=0.05, max_depth=5, n_estimators=500, min_samples_split=5, n_iter_no_change=10)\n",
        "model.fit(X_train, y_train)\n",
        "rmse = np.sqrt(mean_squared_error(y_test, model.predict(X_test)))\n",
        "print(\"{:.2f}-> root mean square error\".format(rmse))\n",
        "feature_importance = model.feature_importances_\n",
        "sorted_idx = np.argsort(feature_importance)\n",
        "fig = plt.figure(figsize=(12, 6))\n",
        "plt.barh(range(len(sorted_idx)), feature_importance[sorted_idx], align='center')\n",
        "plt.yticks(range(len(sorted_idx)), np.array(X_test.columns)[sorted_idx])\n",
        "plt.title('Feature Importance')"
      ],
      "metadata": {
        "colab": {
          "base_uri": "https://localhost:8080/",
          "height": 425
        },
        "id": "fJGO6uRmFHrx",
        "outputId": "6eec2f9b-ff1d-4407-a16f-2ef5ea4a3778"
      },
      "execution_count": 181,
      "outputs": [
        {
          "output_type": "stream",
          "name": "stdout",
          "text": [
            "23.81-> root mean square error\n"
          ]
        },
        {
          "output_type": "execute_result",
          "data": {
            "text/plain": [
              "Text(0.5, 1.0, 'Feature Importance')"
            ]
          },
          "metadata": {},
          "execution_count": 181
        },
        {
          "output_type": "display_data",
          "data": {
            "text/plain": [
              "<Figure size 864x432 with 1 Axes>"
            ],
            "image/png": "[encoded data removed]"
          },
          "metadata": {
            "needs_background": "light"
          }
        }
      ]
    },
    {
      "cell_type": "code",
      "source": [
        "y=target['Cumulative Score']\n",
        "x=X1"
      ],
      "metadata": {
        "id": "mrW6LB1YJfgs"
      },
      "execution_count": 189,
      "outputs": []
    },
    {
      "cell_type": "code",
      "source": [
        "X_train, X_test, y_train, y_test = train_test_split(x, y, test_size=.2, random_state=1066)\n",
        "model = GradientBoostingRegressor(learning_rate=0.05, max_depth=5, n_estimators=500, min_samples_split=5, n_iter_no_change=10)\n",
        "model.fit(X_train, y_train)\n",
        "rmse = np.sqrt(mean_squared_error(y_test, model.predict(X_test)))\n",
        "print(\"{:.2f}-> root mean square error\".format(rmse))\n",
        "feature_importance = model.feature_importances_\n",
        "sorted_idx = np.argsort(feature_importance)\n",
        "fig = plt.figure(figsize=(12, 6))\n",
        "plt.barh(range(len(sorted_idx)), feature_importance[sorted_idx], align='center')\n",
        "plt.yticks(range(len(sorted_idx)), np.array(X_test.columns)[sorted_idx])\n",
        "plt.title('Feature Importance')"
      ],
      "metadata": {
        "colab": {
          "base_uri": "https://localhost:8080/",
          "height": 425
        },
        "id": "Q_wHPoz7OOX4",
        "outputId": "33654742-54ab-47e1-a3da-2f8409e1d53a"
      },
      "execution_count": 188,
      "outputs": [
        {
          "output_type": "stream",
          "name": "stdout",
          "text": [
            "153.34-> root mean square error\n"
          ]
        },
        {
          "output_type": "execute_result",
          "data": {
            "text/plain": [
              "Text(0.5, 1.0, 'Feature Importance')"
            ]
          },
          "metadata": {},
          "execution_count": 188
        },
        {
          "output_type": "display_data",
          "data": {
            "text/plain": [
              "<Figure size 864x432 with 1 Axes>"
            ],
            "image/png": "[encoded data removed]"
          },
          "metadata": {
            "needs_background": "light"
          }
        }
      ]
    },
    {
      "cell_type": "code",
      "source": [],
      "metadata": {
        "id": "s8mnQHJZPZez"
      },
      "execution_count": null,
      "outputs": []
    }
  ]
}