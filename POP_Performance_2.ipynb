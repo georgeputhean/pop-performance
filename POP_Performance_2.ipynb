{
  "nbformat": 4,
  "nbformat_minor": 0,
  "metadata": {
    "colab": {
      "provenance": [],
      "mount_file_id": "1a7V4qv9Gkym7Sr5EGCdMe_P0Z4TYMwh5",
      "authorship_tag": "ABX9TyP+NPu5JrN9UmE1aV4h827g",
      "include_colab_link": true
    },
    "kernelspec": {
      "name": "python3",
      "display_name": "Python 3"
    },
    "language_info": {
      "name": "python"
    }
  },
  "cells": [
    {
      "cell_type": "markdown",
      "metadata": {
        "id": "view-in-github",
        "colab_type": "text"
      },
      "source": [
        "<a href=\"https://colab.research.google.com/github/georgeputhean/pop-performance/blob/main/POP_Performance_2.ipynb\" target=\"_parent\"><img src=\"https://colab.research.google.com/assets/colab-badge.svg\" alt=\"Open In Colab\"/></a>"
      ]
    },
    {
      "cell_type": "code",
      "execution_count": 1,
      "metadata": {
        "id": "Y6VAXKpfhpA6"
      },
      "outputs": [],
      "source": [
        "import warnings\n",
        "warnings.simplefilter(action='ignore', category=FutureWarning)\n",
        "import pandas as pd\n",
        "pd.options.mode.chained_assignment = None \n",
        "\n",
        "import seaborn as sns\n",
        "sns.set() \n",
        "import matplotlib.pyplot as plt"
      ]
    },
    {
      "cell_type": "code",
      "source": [],
      "metadata": {
        "id": "eS5PbuyjFRoO"
      },
      "execution_count": 1,
      "outputs": []
    },
    {
      "cell_type": "code",
      "source": [
        "df=pd.read_csv(\"/content/drive/MyDrive/Matched Data.csv\")"
      ],
      "metadata": {
        "id": "mgtjK7JXh-Th"
      },
      "execution_count": 2,
      "outputs": []
    },
    {
      "cell_type": "code",
      "source": [
        "df.columns"
      ],
      "metadata": {
        "colab": {
          "base_uri": "https://localhost:8080/"
        },
        "id": "RY43QmN-kpmo",
        "outputId": "3bd75c06-0aba-48ec-a645-f832603af98c"
      },
      "execution_count": 3,
      "outputs": [
        {
          "output_type": "execute_result",
          "data": {
            "text/plain": [
              "Index(['Unnamed: 0', 'Grade_x', 'School Name', 'School Year_x', 'Notes',\n",
              "       'Tangerine Test ID', 'Student Number', 'Student Test Number',\n",
              "       'Date of Test', 'Control or Treatment?', 'Pre or Post?',\n",
              "       'EGRA Section 1a Score', 'EGRA Section 1b Score',\n",
              "       'EGRA Section 1c Score', 'EGRA Section 2a Score',\n",
              "       'EGRA Section 2b Score', 'EGRA Section 3 Letters Correct',\n",
              "       'EGRA Section 3 Time Completed', 'EGRA Section 3 LPM',\n",
              "       'EGRA Section 4 Words Correct', 'EGRA Section 4 Time Completed',\n",
              "       'EGRA Section 4: WPM', 'EGRA Section 5 Words Correct',\n",
              "       'EGRA Section 5 Time Completed', 'EGRA Section 5 CWPM',\n",
              "       'EGRA Section 5 Questions Correct',\n",
              "       'EGRA Section 6 Written Words Correct',\n",
              "       'EGRA Section 6 Correct Space/Direction',\n",
              "       'EGRA Section 6 Correct Punctuation',\n",
              "       'EGRA Section 6 Correct Use of Capitals', 'EGRA Section 7a Score',\n",
              "       'Main Language Used In Exam', 'EGRA Question 1: Reading Habit',\n",
              "       'EGRA Last Book Read', 'Reads With Others',\n",
              "       'How Often, ReadsWithOthers', 'Student Gender', 'Class Number',\n",
              "       'Teacher Number: Teacher Number', 'Teacher Number: Full Name',\n",
              "       'School: School Name', 'Grade_y', 'Teacher Class Number',\n",
              "       'Teacher Assessment Number', 'Date', 'Question 1',\n",
              "       'Q1 Rating or Answer', 'Question 2', 'Q2 Rating', 'Question 3',\n",
              "       'Q3 Rating or Answer', 'Question 4', 'Q4 Rating or Answer',\n",
              "       'Question 5', 'Q5 Rating or Answer', 'Question 6',\n",
              "       'Q6 Rating or Answer', 'Question 7', 'Q7 Rating', 'Question 8',\n",
              "       'Q8 Rating', 'Skill to Improve 1', 'Skill to Improve 1 Notes',\n",
              "       'Skill to Improve 2', 'Skill to Improve 2 Notes', 'Skill to Improve 3',\n",
              "       'Skill to Improve 3 Notes', 'Recommended Next Steps', 'What Went Well?',\n",
              "       'Minutes Spent Observing', 'Minutes Spent Coaching', 'Total Score',\n",
              "       'Teacher Number: Gender',\n",
              "       'Teacher Number: School Years in Teacher Support Program',\n",
              "       'Teacher Present', 'Second Teacher Present',\n",
              "       'Average Students Enrolled', 'School Year_y'],\n",
              "      dtype='object')"
            ]
          },
          "metadata": {},
          "execution_count": 3
        }
      ]
    },
    {
      "cell_type": "code",
      "source": [
        "df1=df.drop(['School Name','Unnamed: 0','Notes','Tangerine Test ID','Student Number', 'Student Test Number','Skill to Improve 1 Notes','Skill to Improve 2 Notes','Skill to Improve 3 Notes',\n",
        "              'Teacher Number: Full Name','Skill to Improve 3','Recommended Next Steps', 'What Went Well?', 'Second Teacher Present','Control or Treatment?',\n",
        "       'School: School Name','Teacher Class Number', 'Teacher Assessment Number', 'Question 1', 'Question 2','Question 3','Question 4','Question 5','Question 6','Question 7','Question 8', 'Grade_y'],axis=1)"
      ],
      "metadata": {
        "id": "K_iu_EHPiDJn"
      },
      "execution_count": 4,
      "outputs": []
    },
    {
      "cell_type": "code",
      "source": [],
      "metadata": {
        "id": "9KTWZLFdiK-h"
      },
      "execution_count": 4,
      "outputs": []
    },
    {
      "cell_type": "code",
      "source": [
        "df_target=df1.filter(like='EGRA Section')"
      ],
      "metadata": {
        "id": "4iqLFnENkfG8"
      },
      "execution_count": 5,
      "outputs": []
    },
    {
      "cell_type": "code",
      "source": [
        "df_x = df1[df1.columns.drop(list(df.filter(regex='EGRA Section')))]"
      ],
      "metadata": {
        "id": "Cs514QbPmg1_"
      },
      "execution_count": 6,
      "outputs": []
    },
    {
      "cell_type": "code",
      "source": [
        "len(df_target.columns)"
      ],
      "metadata": {
        "colab": {
          "base_uri": "https://localhost:8080/"
        },
        "id": "o8Q5UPihJMtS",
        "outputId": "7006c495-5836-40df-d9f3-aaa196c7c78e"
      },
      "execution_count": 7,
      "outputs": [
        {
          "output_type": "execute_result",
          "data": {
            "text/plain": [
              "20"
            ]
          },
          "metadata": {},
          "execution_count": 7
        }
      ]
    },
    {
      "cell_type": "code",
      "source": [
        "df_x.columns"
      ],
      "metadata": {
        "colab": {
          "base_uri": "https://localhost:8080/"
        },
        "id": "ZpbVx8kgpu8O",
        "outputId": "f85e5b3c-58f3-4791-d4ee-4039f006cf97"
      },
      "execution_count": 8,
      "outputs": [
        {
          "output_type": "execute_result",
          "data": {
            "text/plain": [
              "Index(['Grade_x', 'School Year_x', 'Date of Test', 'Pre or Post?',\n",
              "       'Main Language Used In Exam', 'EGRA Question 1: Reading Habit',\n",
              "       'EGRA Last Book Read', 'Reads With Others',\n",
              "       'How Often, ReadsWithOthers', 'Student Gender', 'Class Number',\n",
              "       'Teacher Number: Teacher Number', 'Date', 'Q1 Rating or Answer',\n",
              "       'Q2 Rating', 'Q3 Rating or Answer', 'Q4 Rating or Answer',\n",
              "       'Q5 Rating or Answer', 'Q6 Rating or Answer', 'Q7 Rating', 'Q8 Rating',\n",
              "       'Skill to Improve 1', 'Skill to Improve 2', 'Minutes Spent Observing',\n",
              "       'Minutes Spent Coaching', 'Total Score', 'Teacher Number: Gender',\n",
              "       'Teacher Number: School Years in Teacher Support Program',\n",
              "       'Teacher Present', 'Average Students Enrolled', 'School Year_y'],\n",
              "      dtype='object')"
            ]
          },
          "metadata": {},
          "execution_count": 8
        }
      ]
    },
    {
      "cell_type": "code",
      "source": [
        "df_x.to_csv(\"New Target.csv\")"
      ],
      "metadata": {
        "id": "Pj2C-bKrqYmp"
      },
      "execution_count": 9,
      "outputs": []
    },
    {
      "cell_type": "code",
      "source": [
        "df_x_clean=df_x"
      ],
      "metadata": {
        "id": "cfpyPn0M2kDh"
      },
      "execution_count": 10,
      "outputs": []
    },
    {
      "cell_type": "code",
      "source": [
        "df_x_clean['Grade_x']=df_x['Grade_x'].str[8:9]"
      ],
      "metadata": {
        "id": "60unsivxrCwm"
      },
      "execution_count": 11,
      "outputs": []
    },
    {
      "cell_type": "code",
      "source": [
        "df_x_clean['Q1 Rating or Answer']=df_x['Q1 Rating or Answer'].str[0:1]\n",
        "df_x_clean['Q2 Rating'] = df_x['Q2 Rating'].str[0:1]\n",
        "df_x_clean['Q3 Rating or Answer']= df_x['Q3 Rating or Answer'].str[0:1]\n",
        "df_x_clean['Q4 Rating or Answer']= df_x['Q4 Rating or Answer'].str[0:1]\n",
        "df_x_clean['Q5 Rating or Answer']= df_x['Q5 Rating or Answer'].str[0:1]\n",
        "df_x_clean['Q6 Rating or Answer']= df_x['Q6 Rating or Answer'].str[0:1]\n",
        "df_x_clean['Q7 Rating']= df_x['Q7 Rating'].str[0:1]\n",
        "df_x_clean['Q8 Rating']= df_x['Q8 Rating'].str[0:1]"
      ],
      "metadata": {
        "id": "tzhnctECu0zf"
      },
      "execution_count": 12,
      "outputs": []
    },
    {
      "cell_type": "code",
      "source": [
        "len(df_x_clean.columns)"
      ],
      "metadata": {
        "colab": {
          "base_uri": "https://localhost:8080/"
        },
        "id": "E4PbHjUSxzT6",
        "outputId": "2d4a53c4-e057-470f-b0b4-8c97eb3db60b"
      },
      "execution_count": 13,
      "outputs": [
        {
          "output_type": "execute_result",
          "data": {
            "text/plain": [
              "31"
            ]
          },
          "metadata": {},
          "execution_count": 13
        }
      ]
    },
    {
      "cell_type": "markdown",
      "source": [
        "Set the Rating to None when teacher not present"
      ],
      "metadata": {
        "id": "kPyLtwUu-n6g"
      }
    },
    {
      "cell_type": "code",
      "source": [
        "df_x_clean[['Q1 Rating or Answer','Q2 Rating','Q3 Rating or Answer','Q4 Rating or Answer','Q5 Rating or Answer','Q6 Rating or Answer','Q7 Rating','Q8 Rating']]=df_x_clean[['Q1 Rating or Answer','Q2 Rating','Q3 Rating or Answer','Q4 Rating or Answer','Q5 Rating or Answer','Q6 Rating or Answer','Q7 Rating','Q8 Rating']].fillna(0)"
      ],
      "metadata": {
        "id": "lwXO_laD3esY"
      },
      "execution_count": 14,
      "outputs": []
    },
    {
      "cell_type": "code",
      "source": [
        "df_x_clean[df_x_clean['Teacher Present']=='Not Present'].count()"
      ],
      "metadata": {
        "colab": {
          "base_uri": "https://localhost:8080/"
        },
        "id": "ceU2-z5crZLA",
        "outputId": "530b6825-8e70-4a3a-83ac-bea2ac68a900"
      },
      "execution_count": 15,
      "outputs": [
        {
          "output_type": "execute_result",
          "data": {
            "text/plain": [
              "Grade_x                                                    277\n",
              "School Year_x                                              277\n",
              "Date of Test                                               277\n",
              "Pre or Post?                                               277\n",
              "Main Language Used In Exam                                 272\n",
              "EGRA Question 1: Reading Habit                             277\n",
              "EGRA Last Book Read                                        277\n",
              "Reads With Others                                          277\n",
              "How Often, ReadsWithOthers                                 277\n",
              "Student Gender                                             277\n",
              "Class Number                                               277\n",
              "Teacher Number: Teacher Number                             277\n",
              "Date                                                       277\n",
              "Q1 Rating or Answer                                        277\n",
              "Q2 Rating                                                  277\n",
              "Q3 Rating or Answer                                        277\n",
              "Q4 Rating or Answer                                        277\n",
              "Q5 Rating or Answer                                        277\n",
              "Q6 Rating or Answer                                        277\n",
              "Q7 Rating                                                  277\n",
              "Q8 Rating                                                  277\n",
              "Skill to Improve 1                                           0\n",
              "Skill to Improve 2                                           0\n",
              "Minutes Spent Observing                                     20\n",
              "Minutes Spent Coaching                                      20\n",
              "Total Score                                                277\n",
              "Teacher Number: Gender                                     277\n",
              "Teacher Number: School Years in Teacher Support Program    277\n",
              "Teacher Present                                            277\n",
              "Average Students Enrolled                                  277\n",
              "School Year_y                                              277\n",
              "dtype: int64"
            ]
          },
          "metadata": {},
          "execution_count": 15
        }
      ]
    },
    {
      "cell_type": "code",
      "source": [
        "df_x_clean['Q1 Rating or Answer'].value_counts()"
      ],
      "metadata": {
        "colab": {
          "base_uri": "https://localhost:8080/"
        },
        "id": "oRp94pRpuI3x",
        "outputId": "a9deda47-9db8-43c1-e49a-139882f9f283"
      },
      "execution_count": 16,
      "outputs": [
        {
          "output_type": "execute_result",
          "data": {
            "text/plain": [
              "3    474\n",
              "2    306\n",
              "0    277\n",
              "Name: Q1 Rating or Answer, dtype: int64"
            ]
          },
          "metadata": {},
          "execution_count": 16
        }
      ]
    },
    {
      "cell_type": "markdown",
      "source": [
        "Minutes mean"
      ],
      "metadata": {
        "id": "ultN1q2l-hbq"
      }
    },
    {
      "cell_type": "code",
      "source": [],
      "metadata": {
        "id": "P8vMWA9EvZkX"
      },
      "execution_count": 16,
      "outputs": []
    },
    {
      "cell_type": "code",
      "source": [
        "mean_min=df_x_clean[['Minutes Spent Observing','Minutes Spent Coaching']].mean()"
      ],
      "metadata": {
        "id": "od-zFDMz3scm"
      },
      "execution_count": 17,
      "outputs": []
    },
    {
      "cell_type": "code",
      "source": [
        "df_x_clean[['Minutes Spent Observing','Minutes Spent Coaching']]=df_x_clean[['Minutes Spent Observing','Minutes Spent Coaching']].fillna(mean_min)"
      ],
      "metadata": {
        "id": "30KrsABV8Mby"
      },
      "execution_count": 18,
      "outputs": []
    },
    {
      "cell_type": "markdown",
      "source": [
        "Skills to None"
      ],
      "metadata": {
        "id": "t0B-IgSZ-ee4"
      }
    },
    {
      "cell_type": "code",
      "source": [
        "df_x_clean[['Skill to Improve 1','Skill to Improve 2']]=df_x_clean[['Skill to Improve 1','Skill to Improve 2']].fillna(\"None\")"
      ],
      "metadata": {
        "id": "_HLK2d6584Kx"
      },
      "execution_count": 19,
      "outputs": []
    },
    {
      "cell_type": "code",
      "source": [
        "df_x_clean[['Main Language Used In Exam']].value_counts()"
      ],
      "metadata": {
        "colab": {
          "base_uri": "https://localhost:8080/"
        },
        "id": "82fvzqTeiz4J",
        "outputId": "6bc3d1ce-8e59-4664-813c-4abc767f8204"
      },
      "execution_count": 20,
      "outputs": [
        {
          "output_type": "execute_result",
          "data": {
            "text/plain": [
              "Main Language Used In Exam\n",
              "English; Ewe                  776\n",
              "English                       167\n",
              "Ewe                            95\n",
              "dtype: int64"
            ]
          },
          "metadata": {},
          "execution_count": 20
        }
      ]
    },
    {
      "cell_type": "code",
      "source": [
        "df_x_clean[['Main Language Used In Exam']]=df_x_clean[['Main Language Used In Exam']].fillna(\"English; Ewe\")"
      ],
      "metadata": {
        "id": "JkR5sbl2j2D4"
      },
      "execution_count": 21,
      "outputs": []
    },
    {
      "cell_type": "code",
      "source": [
        "#ns.pairplot(df1,hue=\"Pre or Post?\")"
      ],
      "metadata": {
        "id": "M1sTDa3z-dsj"
      },
      "execution_count": 22,
      "outputs": []
    },
    {
      "cell_type": "code",
      "source": [
        "df_x_clean.columns"
      ],
      "metadata": {
        "colab": {
          "base_uri": "https://localhost:8080/"
        },
        "id": "W1AsvXSvCGKC",
        "outputId": "87a6beb2-0609-4548-9b8d-9d769fc9b9b1"
      },
      "execution_count": 23,
      "outputs": [
        {
          "output_type": "execute_result",
          "data": {
            "text/plain": [
              "Index(['Grade_x', 'School Year_x', 'Date of Test', 'Pre or Post?',\n",
              "       'Main Language Used In Exam', 'EGRA Question 1: Reading Habit',\n",
              "       'EGRA Last Book Read', 'Reads With Others',\n",
              "       'How Often, ReadsWithOthers', 'Student Gender', 'Class Number',\n",
              "       'Teacher Number: Teacher Number', 'Date', 'Q1 Rating or Answer',\n",
              "       'Q2 Rating', 'Q3 Rating or Answer', 'Q4 Rating or Answer',\n",
              "       'Q5 Rating or Answer', 'Q6 Rating or Answer', 'Q7 Rating', 'Q8 Rating',\n",
              "       'Skill to Improve 1', 'Skill to Improve 2', 'Minutes Spent Observing',\n",
              "       'Minutes Spent Coaching', 'Total Score', 'Teacher Number: Gender',\n",
              "       'Teacher Number: School Years in Teacher Support Program',\n",
              "       'Teacher Present', 'Average Students Enrolled', 'School Year_y'],\n",
              "      dtype='object')"
            ]
          },
          "metadata": {},
          "execution_count": 23
        }
      ]
    },
    {
      "cell_type": "code",
      "source": [
        "df_x_clean.count()"
      ],
      "metadata": {
        "colab": {
          "base_uri": "https://localhost:8080/"
        },
        "id": "pfivmIOwiRdr",
        "outputId": "6ae7ea48-7a98-4ce7-c2bc-4a26a9cb157f"
      },
      "execution_count": 24,
      "outputs": [
        {
          "output_type": "execute_result",
          "data": {
            "text/plain": [
              "Grade_x                                                    1057\n",
              "School Year_x                                              1057\n",
              "Date of Test                                               1057\n",
              "Pre or Post?                                               1057\n",
              "Main Language Used In Exam                                 1057\n",
              "EGRA Question 1: Reading Habit                             1057\n",
              "EGRA Last Book Read                                        1057\n",
              "Reads With Others                                          1057\n",
              "How Often, ReadsWithOthers                                 1057\n",
              "Student Gender                                             1057\n",
              "Class Number                                               1057\n",
              "Teacher Number: Teacher Number                             1057\n",
              "Date                                                       1057\n",
              "Q1 Rating or Answer                                        1057\n",
              "Q2 Rating                                                  1057\n",
              "Q3 Rating or Answer                                        1057\n",
              "Q4 Rating or Answer                                        1057\n",
              "Q5 Rating or Answer                                        1057\n",
              "Q6 Rating or Answer                                        1057\n",
              "Q7 Rating                                                  1057\n",
              "Q8 Rating                                                  1057\n",
              "Skill to Improve 1                                         1057\n",
              "Skill to Improve 2                                         1057\n",
              "Minutes Spent Observing                                    1057\n",
              "Minutes Spent Coaching                                     1057\n",
              "Total Score                                                1057\n",
              "Teacher Number: Gender                                     1057\n",
              "Teacher Number: School Years in Teacher Support Program    1057\n",
              "Teacher Present                                            1057\n",
              "Average Students Enrolled                                  1057\n",
              "School Year_y                                              1057\n",
              "dtype: int64"
            ]
          },
          "metadata": {},
          "execution_count": 24
        }
      ]
    },
    {
      "cell_type": "code",
      "source": [
        "df_x_clean['Teacher Number: School Years in Teacher Support Program']=df_x_clean['Teacher Number: School Years in Teacher Support Program'].str.count('-')"
      ],
      "metadata": {
        "id": "L_Em7Glp0PmR"
      },
      "execution_count": 25,
      "outputs": []
    },
    {
      "cell_type": "code",
      "source": [
        "df_q=df_x_clean.filter(like='Rating')"
      ],
      "metadata": {
        "id": "uJlU54lLKTXF"
      },
      "execution_count": 26,
      "outputs": []
    },
    {
      "cell_type": "code",
      "source": [
        "df_q = df_q.astype('int')"
      ],
      "metadata": {
        "id": "qbH8vIDnMC3x"
      },
      "execution_count": 27,
      "outputs": []
    },
    {
      "cell_type": "code",
      "source": [
        "sns.pairplot(df_q)\n"
      ],
      "metadata": {
        "colab": {
          "base_uri": "https://localhost:8080/",
          "height": 1000
        },
        "id": "zHjPiPG0GjMU",
        "outputId": "77259ac3-5921-4166-dc57-e83816f68d18"
      },
      "execution_count": 28,
      "outputs": [
        {
          "output_type": "execute_result",
          "data": {
            "text/plain": [
              "<seaborn.axisgrid.PairGrid at 0x7f261f72c810>"
            ]
          },
          "metadata": {},
          "execution_count": 28
        },
        {
          "output_type": "display_data",
          "data": {
            "text/plain": [
              "<Figure size 1440x1440 with 72 Axes>"
            ],
            "image/png": "[encoded data removed]"
          },
          "metadata": {}
        }
      ]
    },
    {
      "cell_type": "code",
      "source": [
        "df_target['EGRA Section 1 Total Score']=df_target['EGRA Section 1a Score']+df_target['EGRA Section 1b Score']+df_target['EGRA Section 1c Score']\n",
        "df_target['EGRA Section 6 Total Score']=df_target['EGRA Section 6 Written Words Correct']+df_target['EGRA Section 6 Correct Space/Direction']+df_target['EGRA Section 6 Correct Punctuation']+df_target['EGRA Section 6 Correct Use of Capitals']"
      ],
      "metadata": {
        "id": "f2-9lXc2F-aj"
      },
      "execution_count": 29,
      "outputs": []
    },
    {
      "cell_type": "code",
      "source": [
        "df_target['EGRA Section 3 LPM']=df_target['EGRA Section 3 LPM'].fillna(df_target['EGRA Section 3 LPM'].mean())"
      ],
      "metadata": {
        "id": "I1w9cvsDbsKN"
      },
      "execution_count": 30,
      "outputs": []
    },
    {
      "cell_type": "code",
      "source": [
        "df_target.count()"
      ],
      "metadata": {
        "colab": {
          "base_uri": "https://localhost:8080/"
        },
        "id": "fJiYMBLtx3aB",
        "outputId": "d999c9b7-e6eb-43cb-ec6d-201c67c32da2"
      },
      "execution_count": 31,
      "outputs": [
        {
          "output_type": "execute_result",
          "data": {
            "text/plain": [
              "EGRA Section 1a Score                     1057\n",
              "EGRA Section 1b Score                     1057\n",
              "EGRA Section 1c Score                     1057\n",
              "EGRA Section 2a Score                     1057\n",
              "EGRA Section 2b Score                     1057\n",
              "EGRA Section 3 Letters Correct            1057\n",
              "EGRA Section 3 Time Completed             1055\n",
              "EGRA Section 3 LPM                        1057\n",
              "EGRA Section 4 Words Correct              1057\n",
              "EGRA Section 4 Time Completed             1052\n",
              "EGRA Section 4: WPM                       1057\n",
              "EGRA Section 5 Words Correct              1057\n",
              "EGRA Section 5 Time Completed             1054\n",
              "EGRA Section 5 CWPM                       1057\n",
              "EGRA Section 5 Questions Correct          1057\n",
              "EGRA Section 6 Written Words Correct      1057\n",
              "EGRA Section 6 Correct Space/Direction    1057\n",
              "EGRA Section 6 Correct Punctuation        1057\n",
              "EGRA Section 6 Correct Use of Capitals    1057\n",
              "EGRA Section 7a Score                     1057\n",
              "EGRA Section 1 Total Score                1057\n",
              "EGRA Section 6 Total Score                1057\n",
              "dtype: int64"
            ]
          },
          "metadata": {},
          "execution_count": 31
        }
      ]
    },
    {
      "cell_type": "code",
      "source": [],
      "metadata": {
        "id": "8_ffyaZeGtE2"
      },
      "execution_count": 55,
      "outputs": []
    },
    {
      "cell_type": "code",
      "source": [
        "df_target_unique.columns"
      ],
      "metadata": {
        "colab": {
          "base_uri": "https://localhost:8080/"
        },
        "id": "gtypAXlva0A9",
        "outputId": "0011dd5a-f011-4cc7-f31c-aae5dab21b81"
      },
      "execution_count": 33,
      "outputs": [
        {
          "output_type": "execute_result",
          "data": {
            "text/plain": [
              "Index(['EGRA Section 2a Score', 'EGRA Section 2b Score', 'EGRA Section 3 LPM',\n",
              "       'EGRA Section 4: WPM', 'EGRA Section 5 CWPM',\n",
              "       'EGRA Section 5 Questions Correct', 'EGRA Section 7a Score',\n",
              "       'EGRA Section 1 Total Score', 'EGRA Section 6 Total Score'],\n",
              "      dtype='object')"
            ]
          },
          "metadata": {},
          "execution_count": 33
        }
      ]
    },
    {
      "cell_type": "code",
      "source": [
        "plt.figure(figsize=(16, 6))\n",
        "\n",
        "sns.heatmap(df_target_unique.corr(),annot=True);\n"
      ],
      "metadata": {
        "colab": {
          "base_uri": "https://localhost:8080/",
          "height": 558
        },
        "id": "VXfTvbyPHXDm",
        "outputId": "f7b97d0d-4f63-48c5-b2e6-b25c45f838be"
      },
      "execution_count": 34,
      "outputs": [
        {
          "output_type": "display_data",
          "data": {
            "text/plain": [
              "<Figure size 1152x432 with 2 Axes>"
            ],
            "image/png": "[encoded data removed]"
          },
          "metadata": {}
        }
      ]
    },
    {
      "cell_type": "code",
      "source": [
        "plt.hist(df_x_clean['Average Students Enrolled'])\n",
        "plt.title(\"Distribution of Average Students Enrolled\")\n",
        "plt.show()\n"
      ],
      "metadata": {
        "colab": {
          "base_uri": "https://localhost:8080/",
          "height": 284
        },
        "id": "eLfpizmYZ6e5",
        "outputId": "54c6a17b-1bf6-4aef-8155-ded6246a9020"
      },
      "execution_count": 35,
      "outputs": [
        {
          "output_type": "display_data",
          "data": {
            "text/plain": [
              "<Figure size 432x288 with 1 Axes>"
            ],
            "image/png": "[encoded data removed]"
          },
          "metadata": {}
        }
      ]
    },
    {
      "cell_type": "code",
      "source": [
        "df_target.columns"
      ],
      "metadata": {
        "colab": {
          "base_uri": "https://localhost:8080/"
        },
        "id": "QlhQ5e8Gdv7w",
        "outputId": "46880962-3cf9-4b17-fb91-40f99137923e"
      },
      "execution_count": 57,
      "outputs": [
        {
          "output_type": "execute_result",
          "data": {
            "text/plain": [
              "Index(['EGRA Section 1a Score', 'EGRA Section 1b Score',\n",
              "       'EGRA Section 1c Score', 'EGRA Section 2a Score',\n",
              "       'EGRA Section 2b Score', 'EGRA Section 3 Letters Correct',\n",
              "       'EGRA Section 3 Time Completed', 'EGRA Section 3 LPM',\n",
              "       'EGRA Section 4 Words Correct', 'EGRA Section 4 Time Completed',\n",
              "       'EGRA Section 4: WPM', 'EGRA Section 5 Words Correct',\n",
              "       'EGRA Section 5 Time Completed', 'EGRA Section 5 CWPM',\n",
              "       'EGRA Section 5 Questions Correct',\n",
              "       'EGRA Section 6 Written Words Correct',\n",
              "       'EGRA Section 6 Correct Space/Direction',\n",
              "       'EGRA Section 6 Correct Punctuation',\n",
              "       'EGRA Section 6 Correct Use of Capitals', 'EGRA Section 7a Score',\n",
              "       'EGRA Section 1 Total Score', 'EGRA Section 6 Total Score'],\n",
              "      dtype='object')"
            ]
          },
          "metadata": {},
          "execution_count": 57
        }
      ]
    },
    {
      "cell_type": "code",
      "source": [
        "df_target.to_csv(\"Target_Pop.csv\")"
      ],
      "metadata": {
        "id": "oOYpnFoBgEII"
      },
      "execution_count": 58,
      "outputs": []
    },
    {
      "cell_type": "code",
      "source": [
        "df_x_clean.to_csv(\"Feature_Pop .csv\")"
      ],
      "metadata": {
        "id": "jNfs7e7tmTZW"
      },
      "execution_count": 59,
      "outputs": []
    },
    {
      "cell_type": "code",
      "source": [
        "df_x_clean.columns"
      ],
      "metadata": {
        "colab": {
          "base_uri": "https://localhost:8080/"
        },
        "id": "lAZw0ZYw2MZE",
        "outputId": "727fe30b-478a-405a-9518-aacc15dad6b0"
      },
      "execution_count": 60,
      "outputs": [
        {
          "output_type": "execute_result",
          "data": {
            "text/plain": [
              "Index(['Grade_x', 'School Year_x', 'Date of Test', 'Pre or Post?',\n",
              "       'Main Language Used In Exam', 'EGRA Question 1: Reading Habit',\n",
              "       'EGRA Last Book Read', 'Reads With Others',\n",
              "       'How Often, ReadsWithOthers', 'Student Gender', 'Class Number',\n",
              "       'Teacher Number: Teacher Number', 'Date', 'Q1 Rating or Answer',\n",
              "       'Q2 Rating', 'Q3 Rating or Answer', 'Q4 Rating or Answer',\n",
              "       'Q5 Rating or Answer', 'Q6 Rating or Answer', 'Q7 Rating', 'Q8 Rating',\n",
              "       'Skill to Improve 1', 'Skill to Improve 2', 'Minutes Spent Observing',\n",
              "       'Minutes Spent Coaching', 'Total Score', 'Teacher Number: Gender',\n",
              "       'Teacher Number: School Years in Teacher Support Program',\n",
              "       'Teacher Present', 'Average Students Enrolled', 'School Year_y'],\n",
              "      dtype='object')"
            ]
          },
          "metadata": {},
          "execution_count": 60
        }
      ]
    },
    {
      "cell_type": "code",
      "source": [
        "df_x_clean['How Often, ReadsWithOthers'].astype('category')"
      ],
      "metadata": {
        "colab": {
          "base_uri": "https://localhost:8080/"
        },
        "id": "n5cd4UvR4Jpi",
        "outputId": "0363d72d-7c6d-4c6c-ff2b-02ba2fa0d449"
      },
      "execution_count": 40,
      "outputs": [
        {
          "output_type": "execute_result",
          "data": {
            "text/plain": [
              "0       1\n",
              "1       3\n",
              "2       1\n",
              "3       1\n",
              "4       2\n",
              "       ..\n",
              "1052    2\n",
              "1053    1\n",
              "1054    3\n",
              "1055    3\n",
              "1056    3\n",
              "Name: How Often, ReadsWithOthers, Length: 1057, dtype: category\n",
              "Categories (5, int64): [0, 1, 2, 3, 4]"
            ]
          },
          "metadata": {},
          "execution_count": 40
        }
      ]
    },
    {
      "cell_type": "code",
      "source": [
        "fig, axes = plt.subplots(figsize=(15,10), nrows=2, ncols=2,sharey=True)\n",
        "\n",
        "sns.boxplot(x=df_x_clean['How Often, ReadsWithOthers'],y=df_x_clean['Minutes Spent Observing'],ax=axes[0,0])\n",
        "sns.boxplot(x=df_x_clean['How Often, ReadsWithOthers'],y=df_x_clean['Minutes Spent Coaching'],ax=axes[0,1])\n",
        "sns.boxplot(x=df_x_clean['Reads With Others'],y=df_x_clean['Minutes Spent Observing'],ax=axes[1,0])\n",
        "sns.boxplot(x=df_x_clean['Reads With Others'],y=df_x_clean['Minutes Spent Coaching'],ax=axes[1,1])\n",
        "\n",
        "plt.show()"
      ],
      "metadata": {
        "id": "AcT7GGwwmdHn",
        "colab": {
          "base_uri": "https://localhost:8080/",
          "height": 611
        },
        "outputId": "120c3212-5998-4aa6-8fd8-8acc9f7c90e2"
      },
      "execution_count": 41,
      "outputs": [
        {
          "output_type": "display_data",
          "data": {
            "text/plain": [
              "<Figure size 1080x720 with 4 Axes>"
            ],
            "image/png": "[encoded data removed]"
          },
          "metadata": {}
        }
      ]
    },
    {
      "cell_type": "code",
      "source": [
        " sns.boxplot(x=df_x_clean['Reads With Others'],y=df_x_clean['Minutes Spent Observing'])\n",
        "sns.set(style=\"darkgrid\")\n"
      ],
      "metadata": {
        "colab": {
          "base_uri": "https://localhost:8080/",
          "height": 285
        },
        "id": "Yz3XLuMy1Zhl",
        "outputId": "665e47dd-12d0-49f6-ca7d-e19a3390fc2b"
      },
      "execution_count": 42,
      "outputs": [
        {
          "output_type": "display_data",
          "data": {
            "text/plain": [
              "<Figure size 432x288 with 1 Axes>"
            ],
            "image/png": "[encoded data removed]"
          },
          "metadata": {}
        }
      ]
    },
    {
      "cell_type": "code",
      "source": [
        "plt.hist(df_x_clean['Teacher Number: School Years in Teacher Support Program'])\n",
        "plt.title(\"School Years in Teacher Support Program\")\n",
        "plt.xticks(range(6))\n",
        "plt.show()"
      ],
      "metadata": {
        "colab": {
          "base_uri": "https://localhost:8080/",
          "height": 284
        },
        "id": "Ksgo8f0h5RXv",
        "outputId": "f9c02973-163c-44be-dfa8-827b7353fdd5"
      },
      "execution_count": 43,
      "outputs": [
        {
          "output_type": "display_data",
          "data": {
            "text/plain": [
              "<Figure size 432x288 with 1 Axes>"
            ],
            "image/png": "[encoded data removed]"
          },
          "metadata": {}
        }
      ]
    },
    {
      "cell_type": "code",
      "source": [
        "plt.hist(df_x_clean.groupby('Class Number')['Average Students Enrolled'].first())\n",
        "plt.title(\"Average Students Enrolled in each Class\")\n",
        "plt.show()"
      ],
      "metadata": {
        "colab": {
          "base_uri": "https://localhost:8080/",
          "height": 284
        },
        "id": "GLQ4VX2L74yx",
        "outputId": "a97636fb-1983-465a-a06f-28824823d856"
      },
      "execution_count": 44,
      "outputs": [
        {
          "output_type": "display_data",
          "data": {
            "text/plain": [
              "<Figure size 432x288 with 1 Axes>"
            ],
            "image/png": "[encoded data removed]"
          },
          "metadata": {}
        }
      ]
    },
    {
      "cell_type": "code",
      "source": [
        "sns.scatterplot(df_x_clean['Minutes Spent Coaching'],df_x_clean['Minutes Spent Observing'],s=50,hue=df_x_clean['Teacher Number: Gender'])"
      ],
      "metadata": {
        "id": "HlrTaGAE6EEQ",
        "colab": {
          "base_uri": "https://localhost:8080/",
          "height": 302
        },
        "outputId": "6c7a9691-0c5f-4ce6-c676-a31aa37fb220"
      },
      "execution_count": 45,
      "outputs": [
        {
          "output_type": "execute_result",
          "data": {
            "text/plain": [
              "<matplotlib.axes._subplots.AxesSubplot at 0x7f261981f1d0>"
            ]
          },
          "metadata": {},
          "execution_count": 45
        },
        {
          "output_type": "display_data",
          "data": {
            "text/plain": [
              "<Figure size 432x288 with 1 Axes>"
            ],
            "image/png": "[encoded data removed]"
          },
          "metadata": {}
        }
      ]
    },
    {
      "cell_type": "code",
      "source": [
        "sns.distplot(df_x_clean['Total Score'])"
      ],
      "metadata": {
        "id": "rFFUKoQ-670m",
        "colab": {
          "base_uri": "https://localhost:8080/",
          "height": 302
        },
        "outputId": "11610a83-e32d-48ae-ab1b-384b640642de"
      },
      "execution_count": 46,
      "outputs": [
        {
          "output_type": "execute_result",
          "data": {
            "text/plain": [
              "<matplotlib.axes._subplots.AxesSubplot at 0x7f26194b9210>"
            ]
          },
          "metadata": {},
          "execution_count": 46
        },
        {
          "output_type": "display_data",
          "data": {
            "text/plain": [
              "<Figure size 432x288 with 1 Axes>"
            ],
            "image/png": "[encoded data removed]"
          },
          "metadata": {}
        }
      ]
    },
    {
      "cell_type": "code",
      "source": [
        "df_x_clean.info()"
      ],
      "metadata": {
        "colab": {
          "base_uri": "https://localhost:8080/"
        },
        "id": "2NOHbchmmxgG",
        "outputId": "5a430cc4-5946-4f76-bc17-990fd4ace704"
      },
      "execution_count": 47,
      "outputs": [
        {
          "output_type": "stream",
          "name": "stdout",
          "text": [
            "<class 'pandas.core.frame.DataFrame'>\n",
            "RangeIndex: 1057 entries, 0 to 1056\n",
            "Data columns (total 31 columns):\n",
            " #   Column                                                   Non-Null Count  Dtype  \n",
            "---  ------                                                   --------------  -----  \n",
            " 0   Grade_x                                                  1057 non-null   object \n",
            " 1   School Year_x                                            1057 non-null   object \n",
            " 2   Date of Test                                             1057 non-null   object \n",
            " 3   Pre or Post?                                             1057 non-null   object \n",
            " 4   Main Language Used In Exam                               1057 non-null   object \n",
            " 5   EGRA Question 1: Reading Habit                           1057 non-null   object \n",
            " 6   EGRA Last Book Read                                      1057 non-null   object \n",
            " 7   Reads With Others                                        1057 non-null   int64  \n",
            " 8   How Often, ReadsWithOthers                               1057 non-null   int64  \n",
            " 9   Student Gender                                           1057 non-null   object \n",
            " 10  Class Number                                             1057 non-null   object \n",
            " 11  Teacher Number: Teacher Number                           1057 non-null   object \n",
            " 12  Date                                                     1057 non-null   object \n",
            " 13  Q1 Rating or Answer                                      1057 non-null   object \n",
            " 14  Q2 Rating                                                1057 non-null   object \n",
            " 15  Q3 Rating or Answer                                      1057 non-null   object \n",
            " 16  Q4 Rating or Answer                                      1057 non-null   object \n",
            " 17  Q5 Rating or Answer                                      1057 non-null   object \n",
            " 18  Q6 Rating or Answer                                      1057 non-null   object \n",
            " 19  Q7 Rating                                                1057 non-null   object \n",
            " 20  Q8 Rating                                                1057 non-null   object \n",
            " 21  Skill to Improve 1                                       1057 non-null   object \n",
            " 22  Skill to Improve 2                                       1057 non-null   object \n",
            " 23  Minutes Spent Observing                                  1057 non-null   float64\n",
            " 24  Minutes Spent Coaching                                   1057 non-null   float64\n",
            " 25  Total Score                                              1057 non-null   int64  \n",
            " 26  Teacher Number: Gender                                   1057 non-null   object \n",
            " 27  Teacher Number: School Years in Teacher Support Program  1057 non-null   int64  \n",
            " 28  Teacher Present                                          1057 non-null   object \n",
            " 29  Average Students Enrolled                                1057 non-null   int64  \n",
            " 30  School Year_y                                            1057 non-null   object \n",
            "dtypes: float64(2), int64(5), object(24)\n",
            "memory usage: 256.1+ KB\n"
          ]
        }
      ]
    },
    {
      "cell_type": "code",
      "source": [],
      "metadata": {
        "id": "8hSa1ITrn8sm"
      },
      "execution_count": 47,
      "outputs": []
    },
    {
      "cell_type": "markdown",
      "source": [
        "1. Create a match between the teacher data and Student data\n",
        "  - what join key\n",
        "2. Clean the Data\n",
        "  - fillna\n",
        "  - striping unwanted values\n",
        "  - creating new cal columns\n",
        "  - One hot encoding - desirable\n",
        "  - normalization -desirable\n",
        "3. Models\n",
        "  - Teacher score analysis - student performance vs teacher,student feature except skills\n",
        "  - skill analysis - student performance vs skill analysis\n",
        "  - course effectiveness - teacher performance vs school years in the program"
      ],
      "metadata": {
        "id": "BONYbo7NGTVb"
      }
    },
    {
      "cell_type": "code",
      "source": [
        "plt.hist(df_x_clean.groupby('Teacher Number: Teacher Number')['Teacher Number: School Years in Teacher Support Program'].first())\n",
        "plt.title(\"School Years in Teacher Support Program\")\n",
        "plt.xticks(range(6))\n",
        "plt.xlabel('Year')\n",
        "plt.show()"
      ],
      "metadata": {
        "id": "jhWjQ00CHxeM",
        "colab": {
          "base_uri": "https://localhost:8080/",
          "height": 301
        },
        "outputId": "b1726384-0d41-4423-ac51-f7836cfae689"
      },
      "execution_count": 48,
      "outputs": [
        {
          "output_type": "display_data",
          "data": {
            "text/plain": [
              "<Figure size 432x288 with 1 Axes>"
            ],
            "image/png": "[encoded data removed]"
          },
          "metadata": {}
        }
      ]
    },
    {
      "cell_type": "code",
      "source": [],
      "metadata": {
        "id": "y7nj6HS64Qpe"
      },
      "execution_count": 48,
      "outputs": []
    },
    {
      "cell_type": "markdown",
      "source": [
        "Meeting\n",
        "- Comprehenseive score different needed?\n",
        "- how can we handle diff units points/min points"
      ],
      "metadata": {
        "id": "dDAtzFlrO4_O"
      }
    },
    {
      "cell_type": "markdown",
      "source": [
        "**Teacher score analysis - student performance vs teacher,student feature except skills** by wenxi chen\n",
        "- eg: https://machinelearningmastery.com/calculate-feature-importance-with-python/\n",
        "- Normalizing+one-hotcoding\n",
        "- EDA in combination"
      ],
      "metadata": {
        "id": "w3vMk6WgO70D"
      }
    },
    {
      "cell_type": "markdown",
      "source": [
        "**skill analysis - student performance vs skill analysis**\n",
        "- Linear regression \n",
        "- one hot encoding mandotary\\\n",
        "EDA\n",
        "- EDA 2 plots section 1 total score vs skill1"
      ],
      "metadata": {
        "id": "_BnVYNe2RFBa"
      }
    },
    {
      "cell_type": "code",
      "source": [],
      "metadata": {
        "id": "oQHYCCFhO8_b"
      },
      "execution_count": 48,
      "outputs": []
    },
    {
      "cell_type": "markdown",
      "source": [
        "**course effectiveness - teacher performance vs school years in the program**\n",
        "Linear regression - school years+ when we add others how is it working out\n",
        "\n",
        "EDA plots\n"
      ],
      "metadata": {
        "id": "vePqUBwPSuE6"
      }
    },
    {
      "cell_type": "markdown",
      "source": [
        "COMPRHENSIVE Test\n",
        "STUDENT - Wenxi + Jane\n",
        "SKILL - George\n",
        "COURSE - Zoe\n",
        "\n",
        "EDA - Sydney + Jane\n",
        "PPT - 5\n",
        "FORMAT-\n"
      ],
      "metadata": {
        "id": "kwti2TNFUWuw"
      }
    },
    {
      "cell_type": "code",
      "source": [
        "df_target['EGRA Section 6 Total Score']"
      ],
      "metadata": {
        "id": "zJTjsvETTM0j",
        "colab": {
          "base_uri": "https://localhost:8080/"
        },
        "outputId": "016bb2e7-f233-4e94-d92a-180e98c19904"
      },
      "execution_count": 49,
      "outputs": [
        {
          "output_type": "execute_result",
          "data": {
            "text/plain": [
              "0       1\n",
              "1       2\n",
              "2       1\n",
              "3       2\n",
              "4       2\n",
              "       ..\n",
              "1052    2\n",
              "1053    1\n",
              "1054    2\n",
              "1055    0\n",
              "1056    2\n",
              "Name: EGRA Section 6 Total Score, Length: 1057, dtype: int64"
            ]
          },
          "metadata": {},
          "execution_count": 49
        }
      ]
    },
    {
      "cell_type": "code",
      "source": [
        "df_target['EGRA Section 5 CWPM']"
      ],
      "metadata": {
        "colab": {
          "base_uri": "https://localhost:8080/"
        },
        "id": "a8QcW1b4VGOh",
        "outputId": "1b24f8ea-c757-46dc-b5af-8e145748b769"
      },
      "execution_count": 50,
      "outputs": [
        {
          "output_type": "execute_result",
          "data": {
            "text/plain": [
              "0       93\n",
              "1       30\n",
              "2       50\n",
              "3       24\n",
              "4       25\n",
              "        ..\n",
              "1052     1\n",
              "1053     4\n",
              "1054     0\n",
              "1055     0\n",
              "1056     0\n",
              "Name: EGRA Section 5 CWPM, Length: 1057, dtype: int64"
            ]
          },
          "metadata": {},
          "execution_count": 50
        }
      ]
    },
    {
      "cell_type": "code",
      "source": [
        "# linear regression feature importance\n",
        "from sklearn.datasets import make_regression\n",
        "from sklearn.linear_model import LinearRegression\n",
        "from sklearn.model_selection import train_test_split\n",
        "from matplotlib import pyplot"
      ],
      "metadata": {
        "id": "u63FMmVwvgM1"
      },
      "execution_count": 51,
      "outputs": []
    },
    {
      "cell_type": "code",
      "source": [
        "df_x_clean"
      ],
      "metadata": {
        "colab": {
          "base_uri": "https://localhost:8080/",
          "height": 783
        },
        "id": "7DZQ3UoPR_O_",
        "outputId": "8225a95d-ae8d-4f92-f8fb-4b221cd430c0"
      },
      "execution_count": 52,
      "outputs": [
        {
          "output_type": "execute_result",
          "data": {
            "text/plain": [
              "     Grade_x School Year_x Date of Test Pre or Post?  \\\n",
              "0          4     2019-2020      10/8/19          Pre   \n",
              "1          4     2019-2020     10/10/19          Pre   \n",
              "2          4     2019-2020     10/10/19          Pre   \n",
              "3          4     2019-2020      10/7/19          Pre   \n",
              "4          4     2019-2020      10/9/19          Pre   \n",
              "...      ...           ...          ...          ...   \n",
              "1052       2     2019-2020     10/10/19          Pre   \n",
              "1053       2     2019-2020      10/9/19          Pre   \n",
              "1054       2     2019-2020     10/10/19          Pre   \n",
              "1055       2     2019-2020     10/10/19          Pre   \n",
              "1056       2     2019-2020      10/8/19          Pre   \n",
              "\n",
              "     Main Language Used In Exam EGRA Question 1: Reading Habit  \\\n",
              "0                  English; Ewe                            Yes   \n",
              "1                  English; Ewe                            Yes   \n",
              "2                  English; Ewe                            Yes   \n",
              "3                       English                            Yes   \n",
              "4                  English; Ewe                            Yes   \n",
              "...                         ...                            ...   \n",
              "1052                        Ewe                             No   \n",
              "1053               English; Ewe                            Yes   \n",
              "1054                        Ewe                            Yes   \n",
              "1055               English; Ewe                            Yes   \n",
              "1056                        Ewe                            Yes   \n",
              "\n",
              "     EGRA Last Book Read  Reads With Others  How Often, ReadsWithOthers  \\\n",
              "0                    Yes                  1                           1   \n",
              "1                     No                  1                           3   \n",
              "2                     No                  1                           1   \n",
              "3                     No                  1                           1   \n",
              "4                    Yes                  0                           2   \n",
              "...                  ...                ...                         ...   \n",
              "1052                  No                  0                           2   \n",
              "1053                  No                  1                           1   \n",
              "1054                  No                  1                           3   \n",
              "1055                 Yes                  1                           3   \n",
              "1056                  No                  1                           3   \n",
              "\n",
              "     Student Gender  ...        Skill to Improve 1 Skill to Improve 2  \\\n",
              "0              Male  ...               Preparation        Preparation   \n",
              "1            Female  ...               Preparation        Preparation   \n",
              "2            Female  ...               Preparation        Preparation   \n",
              "3            Female  ...               Preparation        Preparation   \n",
              "4            Female  ...               Preparation        Preparation   \n",
              "...             ...  ...                       ...                ...   \n",
              "1052         Female  ...  Communication of Content  Lesson Objectives   \n",
              "1053         Female  ...  Communication of Content  Lesson Objectives   \n",
              "1054           Male  ...  Communication of Content  Lesson Objectives   \n",
              "1055           Male  ...  Communication of Content  Lesson Objectives   \n",
              "1056         Female  ...  Communication of Content  Lesson Objectives   \n",
              "\n",
              "     Minutes Spent Observing Minutes Spent Coaching Total Score  \\\n",
              "0                       25.0                    6.0          16   \n",
              "1                       25.0                    6.0          16   \n",
              "2                       25.0                    6.0          16   \n",
              "3                       25.0                    6.0          16   \n",
              "4                       25.0                    6.0          16   \n",
              "...                      ...                    ...         ...   \n",
              "1052                    20.0                    7.0          25   \n",
              "1053                    20.0                    7.0          25   \n",
              "1054                    20.0                    7.0          25   \n",
              "1055                    20.0                    7.0          25   \n",
              "1056                    20.0                    7.0          25   \n",
              "\n",
              "     Teacher Number: Gender  \\\n",
              "0                    Female   \n",
              "1                    Female   \n",
              "2                    Female   \n",
              "3                    Female   \n",
              "4                    Female   \n",
              "...                     ...   \n",
              "1052                 Female   \n",
              "1053                 Female   \n",
              "1054                 Female   \n",
              "1055                 Female   \n",
              "1056                 Female   \n",
              "\n",
              "     Teacher Number: School Years in Teacher Support Program Teacher Present  \\\n",
              "0                                                     3              Present   \n",
              "1                                                     3              Present   \n",
              "2                                                     3              Present   \n",
              "3                                                     3              Present   \n",
              "4                                                     3              Present   \n",
              "...                                                 ...                  ...   \n",
              "1052                                                  2              Present   \n",
              "1053                                                  2              Present   \n",
              "1054                                                  2              Present   \n",
              "1055                                                  2              Present   \n",
              "1056                                                  2              Present   \n",
              "\n",
              "     Average Students Enrolled School Year_y  \n",
              "0                           19     2019-2020  \n",
              "1                           19     2019-2020  \n",
              "2                           19     2019-2020  \n",
              "3                           19     2019-2020  \n",
              "4                           19     2019-2020  \n",
              "...                        ...           ...  \n",
              "1052                        30     2019-2020  \n",
              "1053                        30     2019-2020  \n",
              "1054                        30     2019-2020  \n",
              "1055                        30     2019-2020  \n",
              "1056                        30     2019-2020  \n",
              "\n",
              "[1057 rows x 31 columns]"
            ],
            "text/html": [
              "\n",
              "  <div id=\"df-dc3f1012-8c48-4170-9b9c-3846b7e58da1\">\n",
              "    <div class=\"colab-df-container\">\n",
              "      <div>\n",
              "<style scoped>\n",
              "    .dataframe tbody tr th:only-of-type {\n",
              "        vertical-align: middle;\n",
              "    }\n",
              "\n",
              "    .dataframe tbody tr th {\n",
              "        vertical-align: top;\n",
              "    }\n",
              "\n",
              "    .dataframe thead th {\n",
              "        text-align: right;\n",
              "    }\n",
              "</style>\n",
              "<table border=\"1\" class=\"dataframe\">\n",
              "  <thead>\n",
              "    <tr style=\"text-align: right;\">\n",
              "      <th></th>\n",
              "      <th>Grade_x</th>\n",
              "      <th>School Year_x</th>\n",
              "      <th>Date of Test</th>\n",
              "      <th>Pre or Post?</th>\n",
              "      <th>Main Language Used In Exam</th>\n",
              "      <th>EGRA Question 1: Reading Habit</th>\n",
              "      <th>EGRA Last Book Read</th>\n",
              "      <th>Reads With Others</th>\n",
              "      <th>How Often, ReadsWithOthers</th>\n",
              "      <th>Student Gender</th>\n",
              "      <th>...</th>\n",
              "      <th>Skill to Improve 1</th>\n",
              "      <th>Skill to Improve 2</th>\n",
              "      <th>Minutes Spent Observing</th>\n",
              "      <th>Minutes Spent Coaching</th>\n",
              "      <th>Total Score</th>\n",
              "      <th>Teacher Number: Gender</th>\n",
              "      <th>Teacher Number: School Years in Teacher Support Program</th>\n",
              "      <th>Teacher Present</th>\n",
              "      <th>Average Students Enrolled</th>\n",
              "      <th>School Year_y</th>\n",
              "    </tr>\n",
              "  </thead>\n",
              "  <tbody>\n",
              "    <tr>\n",
              "      <th>0</th>\n",
              "      <td>4</td>\n",
              "      <td>2019-2020</td>\n",
              "      <td>10/8/19</td>\n",
              "      <td>Pre</td>\n",
              "      <td>English; Ewe</td>\n",
              "      <td>Yes</td>\n",
              "      <td>Yes</td>\n",
              "      <td>1</td>\n",
              "      <td>1</td>\n",
              "      <td>Male</td>\n",
              "      <td>...</td>\n",
              "      <td>Preparation</td>\n",
              "      <td>Preparation</td>\n",
              "      <td>25.0</td>\n",
              "      <td>6.0</td>\n",
              "      <td>16</td>\n",
              "      <td>Female</td>\n",
              "      <td>3</td>\n",
              "      <td>Present</td>\n",
              "      <td>19</td>\n",
              "      <td>2019-2020</td>\n",
              "    </tr>\n",
              "    <tr>\n",
              "      <th>1</th>\n",
              "      <td>4</td>\n",
              "      <td>2019-2020</td>\n",
              "      <td>10/10/19</td>\n",
              "      <td>Pre</td>\n",
              "      <td>English; Ewe</td>\n",
              "      <td>Yes</td>\n",
              "      <td>No</td>\n",
              "      <td>1</td>\n",
              "      <td>3</td>\n",
              "      <td>Female</td>\n",
              "      <td>...</td>\n",
              "      <td>Preparation</td>\n",
              "      <td>Preparation</td>\n",
              "      <td>25.0</td>\n",
              "      <td>6.0</td>\n",
              "      <td>16</td>\n",
              "      <td>Female</td>\n",
              "      <td>3</td>\n",
              "      <td>Present</td>\n",
              "      <td>19</td>\n",
              "      <td>2019-2020</td>\n",
              "    </tr>\n",
              "    <tr>\n",
              "      <th>2</th>\n",
              "      <td>4</td>\n",
              "      <td>2019-2020</td>\n",
              "      <td>10/10/19</td>\n",
              "      <td>Pre</td>\n",
              "      <td>English; Ewe</td>\n",
              "      <td>Yes</td>\n",
              "      <td>No</td>\n",
              "      <td>1</td>\n",
              "      <td>1</td>\n",
              "      <td>Female</td>\n",
              "      <td>...</td>\n",
              "      <td>Preparation</td>\n",
              "      <td>Preparation</td>\n",
              "      <td>25.0</td>\n",
              "      <td>6.0</td>\n",
              "      <td>16</td>\n",
              "      <td>Female</td>\n",
              "      <td>3</td>\n",
              "      <td>Present</td>\n",
              "      <td>19</td>\n",
              "      <td>2019-2020</td>\n",
              "    </tr>\n",
              "    <tr>\n",
              "      <th>3</th>\n",
              "      <td>4</td>\n",
              "      <td>2019-2020</td>\n",
              "      <td>10/7/19</td>\n",
              "      <td>Pre</td>\n",
              "      <td>English</td>\n",
              "      <td>Yes</td>\n",
              "      <td>No</td>\n",
              "      <td>1</td>\n",
              "      <td>1</td>\n",
              "      <td>Female</td>\n",
              "      <td>...</td>\n",
              "      <td>Preparation</td>\n",
              "      <td>Preparation</td>\n",
              "      <td>25.0</td>\n",
              "      <td>6.0</td>\n",
              "      <td>16</td>\n",
              "      <td>Female</td>\n",
              "      <td>3</td>\n",
              "      <td>Present</td>\n",
              "      <td>19</td>\n",
              "      <td>2019-2020</td>\n",
              "    </tr>\n",
              "    <tr>\n",
              "      <th>4</th>\n",
              "      <td>4</td>\n",
              "      <td>2019-2020</td>\n",
              "      <td>10/9/19</td>\n",
              "      <td>Pre</td>\n",
              "      <td>English; Ewe</td>\n",
              "      <td>Yes</td>\n",
              "      <td>Yes</td>\n",
              "      <td>0</td>\n",
              "      <td>2</td>\n",
              "      <td>Female</td>\n",
              "      <td>...</td>\n",
              "      <td>Preparation</td>\n",
              "      <td>Preparation</td>\n",
              "      <td>25.0</td>\n",
              "      <td>6.0</td>\n",
              "      <td>16</td>\n",
              "      <td>Female</td>\n",
              "      <td>3</td>\n",
              "      <td>Present</td>\n",
              "      <td>19</td>\n",
              "      <td>2019-2020</td>\n",
              "    </tr>\n",
              "    <tr>\n",
              "      <th>...</th>\n",
              "      <td>...</td>\n",
              "      <td>...</td>\n",
              "      <td>...</td>\n",
              "      <td>...</td>\n",
              "      <td>...</td>\n",
              "      <td>...</td>\n",
              "      <td>...</td>\n",
              "      <td>...</td>\n",
              "      <td>...</td>\n",
              "      <td>...</td>\n",
              "      <td>...</td>\n",
              "      <td>...</td>\n",
              "      <td>...</td>\n",
              "      <td>...</td>\n",
              "      <td>...</td>\n",
              "      <td>...</td>\n",
              "      <td>...</td>\n",
              "      <td>...</td>\n",
              "      <td>...</td>\n",
              "      <td>...</td>\n",
              "      <td>...</td>\n",
              "    </tr>\n",
              "    <tr>\n",
              "      <th>1052</th>\n",
              "      <td>2</td>\n",
              "      <td>2019-2020</td>\n",
              "      <td>10/10/19</td>\n",
              "      <td>Pre</td>\n",
              "      <td>Ewe</td>\n",
              "      <td>No</td>\n",
              "      <td>No</td>\n",
              "      <td>0</td>\n",
              "      <td>2</td>\n",
              "      <td>Female</td>\n",
              "      <td>...</td>\n",
              "      <td>Communication of Content</td>\n",
              "      <td>Lesson Objectives</td>\n",
              "      <td>20.0</td>\n",
              "      <td>7.0</td>\n",
              "      <td>25</td>\n",
              "      <td>Female</td>\n",
              "      <td>2</td>\n",
              "      <td>Present</td>\n",
              "      <td>30</td>\n",
              "      <td>2019-2020</td>\n",
              "    </tr>\n",
              "    <tr>\n",
              "      <th>1053</th>\n",
              "      <td>2</td>\n",
              "      <td>2019-2020</td>\n",
              "      <td>10/9/19</td>\n",
              "      <td>Pre</td>\n",
              "      <td>English; Ewe</td>\n",
              "      <td>Yes</td>\n",
              "      <td>No</td>\n",
              "      <td>1</td>\n",
              "      <td>1</td>\n",
              "      <td>Female</td>\n",
              "      <td>...</td>\n",
              "      <td>Communication of Content</td>\n",
              "      <td>Lesson Objectives</td>\n",
              "      <td>20.0</td>\n",
              "      <td>7.0</td>\n",
              "      <td>25</td>\n",
              "      <td>Female</td>\n",
              "      <td>2</td>\n",
              "      <td>Present</td>\n",
              "      <td>30</td>\n",
              "      <td>2019-2020</td>\n",
              "    </tr>\n",
              "    <tr>\n",
              "      <th>1054</th>\n",
              "      <td>2</td>\n",
              "      <td>2019-2020</td>\n",
              "      <td>10/10/19</td>\n",
              "      <td>Pre</td>\n",
              "      <td>Ewe</td>\n",
              "      <td>Yes</td>\n",
              "      <td>No</td>\n",
              "      <td>1</td>\n",
              "      <td>3</td>\n",
              "      <td>Male</td>\n",
              "      <td>...</td>\n",
              "      <td>Communication of Content</td>\n",
              "      <td>Lesson Objectives</td>\n",
              "      <td>20.0</td>\n",
              "      <td>7.0</td>\n",
              "      <td>25</td>\n",
              "      <td>Female</td>\n",
              "      <td>2</td>\n",
              "      <td>Present</td>\n",
              "      <td>30</td>\n",
              "      <td>2019-2020</td>\n",
              "    </tr>\n",
              "    <tr>\n",
              "      <th>1055</th>\n",
              "      <td>2</td>\n",
              "      <td>2019-2020</td>\n",
              "      <td>10/10/19</td>\n",
              "      <td>Pre</td>\n",
              "      <td>English; Ewe</td>\n",
              "      <td>Yes</td>\n",
              "      <td>Yes</td>\n",
              "      <td>1</td>\n",
              "      <td>3</td>\n",
              "      <td>Male</td>\n",
              "      <td>...</td>\n",
              "      <td>Communication of Content</td>\n",
              "      <td>Lesson Objectives</td>\n",
              "      <td>20.0</td>\n",
              "      <td>7.0</td>\n",
              "      <td>25</td>\n",
              "      <td>Female</td>\n",
              "      <td>2</td>\n",
              "      <td>Present</td>\n",
              "      <td>30</td>\n",
              "      <td>2019-2020</td>\n",
              "    </tr>\n",
              "    <tr>\n",
              "      <th>1056</th>\n",
              "      <td>2</td>\n",
              "      <td>2019-2020</td>\n",
              "      <td>10/8/19</td>\n",
              "      <td>Pre</td>\n",
              "      <td>Ewe</td>\n",
              "      <td>Yes</td>\n",
              "      <td>No</td>\n",
              "      <td>1</td>\n",
              "      <td>3</td>\n",
              "      <td>Female</td>\n",
              "      <td>...</td>\n",
              "      <td>Communication of Content</td>\n",
              "      <td>Lesson Objectives</td>\n",
              "      <td>20.0</td>\n",
              "      <td>7.0</td>\n",
              "      <td>25</td>\n",
              "      <td>Female</td>\n",
              "      <td>2</td>\n",
              "      <td>Present</td>\n",
              "      <td>30</td>\n",
              "      <td>2019-2020</td>\n",
              "    </tr>\n",
              "  </tbody>\n",
              "</table>\n",
              "<p>1057 rows × 31 columns</p>\n",
              "</div>\n",
              "      <button class=\"colab-df-convert\" onclick=\"convertToInteractive('df-dc3f1012-8c48-4170-9b9c-3846b7e58da1')\"\n",
              "              title=\"Convert this dataframe to an interactive table.\"\n",
              "              style=\"display:none;\">\n",
              "        \n",
              "  <svg xmlns=\"http://www.w3.org/2000/svg\" height=\"24px\"viewBox=\"0 0 24 24\"\n",
              "       width=\"24px\">\n",
              "    <path d=\"M0 0h24v24H0V0z\" fill=\"none\"/>\n",
              "    <path d=\"M18.56 5.44l.94 2.06.94-2.06 2.06-.94-2.06-.94-.94-2.06-.94 2.06-2.06.94zm-11 1L8.5 8.5l.94-2.06 2.06-.94-2.06-.94L8.5 2.5l-.94 2.06-2.06.94zm10 10l.94 2.06.94-2.06 2.06-.94-2.06-.94-.94-2.06-.94 2.06-2.06.94z\"/><path d=\"M17.41 7.96l-1.37-1.37c-.4-.4-.92-.59-1.43-.59-.52 0-1.04.2-1.43.59L10.3 9.45l-7.72 7.72c-.78.78-.78 2.05 0 2.83L4 21.41c.39.39.9.59 1.41.59.51 0 1.02-.2 1.41-.59l7.78-7.78 2.81-2.81c.8-.78.8-2.07 0-2.86zM5.41 20L4 18.59l7.72-7.72 1.47 1.35L5.41 20z\"/>\n",
              "  </svg>\n",
              "      </button>\n",
              "      \n",
              "  <style>\n",
              "    .colab-df-container {\n",
              "      display:flex;\n",
              "      flex-wrap:wrap;\n",
              "      gap: 12px;\n",
              "    }\n",
              "\n",
              "    .colab-df-convert {\n",
              "      background-color: #E8F0FE;\n",
              "      border: none;\n",
              "      border-radius: 50%;\n",
              "      cursor: pointer;\n",
              "      display: none;\n",
              "      fill: #1967D2;\n",
              "      height: 32px;\n",
              "      padding: 0 0 0 0;\n",
              "      width: 32px;\n",
              "    }\n",
              "\n",
              "    .colab-df-convert:hover {\n",
              "      background-color: #E2EBFA;\n",
              "      box-shadow: 0px 1px 2px rgba(60, 64, 67, 0.3), 0px 1px 3px 1px rgba(60, 64, 67, 0.15);\n",
              "      fill: #174EA6;\n",
              "    }\n",
              "\n",
              "    [theme=dark] .colab-df-convert {\n",
              "      background-color: #3B4455;\n",
              "      fill: #D2E3FC;\n",
              "    }\n",
              "\n",
              "    [theme=dark] .colab-df-convert:hover {\n",
              "      background-color: #434B5C;\n",
              "      box-shadow: 0px 1px 3px 1px rgba(0, 0, 0, 0.15);\n",
              "      filter: drop-shadow(0px 1px 2px rgba(0, 0, 0, 0.3));\n",
              "      fill: #FFFFFF;\n",
              "    }\n",
              "  </style>\n",
              "\n",
              "      <script>\n",
              "        const buttonEl =\n",
              "          document.querySelector('#df-dc3f1012-8c48-4170-9b9c-3846b7e58da1 button.colab-df-convert');\n",
              "        buttonEl.style.display =\n",
              "          google.colab.kernel.accessAllowed ? 'block' : 'none';\n",
              "\n",
              "        async function convertToInteractive(key) {\n",
              "          const element = document.querySelector('#df-dc3f1012-8c48-4170-9b9c-3846b7e58da1');\n",
              "          const dataTable =\n",
              "            await google.colab.kernel.invokeFunction('convertToInteractive',\n",
              "                                                     [key], {});\n",
              "          if (!dataTable) return;\n",
              "\n",
              "          const docLinkHtml = 'Like what you see? Visit the ' +\n",
              "            '<a target=\"_blank\" href=https://colab.research.google.com/notebooks/data_table.ipynb>data table notebook</a>'\n",
              "            + ' to learn more about interactive tables.';\n",
              "          element.innerHTML = '';\n",
              "          dataTable['output_type'] = 'display_data';\n",
              "          await google.colab.output.renderOutput(dataTable, element);\n",
              "          const docLink = document.createElement('div');\n",
              "          docLink.innerHTML = docLinkHtml;\n",
              "          element.appendChild(docLink);\n",
              "        }\n",
              "      </script>\n",
              "    </div>\n",
              "  </div>\n",
              "  "
            ]
          },
          "metadata": {},
          "execution_count": 52
        }
      ]
    },
    {
      "cell_type": "code",
      "source": [
        "df_target['Cumulative Score']=df_target['EGRA Section 1 Total Score']*33.3333 + df_target['EGRA Section 2a Score']*2 + "
      ],
      "metadata": {
        "colab": {
          "base_uri": "https://localhost:8080/",
          "height": 574
        },
        "id": "vZDCyTMDxoGs",
        "outputId": "8867ec9d-f0a2-41a9-b393-b7d534969627"
      },
      "execution_count": 53,
      "outputs": [
        {
          "output_type": "execute_result",
          "data": {
            "text/plain": [
              "      EGRA Section 1a Score  EGRA Section 1b Score  EGRA Section 1c Score  \\\n",
              "0                         1                      1                      1   \n",
              "1                         1                      1                      1   \n",
              "2                         1                      1                      1   \n",
              "3                         1                      1                      1   \n",
              "4                         1                      1                      1   \n",
              "...                     ...                    ...                    ...   \n",
              "1052                      1                      1                      1   \n",
              "1053                      1                      1                      1   \n",
              "1054                      1                      1                      1   \n",
              "1055                      1                      1                      1   \n",
              "1056                      1                      1                      1   \n",
              "\n",
              "      EGRA Section 2a Score  EGRA Section 2b Score  \\\n",
              "0                         0                      3   \n",
              "1                         0                      0   \n",
              "2                         0                      0   \n",
              "3                        12                      7   \n",
              "4                         0                      6   \n",
              "...                     ...                    ...   \n",
              "1052                      0                      2   \n",
              "1053                      5                      0   \n",
              "1054                      0                      1   \n",
              "1055                      0                      5   \n",
              "1056                      0                      6   \n",
              "\n",
              "      EGRA Section 3 Letters Correct  EGRA Section 3 Time Completed  \\\n",
              "0                                 14                           60.0   \n",
              "1                                 52                           60.0   \n",
              "2                                 28                           60.0   \n",
              "3                                 75                           60.0   \n",
              "4                                 26                           60.0   \n",
              "...                              ...                            ...   \n",
              "1052                               3                           60.0   \n",
              "1053                              32                           60.0   \n",
              "1054                               2                           60.0   \n",
              "1055                               1                           60.0   \n",
              "1056                              64                           60.0   \n",
              "\n",
              "      EGRA Section 3 LPM  EGRA Section 4 Words Correct  \\\n",
              "0                   14.0                            45   \n",
              "1                   52.0                            23   \n",
              "2                   28.0                            32   \n",
              "3                   75.0                            12   \n",
              "4                   26.0                            12   \n",
              "...                  ...                           ...   \n",
              "1052                 3.0                             0   \n",
              "1053                32.0                             0   \n",
              "1054                 2.0                             0   \n",
              "1055                 1.0                             0   \n",
              "1056                64.0                             0   \n",
              "\n",
              "      EGRA Section 4 Time Completed  ...  EGRA Section 5 Time Completed  \\\n",
              "0                              43.0  ...                           38.0   \n",
              "1                              60.0  ...                          103.0   \n",
              "2                              60.0  ...                           70.0   \n",
              "3                              60.0  ...                          117.0   \n",
              "4                              60.0  ...                          121.0   \n",
              "...                             ...  ...                            ...   \n",
              "1052                           16.0  ...                           96.0   \n",
              "1053                           15.0  ...                          180.0   \n",
              "1054                            8.0  ...                           16.0   \n",
              "1055                           11.0  ...                           31.0   \n",
              "1056                           15.0  ...                           13.0   \n",
              "\n",
              "      EGRA Section 5 CWPM  EGRA Section 5 Questions Correct  \\\n",
              "0                      93                                 0   \n",
              "1                      30                                 3   \n",
              "2                      50                                 2   \n",
              "3                      24                                 6   \n",
              "4                      25                                 0   \n",
              "...                   ...                               ...   \n",
              "1052                    1                                 0   \n",
              "1053                    4                                 2   \n",
              "1054                    0                                 0   \n",
              "1055                    0                                 0   \n",
              "1056                    0                                 6   \n",
              "\n",
              "      EGRA Section 6 Written Words Correct  \\\n",
              "0                                        0   \n",
              "1                                        0   \n",
              "2                                        0   \n",
              "3                                        0   \n",
              "4                                        0   \n",
              "...                                    ...   \n",
              "1052                                     0   \n",
              "1053                                     0   \n",
              "1054                                     0   \n",
              "1055                                     0   \n",
              "1056                                     0   \n",
              "\n",
              "      EGRA Section 6 Correct Space/Direction  \\\n",
              "0                                          1   \n",
              "1                                          2   \n",
              "2                                          1   \n",
              "3                                          2   \n",
              "4                                          1   \n",
              "...                                      ...   \n",
              "1052                                       2   \n",
              "1053                                       1   \n",
              "1054                                       2   \n",
              "1055                                       0   \n",
              "1056                                       2   \n",
              "\n",
              "      EGRA Section 6 Correct Punctuation  \\\n",
              "0                                      0   \n",
              "1                                      0   \n",
              "2                                      0   \n",
              "3                                      0   \n",
              "4                                      0   \n",
              "...                                  ...   \n",
              "1052                                   0   \n",
              "1053                                   0   \n",
              "1054                                   0   \n",
              "1055                                   0   \n",
              "1056                                   0   \n",
              "\n",
              "      EGRA Section 6 Correct Use of Capitals  EGRA Section 7a Score  \\\n",
              "0                                          0                      0   \n",
              "1                                          0                      2   \n",
              "2                                          0                      3   \n",
              "3                                          0                      3   \n",
              "4                                          1                      2   \n",
              "...                                      ...                    ...   \n",
              "1052                                       0                      0   \n",
              "1053                                       0                      3   \n",
              "1054                                       0                      0   \n",
              "1055                                       0                      1   \n",
              "1056                                       0                      1   \n",
              "\n",
              "      EGRA Section 1 Total Score  EGRA Section 6 Total Score  \n",
              "0                              3                           1  \n",
              "1                              3                           2  \n",
              "2                              3                           1  \n",
              "3                              3                           2  \n",
              "4                              3                           2  \n",
              "...                          ...                         ...  \n",
              "1052                           3                           2  \n",
              "1053                           3                           1  \n",
              "1054                           3                           2  \n",
              "1055                           3                           0  \n",
              "1056                           3                           2  \n",
              "\n",
              "[1057 rows x 22 columns]"
            ],
            "text/html": [
              "\n",
              "  <div id=\"df-3314e8ca-a8eb-42ee-a843-b1f83eaa21ef\">\n",
              "    <div class=\"colab-df-container\">\n",
              "      <div>\n",
              "<style scoped>\n",
              "    .dataframe tbody tr th:only-of-type {\n",
              "        vertical-align: middle;\n",
              "    }\n",
              "\n",
              "    .dataframe tbody tr th {\n",
              "        vertical-align: top;\n",
              "    }\n",
              "\n",
              "    .dataframe thead th {\n",
              "        text-align: right;\n",
              "    }\n",
              "</style>\n",
              "<table border=\"1\" class=\"dataframe\">\n",
              "  <thead>\n",
              "    <tr style=\"text-align: right;\">\n",
              "      <th></th>\n",
              "      <th>EGRA Section 1a Score</th>\n",
              "      <th>EGRA Section 1b Score</th>\n",
              "      <th>EGRA Section 1c Score</th>\n",
              "      <th>EGRA Section 2a Score</th>\n",
              "      <th>EGRA Section 2b Score</th>\n",
              "      <th>EGRA Section 3 Letters Correct</th>\n",
              "      <th>EGRA Section 3 Time Completed</th>\n",
              "      <th>EGRA Section 3 LPM</th>\n",
              "      <th>EGRA Section 4 Words Correct</th>\n",
              "      <th>EGRA Section 4 Time Completed</th>\n",
              "      <th>...</th>\n",
              "      <th>EGRA Section 5 Time Completed</th>\n",
              "      <th>EGRA Section 5 CWPM</th>\n",
              "      <th>EGRA Section 5 Questions Correct</th>\n",
              "      <th>EGRA Section 6 Written Words Correct</th>\n",
              "      <th>EGRA Section 6 Correct Space/Direction</th>\n",
              "      <th>EGRA Section 6 Correct Punctuation</th>\n",
              "      <th>EGRA Section 6 Correct Use of Capitals</th>\n",
              "      <th>EGRA Section 7a Score</th>\n",
              "      <th>EGRA Section 1 Total Score</th>\n",
              "      <th>EGRA Section 6 Total Score</th>\n",
              "    </tr>\n",
              "  </thead>\n",
              "  <tbody>\n",
              "    <tr>\n",
              "      <th>0</th>\n",
              "      <td>1</td>\n",
              "      <td>1</td>\n",
              "      <td>1</td>\n",
              "      <td>0</td>\n",
              "      <td>3</td>\n",
              "      <td>14</td>\n",
              "      <td>60.0</td>\n",
              "      <td>14.0</td>\n",
              "      <td>45</td>\n",
              "      <td>43.0</td>\n",
              "      <td>...</td>\n",
              "      <td>38.0</td>\n",
              "      <td>93</td>\n",
              "      <td>0</td>\n",
              "      <td>0</td>\n",
              "      <td>1</td>\n",
              "      <td>0</td>\n",
              "      <td>0</td>\n",
              "      <td>0</td>\n",
              "      <td>3</td>\n",
              "      <td>1</td>\n",
              "    </tr>\n",
              "    <tr>\n",
              "      <th>1</th>\n",
              "      <td>1</td>\n",
              "      <td>1</td>\n",
              "      <td>1</td>\n",
              "      <td>0</td>\n",
              "      <td>0</td>\n",
              "      <td>52</td>\n",
              "      <td>60.0</td>\n",
              "      <td>52.0</td>\n",
              "      <td>23</td>\n",
              "      <td>60.0</td>\n",
              "      <td>...</td>\n",
              "      <td>103.0</td>\n",
              "      <td>30</td>\n",
              "      <td>3</td>\n",
              "      <td>0</td>\n",
              "      <td>2</td>\n",
              "      <td>0</td>\n",
              "      <td>0</td>\n",
              "      <td>2</td>\n",
              "      <td>3</td>\n",
              "      <td>2</td>\n",
              "    </tr>\n",
              "    <tr>\n",
              "      <th>2</th>\n",
              "      <td>1</td>\n",
              "      <td>1</td>\n",
              "      <td>1</td>\n",
              "      <td>0</td>\n",
              "      <td>0</td>\n",
              "      <td>28</td>\n",
              "      <td>60.0</td>\n",
              "      <td>28.0</td>\n",
              "      <td>32</td>\n",
              "      <td>60.0</td>\n",
              "      <td>...</td>\n",
              "      <td>70.0</td>\n",
              "      <td>50</td>\n",
              "      <td>2</td>\n",
              "      <td>0</td>\n",
              "      <td>1</td>\n",
              "      <td>0</td>\n",
              "      <td>0</td>\n",
              "      <td>3</td>\n",
              "      <td>3</td>\n",
              "      <td>1</td>\n",
              "    </tr>\n",
              "    <tr>\n",
              "      <th>3</th>\n",
              "      <td>1</td>\n",
              "      <td>1</td>\n",
              "      <td>1</td>\n",
              "      <td>12</td>\n",
              "      <td>7</td>\n",
              "      <td>75</td>\n",
              "      <td>60.0</td>\n",
              "      <td>75.0</td>\n",
              "      <td>12</td>\n",
              "      <td>60.0</td>\n",
              "      <td>...</td>\n",
              "      <td>117.0</td>\n",
              "      <td>24</td>\n",
              "      <td>6</td>\n",
              "      <td>0</td>\n",
              "      <td>2</td>\n",
              "      <td>0</td>\n",
              "      <td>0</td>\n",
              "      <td>3</td>\n",
              "      <td>3</td>\n",
              "      <td>2</td>\n",
              "    </tr>\n",
              "    <tr>\n",
              "      <th>4</th>\n",
              "      <td>1</td>\n",
              "      <td>1</td>\n",
              "      <td>1</td>\n",
              "      <td>0</td>\n",
              "      <td>6</td>\n",
              "      <td>26</td>\n",
              "      <td>60.0</td>\n",
              "      <td>26.0</td>\n",
              "      <td>12</td>\n",
              "      <td>60.0</td>\n",
              "      <td>...</td>\n",
              "      <td>121.0</td>\n",
              "      <td>25</td>\n",
              "      <td>0</td>\n",
              "      <td>0</td>\n",
              "      <td>1</td>\n",
              "      <td>0</td>\n",
              "      <td>1</td>\n",
              "      <td>2</td>\n",
              "      <td>3</td>\n",
              "      <td>2</td>\n",
              "    </tr>\n",
              "    <tr>\n",
              "      <th>...</th>\n",
              "      <td>...</td>\n",
              "      <td>...</td>\n",
              "      <td>...</td>\n",
              "      <td>...</td>\n",
              "      <td>...</td>\n",
              "      <td>...</td>\n",
              "      <td>...</td>\n",
              "      <td>...</td>\n",
              "      <td>...</td>\n",
              "      <td>...</td>\n",
              "      <td>...</td>\n",
              "      <td>...</td>\n",
              "      <td>...</td>\n",
              "      <td>...</td>\n",
              "      <td>...</td>\n",
              "      <td>...</td>\n",
              "      <td>...</td>\n",
              "      <td>...</td>\n",
              "      <td>...</td>\n",
              "      <td>...</td>\n",
              "      <td>...</td>\n",
              "    </tr>\n",
              "    <tr>\n",
              "      <th>1052</th>\n",
              "      <td>1</td>\n",
              "      <td>1</td>\n",
              "      <td>1</td>\n",
              "      <td>0</td>\n",
              "      <td>2</td>\n",
              "      <td>3</td>\n",
              "      <td>60.0</td>\n",
              "      <td>3.0</td>\n",
              "      <td>0</td>\n",
              "      <td>16.0</td>\n",
              "      <td>...</td>\n",
              "      <td>96.0</td>\n",
              "      <td>1</td>\n",
              "      <td>0</td>\n",
              "      <td>0</td>\n",
              "      <td>2</td>\n",
              "      <td>0</td>\n",
              "      <td>0</td>\n",
              "      <td>0</td>\n",
              "      <td>3</td>\n",
              "      <td>2</td>\n",
              "    </tr>\n",
              "    <tr>\n",
              "      <th>1053</th>\n",
              "      <td>1</td>\n",
              "      <td>1</td>\n",
              "      <td>1</td>\n",
              "      <td>5</td>\n",
              "      <td>0</td>\n",
              "      <td>32</td>\n",
              "      <td>60.0</td>\n",
              "      <td>32.0</td>\n",
              "      <td>0</td>\n",
              "      <td>15.0</td>\n",
              "      <td>...</td>\n",
              "      <td>180.0</td>\n",
              "      <td>4</td>\n",
              "      <td>2</td>\n",
              "      <td>0</td>\n",
              "      <td>1</td>\n",
              "      <td>0</td>\n",
              "      <td>0</td>\n",
              "      <td>3</td>\n",
              "      <td>3</td>\n",
              "      <td>1</td>\n",
              "    </tr>\n",
              "    <tr>\n",
              "      <th>1054</th>\n",
              "      <td>1</td>\n",
              "      <td>1</td>\n",
              "      <td>1</td>\n",
              "      <td>0</td>\n",
              "      <td>1</td>\n",
              "      <td>2</td>\n",
              "      <td>60.0</td>\n",
              "      <td>2.0</td>\n",
              "      <td>0</td>\n",
              "      <td>8.0</td>\n",
              "      <td>...</td>\n",
              "      <td>16.0</td>\n",
              "      <td>0</td>\n",
              "      <td>0</td>\n",
              "      <td>0</td>\n",
              "      <td>2</td>\n",
              "      <td>0</td>\n",
              "      <td>0</td>\n",
              "      <td>0</td>\n",
              "      <td>3</td>\n",
              "      <td>2</td>\n",
              "    </tr>\n",
              "    <tr>\n",
              "      <th>1055</th>\n",
              "      <td>1</td>\n",
              "      <td>1</td>\n",
              "      <td>1</td>\n",
              "      <td>0</td>\n",
              "      <td>5</td>\n",
              "      <td>1</td>\n",
              "      <td>60.0</td>\n",
              "      <td>1.0</td>\n",
              "      <td>0</td>\n",
              "      <td>11.0</td>\n",
              "      <td>...</td>\n",
              "      <td>31.0</td>\n",
              "      <td>0</td>\n",
              "      <td>0</td>\n",
              "      <td>0</td>\n",
              "      <td>0</td>\n",
              "      <td>0</td>\n",
              "      <td>0</td>\n",
              "      <td>1</td>\n",
              "      <td>3</td>\n",
              "      <td>0</td>\n",
              "    </tr>\n",
              "    <tr>\n",
              "      <th>1056</th>\n",
              "      <td>1</td>\n",
              "      <td>1</td>\n",
              "      <td>1</td>\n",
              "      <td>0</td>\n",
              "      <td>6</td>\n",
              "      <td>64</td>\n",
              "      <td>60.0</td>\n",
              "      <td>64.0</td>\n",
              "      <td>0</td>\n",
              "      <td>15.0</td>\n",
              "      <td>...</td>\n",
              "      <td>13.0</td>\n",
              "      <td>0</td>\n",
              "      <td>6</td>\n",
              "      <td>0</td>\n",
              "      <td>2</td>\n",
              "      <td>0</td>\n",
              "      <td>0</td>\n",
              "      <td>1</td>\n",
              "      <td>3</td>\n",
              "      <td>2</td>\n",
              "    </tr>\n",
              "  </tbody>\n",
              "</table>\n",
              "<p>1057 rows × 22 columns</p>\n",
              "</div>\n",
              "      <button class=\"colab-df-convert\" onclick=\"convertToInteractive('df-3314e8ca-a8eb-42ee-a843-b1f83eaa21ef')\"\n",
              "              title=\"Convert this dataframe to an interactive table.\"\n",
              "              style=\"display:none;\">\n",
              "        \n",
              "  <svg xmlns=\"http://www.w3.org/2000/svg\" height=\"24px\"viewBox=\"0 0 24 24\"\n",
              "       width=\"24px\">\n",
              "    <path d=\"M0 0h24v24H0V0z\" fill=\"none\"/>\n",
              "    <path d=\"M18.56 5.44l.94 2.06.94-2.06 2.06-.94-2.06-.94-.94-2.06-.94 2.06-2.06.94zm-11 1L8.5 8.5l.94-2.06 2.06-.94-2.06-.94L8.5 2.5l-.94 2.06-2.06.94zm10 10l.94 2.06.94-2.06 2.06-.94-2.06-.94-.94-2.06-.94 2.06-2.06.94z\"/><path d=\"M17.41 7.96l-1.37-1.37c-.4-.4-.92-.59-1.43-.59-.52 0-1.04.2-1.43.59L10.3 9.45l-7.72 7.72c-.78.78-.78 2.05 0 2.83L4 21.41c.39.39.9.59 1.41.59.51 0 1.02-.2 1.41-.59l7.78-7.78 2.81-2.81c.8-.78.8-2.07 0-2.86zM5.41 20L4 18.59l7.72-7.72 1.47 1.35L5.41 20z\"/>\n",
              "  </svg>\n",
              "      </button>\n",
              "      \n",
              "  <style>\n",
              "    .colab-df-container {\n",
              "      display:flex;\n",
              "      flex-wrap:wrap;\n",
              "      gap: 12px;\n",
              "    }\n",
              "\n",
              "    .colab-df-convert {\n",
              "      background-color: #E8F0FE;\n",
              "      border: none;\n",
              "      border-radius: 50%;\n",
              "      cursor: pointer;\n",
              "      display: none;\n",
              "      fill: #1967D2;\n",
              "      height: 32px;\n",
              "      padding: 0 0 0 0;\n",
              "      width: 32px;\n",
              "    }\n",
              "\n",
              "    .colab-df-convert:hover {\n",
              "      background-color: #E2EBFA;\n",
              "      box-shadow: 0px 1px 2px rgba(60, 64, 67, 0.3), 0px 1px 3px 1px rgba(60, 64, 67, 0.15);\n",
              "      fill: #174EA6;\n",
              "    }\n",
              "\n",
              "    [theme=dark] .colab-df-convert {\n",
              "      background-color: #3B4455;\n",
              "      fill: #D2E3FC;\n",
              "    }\n",
              "\n",
              "    [theme=dark] .colab-df-convert:hover {\n",
              "      background-color: #434B5C;\n",
              "      box-shadow: 0px 1px 3px 1px rgba(0, 0, 0, 0.15);\n",
              "      filter: drop-shadow(0px 1px 2px rgba(0, 0, 0, 0.3));\n",
              "      fill: #FFFFFF;\n",
              "    }\n",
              "  </style>\n",
              "\n",
              "      <script>\n",
              "        const buttonEl =\n",
              "          document.querySelector('#df-3314e8ca-a8eb-42ee-a843-b1f83eaa21ef button.colab-df-convert');\n",
              "        buttonEl.style.display =\n",
              "          google.colab.kernel.accessAllowed ? 'block' : 'none';\n",
              "\n",
              "        async function convertToInteractive(key) {\n",
              "          const element = document.querySelector('#df-3314e8ca-a8eb-42ee-a843-b1f83eaa21ef');\n",
              "          const dataTable =\n",
              "            await google.colab.kernel.invokeFunction('convertToInteractive',\n",
              "                                                     [key], {});\n",
              "          if (!dataTable) return;\n",
              "\n",
              "          const docLinkHtml = 'Like what you see? Visit the ' +\n",
              "            '<a target=\"_blank\" href=https://colab.research.google.com/notebooks/data_table.ipynb>data table notebook</a>'\n",
              "            + ' to learn more about interactive tables.';\n",
              "          element.innerHTML = '';\n",
              "          dataTable['output_type'] = 'display_data';\n",
              "          await google.colab.output.renderOutput(dataTable, element);\n",
              "          const docLink = document.createElement('div');\n",
              "          docLink.innerHTML = docLinkHtml;\n",
              "          element.appendChild(docLink);\n",
              "        }\n",
              "      </script>\n",
              "    </div>\n",
              "  </div>\n",
              "  "
            ]
          },
          "metadata": {},
          "execution_count": 53
        }
      ]
    },
    {
      "cell_type": "code",
      "source": [
        "matched_clean=pd.concat([df_target,df_x_clean],axis=1)"
      ],
      "metadata": {
        "id": "TaJqI2JmxpSw"
      },
      "execution_count": 64,
      "outputs": []
    },
    {
      "cell_type": "code",
      "source": [],
      "metadata": {
        "id": "XFv6KDI8APYN"
      },
      "execution_count": null,
      "outputs": []
    }
  ]
}