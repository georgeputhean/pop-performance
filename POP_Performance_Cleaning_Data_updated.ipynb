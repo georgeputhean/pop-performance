{
  "nbformat": 4,
  "nbformat_minor": 0,
  "metadata": {
    "colab": {
      "provenance": [],
      "include_colab_link": true
    },
    "kernelspec": {
      "name": "python3",
      "display_name": "Python 3"
    },
    "language_info": {
      "name": "python"
    }
  },
  "cells": [
    {
      "cell_type": "markdown",
      "metadata": {
        "id": "view-in-github",
        "colab_type": "text"
      },
      "source": [
        "<a href=\"https://colab.research.google.com/github/georgeputhean/pop-performance/blob/main/POP_Performance_Cleaning_Data_updated.ipynb\" target=\"_parent\"><img src=\"https://colab.research.google.com/assets/colab-badge.svg\" alt=\"Open In Colab\"/></a>"
      ]
    },
    {
      "cell_type": "code",
      "execution_count": 54,
      "metadata": {
        "id": "Y6VAXKpfhpA6"
      },
      "outputs": [],
      "source": [
        "import warnings\n",
        "warnings.simplefilter(action='ignore', category=FutureWarning)\n",
        "import pandas as pd\n",
        "pd.options.mode.chained_assignment = None \n",
        "\n",
        "import seaborn as sns\n",
        "sns.set() \n",
        "import matplotlib.pyplot as plt"
      ]
    },
    {
      "cell_type": "code",
      "source": [
        "from google.colab import drive\n",
        "drive.mount('/content/drive')"
      ],
      "metadata": {
        "colab": {
          "base_uri": "https://localhost:8080/"
        },
        "id": "eYkGKJA2cC3y",
        "outputId": "13751d75-9cbb-467e-b4b9-192afc879aef"
      },
      "execution_count": 55,
      "outputs": [
        {
          "output_type": "stream",
          "name": "stdout",
          "text": [
            "Drive already mounted at /content/drive; to attempt to forcibly remount, call drive.mount(\"/content/drive\", force_remount=True).\n"
          ]
        }
      ]
    },
    {
      "cell_type": "code",
      "source": [
        "df=pd.read_csv(\"/content/drive/My Drive/Matched Data.csv\")"
      ],
      "metadata": {
        "id": "mgtjK7JXh-Th"
      },
      "execution_count": 56,
      "outputs": []
    },
    {
      "cell_type": "code",
      "source": [
        "df.columns"
      ],
      "metadata": {
        "colab": {
          "base_uri": "https://localhost:8080/"
        },
        "id": "RY43QmN-kpmo",
        "outputId": "98118511-adb2-440d-c70f-234f8ece4f5b"
      },
      "execution_count": 57,
      "outputs": [
        {
          "output_type": "execute_result",
          "data": {
            "text/plain": [
              "Index(['Unnamed: 0', 'Grade_x', 'School Name', 'School Year_x', 'Notes',\n",
              "       'Tangerine Test ID', 'Student Number', 'Student Test Number',\n",
              "       'Date of Test', 'Control or Treatment?', 'Pre or Post?',\n",
              "       'EGRA Section 1a Score', 'EGRA Section 1b Score',\n",
              "       'EGRA Section 1c Score', 'EGRA Section 2a Score',\n",
              "       'EGRA Section 2b Score', 'EGRA Section 3 Letters Correct',\n",
              "       'EGRA Section 3 Time Completed', 'EGRA Section 3 LPM',\n",
              "       'EGRA Section 4 Words Correct', 'EGRA Section 4 Time Completed',\n",
              "       'EGRA Section 4: WPM', 'EGRA Section 5 Words Correct',\n",
              "       'EGRA Section 5 Time Completed', 'EGRA Section 5 CWPM',\n",
              "       'EGRA Section 5 Questions Correct',\n",
              "       'EGRA Section 6 Written Words Correct',\n",
              "       'EGRA Section 6 Correct Space/Direction',\n",
              "       'EGRA Section 6 Correct Punctuation',\n",
              "       'EGRA Section 6 Correct Use of Capitals', 'EGRA Section 7a Score',\n",
              "       'Main Language Used In Exam', 'EGRA Question 1: Reading Habit',\n",
              "       'EGRA Last Book Read', 'Reads With Others',\n",
              "       'How Often, ReadsWithOthers', 'Student Gender', 'Class Number',\n",
              "       'Teacher Number: Teacher Number', 'Teacher Number: Full Name',\n",
              "       'School: School Name', 'Grade_y', 'Teacher Class Number',\n",
              "       'Teacher Assessment Number', 'Date', 'Question 1',\n",
              "       'Q1 Rating or Answer', 'Question 2', 'Q2 Rating', 'Question 3',\n",
              "       'Q3 Rating or Answer', 'Question 4', 'Q4 Rating or Answer',\n",
              "       'Question 5', 'Q5 Rating or Answer', 'Question 6',\n",
              "       'Q6 Rating or Answer', 'Question 7', 'Q7 Rating', 'Question 8',\n",
              "       'Q8 Rating', 'Skill to Improve 1', 'Skill to Improve 1 Notes',\n",
              "       'Skill to Improve 2', 'Skill to Improve 2 Notes', 'Skill to Improve 3',\n",
              "       'Skill to Improve 3 Notes', 'Recommended Next Steps', 'What Went Well?',\n",
              "       'Minutes Spent Observing', 'Minutes Spent Coaching', 'Total Score',\n",
              "       'Teacher Number: Gender',\n",
              "       'Teacher Number: School Years in Teacher Support Program',\n",
              "       'Teacher Present', 'Second Teacher Present',\n",
              "       'Average Students Enrolled', 'School Year_y'],\n",
              "      dtype='object')"
            ]
          },
          "metadata": {},
          "execution_count": 57
        }
      ]
    },
    {
      "cell_type": "code",
      "source": [
        "df1=df.drop(['School Name','Unnamed: 0','Notes','Tangerine Test ID','Student Number', 'Student Test Number','Skill to Improve 1 Notes','Skill to Improve 2 Notes','Skill to Improve 3 Notes',\n",
        "              'Teacher Number: Full Name','Skill to Improve 3','Recommended Next Steps', 'What Went Well?', 'Second Teacher Present','Control or Treatment?',\n",
        "       'School: School Name','Teacher Class Number', 'Teacher Assessment Number', 'Question 1', 'Question 2','Question 3','Question 4','Question 5','Question 6','Question 7','Question 8', 'Grade_y'],axis=1)"
      ],
      "metadata": {
        "id": "K_iu_EHPiDJn"
      },
      "execution_count": 58,
      "outputs": []
    },
    {
      "cell_type": "code",
      "source": [],
      "metadata": {
        "id": "9KTWZLFdiK-h"
      },
      "execution_count": 58,
      "outputs": []
    },
    {
      "cell_type": "code",
      "source": [
        "df_target=df1.filter(like='EGRA Section')"
      ],
      "metadata": {
        "id": "4iqLFnENkfG8"
      },
      "execution_count": 59,
      "outputs": []
    },
    {
      "cell_type": "code",
      "source": [
        "df_x = df1[df1.columns.drop(list(df.filter(regex='EGRA Section')))]"
      ],
      "metadata": {
        "id": "Cs514QbPmg1_"
      },
      "execution_count": 60,
      "outputs": []
    },
    {
      "cell_type": "code",
      "source": [
        "len(df_target.columns)"
      ],
      "metadata": {
        "colab": {
          "base_uri": "https://localhost:8080/"
        },
        "id": "o8Q5UPihJMtS",
        "outputId": "259d8024-1276-44ca-8951-59ff46a1fbc6"
      },
      "execution_count": 61,
      "outputs": [
        {
          "output_type": "execute_result",
          "data": {
            "text/plain": [
              "20"
            ]
          },
          "metadata": {},
          "execution_count": 61
        }
      ]
    },
    {
      "cell_type": "code",
      "source": [
        "df_x.columns"
      ],
      "metadata": {
        "colab": {
          "base_uri": "https://localhost:8080/"
        },
        "id": "ZpbVx8kgpu8O",
        "outputId": "33154d68-6ef5-4a7f-f34a-fab2cbac2662"
      },
      "execution_count": 62,
      "outputs": [
        {
          "output_type": "execute_result",
          "data": {
            "text/plain": [
              "Index(['Grade_x', 'School Year_x', 'Date of Test', 'Pre or Post?',\n",
              "       'Main Language Used In Exam', 'EGRA Question 1: Reading Habit',\n",
              "       'EGRA Last Book Read', 'Reads With Others',\n",
              "       'How Often, ReadsWithOthers', 'Student Gender', 'Class Number',\n",
              "       'Teacher Number: Teacher Number', 'Date', 'Q1 Rating or Answer',\n",
              "       'Q2 Rating', 'Q3 Rating or Answer', 'Q4 Rating or Answer',\n",
              "       'Q5 Rating or Answer', 'Q6 Rating or Answer', 'Q7 Rating', 'Q8 Rating',\n",
              "       'Skill to Improve 1', 'Skill to Improve 2', 'Minutes Spent Observing',\n",
              "       'Minutes Spent Coaching', 'Total Score', 'Teacher Number: Gender',\n",
              "       'Teacher Number: School Years in Teacher Support Program',\n",
              "       'Teacher Present', 'Average Students Enrolled', 'School Year_y'],\n",
              "      dtype='object')"
            ]
          },
          "metadata": {},
          "execution_count": 62
        }
      ]
    },
    {
      "cell_type": "code",
      "source": [
        "df_x_clean=df_x"
      ],
      "metadata": {
        "id": "cfpyPn0M2kDh"
      },
      "execution_count": 63,
      "outputs": []
    },
    {
      "cell_type": "code",
      "source": [
        "df_x_clean['Grade_x']=df_x['Grade_x'].str[8:9]"
      ],
      "metadata": {
        "id": "60unsivxrCwm"
      },
      "execution_count": 64,
      "outputs": []
    },
    {
      "cell_type": "code",
      "source": [
        "df_x_clean['Q1 Rating or Answer']"
      ],
      "metadata": {
        "colab": {
          "base_uri": "https://localhost:8080/"
        },
        "id": "CG0myZZHG0pw",
        "outputId": "e9ae1002-97ad-4c34-cf8e-da74e4f45c6b"
      },
      "execution_count": 65,
      "outputs": [
        {
          "output_type": "execute_result",
          "data": {
            "text/plain": [
              "0       2 - Approaching Effective\n",
              "1       2 - Approaching Effective\n",
              "2       2 - Approaching Effective\n",
              "3       2 - Approaching Effective\n",
              "4       2 - Approaching Effective\n",
              "                  ...            \n",
              "1052                3 - Effective\n",
              "1053                3 - Effective\n",
              "1054                3 - Effective\n",
              "1055                3 - Effective\n",
              "1056                3 - Effective\n",
              "Name: Q1 Rating or Answer, Length: 1057, dtype: object"
            ]
          },
          "metadata": {},
          "execution_count": 65
        }
      ]
    },
    {
      "cell_type": "code",
      "source": [
        "df_x_clean['Q1 Rating or Answer']=df_x['Q1 Rating or Answer'].str[0:1]\n",
        "df_x_clean['Q2 Rating'] = df_x['Q2 Rating'].str[0:1]\n",
        "df_x_clean['Q3 Rating or Answer']= df_x['Q3 Rating or Answer'].str[0:1]\n",
        "df_x_clean['Q4 Rating or Answer']= df_x['Q4 Rating or Answer'].str[0:1]\n",
        "df_x_clean['Q5 Rating or Answer']= df_x['Q5 Rating or Answer'].str[0:1]\n",
        "df_x_clean['Q6 Rating or Answer']= df_x['Q6 Rating or Answer'].str[0:1]\n",
        "df_x_clean['Q7 Rating']= df_x['Q7 Rating'].str[0:1]\n",
        "df_x_clean['Q8 Rating']= df_x['Q8 Rating'].str[0:1]"
      ],
      "metadata": {
        "id": "tzhnctECu0zf"
      },
      "execution_count": 66,
      "outputs": []
    },
    {
      "cell_type": "code",
      "source": [
        "len(df_x_clean.columns)"
      ],
      "metadata": {
        "colab": {
          "base_uri": "https://localhost:8080/"
        },
        "id": "E4PbHjUSxzT6",
        "outputId": "b6a502fe-2b55-4da7-e550-9de2d6f70d80"
      },
      "execution_count": 67,
      "outputs": [
        {
          "output_type": "execute_result",
          "data": {
            "text/plain": [
              "31"
            ]
          },
          "metadata": {},
          "execution_count": 67
        }
      ]
    },
    {
      "cell_type": "markdown",
      "source": [
        "Set the Rating to None when teacher not present"
      ],
      "metadata": {
        "id": "kPyLtwUu-n6g"
      }
    },
    {
      "cell_type": "code",
      "source": [
        "df_x_clean[['Q1 Rating or Answer','Q2 Rating','Q3 Rating or Answer','Q4 Rating or Answer','Q5 Rating or Answer','Q6 Rating or Answer','Q7 Rating','Q8 Rating']]=df_x_clean[['Q1 Rating or Answer','Q2 Rating','Q3 Rating or Answer','Q4 Rating or Answer','Q5 Rating or Answer','Q6 Rating or Answer','Q7 Rating','Q8 Rating']].fillna(0)"
      ],
      "metadata": {
        "id": "lwXO_laD3esY"
      },
      "execution_count": 68,
      "outputs": []
    },
    {
      "cell_type": "code",
      "source": [
        "df_x_clean[df_x_clean['Teacher Present']=='Not Present'].count()"
      ],
      "metadata": {
        "colab": {
          "base_uri": "https://localhost:8080/"
        },
        "id": "ceU2-z5crZLA",
        "outputId": "e371faf4-d949-4920-9eed-97a4f1e00e6d"
      },
      "execution_count": 69,
      "outputs": [
        {
          "output_type": "execute_result",
          "data": {
            "text/plain": [
              "Grade_x                                                    277\n",
              "School Year_x                                              277\n",
              "Date of Test                                               277\n",
              "Pre or Post?                                               277\n",
              "Main Language Used In Exam                                 272\n",
              "EGRA Question 1: Reading Habit                             277\n",
              "EGRA Last Book Read                                        277\n",
              "Reads With Others                                          277\n",
              "How Often, ReadsWithOthers                                 277\n",
              "Student Gender                                             277\n",
              "Class Number                                               277\n",
              "Teacher Number: Teacher Number                             277\n",
              "Date                                                       277\n",
              "Q1 Rating or Answer                                        277\n",
              "Q2 Rating                                                  277\n",
              "Q3 Rating or Answer                                        277\n",
              "Q4 Rating or Answer                                        277\n",
              "Q5 Rating or Answer                                        277\n",
              "Q6 Rating or Answer                                        277\n",
              "Q7 Rating                                                  277\n",
              "Q8 Rating                                                  277\n",
              "Skill to Improve 1                                           0\n",
              "Skill to Improve 2                                           0\n",
              "Minutes Spent Observing                                     20\n",
              "Minutes Spent Coaching                                      20\n",
              "Total Score                                                277\n",
              "Teacher Number: Gender                                     277\n",
              "Teacher Number: School Years in Teacher Support Program    277\n",
              "Teacher Present                                            277\n",
              "Average Students Enrolled                                  277\n",
              "School Year_y                                              277\n",
              "dtype: int64"
            ]
          },
          "metadata": {},
          "execution_count": 69
        }
      ]
    },
    {
      "cell_type": "code",
      "source": [
        "df_x_clean['Q1 Rating or Answer'].value_counts()"
      ],
      "metadata": {
        "colab": {
          "base_uri": "https://localhost:8080/"
        },
        "id": "oRp94pRpuI3x",
        "outputId": "3c5ad5d2-9e02-4975-bab1-d6241e25baf5"
      },
      "execution_count": 70,
      "outputs": [
        {
          "output_type": "execute_result",
          "data": {
            "text/plain": [
              "3    474\n",
              "2    306\n",
              "0    277\n",
              "Name: Q1 Rating or Answer, dtype: int64"
            ]
          },
          "metadata": {},
          "execution_count": 70
        }
      ]
    },
    {
      "cell_type": "markdown",
      "source": [
        "Minutes mean"
      ],
      "metadata": {
        "id": "ultN1q2l-hbq"
      }
    },
    {
      "cell_type": "code",
      "source": [],
      "metadata": {
        "id": "P8vMWA9EvZkX"
      },
      "execution_count": 70,
      "outputs": []
    },
    {
      "cell_type": "code",
      "source": [
        "mean_min=df_x_clean[['Minutes Spent Observing','Minutes Spent Coaching']].mean()"
      ],
      "metadata": {
        "id": "od-zFDMz3scm"
      },
      "execution_count": 71,
      "outputs": []
    },
    {
      "cell_type": "code",
      "source": [
        "df_x_clean[['Minutes Spent Observing','Minutes Spent Coaching']]=df_x_clean[['Minutes Spent Observing','Minutes Spent Coaching']].fillna(mean_min)"
      ],
      "metadata": {
        "id": "30KrsABV8Mby"
      },
      "execution_count": 72,
      "outputs": []
    },
    {
      "cell_type": "markdown",
      "source": [
        "Skills to None"
      ],
      "metadata": {
        "id": "t0B-IgSZ-ee4"
      }
    },
    {
      "cell_type": "code",
      "source": [
        "df_x_clean[['Skill to Improve 1','Skill to Improve 2']]=df_x_clean[['Skill to Improve 1','Skill to Improve 2']].fillna(\"None\")"
      ],
      "metadata": {
        "id": "_HLK2d6584Kx"
      },
      "execution_count": 73,
      "outputs": []
    },
    {
      "cell_type": "code",
      "source": [
        "df_x_clean[['Main Language Used In Exam']].value_counts()"
      ],
      "metadata": {
        "colab": {
          "base_uri": "https://localhost:8080/"
        },
        "id": "82fvzqTeiz4J",
        "outputId": "d67f30d3-8b85-41e3-b44a-5cd3fee300fc"
      },
      "execution_count": 74,
      "outputs": [
        {
          "output_type": "execute_result",
          "data": {
            "text/plain": [
              "Main Language Used In Exam\n",
              "English; Ewe                  776\n",
              "English                       167\n",
              "Ewe                            95\n",
              "dtype: int64"
            ]
          },
          "metadata": {},
          "execution_count": 74
        }
      ]
    },
    {
      "cell_type": "code",
      "source": [
        "df_x_clean[['Main Language Used In Exam']]=df_x_clean[['Main Language Used In Exam']].fillna(\"English; Ewe\")"
      ],
      "metadata": {
        "id": "JkR5sbl2j2D4"
      },
      "execution_count": 75,
      "outputs": []
    },
    {
      "cell_type": "code",
      "source": [
        "#ns.pairplot(df1,hue=\"Pre or Post?\")"
      ],
      "metadata": {
        "id": "M1sTDa3z-dsj"
      },
      "execution_count": 76,
      "outputs": []
    },
    {
      "cell_type": "code",
      "source": [
        "df_x_clean.columns"
      ],
      "metadata": {
        "colab": {
          "base_uri": "https://localhost:8080/"
        },
        "id": "W1AsvXSvCGKC",
        "outputId": "9e3b1988-84b5-4fb8-cc4c-fd4ca795c5f8"
      },
      "execution_count": 77,
      "outputs": [
        {
          "output_type": "execute_result",
          "data": {
            "text/plain": [
              "Index(['Grade_x', 'School Year_x', 'Date of Test', 'Pre or Post?',\n",
              "       'Main Language Used In Exam', 'EGRA Question 1: Reading Habit',\n",
              "       'EGRA Last Book Read', 'Reads With Others',\n",
              "       'How Often, ReadsWithOthers', 'Student Gender', 'Class Number',\n",
              "       'Teacher Number: Teacher Number', 'Date', 'Q1 Rating or Answer',\n",
              "       'Q2 Rating', 'Q3 Rating or Answer', 'Q4 Rating or Answer',\n",
              "       'Q5 Rating or Answer', 'Q6 Rating or Answer', 'Q7 Rating', 'Q8 Rating',\n",
              "       'Skill to Improve 1', 'Skill to Improve 2', 'Minutes Spent Observing',\n",
              "       'Minutes Spent Coaching', 'Total Score', 'Teacher Number: Gender',\n",
              "       'Teacher Number: School Years in Teacher Support Program',\n",
              "       'Teacher Present', 'Average Students Enrolled', 'School Year_y'],\n",
              "      dtype='object')"
            ]
          },
          "metadata": {},
          "execution_count": 77
        }
      ]
    },
    {
      "cell_type": "code",
      "source": [
        "df_x_clean.count()"
      ],
      "metadata": {
        "colab": {
          "base_uri": "https://localhost:8080/"
        },
        "id": "pfivmIOwiRdr",
        "outputId": "ec4351da-3501-4126-9813-0398e9549bc3"
      },
      "execution_count": 78,
      "outputs": [
        {
          "output_type": "execute_result",
          "data": {
            "text/plain": [
              "Grade_x                                                    1057\n",
              "School Year_x                                              1057\n",
              "Date of Test                                               1057\n",
              "Pre or Post?                                               1057\n",
              "Main Language Used In Exam                                 1057\n",
              "EGRA Question 1: Reading Habit                             1057\n",
              "EGRA Last Book Read                                        1057\n",
              "Reads With Others                                          1057\n",
              "How Often, ReadsWithOthers                                 1057\n",
              "Student Gender                                             1057\n",
              "Class Number                                               1057\n",
              "Teacher Number: Teacher Number                             1057\n",
              "Date                                                       1057\n",
              "Q1 Rating or Answer                                        1057\n",
              "Q2 Rating                                                  1057\n",
              "Q3 Rating or Answer                                        1057\n",
              "Q4 Rating or Answer                                        1057\n",
              "Q5 Rating or Answer                                        1057\n",
              "Q6 Rating or Answer                                        1057\n",
              "Q7 Rating                                                  1057\n",
              "Q8 Rating                                                  1057\n",
              "Skill to Improve 1                                         1057\n",
              "Skill to Improve 2                                         1057\n",
              "Minutes Spent Observing                                    1057\n",
              "Minutes Spent Coaching                                     1057\n",
              "Total Score                                                1057\n",
              "Teacher Number: Gender                                     1057\n",
              "Teacher Number: School Years in Teacher Support Program    1057\n",
              "Teacher Present                                            1057\n",
              "Average Students Enrolled                                  1057\n",
              "School Year_y                                              1057\n",
              "dtype: int64"
            ]
          },
          "metadata": {},
          "execution_count": 78
        }
      ]
    },
    {
      "cell_type": "code",
      "source": [
        "df_x_clean['Teacher Number: School Years in Teacher Support Program']=df_x_clean['Teacher Number: School Years in Teacher Support Program'].str.count('-')"
      ],
      "metadata": {
        "id": "L_Em7Glp0PmR"
      },
      "execution_count": 79,
      "outputs": []
    },
    {
      "cell_type": "code",
      "source": [
        "df_q=df_x_clean.filter(like='Rating')"
      ],
      "metadata": {
        "id": "uJlU54lLKTXF"
      },
      "execution_count": 80,
      "outputs": []
    },
    {
      "cell_type": "code",
      "source": [
        "df_q = df_q.astype('int')"
      ],
      "metadata": {
        "id": "qbH8vIDnMC3x"
      },
      "execution_count": 81,
      "outputs": []
    },
    {
      "cell_type": "code",
      "source": [
        "# sns.pairplot(df_q)\n"
      ],
      "metadata": {
        "id": "zHjPiPG0GjMU"
      },
      "execution_count": 82,
      "outputs": []
    },
    {
      "cell_type": "code",
      "source": [
        "df_target['EGRA Section 1 Total Score']=df_target['EGRA Section 1a Score']+df_target['EGRA Section 1b Score']+df_target['EGRA Section 1c Score']\n",
        "df_target['EGRA Section 6 Total Score']=df_target['EGRA Section 6 Written Words Correct']+df_target['EGRA Section 6 Correct Space/Direction']+df_target['EGRA Section 6 Correct Punctuation']+df_target['EGRA Section 6 Correct Use of Capitals']"
      ],
      "metadata": {
        "id": "f2-9lXc2F-aj"
      },
      "execution_count": 83,
      "outputs": []
    },
    {
      "cell_type": "code",
      "source": [
        "df_target['EGRA Section 3 LPM']=df_target['EGRA Section 3 LPM'].fillna(df_target['EGRA Section 3 LPM'].mean())"
      ],
      "metadata": {
        "id": "I1w9cvsDbsKN"
      },
      "execution_count": 84,
      "outputs": []
    },
    {
      "cell_type": "code",
      "source": [
        "df_target.count()"
      ],
      "metadata": {
        "colab": {
          "base_uri": "https://localhost:8080/"
        },
        "id": "fJiYMBLtx3aB",
        "outputId": "6210f53f-bb54-4c47-9490-61b9d2207ebc"
      },
      "execution_count": 85,
      "outputs": [
        {
          "output_type": "execute_result",
          "data": {
            "text/plain": [
              "EGRA Section 1a Score                     1057\n",
              "EGRA Section 1b Score                     1057\n",
              "EGRA Section 1c Score                     1057\n",
              "EGRA Section 2a Score                     1057\n",
              "EGRA Section 2b Score                     1057\n",
              "EGRA Section 3 Letters Correct            1057\n",
              "EGRA Section 3 Time Completed             1055\n",
              "EGRA Section 3 LPM                        1057\n",
              "EGRA Section 4 Words Correct              1057\n",
              "EGRA Section 4 Time Completed             1052\n",
              "EGRA Section 4: WPM                       1057\n",
              "EGRA Section 5 Words Correct              1057\n",
              "EGRA Section 5 Time Completed             1054\n",
              "EGRA Section 5 CWPM                       1057\n",
              "EGRA Section 5 Questions Correct          1057\n",
              "EGRA Section 6 Written Words Correct      1057\n",
              "EGRA Section 6 Correct Space/Direction    1057\n",
              "EGRA Section 6 Correct Punctuation        1057\n",
              "EGRA Section 6 Correct Use of Capitals    1057\n",
              "EGRA Section 7a Score                     1057\n",
              "EGRA Section 1 Total Score                1057\n",
              "EGRA Section 6 Total Score                1057\n",
              "dtype: int64"
            ]
          },
          "metadata": {},
          "execution_count": 85
        }
      ]
    },
    {
      "cell_type": "code",
      "source": [
        "df_target_unique=df_target"
      ],
      "metadata": {
        "id": "8_ffyaZeGtE2"
      },
      "execution_count": 86,
      "outputs": []
    },
    {
      "cell_type": "code",
      "source": [
        "df_target_unique.columns"
      ],
      "metadata": {
        "colab": {
          "base_uri": "https://localhost:8080/"
        },
        "id": "gtypAXlva0A9",
        "outputId": "8cd56017-fc74-45aa-98fe-e2db23d9a62f"
      },
      "execution_count": 87,
      "outputs": [
        {
          "output_type": "execute_result",
          "data": {
            "text/plain": [
              "Index(['EGRA Section 1a Score', 'EGRA Section 1b Score',\n",
              "       'EGRA Section 1c Score', 'EGRA Section 2a Score',\n",
              "       'EGRA Section 2b Score', 'EGRA Section 3 Letters Correct',\n",
              "       'EGRA Section 3 Time Completed', 'EGRA Section 3 LPM',\n",
              "       'EGRA Section 4 Words Correct', 'EGRA Section 4 Time Completed',\n",
              "       'EGRA Section 4: WPM', 'EGRA Section 5 Words Correct',\n",
              "       'EGRA Section 5 Time Completed', 'EGRA Section 5 CWPM',\n",
              "       'EGRA Section 5 Questions Correct',\n",
              "       'EGRA Section 6 Written Words Correct',\n",
              "       'EGRA Section 6 Correct Space/Direction',\n",
              "       'EGRA Section 6 Correct Punctuation',\n",
              "       'EGRA Section 6 Correct Use of Capitals', 'EGRA Section 7a Score',\n",
              "       'EGRA Section 1 Total Score', 'EGRA Section 6 Total Score'],\n",
              "      dtype='object')"
            ]
          },
          "metadata": {},
          "execution_count": 87
        }
      ]
    },
    {
      "cell_type": "code",
      "source": [
        "# plt.figure(figsize=(16, 6))\n",
        "\n",
        "# sns.heatmap(df_target_unique.corr(),annot=True);\n"
      ],
      "metadata": {
        "id": "VXfTvbyPHXDm"
      },
      "execution_count": 88,
      "outputs": []
    },
    {
      "cell_type": "code",
      "source": [
        "plt.hist(df_x_clean['Average Students Enrolled'])\n",
        "plt.title(\"Distribution of Average Students Enrolled\")\n",
        "plt.show()\n"
      ],
      "metadata": {
        "colab": {
          "base_uri": "https://localhost:8080/",
          "height": 284
        },
        "id": "eLfpizmYZ6e5",
        "outputId": "515c9f61-5165-4a73-d361-1ce11e1a0111"
      },
      "execution_count": 89,
      "outputs": [
        {
          "output_type": "display_data",
          "data": {
            "text/plain": [
              "<Figure size 432x288 with 1 Axes>"
            ],
            "image/png": "[encoded data removed]"
          },
          "metadata": {}
        }
      ]
    },
    {
      "cell_type": "code",
      "source": [
        "df_target.columns"
      ],
      "metadata": {
        "colab": {
          "base_uri": "https://localhost:8080/"
        },
        "id": "QlhQ5e8Gdv7w",
        "outputId": "1f1d05ae-9dca-4926-eae8-c0e1dab0a4c0"
      },
      "execution_count": 90,
      "outputs": [
        {
          "output_type": "execute_result",
          "data": {
            "text/plain": [
              "Index(['EGRA Section 1a Score', 'EGRA Section 1b Score',\n",
              "       'EGRA Section 1c Score', 'EGRA Section 2a Score',\n",
              "       'EGRA Section 2b Score', 'EGRA Section 3 Letters Correct',\n",
              "       'EGRA Section 3 Time Completed', 'EGRA Section 3 LPM',\n",
              "       'EGRA Section 4 Words Correct', 'EGRA Section 4 Time Completed',\n",
              "       'EGRA Section 4: WPM', 'EGRA Section 5 Words Correct',\n",
              "       'EGRA Section 5 Time Completed', 'EGRA Section 5 CWPM',\n",
              "       'EGRA Section 5 Questions Correct',\n",
              "       'EGRA Section 6 Written Words Correct',\n",
              "       'EGRA Section 6 Correct Space/Direction',\n",
              "       'EGRA Section 6 Correct Punctuation',\n",
              "       'EGRA Section 6 Correct Use of Capitals', 'EGRA Section 7a Score',\n",
              "       'EGRA Section 1 Total Score', 'EGRA Section 6 Total Score'],\n",
              "      dtype='object')"
            ]
          },
          "metadata": {},
          "execution_count": 90
        }
      ]
    },
    {
      "cell_type": "code",
      "source": [
        "df_x_clean.columns"
      ],
      "metadata": {
        "colab": {
          "base_uri": "https://localhost:8080/"
        },
        "id": "lAZw0ZYw2MZE",
        "outputId": "a14e57cf-70d8-4772-b8f0-b99625a70a25"
      },
      "execution_count": 91,
      "outputs": [
        {
          "output_type": "execute_result",
          "data": {
            "text/plain": [
              "Index(['Grade_x', 'School Year_x', 'Date of Test', 'Pre or Post?',\n",
              "       'Main Language Used In Exam', 'EGRA Question 1: Reading Habit',\n",
              "       'EGRA Last Book Read', 'Reads With Others',\n",
              "       'How Often, ReadsWithOthers', 'Student Gender', 'Class Number',\n",
              "       'Teacher Number: Teacher Number', 'Date', 'Q1 Rating or Answer',\n",
              "       'Q2 Rating', 'Q3 Rating or Answer', 'Q4 Rating or Answer',\n",
              "       'Q5 Rating or Answer', 'Q6 Rating or Answer', 'Q7 Rating', 'Q8 Rating',\n",
              "       'Skill to Improve 1', 'Skill to Improve 2', 'Minutes Spent Observing',\n",
              "       'Minutes Spent Coaching', 'Total Score', 'Teacher Number: Gender',\n",
              "       'Teacher Number: School Years in Teacher Support Program',\n",
              "       'Teacher Present', 'Average Students Enrolled', 'School Year_y'],\n",
              "      dtype='object')"
            ]
          },
          "metadata": {},
          "execution_count": 91
        }
      ]
    },
    {
      "cell_type": "code",
      "source": [
        "df_x_clean['How Often, ReadsWithOthers'].astype('category')"
      ],
      "metadata": {
        "colab": {
          "base_uri": "https://localhost:8080/"
        },
        "id": "n5cd4UvR4Jpi",
        "outputId": "93052e9c-cb60-41fb-a5e5-2bc6686fa5a9"
      },
      "execution_count": 92,
      "outputs": [
        {
          "output_type": "execute_result",
          "data": {
            "text/plain": [
              "0       1\n",
              "1       3\n",
              "2       1\n",
              "3       1\n",
              "4       2\n",
              "       ..\n",
              "1052    2\n",
              "1053    1\n",
              "1054    3\n",
              "1055    3\n",
              "1056    3\n",
              "Name: How Often, ReadsWithOthers, Length: 1057, dtype: category\n",
              "Categories (5, int64): [0, 1, 2, 3, 4]"
            ]
          },
          "metadata": {},
          "execution_count": 92
        }
      ]
    },
    {
      "cell_type": "code",
      "source": [
        "fig, axes = plt.subplots(figsize=(15,10), nrows=2, ncols=2,sharey=True)\n",
        "\n",
        "sns.boxplot(x=df_x_clean['How Often, ReadsWithOthers'],y=df_x_clean['Minutes Spent Observing'],ax=axes[0,0])\n",
        "sns.boxplot(x=df_x_clean['How Often, ReadsWithOthers'],y=df_x_clean['Minutes Spent Coaching'],ax=axes[0,1])\n",
        "sns.boxplot(x=df_x_clean['Reads With Others'],y=df_x_clean['Minutes Spent Observing'],ax=axes[1,0])\n",
        "sns.boxplot(x=df_x_clean['Reads With Others'],y=df_x_clean['Minutes Spent Coaching'],ax=axes[1,1])\n",
        "\n",
        "plt.show()"
      ],
      "metadata": {
        "id": "AcT7GGwwmdHn",
        "colab": {
          "base_uri": "https://localhost:8080/",
          "height": 611
        },
        "outputId": "ce5fc596-99fb-40a8-f5d2-4a7746eef7e9"
      },
      "execution_count": 93,
      "outputs": [
        {
          "output_type": "display_data",
          "data": {
            "text/plain": [
              "<Figure size 1080x720 with 4 Axes>"
            ],
            "image/png": "[encoded data removed]"
          },
          "metadata": {}
        }
      ]
    },
    {
      "cell_type": "code",
      "source": [
        " sns.boxplot(x=df_x_clean['Reads With Others'],y=df_x_clean['Minutes Spent Observing'])\n",
        "sns.set(style=\"darkgrid\")\n"
      ],
      "metadata": {
        "colab": {
          "base_uri": "https://localhost:8080/",
          "height": 285
        },
        "id": "Yz3XLuMy1Zhl",
        "outputId": "9f1e7d07-4f04-4b70-94d8-7c4fc979ceb8"
      },
      "execution_count": 94,
      "outputs": [
        {
          "output_type": "display_data",
          "data": {
            "text/plain": [
              "<Figure size 432x288 with 1 Axes>"
            ],
            "image/png": "[encoded data removed]"
          },
          "metadata": {}
        }
      ]
    },
    {
      "cell_type": "code",
      "source": [
        "plt.hist(df_x_clean['Teacher Number: School Years in Teacher Support Program'])\n",
        "plt.title(\"School Years in Teacher Support Program\")\n",
        "plt.xticks(range(6))\n",
        "plt.show()"
      ],
      "metadata": {
        "colab": {
          "base_uri": "https://localhost:8080/",
          "height": 284
        },
        "id": "Ksgo8f0h5RXv",
        "outputId": "33ddff7b-23e2-4adf-a84d-0109734fa8f0"
      },
      "execution_count": 95,
      "outputs": [
        {
          "output_type": "display_data",
          "data": {
            "text/plain": [
              "<Figure size 432x288 with 1 Axes>"
            ],
            "image/png": "[encoded data removed]"
          },
          "metadata": {}
        }
      ]
    },
    {
      "cell_type": "code",
      "source": [
        "plt.hist(df_x_clean.groupby('Class Number')['Average Students Enrolled'].first())\n",
        "plt.title(\"Average Students Enrolled in each Class\")\n",
        "plt.show()"
      ],
      "metadata": {
        "colab": {
          "base_uri": "https://localhost:8080/",
          "height": 284
        },
        "id": "GLQ4VX2L74yx",
        "outputId": "38877166-26c1-4967-ebcf-7c3b8054f7d3"
      },
      "execution_count": 96,
      "outputs": [
        {
          "output_type": "display_data",
          "data": {
            "text/plain": [
              "<Figure size 432x288 with 1 Axes>"
            ],
            "image/png": "[encoded data removed]"
          },
          "metadata": {}
        }
      ]
    },
    {
      "cell_type": "code",
      "source": [
        "sns.scatterplot(df_x_clean['Minutes Spent Coaching'],df_x_clean['Minutes Spent Observing'],s=50,hue=df_x_clean['Teacher Number: Gender'])"
      ],
      "metadata": {
        "id": "HlrTaGAE6EEQ",
        "colab": {
          "base_uri": "https://localhost:8080/",
          "height": 302
        },
        "outputId": "41bc425a-0483-4b68-aaec-c15724aacb3c"
      },
      "execution_count": 97,
      "outputs": [
        {
          "output_type": "execute_result",
          "data": {
            "text/plain": [
              "<matplotlib.axes._subplots.AxesSubplot at 0x7f17a91f1400>"
            ]
          },
          "metadata": {},
          "execution_count": 97
        },
        {
          "output_type": "display_data",
          "data": {
            "text/plain": [
              "<Figure size 432x288 with 1 Axes>"
            ],
            "image/png": "[encoded data removed]"
          },
          "metadata": {}
        }
      ]
    },
    {
      "cell_type": "code",
      "source": [
        "sns.distplot(df_x_clean['Total Score'])"
      ],
      "metadata": {
        "id": "rFFUKoQ-670m",
        "colab": {
          "base_uri": "https://localhost:8080/",
          "height": 302
        },
        "outputId": "f041d69f-7a20-4704-a871-2a953880ea4a"
      },
      "execution_count": 45,
      "outputs": [
        {
          "output_type": "execute_result",
          "data": {
            "text/plain": [
              "<matplotlib.axes._subplots.AxesSubplot at 0x7f17a933e070>"
            ]
          },
          "metadata": {},
          "execution_count": 45
        },
        {
          "output_type": "display_data",
          "data": {
            "text/plain": [
              "<Figure size 432x288 with 1 Axes>"
            ],
            "image/png": "[encoded data removed]"
          },
          "metadata": {}
        }
      ]
    },
    {
      "cell_type": "code",
      "source": [
        "df_x_clean.info()"
      ],
      "metadata": {
        "colab": {
          "base_uri": "https://localhost:8080/"
        },
        "id": "2NOHbchmmxgG",
        "outputId": "888f72f9-2028-40be-eac8-cdbc5fd06ced"
      },
      "execution_count": 46,
      "outputs": [
        {
          "output_type": "stream",
          "name": "stdout",
          "text": [
            "<class 'pandas.core.frame.DataFrame'>\n",
            "RangeIndex: 1057 entries, 0 to 1056\n",
            "Data columns (total 31 columns):\n",
            " #   Column                                                   Non-Null Count  Dtype  \n",
            "---  ------                                                   --------------  -----  \n",
            " 0   Grade_x                                                  1057 non-null   object \n",
            " 1   School Year_x                                            1057 non-null   object \n",
            " 2   Date of Test                                             1057 non-null   object \n",
            " 3   Pre or Post?                                             1057 non-null   object \n",
            " 4   Main Language Used In Exam                               1057 non-null   object \n",
            " 5   EGRA Question 1: Reading Habit                           1057 non-null   object \n",
            " 6   EGRA Last Book Read                                      1057 non-null   object \n",
            " 7   Reads With Others                                        1057 non-null   int64  \n",
            " 8   How Often, ReadsWithOthers                               1057 non-null   int64  \n",
            " 9   Student Gender                                           1057 non-null   object \n",
            " 10  Class Number                                             1057 non-null   object \n",
            " 11  Teacher Number: Teacher Number                           1057 non-null   object \n",
            " 12  Date                                                     1057 non-null   object \n",
            " 13  Q1 Rating or Answer                                      1057 non-null   object \n",
            " 14  Q2 Rating                                                1057 non-null   object \n",
            " 15  Q3 Rating or Answer                                      1057 non-null   object \n",
            " 16  Q4 Rating or Answer                                      1057 non-null   object \n",
            " 17  Q5 Rating or Answer                                      1057 non-null   object \n",
            " 18  Q6 Rating or Answer                                      1057 non-null   object \n",
            " 19  Q7 Rating                                                1057 non-null   object \n",
            " 20  Q8 Rating                                                1057 non-null   object \n",
            " 21  Skill to Improve 1                                       1057 non-null   object \n",
            " 22  Skill to Improve 2                                       1057 non-null   object \n",
            " 23  Minutes Spent Observing                                  1057 non-null   float64\n",
            " 24  Minutes Spent Coaching                                   1057 non-null   float64\n",
            " 25  Total Score                                              1057 non-null   int64  \n",
            " 26  Teacher Number: Gender                                   1057 non-null   object \n",
            " 27  Teacher Number: School Years in Teacher Support Program  1057 non-null   int64  \n",
            " 28  Teacher Present                                          1057 non-null   object \n",
            " 29  Average Students Enrolled                                1057 non-null   int64  \n",
            " 30  School Year_y                                            1057 non-null   object \n",
            "dtypes: float64(2), int64(5), object(24)\n",
            "memory usage: 256.1+ KB\n"
          ]
        }
      ]
    },
    {
      "cell_type": "code",
      "source": [],
      "metadata": {
        "id": "8hSa1ITrn8sm"
      },
      "execution_count": 46,
      "outputs": []
    },
    {
      "cell_type": "markdown",
      "source": [
        "1. Create a match between the teacher data and Student data\n",
        "  - what join key\n",
        "2. Clean the Data\n",
        "  - fillna\n",
        "  - striping unwanted values\n",
        "  - creating new cal columns\n",
        "  - One hot encoding - desirable\n",
        "  - normalization -desirable\n",
        "3. Models\n",
        "  - Teacher score analysis - student performance vs teacher,student feature except skills\n",
        "  - skill analysis - student performance vs skill analysis\n",
        "  - course effectiveness - teacher performance vs school years in the program"
      ],
      "metadata": {
        "id": "BONYbo7NGTVb"
      }
    },
    {
      "cell_type": "code",
      "source": [
        "# plt.hist(df_x_clean.groupby('Teacher Number: Teacher Number')['Teacher Number: School Years in Teacher Support Program'].first())\n",
        "# plt.title(\"School Years in Teacher Support Program\")\n",
        "# plt.xticks(range(6))\n",
        "# plt.xlabel('Year')\n",
        "# plt.show()"
      ],
      "metadata": {
        "id": "jhWjQ00CHxeM"
      },
      "execution_count": 47,
      "outputs": []
    },
    {
      "cell_type": "code",
      "source": [],
      "metadata": {
        "id": "y7nj6HS64Qpe"
      },
      "execution_count": 47,
      "outputs": []
    },
    {
      "cell_type": "markdown",
      "source": [
        "Meeting\n",
        "- Comprehenseive score different needed?\n",
        "- how can we handle diff units points/min points"
      ],
      "metadata": {
        "id": "dDAtzFlrO4_O"
      }
    },
    {
      "cell_type": "markdown",
      "source": [
        "**Teacher score analysis - student performance vs teacher,student feature except skills** by wenxi chen\n",
        "- eg: https://machinelearningmastery.com/calculate-feature-importance-with-python/\n",
        "- Normalizing+one-hotcoding\n",
        "- EDA in combination"
      ],
      "metadata": {
        "id": "w3vMk6WgO70D"
      }
    },
    {
      "cell_type": "markdown",
      "source": [
        "**skill analysis - student performance vs skill analysis**\n",
        "- Linear regression \n",
        "- one hot encoding mandotary\\\n",
        "EDA\n",
        "- EDA 2 plots section 1 total score vs skill1"
      ],
      "metadata": {
        "id": "_BnVYNe2RFBa"
      }
    },
    {
      "cell_type": "code",
      "source": [],
      "metadata": {
        "id": "oQHYCCFhO8_b"
      },
      "execution_count": 47,
      "outputs": []
    },
    {
      "cell_type": "markdown",
      "source": [
        "**course effectiveness - teacher performance vs school years in the program**\n",
        "Linear regression - school years+ when we add others how is it working out\n",
        "\n",
        "EDA plots\n"
      ],
      "metadata": {
        "id": "vePqUBwPSuE6"
      }
    },
    {
      "cell_type": "markdown",
      "source": [
        "COMPRHENSIVE Test\n",
        "STUDENT - Wenxi + Jane\n",
        "SKILL - George\n",
        "COURSE - Zoe\n",
        "\n",
        "EDA - Sydney + Jane\n",
        "PPT - 5\n",
        "FORMAT-\n"
      ],
      "metadata": {
        "id": "kwti2TNFUWuw"
      }
    },
    {
      "cell_type": "code",
      "source": [
        "df_target['EGRA Section 6 Total Score']"
      ],
      "metadata": {
        "id": "zJTjsvETTM0j",
        "colab": {
          "base_uri": "https://localhost:8080/"
        },
        "outputId": "ea85715d-e3e1-4990-db38-206c61fab2e9"
      },
      "execution_count": 48,
      "outputs": [
        {
          "output_type": "execute_result",
          "data": {
            "text/plain": [
              "0       1\n",
              "1       2\n",
              "2       1\n",
              "3       2\n",
              "4       2\n",
              "       ..\n",
              "1052    2\n",
              "1053    1\n",
              "1054    2\n",
              "1055    0\n",
              "1056    2\n",
              "Name: EGRA Section 6 Total Score, Length: 1057, dtype: int64"
            ]
          },
          "metadata": {},
          "execution_count": 48
        }
      ]
    },
    {
      "cell_type": "code",
      "source": [
        "df_target['EGRA Section 5 CWPM']"
      ],
      "metadata": {
        "colab": {
          "base_uri": "https://localhost:8080/"
        },
        "id": "a8QcW1b4VGOh",
        "outputId": "1d14d50d-6aa3-49b4-8cd0-6e3162664623"
      },
      "execution_count": 49,
      "outputs": [
        {
          "output_type": "execute_result",
          "data": {
            "text/plain": [
              "0       93\n",
              "1       30\n",
              "2       50\n",
              "3       24\n",
              "4       25\n",
              "        ..\n",
              "1052     1\n",
              "1053     4\n",
              "1054     0\n",
              "1055     0\n",
              "1056     0\n",
              "Name: EGRA Section 5 CWPM, Length: 1057, dtype: int64"
            ]
          },
          "metadata": {},
          "execution_count": 49
        }
      ]
    },
    {
      "cell_type": "code",
      "source": [
        "# linear regression feature importance\n",
        "from sklearn.datasets import make_regression\n",
        "from sklearn.linear_model import LinearRegression\n",
        "from sklearn.model_selection import train_test_split\n",
        "from matplotlib import pyplot"
      ],
      "metadata": {
        "id": "u63FMmVwvgM1"
      },
      "execution_count": 50,
      "outputs": []
    },
    {
      "cell_type": "code",
      "source": [
        "df_x_clean"
      ],
      "metadata": {
        "colab": {
          "base_uri": "https://localhost:8080/",
          "height": 783
        },
        "id": "7DZQ3UoPR_O_",
        "outputId": "741cdd14-d3be-4d39-9001-d43956ca8859"
      },
      "execution_count": 51,
      "outputs": [
        {
          "output_type": "execute_result",
          "data": {
            "text/plain": [
              "     Grade_x School Year_x Date of Test Pre or Post?  \\\n",
              "0          4     2019-2020      10/8/19          Pre   \n",
              "1          4     2019-2020     10/10/19          Pre   \n",
              "2          4     2019-2020     10/10/19          Pre   \n",
              "3          4     2019-2020      10/7/19          Pre   \n",
              "4          4     2019-2020      10/9/19          Pre   \n",
              "...      ...           ...          ...          ...   \n",
              "1052       2     2019-2020     10/10/19          Pre   \n",
              "1053       2     2019-2020      10/9/19          Pre   \n",
              "1054       2     2019-2020     10/10/19          Pre   \n",
              "1055       2     2019-2020     10/10/19          Pre   \n",
              "1056       2     2019-2020      10/8/19          Pre   \n",
              "\n",
              "     Main Language Used In Exam EGRA Question 1: Reading Habit  \\\n",
              "0                  English; Ewe                            Yes   \n",
              "1                  English; Ewe                            Yes   \n",
              "2                  English; Ewe                            Yes   \n",
              "3                       English                            Yes   \n",
              "4                  English; Ewe                            Yes   \n",
              "...                         ...                            ...   \n",
              "1052                        Ewe                             No   \n",
              "1053               English; Ewe                            Yes   \n",
              "1054                        Ewe                            Yes   \n",
              "1055               English; Ewe                            Yes   \n",
              "1056                        Ewe                            Yes   \n",
              "\n",
              "     EGRA Last Book Read  Reads With Others  How Often, ReadsWithOthers  \\\n",
              "0                    Yes                  1                           1   \n",
              "1                     No                  1                           3   \n",
              "2                     No                  1                           1   \n",
              "3                     No                  1                           1   \n",
              "4                    Yes                  0                           2   \n",
              "...                  ...                ...                         ...   \n",
              "1052                  No                  0                           2   \n",
              "1053                  No                  1                           1   \n",
              "1054                  No                  1                           3   \n",
              "1055                 Yes                  1                           3   \n",
              "1056                  No                  1                           3   \n",
              "\n",
              "     Student Gender  ...        Skill to Improve 1 Skill to Improve 2  \\\n",
              "0              Male  ...               Preparation        Preparation   \n",
              "1            Female  ...               Preparation        Preparation   \n",
              "2            Female  ...               Preparation        Preparation   \n",
              "3            Female  ...               Preparation        Preparation   \n",
              "4            Female  ...               Preparation        Preparation   \n",
              "...             ...  ...                       ...                ...   \n",
              "1052         Female  ...  Communication of Content  Lesson Objectives   \n",
              "1053         Female  ...  Communication of Content  Lesson Objectives   \n",
              "1054           Male  ...  Communication of Content  Lesson Objectives   \n",
              "1055           Male  ...  Communication of Content  Lesson Objectives   \n",
              "1056         Female  ...  Communication of Content  Lesson Objectives   \n",
              "\n",
              "     Minutes Spent Observing Minutes Spent Coaching Total Score  \\\n",
              "0                       25.0                    6.0          16   \n",
              "1                       25.0                    6.0          16   \n",
              "2                       25.0                    6.0          16   \n",
              "3                       25.0                    6.0          16   \n",
              "4                       25.0                    6.0          16   \n",
              "...                      ...                    ...         ...   \n",
              "1052                    20.0                    7.0          25   \n",
              "1053                    20.0                    7.0          25   \n",
              "1054                    20.0                    7.0          25   \n",
              "1055                    20.0                    7.0          25   \n",
              "1056                    20.0                    7.0          25   \n",
              "\n",
              "     Teacher Number: Gender  \\\n",
              "0                    Female   \n",
              "1                    Female   \n",
              "2                    Female   \n",
              "3                    Female   \n",
              "4                    Female   \n",
              "...                     ...   \n",
              "1052                 Female   \n",
              "1053                 Female   \n",
              "1054                 Female   \n",
              "1055                 Female   \n",
              "1056                 Female   \n",
              "\n",
              "     Teacher Number: School Years in Teacher Support Program Teacher Present  \\\n",
              "0                                                     3              Present   \n",
              "1                                                     3              Present   \n",
              "2                                                     3              Present   \n",
              "3                                                     3              Present   \n",
              "4                                                     3              Present   \n",
              "...                                                 ...                  ...   \n",
              "1052                                                  2              Present   \n",
              "1053                                                  2              Present   \n",
              "1054                                                  2              Present   \n",
              "1055                                                  2              Present   \n",
              "1056                                                  2              Present   \n",
              "\n",
              "     Average Students Enrolled School Year_y  \n",
              "0                           19     2019-2020  \n",
              "1                           19     2019-2020  \n",
              "2                           19     2019-2020  \n",
              "3                           19     2019-2020  \n",
              "4                           19     2019-2020  \n",
              "...                        ...           ...  \n",
              "1052                        30     2019-2020  \n",
              "1053                        30     2019-2020  \n",
              "1054                        30     2019-2020  \n",
              "1055                        30     2019-2020  \n",
              "1056                        30     2019-2020  \n",
              "\n",
              "[1057 rows x 31 columns]"
            ],
            "text/html": [
              "\n",
              "  <div id=\"df-d696e859-1c9b-4127-b57a-4bdfcd0c2935\">\n",
              "    <div class=\"colab-df-container\">\n",
              "      <div>\n",
              "<style scoped>\n",
              "    .dataframe tbody tr th:only-of-type {\n",
              "        vertical-align: middle;\n",
              "    }\n",
              "\n",
              "    .dataframe tbody tr th {\n",
              "        vertical-align: top;\n",
              "    }\n",
              "\n",
              "    .dataframe thead th {\n",
              "        text-align: right;\n",
              "    }\n",
              "</style>\n",
              "<table border=\"1\" class=\"dataframe\">\n",
              "  <thead>\n",
              "    <tr style=\"text-align: right;\">\n",
              "      <th></th>\n",
              "      <th>Grade_x</th>\n",
              "      <th>School Year_x</th>\n",
              "      <th>Date of Test</th>\n",
              "      <th>Pre or Post?</th>\n",
              "      <th>Main Language Used In Exam</th>\n",
              "      <th>EGRA Question 1: Reading Habit</th>\n",
              "      <th>EGRA Last Book Read</th>\n",
              "      <th>Reads With Others</th>\n",
              "      <th>How Often, ReadsWithOthers</th>\n",
              "      <th>Student Gender</th>\n",
              "      <th>...</th>\n",
              "      <th>Skill to Improve 1</th>\n",
              "      <th>Skill to Improve 2</th>\n",
              "      <th>Minutes Spent Observing</th>\n",
              "      <th>Minutes Spent Coaching</th>\n",
              "      <th>Total Score</th>\n",
              "      <th>Teacher Number: Gender</th>\n",
              "      <th>Teacher Number: School Years in Teacher Support Program</th>\n",
              "      <th>Teacher Present</th>\n",
              "      <th>Average Students Enrolled</th>\n",
              "      <th>School Year_y</th>\n",
              "    </tr>\n",
              "  </thead>\n",
              "  <tbody>\n",
              "    <tr>\n",
              "      <th>0</th>\n",
              "      <td>4</td>\n",
              "      <td>2019-2020</td>\n",
              "      <td>10/8/19</td>\n",
              "      <td>Pre</td>\n",
              "      <td>English; Ewe</td>\n",
              "      <td>Yes</td>\n",
              "      <td>Yes</td>\n",
              "      <td>1</td>\n",
              "      <td>1</td>\n",
              "      <td>Male</td>\n",
              "      <td>...</td>\n",
              "      <td>Preparation</td>\n",
              "      <td>Preparation</td>\n",
              "      <td>25.0</td>\n",
              "      <td>6.0</td>\n",
              "      <td>16</td>\n",
              "      <td>Female</td>\n",
              "      <td>3</td>\n",
              "      <td>Present</td>\n",
              "      <td>19</td>\n",
              "      <td>2019-2020</td>\n",
              "    </tr>\n",
              "    <tr>\n",
              "      <th>1</th>\n",
              "      <td>4</td>\n",
              "      <td>2019-2020</td>\n",
              "      <td>10/10/19</td>\n",
              "      <td>Pre</td>\n",
              "      <td>English; Ewe</td>\n",
              "      <td>Yes</td>\n",
              "      <td>No</td>\n",
              "      <td>1</td>\n",
              "      <td>3</td>\n",
              "      <td>Female</td>\n",
              "      <td>...</td>\n",
              "      <td>Preparation</td>\n",
              "      <td>Preparation</td>\n",
              "      <td>25.0</td>\n",
              "      <td>6.0</td>\n",
              "      <td>16</td>\n",
              "      <td>Female</td>\n",
              "      <td>3</td>\n",
              "      <td>Present</td>\n",
              "      <td>19</td>\n",
              "      <td>2019-2020</td>\n",
              "    </tr>\n",
              "    <tr>\n",
              "      <th>2</th>\n",
              "      <td>4</td>\n",
              "      <td>2019-2020</td>\n",
              "      <td>10/10/19</td>\n",
              "      <td>Pre</td>\n",
              "      <td>English; Ewe</td>\n",
              "      <td>Yes</td>\n",
              "      <td>No</td>\n",
              "      <td>1</td>\n",
              "      <td>1</td>\n",
              "      <td>Female</td>\n",
              "      <td>...</td>\n",
              "      <td>Preparation</td>\n",
              "      <td>Preparation</td>\n",
              "      <td>25.0</td>\n",
              "      <td>6.0</td>\n",
              "      <td>16</td>\n",
              "      <td>Female</td>\n",
              "      <td>3</td>\n",
              "      <td>Present</td>\n",
              "      <td>19</td>\n",
              "      <td>2019-2020</td>\n",
              "    </tr>\n",
              "    <tr>\n",
              "      <th>3</th>\n",
              "      <td>4</td>\n",
              "      <td>2019-2020</td>\n",
              "      <td>10/7/19</td>\n",
              "      <td>Pre</td>\n",
              "      <td>English</td>\n",
              "      <td>Yes</td>\n",
              "      <td>No</td>\n",
              "      <td>1</td>\n",
              "      <td>1</td>\n",
              "      <td>Female</td>\n",
              "      <td>...</td>\n",
              "      <td>Preparation</td>\n",
              "      <td>Preparation</td>\n",
              "      <td>25.0</td>\n",
              "      <td>6.0</td>\n",
              "      <td>16</td>\n",
              "      <td>Female</td>\n",
              "      <td>3</td>\n",
              "      <td>Present</td>\n",
              "      <td>19</td>\n",
              "      <td>2019-2020</td>\n",
              "    </tr>\n",
              "    <tr>\n",
              "      <th>4</th>\n",
              "      <td>4</td>\n",
              "      <td>2019-2020</td>\n",
              "      <td>10/9/19</td>\n",
              "      <td>Pre</td>\n",
              "      <td>English; Ewe</td>\n",
              "      <td>Yes</td>\n",
              "      <td>Yes</td>\n",
              "      <td>0</td>\n",
              "      <td>2</td>\n",
              "      <td>Female</td>\n",
              "      <td>...</td>\n",
              "      <td>Preparation</td>\n",
              "      <td>Preparation</td>\n",
              "      <td>25.0</td>\n",
              "      <td>6.0</td>\n",
              "      <td>16</td>\n",
              "      <td>Female</td>\n",
              "      <td>3</td>\n",
              "      <td>Present</td>\n",
              "      <td>19</td>\n",
              "      <td>2019-2020</td>\n",
              "    </tr>\n",
              "    <tr>\n",
              "      <th>...</th>\n",
              "      <td>...</td>\n",
              "      <td>...</td>\n",
              "      <td>...</td>\n",
              "      <td>...</td>\n",
              "      <td>...</td>\n",
              "      <td>...</td>\n",
              "      <td>...</td>\n",
              "      <td>...</td>\n",
              "      <td>...</td>\n",
              "      <td>...</td>\n",
              "      <td>...</td>\n",
              "      <td>...</td>\n",
              "      <td>...</td>\n",
              "      <td>...</td>\n",
              "      <td>...</td>\n",
              "      <td>...</td>\n",
              "      <td>...</td>\n",
              "      <td>...</td>\n",
              "      <td>...</td>\n",
              "      <td>...</td>\n",
              "      <td>...</td>\n",
              "    </tr>\n",
              "    <tr>\n",
              "      <th>1052</th>\n",
              "      <td>2</td>\n",
              "      <td>2019-2020</td>\n",
              "      <td>10/10/19</td>\n",
              "      <td>Pre</td>\n",
              "      <td>Ewe</td>\n",
              "      <td>No</td>\n",
              "      <td>No</td>\n",
              "      <td>0</td>\n",
              "      <td>2</td>\n",
              "      <td>Female</td>\n",
              "      <td>...</td>\n",
              "      <td>Communication of Content</td>\n",
              "      <td>Lesson Objectives</td>\n",
              "      <td>20.0</td>\n",
              "      <td>7.0</td>\n",
              "      <td>25</td>\n",
              "      <td>Female</td>\n",
              "      <td>2</td>\n",
              "      <td>Present</td>\n",
              "      <td>30</td>\n",
              "      <td>2019-2020</td>\n",
              "    </tr>\n",
              "    <tr>\n",
              "      <th>1053</th>\n",
              "      <td>2</td>\n",
              "      <td>2019-2020</td>\n",
              "      <td>10/9/19</td>\n",
              "      <td>Pre</td>\n",
              "      <td>English; Ewe</td>\n",
              "      <td>Yes</td>\n",
              "      <td>No</td>\n",
              "      <td>1</td>\n",
              "      <td>1</td>\n",
              "      <td>Female</td>\n",
              "      <td>...</td>\n",
              "      <td>Communication of Content</td>\n",
              "      <td>Lesson Objectives</td>\n",
              "      <td>20.0</td>\n",
              "      <td>7.0</td>\n",
              "      <td>25</td>\n",
              "      <td>Female</td>\n",
              "      <td>2</td>\n",
              "      <td>Present</td>\n",
              "      <td>30</td>\n",
              "      <td>2019-2020</td>\n",
              "    </tr>\n",
              "    <tr>\n",
              "      <th>1054</th>\n",
              "      <td>2</td>\n",
              "      <td>2019-2020</td>\n",
              "      <td>10/10/19</td>\n",
              "      <td>Pre</td>\n",
              "      <td>Ewe</td>\n",
              "      <td>Yes</td>\n",
              "      <td>No</td>\n",
              "      <td>1</td>\n",
              "      <td>3</td>\n",
              "      <td>Male</td>\n",
              "      <td>...</td>\n",
              "      <td>Communication of Content</td>\n",
              "      <td>Lesson Objectives</td>\n",
              "      <td>20.0</td>\n",
              "      <td>7.0</td>\n",
              "      <td>25</td>\n",
              "      <td>Female</td>\n",
              "      <td>2</td>\n",
              "      <td>Present</td>\n",
              "      <td>30</td>\n",
              "      <td>2019-2020</td>\n",
              "    </tr>\n",
              "    <tr>\n",
              "      <th>1055</th>\n",
              "      <td>2</td>\n",
              "      <td>2019-2020</td>\n",
              "      <td>10/10/19</td>\n",
              "      <td>Pre</td>\n",
              "      <td>English; Ewe</td>\n",
              "      <td>Yes</td>\n",
              "      <td>Yes</td>\n",
              "      <td>1</td>\n",
              "      <td>3</td>\n",
              "      <td>Male</td>\n",
              "      <td>...</td>\n",
              "      <td>Communication of Content</td>\n",
              "      <td>Lesson Objectives</td>\n",
              "      <td>20.0</td>\n",
              "      <td>7.0</td>\n",
              "      <td>25</td>\n",
              "      <td>Female</td>\n",
              "      <td>2</td>\n",
              "      <td>Present</td>\n",
              "      <td>30</td>\n",
              "      <td>2019-2020</td>\n",
              "    </tr>\n",
              "    <tr>\n",
              "      <th>1056</th>\n",
              "      <td>2</td>\n",
              "      <td>2019-2020</td>\n",
              "      <td>10/8/19</td>\n",
              "      <td>Pre</td>\n",
              "      <td>Ewe</td>\n",
              "      <td>Yes</td>\n",
              "      <td>No</td>\n",
              "      <td>1</td>\n",
              "      <td>3</td>\n",
              "      <td>Female</td>\n",
              "      <td>...</td>\n",
              "      <td>Communication of Content</td>\n",
              "      <td>Lesson Objectives</td>\n",
              "      <td>20.0</td>\n",
              "      <td>7.0</td>\n",
              "      <td>25</td>\n",
              "      <td>Female</td>\n",
              "      <td>2</td>\n",
              "      <td>Present</td>\n",
              "      <td>30</td>\n",
              "      <td>2019-2020</td>\n",
              "    </tr>\n",
              "  </tbody>\n",
              "</table>\n",
              "<p>1057 rows × 31 columns</p>\n",
              "</div>\n",
              "      <button class=\"colab-df-convert\" onclick=\"convertToInteractive('df-d696e859-1c9b-4127-b57a-4bdfcd0c2935')\"\n",
              "              title=\"Convert this dataframe to an interactive table.\"\n",
              "              style=\"display:none;\">\n",
              "        \n",
              "  <svg xmlns=\"http://www.w3.org/2000/svg\" height=\"24px\"viewBox=\"0 0 24 24\"\n",
              "       width=\"24px\">\n",
              "    <path d=\"M0 0h24v24H0V0z\" fill=\"none\"/>\n",
              "    <path d=\"M18.56 5.44l.94 2.06.94-2.06 2.06-.94-2.06-.94-.94-2.06-.94 2.06-2.06.94zm-11 1L8.5 8.5l.94-2.06 2.06-.94-2.06-.94L8.5 2.5l-.94 2.06-2.06.94zm10 10l.94 2.06.94-2.06 2.06-.94-2.06-.94-.94-2.06-.94 2.06-2.06.94z\"/><path d=\"M17.41 7.96l-1.37-1.37c-.4-.4-.92-.59-1.43-.59-.52 0-1.04.2-1.43.59L10.3 9.45l-7.72 7.72c-.78.78-.78 2.05 0 2.83L4 21.41c.39.39.9.59 1.41.59.51 0 1.02-.2 1.41-.59l7.78-7.78 2.81-2.81c.8-.78.8-2.07 0-2.86zM5.41 20L4 18.59l7.72-7.72 1.47 1.35L5.41 20z\"/>\n",
              "  </svg>\n",
              "      </button>\n",
              "      \n",
              "  <style>\n",
              "    .colab-df-container {\n",
              "      display:flex;\n",
              "      flex-wrap:wrap;\n",
              "      gap: 12px;\n",
              "    }\n",
              "\n",
              "    .colab-df-convert {\n",
              "      background-color: #E8F0FE;\n",
              "      border: none;\n",
              "      border-radius: 50%;\n",
              "      cursor: pointer;\n",
              "      display: none;\n",
              "      fill: #1967D2;\n",
              "      height: 32px;\n",
              "      padding: 0 0 0 0;\n",
              "      width: 32px;\n",
              "    }\n",
              "\n",
              "    .colab-df-convert:hover {\n",
              "      background-color: #E2EBFA;\n",
              "      box-shadow: 0px 1px 2px rgba(60, 64, 67, 0.3), 0px 1px 3px 1px rgba(60, 64, 67, 0.15);\n",
              "      fill: #174EA6;\n",
              "    }\n",
              "\n",
              "    [theme=dark] .colab-df-convert {\n",
              "      background-color: #3B4455;\n",
              "      fill: #D2E3FC;\n",
              "    }\n",
              "\n",
              "    [theme=dark] .colab-df-convert:hover {\n",
              "      background-color: #434B5C;\n",
              "      box-shadow: 0px 1px 3px 1px rgba(0, 0, 0, 0.15);\n",
              "      filter: drop-shadow(0px 1px 2px rgba(0, 0, 0, 0.3));\n",
              "      fill: #FFFFFF;\n",
              "    }\n",
              "  </style>\n",
              "\n",
              "      <script>\n",
              "        const buttonEl =\n",
              "          document.querySelector('#df-d696e859-1c9b-4127-b57a-4bdfcd0c2935 button.colab-df-convert');\n",
              "        buttonEl.style.display =\n",
              "          google.colab.kernel.accessAllowed ? 'block' : 'none';\n",
              "\n",
              "        async function convertToInteractive(key) {\n",
              "          const element = document.querySelector('#df-d696e859-1c9b-4127-b57a-4bdfcd0c2935');\n",
              "          const dataTable =\n",
              "            await google.colab.kernel.invokeFunction('convertToInteractive',\n",
              "                                                     [key], {});\n",
              "          if (!dataTable) return;\n",
              "\n",
              "          const docLinkHtml = 'Like what you see? Visit the ' +\n",
              "            '<a target=\"_blank\" href=https://colab.research.google.com/notebooks/data_table.ipynb>data table notebook</a>'\n",
              "            + ' to learn more about interactive tables.';\n",
              "          element.innerHTML = '';\n",
              "          dataTable['output_type'] = 'display_data';\n",
              "          await google.colab.output.renderOutput(dataTable, element);\n",
              "          const docLink = document.createElement('div');\n",
              "          docLink.innerHTML = docLinkHtml;\n",
              "          element.appendChild(docLink);\n",
              "        }\n",
              "      </script>\n",
              "    </div>\n",
              "  </div>\n",
              "  "
            ]
          },
          "metadata": {},
          "execution_count": 51
        }
      ]
    },
    {
      "cell_type": "code",
      "source": [
        "df_target['Cumulative Score'] = df_target['EGRA Section 1 Total Score']*33.3333 + df_target['EGRA Section 2a Score']*2 + df_target['EGRA Section 2b Score'] * 10 + df_target['EGRA Section 3 Letters Correct'] + df_target['EGRA Section 4 Words Correct'] * 2 + df_target['EGRA Section 5 Words Correct'] * 3 + df_target['EGRA Section 5 Questions Correct'] * 15 + df_target[\"EGRA Section 6 Total Score\"]*12.5 + df_target[\"EGRA Section 7a Score\"] *25"
      ],
      "metadata": {
        "id": "vZDCyTMDxoGs"
      },
      "execution_count": 52,
      "outputs": []
    },
    {
      "cell_type": "code",
      "source": [
        "df_target['Cumulative Score'] "
      ],
      "metadata": {
        "colab": {
          "base_uri": "https://localhost:8080/"
        },
        "id": "ypvMELarhJ--",
        "outputId": "2f92864e-5d47-4073-b7f6-34130a271083"
      },
      "execution_count": 53,
      "outputs": [
        {
          "output_type": "execute_result",
          "data": {
            "text/plain": [
              "0       423.4999\n",
              "1       473.9999\n",
              "2       483.4999\n",
              "3       623.9999\n",
              "4       437.9999\n",
              "          ...   \n",
              "1052    150.9999\n",
              "1053    295.4999\n",
              "1054    136.9999\n",
              "1055    175.9999\n",
              "1056    363.9999\n",
              "Name: Cumulative Score, Length: 1057, dtype: float64"
            ]
          },
          "metadata": {},
          "execution_count": 53
        }
      ]
    },
    {
      "cell_type": "code",
      "source": [
        "df_target.head(5)"
      ],
      "metadata": {
        "colab": {
          "base_uri": "https://localhost:8080/",
          "height": 386
        },
        "id": "hfoQfk06Cat6",
        "outputId": "00bcc29a-0c9c-4f1d-acbe-a911c596e4cb"
      },
      "execution_count": 98,
      "outputs": [
        {
          "output_type": "execute_result",
          "data": {
            "text/plain": [
              "   EGRA Section 1a Score  EGRA Section 1b Score  EGRA Section 1c Score  \\\n",
              "0                      1                      1                      1   \n",
              "1                      1                      1                      1   \n",
              "2                      1                      1                      1   \n",
              "3                      1                      1                      1   \n",
              "4                      1                      1                      1   \n",
              "\n",
              "   EGRA Section 2a Score  EGRA Section 2b Score  \\\n",
              "0                      0                      3   \n",
              "1                      0                      0   \n",
              "2                      0                      0   \n",
              "3                     12                      7   \n",
              "4                      0                      6   \n",
              "\n",
              "   EGRA Section 3 Letters Correct  EGRA Section 3 Time Completed  \\\n",
              "0                              14                           60.0   \n",
              "1                              52                           60.0   \n",
              "2                              28                           60.0   \n",
              "3                              75                           60.0   \n",
              "4                              26                           60.0   \n",
              "\n",
              "   EGRA Section 3 LPM  EGRA Section 4 Words Correct  \\\n",
              "0                14.0                            45   \n",
              "1                52.0                            23   \n",
              "2                28.0                            32   \n",
              "3                75.0                            12   \n",
              "4                26.0                            12   \n",
              "\n",
              "   EGRA Section 4 Time Completed  ...  EGRA Section 5 Time Completed  \\\n",
              "0                           43.0  ...                           38.0   \n",
              "1                           60.0  ...                          103.0   \n",
              "2                           60.0  ...                           70.0   \n",
              "3                           60.0  ...                          117.0   \n",
              "4                           60.0  ...                          121.0   \n",
              "\n",
              "   EGRA Section 5 CWPM  EGRA Section 5 Questions Correct  \\\n",
              "0                   93                                 0   \n",
              "1                   30                                 3   \n",
              "2                   50                                 2   \n",
              "3                   24                                 6   \n",
              "4                   25                                 0   \n",
              "\n",
              "   EGRA Section 6 Written Words Correct  \\\n",
              "0                                     0   \n",
              "1                                     0   \n",
              "2                                     0   \n",
              "3                                     0   \n",
              "4                                     0   \n",
              "\n",
              "   EGRA Section 6 Correct Space/Direction  EGRA Section 6 Correct Punctuation  \\\n",
              "0                                       1                                   0   \n",
              "1                                       2                                   0   \n",
              "2                                       1                                   0   \n",
              "3                                       2                                   0   \n",
              "4                                       1                                   0   \n",
              "\n",
              "   EGRA Section 6 Correct Use of Capitals  EGRA Section 7a Score  \\\n",
              "0                                       0                      0   \n",
              "1                                       0                      2   \n",
              "2                                       0                      3   \n",
              "3                                       0                      3   \n",
              "4                                       1                      2   \n",
              "\n",
              "   EGRA Section 1 Total Score  EGRA Section 6 Total Score  \n",
              "0                           3                           1  \n",
              "1                           3                           2  \n",
              "2                           3                           1  \n",
              "3                           3                           2  \n",
              "4                           3                           2  \n",
              "\n",
              "[5 rows x 22 columns]"
            ],
            "text/html": [
              "\n",
              "  <div id=\"df-4592d4aa-3566-494a-ac04-16eaa5fe8920\">\n",
              "    <div class=\"colab-df-container\">\n",
              "      <div>\n",
              "<style scoped>\n",
              "    .dataframe tbody tr th:only-of-type {\n",
              "        vertical-align: middle;\n",
              "    }\n",
              "\n",
              "    .dataframe tbody tr th {\n",
              "        vertical-align: top;\n",
              "    }\n",
              "\n",
              "    .dataframe thead th {\n",
              "        text-align: right;\n",
              "    }\n",
              "</style>\n",
              "<table border=\"1\" class=\"dataframe\">\n",
              "  <thead>\n",
              "    <tr style=\"text-align: right;\">\n",
              "      <th></th>\n",
              "      <th>EGRA Section 1a Score</th>\n",
              "      <th>EGRA Section 1b Score</th>\n",
              "      <th>EGRA Section 1c Score</th>\n",
              "      <th>EGRA Section 2a Score</th>\n",
              "      <th>EGRA Section 2b Score</th>\n",
              "      <th>EGRA Section 3 Letters Correct</th>\n",
              "      <th>EGRA Section 3 Time Completed</th>\n",
              "      <th>EGRA Section 3 LPM</th>\n",
              "      <th>EGRA Section 4 Words Correct</th>\n",
              "      <th>EGRA Section 4 Time Completed</th>\n",
              "      <th>...</th>\n",
              "      <th>EGRA Section 5 Time Completed</th>\n",
              "      <th>EGRA Section 5 CWPM</th>\n",
              "      <th>EGRA Section 5 Questions Correct</th>\n",
              "      <th>EGRA Section 6 Written Words Correct</th>\n",
              "      <th>EGRA Section 6 Correct Space/Direction</th>\n",
              "      <th>EGRA Section 6 Correct Punctuation</th>\n",
              "      <th>EGRA Section 6 Correct Use of Capitals</th>\n",
              "      <th>EGRA Section 7a Score</th>\n",
              "      <th>EGRA Section 1 Total Score</th>\n",
              "      <th>EGRA Section 6 Total Score</th>\n",
              "    </tr>\n",
              "  </thead>\n",
              "  <tbody>\n",
              "    <tr>\n",
              "      <th>0</th>\n",
              "      <td>1</td>\n",
              "      <td>1</td>\n",
              "      <td>1</td>\n",
              "      <td>0</td>\n",
              "      <td>3</td>\n",
              "      <td>14</td>\n",
              "      <td>60.0</td>\n",
              "      <td>14.0</td>\n",
              "      <td>45</td>\n",
              "      <td>43.0</td>\n",
              "      <td>...</td>\n",
              "      <td>38.0</td>\n",
              "      <td>93</td>\n",
              "      <td>0</td>\n",
              "      <td>0</td>\n",
              "      <td>1</td>\n",
              "      <td>0</td>\n",
              "      <td>0</td>\n",
              "      <td>0</td>\n",
              "      <td>3</td>\n",
              "      <td>1</td>\n",
              "    </tr>\n",
              "    <tr>\n",
              "      <th>1</th>\n",
              "      <td>1</td>\n",
              "      <td>1</td>\n",
              "      <td>1</td>\n",
              "      <td>0</td>\n",
              "      <td>0</td>\n",
              "      <td>52</td>\n",
              "      <td>60.0</td>\n",
              "      <td>52.0</td>\n",
              "      <td>23</td>\n",
              "      <td>60.0</td>\n",
              "      <td>...</td>\n",
              "      <td>103.0</td>\n",
              "      <td>30</td>\n",
              "      <td>3</td>\n",
              "      <td>0</td>\n",
              "      <td>2</td>\n",
              "      <td>0</td>\n",
              "      <td>0</td>\n",
              "      <td>2</td>\n",
              "      <td>3</td>\n",
              "      <td>2</td>\n",
              "    </tr>\n",
              "    <tr>\n",
              "      <th>2</th>\n",
              "      <td>1</td>\n",
              "      <td>1</td>\n",
              "      <td>1</td>\n",
              "      <td>0</td>\n",
              "      <td>0</td>\n",
              "      <td>28</td>\n",
              "      <td>60.0</td>\n",
              "      <td>28.0</td>\n",
              "      <td>32</td>\n",
              "      <td>60.0</td>\n",
              "      <td>...</td>\n",
              "      <td>70.0</td>\n",
              "      <td>50</td>\n",
              "      <td>2</td>\n",
              "      <td>0</td>\n",
              "      <td>1</td>\n",
              "      <td>0</td>\n",
              "      <td>0</td>\n",
              "      <td>3</td>\n",
              "      <td>3</td>\n",
              "      <td>1</td>\n",
              "    </tr>\n",
              "    <tr>\n",
              "      <th>3</th>\n",
              "      <td>1</td>\n",
              "      <td>1</td>\n",
              "      <td>1</td>\n",
              "      <td>12</td>\n",
              "      <td>7</td>\n",
              "      <td>75</td>\n",
              "      <td>60.0</td>\n",
              "      <td>75.0</td>\n",
              "      <td>12</td>\n",
              "      <td>60.0</td>\n",
              "      <td>...</td>\n",
              "      <td>117.0</td>\n",
              "      <td>24</td>\n",
              "      <td>6</td>\n",
              "      <td>0</td>\n",
              "      <td>2</td>\n",
              "      <td>0</td>\n",
              "      <td>0</td>\n",
              "      <td>3</td>\n",
              "      <td>3</td>\n",
              "      <td>2</td>\n",
              "    </tr>\n",
              "    <tr>\n",
              "      <th>4</th>\n",
              "      <td>1</td>\n",
              "      <td>1</td>\n",
              "      <td>1</td>\n",
              "      <td>0</td>\n",
              "      <td>6</td>\n",
              "      <td>26</td>\n",
              "      <td>60.0</td>\n",
              "      <td>26.0</td>\n",
              "      <td>12</td>\n",
              "      <td>60.0</td>\n",
              "      <td>...</td>\n",
              "      <td>121.0</td>\n",
              "      <td>25</td>\n",
              "      <td>0</td>\n",
              "      <td>0</td>\n",
              "      <td>1</td>\n",
              "      <td>0</td>\n",
              "      <td>1</td>\n",
              "      <td>2</td>\n",
              "      <td>3</td>\n",
              "      <td>2</td>\n",
              "    </tr>\n",
              "  </tbody>\n",
              "</table>\n",
              "<p>5 rows × 22 columns</p>\n",
              "</div>\n",
              "      <button class=\"colab-df-convert\" onclick=\"convertToInteractive('df-4592d4aa-3566-494a-ac04-16eaa5fe8920')\"\n",
              "              title=\"Convert this dataframe to an interactive table.\"\n",
              "              style=\"display:none;\">\n",
              "        \n",
              "  <svg xmlns=\"http://www.w3.org/2000/svg\" height=\"24px\"viewBox=\"0 0 24 24\"\n",
              "       width=\"24px\">\n",
              "    <path d=\"M0 0h24v24H0V0z\" fill=\"none\"/>\n",
              "    <path d=\"M18.56 5.44l.94 2.06.94-2.06 2.06-.94-2.06-.94-.94-2.06-.94 2.06-2.06.94zm-11 1L8.5 8.5l.94-2.06 2.06-.94-2.06-.94L8.5 2.5l-.94 2.06-2.06.94zm10 10l.94 2.06.94-2.06 2.06-.94-2.06-.94-.94-2.06-.94 2.06-2.06.94z\"/><path d=\"M17.41 7.96l-1.37-1.37c-.4-.4-.92-.59-1.43-.59-.52 0-1.04.2-1.43.59L10.3 9.45l-7.72 7.72c-.78.78-.78 2.05 0 2.83L4 21.41c.39.39.9.59 1.41.59.51 0 1.02-.2 1.41-.59l7.78-7.78 2.81-2.81c.8-.78.8-2.07 0-2.86zM5.41 20L4 18.59l7.72-7.72 1.47 1.35L5.41 20z\"/>\n",
              "  </svg>\n",
              "      </button>\n",
              "      \n",
              "  <style>\n",
              "    .colab-df-container {\n",
              "      display:flex;\n",
              "      flex-wrap:wrap;\n",
              "      gap: 12px;\n",
              "    }\n",
              "\n",
              "    .colab-df-convert {\n",
              "      background-color: #E8F0FE;\n",
              "      border: none;\n",
              "      border-radius: 50%;\n",
              "      cursor: pointer;\n",
              "      display: none;\n",
              "      fill: #1967D2;\n",
              "      height: 32px;\n",
              "      padding: 0 0 0 0;\n",
              "      width: 32px;\n",
              "    }\n",
              "\n",
              "    .colab-df-convert:hover {\n",
              "      background-color: #E2EBFA;\n",
              "      box-shadow: 0px 1px 2px rgba(60, 64, 67, 0.3), 0px 1px 3px 1px rgba(60, 64, 67, 0.15);\n",
              "      fill: #174EA6;\n",
              "    }\n",
              "\n",
              "    [theme=dark] .colab-df-convert {\n",
              "      background-color: #3B4455;\n",
              "      fill: #D2E3FC;\n",
              "    }\n",
              "\n",
              "    [theme=dark] .colab-df-convert:hover {\n",
              "      background-color: #434B5C;\n",
              "      box-shadow: 0px 1px 3px 1px rgba(0, 0, 0, 0.15);\n",
              "      filter: drop-shadow(0px 1px 2px rgba(0, 0, 0, 0.3));\n",
              "      fill: #FFFFFF;\n",
              "    }\n",
              "  </style>\n",
              "\n",
              "      <script>\n",
              "        const buttonEl =\n",
              "          document.querySelector('#df-4592d4aa-3566-494a-ac04-16eaa5fe8920 button.colab-df-convert');\n",
              "        buttonEl.style.display =\n",
              "          google.colab.kernel.accessAllowed ? 'block' : 'none';\n",
              "\n",
              "        async function convertToInteractive(key) {\n",
              "          const element = document.querySelector('#df-4592d4aa-3566-494a-ac04-16eaa5fe8920');\n",
              "          const dataTable =\n",
              "            await google.colab.kernel.invokeFunction('convertToInteractive',\n",
              "                                                     [key], {});\n",
              "          if (!dataTable) return;\n",
              "\n",
              "          const docLinkHtml = 'Like what you see? Visit the ' +\n",
              "            '<a target=\"_blank\" href=https://colab.research.google.com/notebooks/data_table.ipynb>data table notebook</a>'\n",
              "            + ' to learn more about interactive tables.';\n",
              "          element.innerHTML = '';\n",
              "          dataTable['output_type'] = 'display_data';\n",
              "          await google.colab.output.renderOutput(dataTable, element);\n",
              "          const docLink = document.createElement('div');\n",
              "          docLink.innerHTML = docLinkHtml;\n",
              "          element.appendChild(docLink);\n",
              "        }\n",
              "      </script>\n",
              "    </div>\n",
              "  </div>\n",
              "  "
            ]
          },
          "metadata": {},
          "execution_count": 98
        }
      ]
    },
    {
      "cell_type": "code",
      "source": [
        "df_x_clean.head()"
      ],
      "metadata": {
        "colab": {
          "base_uri": "https://localhost:8080/",
          "height": 508
        },
        "id": "PcC9PjqIDr43",
        "outputId": "2aaffd0e-1f79-4aef-f9b1-c6580bf4fec5"
      },
      "execution_count": 99,
      "outputs": [
        {
          "output_type": "execute_result",
          "data": {
            "text/plain": [
              "  Grade_x School Year_x Date of Test Pre or Post? Main Language Used In Exam  \\\n",
              "0       4     2019-2020      10/8/19          Pre               English; Ewe   \n",
              "1       4     2019-2020     10/10/19          Pre               English; Ewe   \n",
              "2       4     2019-2020     10/10/19          Pre               English; Ewe   \n",
              "3       4     2019-2020      10/7/19          Pre                    English   \n",
              "4       4     2019-2020      10/9/19          Pre               English; Ewe   \n",
              "\n",
              "  EGRA Question 1: Reading Habit EGRA Last Book Read  Reads With Others  \\\n",
              "0                            Yes                 Yes                  1   \n",
              "1                            Yes                  No                  1   \n",
              "2                            Yes                  No                  1   \n",
              "3                            Yes                  No                  1   \n",
              "4                            Yes                 Yes                  0   \n",
              "\n",
              "   How Often, ReadsWithOthers Student Gender  ... Skill to Improve 1  \\\n",
              "0                           1           Male  ...        Preparation   \n",
              "1                           3         Female  ...        Preparation   \n",
              "2                           1         Female  ...        Preparation   \n",
              "3                           1         Female  ...        Preparation   \n",
              "4                           2         Female  ...        Preparation   \n",
              "\n",
              "  Skill to Improve 2 Minutes Spent Observing Minutes Spent Coaching  \\\n",
              "0        Preparation                    25.0                    6.0   \n",
              "1        Preparation                    25.0                    6.0   \n",
              "2        Preparation                    25.0                    6.0   \n",
              "3        Preparation                    25.0                    6.0   \n",
              "4        Preparation                    25.0                    6.0   \n",
              "\n",
              "  Total Score Teacher Number: Gender  \\\n",
              "0          16                 Female   \n",
              "1          16                 Female   \n",
              "2          16                 Female   \n",
              "3          16                 Female   \n",
              "4          16                 Female   \n",
              "\n",
              "  Teacher Number: School Years in Teacher Support Program Teacher Present  \\\n",
              "0                                                  3              Present   \n",
              "1                                                  3              Present   \n",
              "2                                                  3              Present   \n",
              "3                                                  3              Present   \n",
              "4                                                  3              Present   \n",
              "\n",
              "  Average Students Enrolled School Year_y  \n",
              "0                        19     2019-2020  \n",
              "1                        19     2019-2020  \n",
              "2                        19     2019-2020  \n",
              "3                        19     2019-2020  \n",
              "4                        19     2019-2020  \n",
              "\n",
              "[5 rows x 31 columns]"
            ],
            "text/html": [
              "\n",
              "  <div id=\"df-8fbad419-4bcc-45eb-9c17-93709a4e7deb\">\n",
              "    <div class=\"colab-df-container\">\n",
              "      <div>\n",
              "<style scoped>\n",
              "    .dataframe tbody tr th:only-of-type {\n",
              "        vertical-align: middle;\n",
              "    }\n",
              "\n",
              "    .dataframe tbody tr th {\n",
              "        vertical-align: top;\n",
              "    }\n",
              "\n",
              "    .dataframe thead th {\n",
              "        text-align: right;\n",
              "    }\n",
              "</style>\n",
              "<table border=\"1\" class=\"dataframe\">\n",
              "  <thead>\n",
              "    <tr style=\"text-align: right;\">\n",
              "      <th></th>\n",
              "      <th>Grade_x</th>\n",
              "      <th>School Year_x</th>\n",
              "      <th>Date of Test</th>\n",
              "      <th>Pre or Post?</th>\n",
              "      <th>Main Language Used In Exam</th>\n",
              "      <th>EGRA Question 1: Reading Habit</th>\n",
              "      <th>EGRA Last Book Read</th>\n",
              "      <th>Reads With Others</th>\n",
              "      <th>How Often, ReadsWithOthers</th>\n",
              "      <th>Student Gender</th>\n",
              "      <th>...</th>\n",
              "      <th>Skill to Improve 1</th>\n",
              "      <th>Skill to Improve 2</th>\n",
              "      <th>Minutes Spent Observing</th>\n",
              "      <th>Minutes Spent Coaching</th>\n",
              "      <th>Total Score</th>\n",
              "      <th>Teacher Number: Gender</th>\n",
              "      <th>Teacher Number: School Years in Teacher Support Program</th>\n",
              "      <th>Teacher Present</th>\n",
              "      <th>Average Students Enrolled</th>\n",
              "      <th>School Year_y</th>\n",
              "    </tr>\n",
              "  </thead>\n",
              "  <tbody>\n",
              "    <tr>\n",
              "      <th>0</th>\n",
              "      <td>4</td>\n",
              "      <td>2019-2020</td>\n",
              "      <td>10/8/19</td>\n",
              "      <td>Pre</td>\n",
              "      <td>English; Ewe</td>\n",
              "      <td>Yes</td>\n",
              "      <td>Yes</td>\n",
              "      <td>1</td>\n",
              "      <td>1</td>\n",
              "      <td>Male</td>\n",
              "      <td>...</td>\n",
              "      <td>Preparation</td>\n",
              "      <td>Preparation</td>\n",
              "      <td>25.0</td>\n",
              "      <td>6.0</td>\n",
              "      <td>16</td>\n",
              "      <td>Female</td>\n",
              "      <td>3</td>\n",
              "      <td>Present</td>\n",
              "      <td>19</td>\n",
              "      <td>2019-2020</td>\n",
              "    </tr>\n",
              "    <tr>\n",
              "      <th>1</th>\n",
              "      <td>4</td>\n",
              "      <td>2019-2020</td>\n",
              "      <td>10/10/19</td>\n",
              "      <td>Pre</td>\n",
              "      <td>English; Ewe</td>\n",
              "      <td>Yes</td>\n",
              "      <td>No</td>\n",
              "      <td>1</td>\n",
              "      <td>3</td>\n",
              "      <td>Female</td>\n",
              "      <td>...</td>\n",
              "      <td>Preparation</td>\n",
              "      <td>Preparation</td>\n",
              "      <td>25.0</td>\n",
              "      <td>6.0</td>\n",
              "      <td>16</td>\n",
              "      <td>Female</td>\n",
              "      <td>3</td>\n",
              "      <td>Present</td>\n",
              "      <td>19</td>\n",
              "      <td>2019-2020</td>\n",
              "    </tr>\n",
              "    <tr>\n",
              "      <th>2</th>\n",
              "      <td>4</td>\n",
              "      <td>2019-2020</td>\n",
              "      <td>10/10/19</td>\n",
              "      <td>Pre</td>\n",
              "      <td>English; Ewe</td>\n",
              "      <td>Yes</td>\n",
              "      <td>No</td>\n",
              "      <td>1</td>\n",
              "      <td>1</td>\n",
              "      <td>Female</td>\n",
              "      <td>...</td>\n",
              "      <td>Preparation</td>\n",
              "      <td>Preparation</td>\n",
              "      <td>25.0</td>\n",
              "      <td>6.0</td>\n",
              "      <td>16</td>\n",
              "      <td>Female</td>\n",
              "      <td>3</td>\n",
              "      <td>Present</td>\n",
              "      <td>19</td>\n",
              "      <td>2019-2020</td>\n",
              "    </tr>\n",
              "    <tr>\n",
              "      <th>3</th>\n",
              "      <td>4</td>\n",
              "      <td>2019-2020</td>\n",
              "      <td>10/7/19</td>\n",
              "      <td>Pre</td>\n",
              "      <td>English</td>\n",
              "      <td>Yes</td>\n",
              "      <td>No</td>\n",
              "      <td>1</td>\n",
              "      <td>1</td>\n",
              "      <td>Female</td>\n",
              "      <td>...</td>\n",
              "      <td>Preparation</td>\n",
              "      <td>Preparation</td>\n",
              "      <td>25.0</td>\n",
              "      <td>6.0</td>\n",
              "      <td>16</td>\n",
              "      <td>Female</td>\n",
              "      <td>3</td>\n",
              "      <td>Present</td>\n",
              "      <td>19</td>\n",
              "      <td>2019-2020</td>\n",
              "    </tr>\n",
              "    <tr>\n",
              "      <th>4</th>\n",
              "      <td>4</td>\n",
              "      <td>2019-2020</td>\n",
              "      <td>10/9/19</td>\n",
              "      <td>Pre</td>\n",
              "      <td>English; Ewe</td>\n",
              "      <td>Yes</td>\n",
              "      <td>Yes</td>\n",
              "      <td>0</td>\n",
              "      <td>2</td>\n",
              "      <td>Female</td>\n",
              "      <td>...</td>\n",
              "      <td>Preparation</td>\n",
              "      <td>Preparation</td>\n",
              "      <td>25.0</td>\n",
              "      <td>6.0</td>\n",
              "      <td>16</td>\n",
              "      <td>Female</td>\n",
              "      <td>3</td>\n",
              "      <td>Present</td>\n",
              "      <td>19</td>\n",
              "      <td>2019-2020</td>\n",
              "    </tr>\n",
              "  </tbody>\n",
              "</table>\n",
              "<p>5 rows × 31 columns</p>\n",
              "</div>\n",
              "      <button class=\"colab-df-convert\" onclick=\"convertToInteractive('df-8fbad419-4bcc-45eb-9c17-93709a4e7deb')\"\n",
              "              title=\"Convert this dataframe to an interactive table.\"\n",
              "              style=\"display:none;\">\n",
              "        \n",
              "  <svg xmlns=\"http://www.w3.org/2000/svg\" height=\"24px\"viewBox=\"0 0 24 24\"\n",
              "       width=\"24px\">\n",
              "    <path d=\"M0 0h24v24H0V0z\" fill=\"none\"/>\n",
              "    <path d=\"M18.56 5.44l.94 2.06.94-2.06 2.06-.94-2.06-.94-.94-2.06-.94 2.06-2.06.94zm-11 1L8.5 8.5l.94-2.06 2.06-.94-2.06-.94L8.5 2.5l-.94 2.06-2.06.94zm10 10l.94 2.06.94-2.06 2.06-.94-2.06-.94-.94-2.06-.94 2.06-2.06.94z\"/><path d=\"M17.41 7.96l-1.37-1.37c-.4-.4-.92-.59-1.43-.59-.52 0-1.04.2-1.43.59L10.3 9.45l-7.72 7.72c-.78.78-.78 2.05 0 2.83L4 21.41c.39.39.9.59 1.41.59.51 0 1.02-.2 1.41-.59l7.78-7.78 2.81-2.81c.8-.78.8-2.07 0-2.86zM5.41 20L4 18.59l7.72-7.72 1.47 1.35L5.41 20z\"/>\n",
              "  </svg>\n",
              "      </button>\n",
              "      \n",
              "  <style>\n",
              "    .colab-df-container {\n",
              "      display:flex;\n",
              "      flex-wrap:wrap;\n",
              "      gap: 12px;\n",
              "    }\n",
              "\n",
              "    .colab-df-convert {\n",
              "      background-color: #E8F0FE;\n",
              "      border: none;\n",
              "      border-radius: 50%;\n",
              "      cursor: pointer;\n",
              "      display: none;\n",
              "      fill: #1967D2;\n",
              "      height: 32px;\n",
              "      padding: 0 0 0 0;\n",
              "      width: 32px;\n",
              "    }\n",
              "\n",
              "    .colab-df-convert:hover {\n",
              "      background-color: #E2EBFA;\n",
              "      box-shadow: 0px 1px 2px rgba(60, 64, 67, 0.3), 0px 1px 3px 1px rgba(60, 64, 67, 0.15);\n",
              "      fill: #174EA6;\n",
              "    }\n",
              "\n",
              "    [theme=dark] .colab-df-convert {\n",
              "      background-color: #3B4455;\n",
              "      fill: #D2E3FC;\n",
              "    }\n",
              "\n",
              "    [theme=dark] .colab-df-convert:hover {\n",
              "      background-color: #434B5C;\n",
              "      box-shadow: 0px 1px 3px 1px rgba(0, 0, 0, 0.15);\n",
              "      filter: drop-shadow(0px 1px 2px rgba(0, 0, 0, 0.3));\n",
              "      fill: #FFFFFF;\n",
              "    }\n",
              "  </style>\n",
              "\n",
              "      <script>\n",
              "        const buttonEl =\n",
              "          document.querySelector('#df-8fbad419-4bcc-45eb-9c17-93709a4e7deb button.colab-df-convert');\n",
              "        buttonEl.style.display =\n",
              "          google.colab.kernel.accessAllowed ? 'block' : 'none';\n",
              "\n",
              "        async function convertToInteractive(key) {\n",
              "          const element = document.querySelector('#df-8fbad419-4bcc-45eb-9c17-93709a4e7deb');\n",
              "          const dataTable =\n",
              "            await google.colab.kernel.invokeFunction('convertToInteractive',\n",
              "                                                     [key], {});\n",
              "          if (!dataTable) return;\n",
              "\n",
              "          const docLinkHtml = 'Like what you see? Visit the ' +\n",
              "            '<a target=\"_blank\" href=https://colab.research.google.com/notebooks/data_table.ipynb>data table notebook</a>'\n",
              "            + ' to learn more about interactive tables.';\n",
              "          element.innerHTML = '';\n",
              "          dataTable['output_type'] = 'display_data';\n",
              "          await google.colab.output.renderOutput(dataTable, element);\n",
              "          const docLink = document.createElement('div');\n",
              "          docLink.innerHTML = docLinkHtml;\n",
              "          element.appendChild(docLink);\n",
              "        }\n",
              "      </script>\n",
              "    </div>\n",
              "  </div>\n",
              "  "
            ]
          },
          "metadata": {},
          "execution_count": 99
        }
      ]
    },
    {
      "cell_type": "code",
      "source": [
        "df_x_clean['Pre or Post?'].value_counts()"
      ],
      "metadata": {
        "colab": {
          "base_uri": "https://localhost:8080/"
        },
        "id": "GZUo0tlvEHOw",
        "outputId": "6f02dd35-9158-4aed-f57f-826e109d1bca"
      },
      "execution_count": 100,
      "outputs": [
        {
          "output_type": "execute_result",
          "data": {
            "text/plain": [
              "Pre     699\n",
              "Post    358\n",
              "Name: Pre or Post?, dtype: int64"
            ]
          },
          "metadata": {},
          "execution_count": 100
        }
      ]
    },
    {
      "cell_type": "code",
      "source": [
        "df_x_clean.columns"
      ],
      "metadata": {
        "colab": {
          "base_uri": "https://localhost:8080/"
        },
        "id": "og7-RhHsEiWo",
        "outputId": "01e8f89a-eb91-4a26-8efc-d5e22363801a"
      },
      "execution_count": 101,
      "outputs": [
        {
          "output_type": "execute_result",
          "data": {
            "text/plain": [
              "Index(['Grade_x', 'School Year_x', 'Date of Test', 'Pre or Post?',\n",
              "       'Main Language Used In Exam', 'EGRA Question 1: Reading Habit',\n",
              "       'EGRA Last Book Read', 'Reads With Others',\n",
              "       'How Often, ReadsWithOthers', 'Student Gender', 'Class Number',\n",
              "       'Teacher Number: Teacher Number', 'Date', 'Q1 Rating or Answer',\n",
              "       'Q2 Rating', 'Q3 Rating or Answer', 'Q4 Rating or Answer',\n",
              "       'Q5 Rating or Answer', 'Q6 Rating or Answer', 'Q7 Rating', 'Q8 Rating',\n",
              "       'Skill to Improve 1', 'Skill to Improve 2', 'Minutes Spent Observing',\n",
              "       'Minutes Spent Coaching', 'Total Score', 'Teacher Number: Gender',\n",
              "       'Teacher Number: School Years in Teacher Support Program',\n",
              "       'Teacher Present', 'Average Students Enrolled', 'School Year_y'],\n",
              "      dtype='object')"
            ]
          },
          "metadata": {},
          "execution_count": 101
        }
      ]
    },
    {
      "cell_type": "code",
      "source": [
        "df_x_clean['School Year_y']"
      ],
      "metadata": {
        "colab": {
          "base_uri": "https://localhost:8080/"
        },
        "id": "RUOZxvNJf9H2",
        "outputId": "e19879f6-e48a-45e8-e9ba-f5d5b0c02920"
      },
      "execution_count": 102,
      "outputs": [
        {
          "output_type": "execute_result",
          "data": {
            "text/plain": [
              "0       2019-2020\n",
              "1       2019-2020\n",
              "2       2019-2020\n",
              "3       2019-2020\n",
              "4       2019-2020\n",
              "          ...    \n",
              "1052    2019-2020\n",
              "1053    2019-2020\n",
              "1054    2019-2020\n",
              "1055    2019-2020\n",
              "1056    2019-2020\n",
              "Name: School Year_y, Length: 1057, dtype: object"
            ]
          },
          "metadata": {},
          "execution_count": 102
        }
      ]
    },
    {
      "cell_type": "code",
      "source": [
        "df_x_clean['Teacher Present'].unique()"
      ],
      "metadata": {
        "colab": {
          "base_uri": "https://localhost:8080/"
        },
        "id": "QnG5YyHbfN5-",
        "outputId": "f3f62a3a-c8e9-4593-eb7c-55cc4ad85b37"
      },
      "execution_count": 103,
      "outputs": [
        {
          "output_type": "execute_result",
          "data": {
            "text/plain": [
              "array(['Present', 'Not Present'], dtype=object)"
            ]
          },
          "metadata": {},
          "execution_count": 103
        }
      ]
    },
    {
      "cell_type": "code",
      "source": [
        "df_x_clean['Teacher Present'] = df_x_clean['Teacher Present'].map({\n",
        "    \"Present\":1,\n",
        "    \"Not Present\":0\n",
        "})"
      ],
      "metadata": {
        "id": "PmQiCitXfNyb"
      },
      "execution_count": 104,
      "outputs": []
    },
    {
      "cell_type": "code",
      "source": [
        "df_x_clean['Teacher Number: Gender'].unique()"
      ],
      "metadata": {
        "colab": {
          "base_uri": "https://localhost:8080/"
        },
        "id": "zmathuIwefQ5",
        "outputId": "0b7aefed-3997-477d-8b44-fa91f16d0687"
      },
      "execution_count": 105,
      "outputs": [
        {
          "output_type": "execute_result",
          "data": {
            "text/plain": [
              "array(['Female', 'Male'], dtype=object)"
            ]
          },
          "metadata": {},
          "execution_count": 105
        }
      ]
    },
    {
      "cell_type": "code",
      "source": [
        "df_x_clean['Teacher Number: Gender'] = df_x_clean['Teacher Number: Gender'].map({\n",
        "    \"Male\":1,\n",
        "    \"Female\":0\n",
        "})"
      ],
      "metadata": {
        "id": "gkvUpGjeefIl"
      },
      "execution_count": 106,
      "outputs": []
    },
    {
      "cell_type": "code",
      "source": [
        "df_x_clean['Student Gender'].unique()"
      ],
      "metadata": {
        "colab": {
          "base_uri": "https://localhost:8080/"
        },
        "id": "QeF8l0C_eODo",
        "outputId": "78651fdd-ed17-4c42-b07c-db5e9ee54eea"
      },
      "execution_count": 107,
      "outputs": [
        {
          "output_type": "execute_result",
          "data": {
            "text/plain": [
              "array(['Male', 'Female'], dtype=object)"
            ]
          },
          "metadata": {},
          "execution_count": 107
        }
      ]
    },
    {
      "cell_type": "code",
      "source": [
        "df_x_clean['Student Gender'] = df_x_clean['Student Gender'].map({\n",
        "    \"Male\":1,\n",
        "    \"Female\":0\n",
        "})"
      ],
      "metadata": {
        "id": "S7Ev50AAeN8U"
      },
      "execution_count": 108,
      "outputs": []
    },
    {
      "cell_type": "code",
      "source": [
        "df_x_clean['EGRA Last Book Read'].unique()"
      ],
      "metadata": {
        "colab": {
          "base_uri": "https://localhost:8080/"
        },
        "id": "JwzgKXy2eB8X",
        "outputId": "02422aad-014e-4f48-dcb7-af42b8b3400a"
      },
      "execution_count": 109,
      "outputs": [
        {
          "output_type": "execute_result",
          "data": {
            "text/plain": [
              "array(['Yes', 'No'], dtype=object)"
            ]
          },
          "metadata": {},
          "execution_count": 109
        }
      ]
    },
    {
      "cell_type": "code",
      "source": [
        "df_x_clean['EGRA Last Book Read'] = df_x_clean['EGRA Last Book Read'].map({\n",
        "    \"Yes\":1,\n",
        "    \"No\":0\n",
        "})"
      ],
      "metadata": {
        "id": "jd308nOfeBzx"
      },
      "execution_count": 110,
      "outputs": []
    },
    {
      "cell_type": "code",
      "source": [
        "df_x_clean['EGRA Question 1: Reading Habit'].unique()"
      ],
      "metadata": {
        "colab": {
          "base_uri": "https://localhost:8080/"
        },
        "id": "WRREb7JudSFS",
        "outputId": "d94334bc-7b85-4214-e603-44fbe56f7c19"
      },
      "execution_count": 111,
      "outputs": [
        {
          "output_type": "execute_result",
          "data": {
            "text/plain": [
              "array(['Yes', 'No'], dtype=object)"
            ]
          },
          "metadata": {},
          "execution_count": 111
        }
      ]
    },
    {
      "cell_type": "code",
      "source": [
        "df_x_clean['EGRA Question 1: Reading Habit'] = df_x_clean['EGRA Question 1: Reading Habit'].map({\n",
        "    \"Yes\":1,\n",
        "    \"No\":0\n",
        "})"
      ],
      "metadata": {
        "id": "Rj2I2GH_dR_D"
      },
      "execution_count": 112,
      "outputs": []
    },
    {
      "cell_type": "code",
      "source": [
        "df_x_clean=df_x_clean.drop(labels=['Date of Test','Class Number',\n",
        "       'Teacher Number: Teacher Number', 'Date','School Year_y'],axis=1)"
      ],
      "metadata": {
        "id": "gvg0CP10ciBi"
      },
      "execution_count": 113,
      "outputs": []
    },
    {
      "cell_type": "code",
      "source": [
        "df_x_clean['Main Language Used In Exam'].unique()"
      ],
      "metadata": {
        "colab": {
          "base_uri": "https://localhost:8080/"
        },
        "id": "mUtBgk3Wc29G",
        "outputId": "d21443bf-9cba-4995-91b4-7c1b0ed02c28"
      },
      "execution_count": 114,
      "outputs": [
        {
          "output_type": "execute_result",
          "data": {
            "text/plain": [
              "array(['English; Ewe', 'English', 'Ewe'], dtype=object)"
            ]
          },
          "metadata": {},
          "execution_count": 114
        }
      ]
    },
    {
      "cell_type": "code",
      "source": [
        "df_x_clean['Main Language Used In Exam'] = df_x_clean['Main Language Used In Exam'].map({\n",
        "    \"Ewe\": 1,\n",
        "    \"English\": 2,\n",
        "    \"English; Ewe\": 3\n",
        "})"
      ],
      "metadata": {
        "id": "yJtlfpMDc_eJ"
      },
      "execution_count": 115,
      "outputs": []
    },
    {
      "cell_type": "code",
      "source": [
        "len(df_x_clean.columns)"
      ],
      "metadata": {
        "colab": {
          "base_uri": "https://localhost:8080/"
        },
        "id": "WXrbfKl6NeMY",
        "outputId": "db8cd5f7-cdb6-422e-bbd9-bea8c1e644ec"
      },
      "execution_count": 116,
      "outputs": [
        {
          "output_type": "execute_result",
          "data": {
            "text/plain": [
              "26"
            ]
          },
          "metadata": {},
          "execution_count": 116
        }
      ]
    },
    {
      "cell_type": "markdown",
      "source": [
        "### Encode to multiple categories"
      ],
      "metadata": {
        "id": "ZDwapIWxSo3V"
      }
    },
    {
      "cell_type": "code",
      "source": [
        "df_x_clean['School Year_x'].unique()"
      ],
      "metadata": {
        "colab": {
          "base_uri": "https://localhost:8080/"
        },
        "id": "iyOgjcWBN8jP",
        "outputId": "4458bc7e-9494-4bf1-ab6c-cfa1e6526e5a"
      },
      "execution_count": 117,
      "outputs": [
        {
          "output_type": "execute_result",
          "data": {
            "text/plain": [
              "array(['2019-2020', '2020-2021', '2018-2019'], dtype=object)"
            ]
          },
          "metadata": {},
          "execution_count": 117
        }
      ]
    },
    {
      "cell_type": "code",
      "source": [
        "df_x_clean[\"School Year_x\"] = df_x_clean[\"School Year_x\"].map({\n",
        "    \"2019-2020\": 2020,\n",
        "    \"2020-2021\": 2021,\n",
        "    \"2018-2019\": 2019\n",
        "})"
      ],
      "metadata": {
        "id": "MAdPYBUYOgvp"
      },
      "execution_count": 118,
      "outputs": []
    },
    {
      "cell_type": "code",
      "source": [
        "df_x_clean[\"School Year_x\"].unique()"
      ],
      "metadata": {
        "colab": {
          "base_uri": "https://localhost:8080/"
        },
        "id": "Av7BJpwwSb_C",
        "outputId": "01c4e0e0-a695-4f87-848c-7e067fc70629"
      },
      "execution_count": 119,
      "outputs": [
        {
          "output_type": "execute_result",
          "data": {
            "text/plain": [
              "array([2020, 2021, 2019])"
            ]
          },
          "metadata": {},
          "execution_count": 119
        }
      ]
    },
    {
      "cell_type": "code",
      "source": [
        "df_x_clean['Pre or Post?'] = df_x_clean['Pre or Post?'].map({\n",
        "   \"Pre\":0,\n",
        "   \"Post\":1 \n",
        "})"
      ],
      "metadata": {
        "id": "sLQR8l3KSltw"
      },
      "execution_count": 120,
      "outputs": []
    },
    {
      "cell_type": "code",
      "source": [
        "df_x_clean['Pre or Post?'] "
      ],
      "metadata": {
        "colab": {
          "base_uri": "https://localhost:8080/"
        },
        "id": "UHbRYm5sTFJQ",
        "outputId": "2d89f1bc-7447-42cf-c388-c34cfd35bd2e"
      },
      "execution_count": 121,
      "outputs": [
        {
          "output_type": "execute_result",
          "data": {
            "text/plain": [
              "0       0\n",
              "1       0\n",
              "2       0\n",
              "3       0\n",
              "4       0\n",
              "       ..\n",
              "1052    0\n",
              "1053    0\n",
              "1054    0\n",
              "1055    0\n",
              "1056    0\n",
              "Name: Pre or Post?, Length: 1057, dtype: int64"
            ]
          },
          "metadata": {},
          "execution_count": 121
        }
      ]
    },
    {
      "cell_type": "code",
      "source": [
        "matched_clean=pd.concat([df_target,df_x_clean],axis=1)"
      ],
      "metadata": {
        "id": "TaJqI2JmxpSw"
      },
      "execution_count": 122,
      "outputs": []
    },
    {
      "cell_type": "code",
      "source": [
        "matched_clean.to_csv(\"Matched Clean.csv\")"
      ],
      "metadata": {
        "id": "XFv6KDI8APYN"
      },
      "execution_count": 123,
      "outputs": []
    },
    {
      "cell_type": "code",
      "source": [
        "df_target.to_csv(\"Target_Pop.csv\")"
      ],
      "metadata": {
        "id": "oOYpnFoBgEII"
      },
      "execution_count": 124,
      "outputs": []
    },
    {
      "cell_type": "code",
      "source": [
        "df_x_clean.to_csv(\"Feature_Pop .csv\")"
      ],
      "metadata": {
        "id": "jNfs7e7tmTZW"
      },
      "execution_count": 125,
      "outputs": []
    },
    {
      "cell_type": "code",
      "source": [],
      "metadata": {
        "id": "DmncqOxng2aw"
      },
      "execution_count": 125,
      "outputs": []
    }
  ]
}