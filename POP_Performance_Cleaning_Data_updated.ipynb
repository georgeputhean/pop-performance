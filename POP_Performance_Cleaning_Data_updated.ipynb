{
  "nbformat": 4,
  "nbformat_minor": 0,
  "metadata": {
    "colab": {
      "provenance": [],
      "include_colab_link": true
    },
    "kernelspec": {
      "name": "python3",
      "display_name": "Python 3"
    },
    "language_info": {
      "name": "python"
    }
  },
  "cells": [
    {
      "cell_type": "markdown",
      "metadata": {
        "id": "view-in-github",
        "colab_type": "text"
      },
      "source": [
        "<a href=\"https://colab.research.google.com/github/georgeputhean/pop-performance/blob/main/POP_Performance_Cleaning_Data_updated.ipynb\" target=\"_parent\"><img src=\"https://colab.research.google.com/assets/colab-badge.svg\" alt=\"Open In Colab\"/></a>"
      ]
    },
    {
      "cell_type": "code",
      "execution_count": null,
      "metadata": {
        "id": "Y6VAXKpfhpA6"
      },
      "outputs": [],
      "source": [
        "import warnings\n",
        "warnings.simplefilter(action='ignore', category=FutureWarning)\n",
        "import pandas as pd\n",
        "pd.options.mode.chained_assignment = None \n",
        "\n",
        "import seaborn as sns\n",
        "sns.set() \n",
        "import matplotlib.pyplot as plt"
      ]
    },
    {
      "cell_type": "code",
      "source": [
        "from google.colab import drive\n",
        "drive.mount('/content/drive')"
      ],
      "metadata": {
        "colab": {
          "base_uri": "https://localhost:8080/"
        },
        "id": "eYkGKJA2cC3y",
        "outputId": "7412ba50-2c13-4bf0-f0a1-84cabe8020bf"
      },
      "execution_count": null,
      "outputs": [
        {
          "output_type": "stream",
          "name": "stdout",
          "text": [
            "Drive already mounted at /content/drive; to attempt to forcibly remount, call drive.mount(\"/content/drive\", force_remount=True).\n"
          ]
        }
      ]
    },
    {
      "cell_type": "code",
      "source": [
        "df=pd.read_csv(\"/content/drive/MyDrive/Matched Data filterered.csv\")"
      ],
      "metadata": {
        "id": "mgtjK7JXh-Th"
      },
      "execution_count": null,
      "outputs": []
    },
    {
      "cell_type": "code",
      "source": [
        "df.columns"
      ],
      "metadata": {
        "colab": {
          "base_uri": "https://localhost:8080/"
        },
        "id": "RY43QmN-kpmo",
        "outputId": "cbfe63f7-f995-4916-95ab-4ae23a565003"
      },
      "execution_count": null,
      "outputs": [
        {
          "output_type": "execute_result",
          "data": {
            "text/plain": [
              "Index(['Unnamed: 0', 'Grade_x', 'School Name', 'School Year_x', 'Notes',\n",
              "       'Tangerine Test ID', 'Student Number', 'Student Test Number',\n",
              "       'Date of Test', 'Control or Treatment?', 'Pre or Post?',\n",
              "       'EGRA Section 1a Score', 'EGRA Section 1b Score',\n",
              "       'EGRA Section 1c Score', 'EGRA Section 2a Score',\n",
              "       'EGRA Section 2b Score', 'EGRA Section 3 Letters Correct',\n",
              "       'EGRA Section 3 Time Completed', 'EGRA Section 3 LPM',\n",
              "       'EGRA Section 4 Words Correct', 'EGRA Section 4 Time Completed',\n",
              "       'EGRA Section 4: WPM', 'EGRA Section 5 Words Correct',\n",
              "       'EGRA Section 5 Time Completed', 'EGRA Section 5 CWPM',\n",
              "       'EGRA Section 5 Questions Correct',\n",
              "       'EGRA Section 6 Written Words Correct',\n",
              "       'EGRA Section 6 Correct Space/Direction',\n",
              "       'EGRA Section 6 Correct Punctuation',\n",
              "       'EGRA Section 6 Correct Use of Capitals', 'EGRA Section 7a Score',\n",
              "       'Main Language Used In Exam', 'EGRA Question 1: Reading Habit',\n",
              "       'EGRA Last Book Read', 'Reads With Others',\n",
              "       'How Often, ReadsWithOthers', 'Student Gender', 'Class Number',\n",
              "       'Teacher Number: Teacher Number', 'Teacher Number: Full Name',\n",
              "       'School: School Name', 'Grade_y', 'Teacher Class Number',\n",
              "       'Teacher Assessment Number', 'Date', 'Question 1',\n",
              "       'Q1 Rating or Answer', 'Question 2', 'Q2 Rating', 'Question 3',\n",
              "       'Q3 Rating or Answer', 'Question 4', 'Q4 Rating or Answer',\n",
              "       'Question 5', 'Q5 Rating or Answer', 'Question 6',\n",
              "       'Q6 Rating or Answer', 'Question 7', 'Q7 Rating', 'Question 8',\n",
              "       'Q8 Rating', 'Skill to Improve 1', 'Skill to Improve 1 Notes',\n",
              "       'Skill to Improve 2', 'Skill to Improve 2 Notes', 'Skill to Improve 3',\n",
              "       'Skill to Improve 3 Notes', 'Recommended Next Steps', 'What Went Well?',\n",
              "       'Minutes Spent Observing', 'Minutes Spent Coaching', 'Total Score',\n",
              "       'Teacher Number: Gender',\n",
              "       'Teacher Number: School Years in Teacher Support Program',\n",
              "       'Teacher Present', 'Second Teacher Present',\n",
              "       'Average Students Enrolled', 'School Year_y', 'Select_Row'],\n",
              "      dtype='object')"
            ]
          },
          "metadata": {},
          "execution_count": 475
        }
      ]
    },
    {
      "cell_type": "code",
      "source": [
        "df=df[df['Select_Row']==True]"
      ],
      "metadata": {
        "id": "gtMRl6a7E7vt"
      },
      "execution_count": null,
      "outputs": []
    },
    {
      "cell_type": "code",
      "source": [
        "df1=df.drop(['School Name','Unnamed: 0','Notes','Tangerine Test ID','Student Number', 'Student Test Number','Skill to Improve 1 Notes','Skill to Improve 2 Notes','Skill to Improve 3 Notes',\n",
        "              'Teacher Number: Full Name','Skill to Improve 3','Recommended Next Steps', 'What Went Well?', 'Second Teacher Present','Control or Treatment?',\n",
        "       'School: School Name','Teacher Class Number', 'Teacher Assessment Number', 'Question 1', 'Question 2','Question 3','Question 4','Question 5','Question 6','Question 7','Question 8', 'Grade_y', 'Select_Row'],axis=1)"
      ],
      "metadata": {
        "id": "K_iu_EHPiDJn"
      },
      "execution_count": null,
      "outputs": []
    },
    {
      "cell_type": "code",
      "source": [],
      "metadata": {
        "id": "CVPXGWBLE4J5"
      },
      "execution_count": null,
      "outputs": []
    },
    {
      "cell_type": "code",
      "source": [],
      "metadata": {
        "id": "scGybBRxE4GI"
      },
      "execution_count": null,
      "outputs": []
    },
    {
      "cell_type": "code",
      "source": [],
      "metadata": {
        "id": "TBYC8b_uE4Dr"
      },
      "execution_count": null,
      "outputs": []
    },
    {
      "cell_type": "code",
      "source": [
        "df_target=df1.filter(like='EGRA Section')"
      ],
      "metadata": {
        "id": "4iqLFnENkfG8"
      },
      "execution_count": null,
      "outputs": []
    },
    {
      "cell_type": "code",
      "source": [
        "df_x = df1[df1.columns.drop(list(df.filter(regex='EGRA Section')))]"
      ],
      "metadata": {
        "id": "Cs514QbPmg1_"
      },
      "execution_count": null,
      "outputs": []
    },
    {
      "cell_type": "code",
      "source": [
        "len(df_target.columns)"
      ],
      "metadata": {
        "colab": {
          "base_uri": "https://localhost:8080/"
        },
        "id": "o8Q5UPihJMtS",
        "outputId": "92b640e4-2966-44f5-de00-dc3a79b3b9bf"
      },
      "execution_count": null,
      "outputs": [
        {
          "output_type": "execute_result",
          "data": {
            "text/plain": [
              "20"
            ]
          },
          "metadata": {},
          "execution_count": 480
        }
      ]
    },
    {
      "cell_type": "code",
      "source": [
        "df_x.columns"
      ],
      "metadata": {
        "colab": {
          "base_uri": "https://localhost:8080/"
        },
        "id": "ZpbVx8kgpu8O",
        "outputId": "f5ffd64c-6a06-4771-b391-cef7241cc710"
      },
      "execution_count": null,
      "outputs": [
        {
          "output_type": "execute_result",
          "data": {
            "text/plain": [
              "Index(['Grade_x', 'School Year_x', 'Date of Test', 'Pre or Post?',\n",
              "       'Main Language Used In Exam', 'EGRA Question 1: Reading Habit',\n",
              "       'EGRA Last Book Read', 'Reads With Others',\n",
              "       'How Often, ReadsWithOthers', 'Student Gender', 'Class Number',\n",
              "       'Teacher Number: Teacher Number', 'Date', 'Q1 Rating or Answer',\n",
              "       'Q2 Rating', 'Q3 Rating or Answer', 'Q4 Rating or Answer',\n",
              "       'Q5 Rating or Answer', 'Q6 Rating or Answer', 'Q7 Rating', 'Q8 Rating',\n",
              "       'Skill to Improve 1', 'Skill to Improve 2', 'Minutes Spent Observing',\n",
              "       'Minutes Spent Coaching', 'Total Score', 'Teacher Number: Gender',\n",
              "       'Teacher Number: School Years in Teacher Support Program',\n",
              "       'Teacher Present', 'Average Students Enrolled', 'School Year_y'],\n",
              "      dtype='object')"
            ]
          },
          "metadata": {},
          "execution_count": 481
        }
      ]
    },
    {
      "cell_type": "code",
      "source": [
        "df_x_clean=df_x"
      ],
      "metadata": {
        "id": "cfpyPn0M2kDh"
      },
      "execution_count": null,
      "outputs": []
    },
    {
      "cell_type": "code",
      "source": [
        "df_x_clean['Grade_x']=df_x['Grade_x'].str[8:9]"
      ],
      "metadata": {
        "id": "60unsivxrCwm"
      },
      "execution_count": null,
      "outputs": []
    },
    {
      "cell_type": "code",
      "source": [
        "df_x_clean['Q1 Rating or Answer']"
      ],
      "metadata": {
        "colab": {
          "base_uri": "https://localhost:8080/"
        },
        "id": "CG0myZZHG0pw",
        "outputId": "972f2536-2d97-46cf-96e8-cfa0afa01d8b"
      },
      "execution_count": null,
      "outputs": [
        {
          "output_type": "execute_result",
          "data": {
            "text/plain": [
              "14     NaN\n",
              "16     NaN\n",
              "18     NaN\n",
              "20     NaN\n",
              "22     NaN\n",
              "      ... \n",
              "989    NaN\n",
              "991    NaN\n",
              "993    NaN\n",
              "995    NaN\n",
              "997    NaN\n",
              "Name: Q1 Rating or Answer, Length: 349, dtype: object"
            ]
          },
          "metadata": {},
          "execution_count": 484
        }
      ]
    },
    {
      "cell_type": "code",
      "source": [
        "df_x_clean['Q1 Rating or Answer']=df_x['Q1 Rating or Answer'].str[0:1]\n",
        "df_x_clean['Q2 Rating'] = df_x['Q2 Rating'].str[0:1]\n",
        "df_x_clean['Q3 Rating or Answer']= df_x['Q3 Rating or Answer'].str[0:1]\n",
        "df_x_clean['Q4 Rating or Answer']= df_x['Q4 Rating or Answer'].str[0:1]\n",
        "df_x_clean['Q5 Rating or Answer']= df_x['Q5 Rating or Answer'].str[0:1]\n",
        "df_x_clean['Q6 Rating or Answer']= df_x['Q6 Rating or Answer'].str[0:1]\n",
        "df_x_clean['Q7 Rating']= df_x['Q7 Rating'].str[0:1]\n",
        "df_x_clean['Q8 Rating']= df_x['Q8 Rating'].str[0:1]"
      ],
      "metadata": {
        "id": "tzhnctECu0zf"
      },
      "execution_count": null,
      "outputs": []
    },
    {
      "cell_type": "code",
      "source": [
        "len(df_x_clean.columns)"
      ],
      "metadata": {
        "colab": {
          "base_uri": "https://localhost:8080/"
        },
        "id": "E4PbHjUSxzT6",
        "outputId": "a1526c27-5701-481b-88e2-b072fdfdfe14"
      },
      "execution_count": null,
      "outputs": [
        {
          "output_type": "execute_result",
          "data": {
            "text/plain": [
              "31"
            ]
          },
          "metadata": {},
          "execution_count": 486
        }
      ]
    },
    {
      "cell_type": "markdown",
      "source": [
        "Set the Rating to None when teacher not present"
      ],
      "metadata": {
        "id": "kPyLtwUu-n6g"
      }
    },
    {
      "cell_type": "code",
      "source": [
        "df_x_clean[['Q1 Rating or Answer','Q2 Rating','Q3 Rating or Answer','Q4 Rating or Answer','Q5 Rating or Answer','Q6 Rating or Answer','Q7 Rating','Q8 Rating']]=df_x_clean[['Q1 Rating or Answer','Q2 Rating','Q3 Rating or Answer','Q4 Rating or Answer','Q5 Rating or Answer','Q6 Rating or Answer','Q7 Rating','Q8 Rating']].fillna(0)"
      ],
      "metadata": {
        "id": "lwXO_laD3esY"
      },
      "execution_count": null,
      "outputs": []
    },
    {
      "cell_type": "code",
      "source": [
        "df_x_clean[df_x_clean['Teacher Present']=='Not Present'].count()"
      ],
      "metadata": {
        "colab": {
          "base_uri": "https://localhost:8080/"
        },
        "id": "ceU2-z5crZLA",
        "outputId": "24df945d-1d20-45ad-b413-d07ae911d453"
      },
      "execution_count": null,
      "outputs": [
        {
          "output_type": "execute_result",
          "data": {
            "text/plain": [
              "Grade_x                                                    88\n",
              "School Year_x                                              88\n",
              "Date of Test                                               88\n",
              "Pre or Post?                                               88\n",
              "Main Language Used In Exam                                 88\n",
              "EGRA Question 1: Reading Habit                             88\n",
              "EGRA Last Book Read                                        88\n",
              "Reads With Others                                          88\n",
              "How Often, ReadsWithOthers                                 88\n",
              "Student Gender                                             88\n",
              "Class Number                                               88\n",
              "Teacher Number: Teacher Number                             88\n",
              "Date                                                       88\n",
              "Q1 Rating or Answer                                        88\n",
              "Q2 Rating                                                  88\n",
              "Q3 Rating or Answer                                        88\n",
              "Q4 Rating or Answer                                        88\n",
              "Q5 Rating or Answer                                        88\n",
              "Q6 Rating or Answer                                        88\n",
              "Q7 Rating                                                  88\n",
              "Q8 Rating                                                  88\n",
              "Skill to Improve 1                                          0\n",
              "Skill to Improve 2                                          0\n",
              "Minutes Spent Observing                                     0\n",
              "Minutes Spent Coaching                                      0\n",
              "Total Score                                                88\n",
              "Teacher Number: Gender                                     88\n",
              "Teacher Number: School Years in Teacher Support Program    88\n",
              "Teacher Present                                            88\n",
              "Average Students Enrolled                                  88\n",
              "School Year_y                                              88\n",
              "dtype: int64"
            ]
          },
          "metadata": {},
          "execution_count": 488
        }
      ]
    },
    {
      "cell_type": "code",
      "source": [
        "df_x_clean['Q1 Rating or Answer'].value_counts()"
      ],
      "metadata": {
        "colab": {
          "base_uri": "https://localhost:8080/"
        },
        "id": "oRp94pRpuI3x",
        "outputId": "ebbaa1ce-1fce-436f-8f9e-574e848f8528"
      },
      "execution_count": null,
      "outputs": [
        {
          "output_type": "execute_result",
          "data": {
            "text/plain": [
              "3    139\n",
              "2    122\n",
              "0     88\n",
              "Name: Q1 Rating or Answer, dtype: int64"
            ]
          },
          "metadata": {},
          "execution_count": 489
        }
      ]
    },
    {
      "cell_type": "markdown",
      "source": [
        "Minutes mean"
      ],
      "metadata": {
        "id": "ultN1q2l-hbq"
      }
    },
    {
      "cell_type": "code",
      "source": [],
      "metadata": {
        "id": "P8vMWA9EvZkX"
      },
      "execution_count": null,
      "outputs": []
    },
    {
      "cell_type": "code",
      "source": [
        "mean_min=df_x_clean[['Minutes Spent Observing','Minutes Spent Coaching']].mean()"
      ],
      "metadata": {
        "id": "od-zFDMz3scm"
      },
      "execution_count": null,
      "outputs": []
    },
    {
      "cell_type": "code",
      "source": [
        "df_x_clean[['Minutes Spent Observing','Minutes Spent Coaching']]=df_x_clean[['Minutes Spent Observing','Minutes Spent Coaching']].fillna(mean_min)"
      ],
      "metadata": {
        "id": "30KrsABV8Mby"
      },
      "execution_count": null,
      "outputs": []
    },
    {
      "cell_type": "markdown",
      "source": [
        "Skills to None"
      ],
      "metadata": {
        "id": "t0B-IgSZ-ee4"
      }
    },
    {
      "cell_type": "code",
      "source": [
        "df_x_clean[['Skill to Improve 1','Skill to Improve 2']]=df_x_clean[['Skill to Improve 1','Skill to Improve 2']].fillna(\"None\")"
      ],
      "metadata": {
        "id": "_HLK2d6584Kx"
      },
      "execution_count": null,
      "outputs": []
    },
    {
      "cell_type": "code",
      "source": [
        "df_x_clean[['Main Language Used In Exam']].value_counts()"
      ],
      "metadata": {
        "colab": {
          "base_uri": "https://localhost:8080/"
        },
        "id": "82fvzqTeiz4J",
        "outputId": "0908a707-dd1e-4f15-d4da-7a0066a9b755"
      },
      "execution_count": null,
      "outputs": [
        {
          "output_type": "execute_result",
          "data": {
            "text/plain": [
              "Main Language Used In Exam\n",
              "English; Ewe                  245\n",
              "English                        80\n",
              "Ewe                            22\n",
              "dtype: int64"
            ]
          },
          "metadata": {},
          "execution_count": 493
        }
      ]
    },
    {
      "cell_type": "code",
      "source": [
        "df_x_clean[['Main Language Used In Exam']]=df_x_clean[['Main Language Used In Exam']].fillna(\"English; Ewe\")"
      ],
      "metadata": {
        "id": "JkR5sbl2j2D4"
      },
      "execution_count": null,
      "outputs": []
    },
    {
      "cell_type": "code",
      "source": [
        "#ns.pairplot(df1,hue=\"Pre or Post?\")"
      ],
      "metadata": {
        "id": "M1sTDa3z-dsj"
      },
      "execution_count": null,
      "outputs": []
    },
    {
      "cell_type": "code",
      "source": [
        "df_x_clean.columns"
      ],
      "metadata": {
        "colab": {
          "base_uri": "https://localhost:8080/"
        },
        "id": "W1AsvXSvCGKC",
        "outputId": "fd3d049e-ed51-4e70-8611-ff005174dc91"
      },
      "execution_count": null,
      "outputs": [
        {
          "output_type": "execute_result",
          "data": {
            "text/plain": [
              "Index(['Grade_x', 'School Year_x', 'Date of Test', 'Pre or Post?',\n",
              "       'Main Language Used In Exam', 'EGRA Question 1: Reading Habit',\n",
              "       'EGRA Last Book Read', 'Reads With Others',\n",
              "       'How Often, ReadsWithOthers', 'Student Gender', 'Class Number',\n",
              "       'Teacher Number: Teacher Number', 'Date', 'Q1 Rating or Answer',\n",
              "       'Q2 Rating', 'Q3 Rating or Answer', 'Q4 Rating or Answer',\n",
              "       'Q5 Rating or Answer', 'Q6 Rating or Answer', 'Q7 Rating', 'Q8 Rating',\n",
              "       'Skill to Improve 1', 'Skill to Improve 2', 'Minutes Spent Observing',\n",
              "       'Minutes Spent Coaching', 'Total Score', 'Teacher Number: Gender',\n",
              "       'Teacher Number: School Years in Teacher Support Program',\n",
              "       'Teacher Present', 'Average Students Enrolled', 'School Year_y'],\n",
              "      dtype='object')"
            ]
          },
          "metadata": {},
          "execution_count": 496
        }
      ]
    },
    {
      "cell_type": "code",
      "source": [
        "df_x_clean.count()"
      ],
      "metadata": {
        "colab": {
          "base_uri": "https://localhost:8080/"
        },
        "id": "pfivmIOwiRdr",
        "outputId": "6cda323f-bce1-47c4-922d-a0edd9dca3cb"
      },
      "execution_count": null,
      "outputs": [
        {
          "output_type": "execute_result",
          "data": {
            "text/plain": [
              "Grade_x                                                    349\n",
              "School Year_x                                              349\n",
              "Date of Test                                               349\n",
              "Pre or Post?                                               349\n",
              "Main Language Used In Exam                                 349\n",
              "EGRA Question 1: Reading Habit                             349\n",
              "EGRA Last Book Read                                        349\n",
              "Reads With Others                                          349\n",
              "How Often, ReadsWithOthers                                 349\n",
              "Student Gender                                             349\n",
              "Class Number                                               349\n",
              "Teacher Number: Teacher Number                             349\n",
              "Date                                                       349\n",
              "Q1 Rating or Answer                                        349\n",
              "Q2 Rating                                                  349\n",
              "Q3 Rating or Answer                                        349\n",
              "Q4 Rating or Answer                                        349\n",
              "Q5 Rating or Answer                                        349\n",
              "Q6 Rating or Answer                                        349\n",
              "Q7 Rating                                                  349\n",
              "Q8 Rating                                                  349\n",
              "Skill to Improve 1                                         349\n",
              "Skill to Improve 2                                         349\n",
              "Minutes Spent Observing                                    349\n",
              "Minutes Spent Coaching                                     349\n",
              "Total Score                                                349\n",
              "Teacher Number: Gender                                     349\n",
              "Teacher Number: School Years in Teacher Support Program    349\n",
              "Teacher Present                                            349\n",
              "Average Students Enrolled                                  349\n",
              "School Year_y                                              349\n",
              "dtype: int64"
            ]
          },
          "metadata": {},
          "execution_count": 497
        }
      ]
    },
    {
      "cell_type": "code",
      "source": [
        "df_x_clean['Teacher Number: School Years in Teacher Support Program']=df_x_clean['Teacher Number: School Years in Teacher Support Program'].str.count('-')"
      ],
      "metadata": {
        "id": "L_Em7Glp0PmR"
      },
      "execution_count": null,
      "outputs": []
    },
    {
      "cell_type": "code",
      "source": [
        "df_q=df_x_clean.filter(like='Rating')"
      ],
      "metadata": {
        "id": "uJlU54lLKTXF"
      },
      "execution_count": null,
      "outputs": []
    },
    {
      "cell_type": "code",
      "source": [
        "df_q = df_q.astype('int')"
      ],
      "metadata": {
        "id": "qbH8vIDnMC3x"
      },
      "execution_count": null,
      "outputs": []
    },
    {
      "cell_type": "code",
      "source": [
        "# sns.pairplot(df_q)\n"
      ],
      "metadata": {
        "id": "zHjPiPG0GjMU"
      },
      "execution_count": null,
      "outputs": []
    },
    {
      "cell_type": "code",
      "source": [
        "df_target['EGRA Section 1 Total Score']=df_target['EGRA Section 1a Score']+df_target['EGRA Section 1b Score']+df_target['EGRA Section 1c Score']\n",
        "df_target['EGRA Section 6 Total Score']=df_target['EGRA Section 6 Written Words Correct']+df_target['EGRA Section 6 Correct Space/Direction']+df_target['EGRA Section 6 Correct Punctuation']+df_target['EGRA Section 6 Correct Use of Capitals']"
      ],
      "metadata": {
        "id": "f2-9lXc2F-aj"
      },
      "execution_count": null,
      "outputs": []
    },
    {
      "cell_type": "code",
      "source": [
        "df_target['EGRA Section 3 LPM']=df_target['EGRA Section 3 LPM'].fillna(df_target['EGRA Section 3 LPM'].mean())"
      ],
      "metadata": {
        "id": "I1w9cvsDbsKN"
      },
      "execution_count": null,
      "outputs": []
    },
    {
      "cell_type": "code",
      "source": [
        "df_target.count()"
      ],
      "metadata": {
        "colab": {
          "base_uri": "https://localhost:8080/"
        },
        "id": "fJiYMBLtx3aB",
        "outputId": "42e009e0-3124-4763-e849-b106fe1c34b9"
      },
      "execution_count": null,
      "outputs": [
        {
          "output_type": "execute_result",
          "data": {
            "text/plain": [
              "EGRA Section 1a Score                     349\n",
              "EGRA Section 1b Score                     349\n",
              "EGRA Section 1c Score                     349\n",
              "EGRA Section 2a Score                     349\n",
              "EGRA Section 2b Score                     349\n",
              "EGRA Section 3 Letters Correct            349\n",
              "EGRA Section 3 Time Completed             347\n",
              "EGRA Section 3 LPM                        349\n",
              "EGRA Section 4 Words Correct              349\n",
              "EGRA Section 4 Time Completed             347\n",
              "EGRA Section 4: WPM                       349\n",
              "EGRA Section 5 Words Correct              349\n",
              "EGRA Section 5 Time Completed             347\n",
              "EGRA Section 5 CWPM                       349\n",
              "EGRA Section 5 Questions Correct          349\n",
              "EGRA Section 6 Written Words Correct      349\n",
              "EGRA Section 6 Correct Space/Direction    349\n",
              "EGRA Section 6 Correct Punctuation        349\n",
              "EGRA Section 6 Correct Use of Capitals    349\n",
              "EGRA Section 7a Score                     349\n",
              "EGRA Section 1 Total Score                349\n",
              "EGRA Section 6 Total Score                349\n",
              "dtype: int64"
            ]
          },
          "metadata": {},
          "execution_count": 504
        }
      ]
    },
    {
      "cell_type": "code",
      "source": [
        "df_target_unique=df_target"
      ],
      "metadata": {
        "id": "8_ffyaZeGtE2"
      },
      "execution_count": null,
      "outputs": []
    },
    {
      "cell_type": "code",
      "source": [
        "df_target_unique.columns"
      ],
      "metadata": {
        "colab": {
          "base_uri": "https://localhost:8080/"
        },
        "id": "gtypAXlva0A9",
        "outputId": "48b164aa-eb81-4c41-bf27-f4235f0367df"
      },
      "execution_count": null,
      "outputs": [
        {
          "output_type": "execute_result",
          "data": {
            "text/plain": [
              "Index(['EGRA Section 1a Score', 'EGRA Section 1b Score',\n",
              "       'EGRA Section 1c Score', 'EGRA Section 2a Score',\n",
              "       'EGRA Section 2b Score', 'EGRA Section 3 Letters Correct',\n",
              "       'EGRA Section 3 Time Completed', 'EGRA Section 3 LPM',\n",
              "       'EGRA Section 4 Words Correct', 'EGRA Section 4 Time Completed',\n",
              "       'EGRA Section 4: WPM', 'EGRA Section 5 Words Correct',\n",
              "       'EGRA Section 5 Time Completed', 'EGRA Section 5 CWPM',\n",
              "       'EGRA Section 5 Questions Correct',\n",
              "       'EGRA Section 6 Written Words Correct',\n",
              "       'EGRA Section 6 Correct Space/Direction',\n",
              "       'EGRA Section 6 Correct Punctuation',\n",
              "       'EGRA Section 6 Correct Use of Capitals', 'EGRA Section 7a Score',\n",
              "       'EGRA Section 1 Total Score', 'EGRA Section 6 Total Score'],\n",
              "      dtype='object')"
            ]
          },
          "metadata": {},
          "execution_count": 506
        }
      ]
    },
    {
      "cell_type": "code",
      "source": [
        "# plt.figure(figsize=(16, 6))\n",
        "\n",
        "# sns.heatmap(df_target_unique.corr(),annot=True);\n"
      ],
      "metadata": {
        "id": "VXfTvbyPHXDm"
      },
      "execution_count": null,
      "outputs": []
    },
    {
      "cell_type": "code",
      "source": [
        "plt.hist(df_x_clean['Average Students Enrolled'])\n",
        "plt.title(\"Distribution of Average Students Enrolled\")\n",
        "plt.show()\n"
      ],
      "metadata": {
        "colab": {
          "base_uri": "https://localhost:8080/",
          "height": 284
        },
        "id": "eLfpizmYZ6e5",
        "outputId": "d8a3eaa6-7cf0-4c41-9619-5eac46d2fff4"
      },
      "execution_count": null,
      "outputs": [
        {
          "output_type": "display_data",
          "data": {
            "text/plain": [
              "<Figure size 432x288 with 1 Axes>"
            ],
            "image/png": "[encoded data removed]"
          },
          "metadata": {}
        }
      ]
    },
    {
      "cell_type": "code",
      "source": [
        "df_target.columns"
      ],
      "metadata": {
        "colab": {
          "base_uri": "https://localhost:8080/"
        },
        "id": "QlhQ5e8Gdv7w",
        "outputId": "4d568875-e896-4eb7-85b1-355f9353e3ac"
      },
      "execution_count": null,
      "outputs": [
        {
          "output_type": "execute_result",
          "data": {
            "text/plain": [
              "Index(['EGRA Section 1a Score', 'EGRA Section 1b Score',\n",
              "       'EGRA Section 1c Score', 'EGRA Section 2a Score',\n",
              "       'EGRA Section 2b Score', 'EGRA Section 3 Letters Correct',\n",
              "       'EGRA Section 3 Time Completed', 'EGRA Section 3 LPM',\n",
              "       'EGRA Section 4 Words Correct', 'EGRA Section 4 Time Completed',\n",
              "       'EGRA Section 4: WPM', 'EGRA Section 5 Words Correct',\n",
              "       'EGRA Section 5 Time Completed', 'EGRA Section 5 CWPM',\n",
              "       'EGRA Section 5 Questions Correct',\n",
              "       'EGRA Section 6 Written Words Correct',\n",
              "       'EGRA Section 6 Correct Space/Direction',\n",
              "       'EGRA Section 6 Correct Punctuation',\n",
              "       'EGRA Section 6 Correct Use of Capitals', 'EGRA Section 7a Score',\n",
              "       'EGRA Section 1 Total Score', 'EGRA Section 6 Total Score'],\n",
              "      dtype='object')"
            ]
          },
          "metadata": {},
          "execution_count": 509
        }
      ]
    },
    {
      "cell_type": "code",
      "source": [
        "df_x_clean.columns"
      ],
      "metadata": {
        "colab": {
          "base_uri": "https://localhost:8080/"
        },
        "id": "lAZw0ZYw2MZE",
        "outputId": "83f38604-30b3-4102-e700-3d4ffa437b1c"
      },
      "execution_count": null,
      "outputs": [
        {
          "output_type": "execute_result",
          "data": {
            "text/plain": [
              "Index(['Grade_x', 'School Year_x', 'Date of Test', 'Pre or Post?',\n",
              "       'Main Language Used In Exam', 'EGRA Question 1: Reading Habit',\n",
              "       'EGRA Last Book Read', 'Reads With Others',\n",
              "       'How Often, ReadsWithOthers', 'Student Gender', 'Class Number',\n",
              "       'Teacher Number: Teacher Number', 'Date', 'Q1 Rating or Answer',\n",
              "       'Q2 Rating', 'Q3 Rating or Answer', 'Q4 Rating or Answer',\n",
              "       'Q5 Rating or Answer', 'Q6 Rating or Answer', 'Q7 Rating', 'Q8 Rating',\n",
              "       'Skill to Improve 1', 'Skill to Improve 2', 'Minutes Spent Observing',\n",
              "       'Minutes Spent Coaching', 'Total Score', 'Teacher Number: Gender',\n",
              "       'Teacher Number: School Years in Teacher Support Program',\n",
              "       'Teacher Present', 'Average Students Enrolled', 'School Year_y'],\n",
              "      dtype='object')"
            ]
          },
          "metadata": {},
          "execution_count": 510
        }
      ]
    },
    {
      "cell_type": "code",
      "source": [
        "df_x_clean['How Often, ReadsWithOthers'].astype('category')"
      ],
      "metadata": {
        "colab": {
          "base_uri": "https://localhost:8080/"
        },
        "id": "n5cd4UvR4Jpi",
        "outputId": "4edbac5b-42b7-4e08-a744-bef2c75e90d3"
      },
      "execution_count": null,
      "outputs": [
        {
          "output_type": "execute_result",
          "data": {
            "text/plain": [
              "14     1\n",
              "16     1\n",
              "18     2\n",
              "20     3\n",
              "22     1\n",
              "      ..\n",
              "989    0\n",
              "991    3\n",
              "993    2\n",
              "995    3\n",
              "997    0\n",
              "Name: How Often, ReadsWithOthers, Length: 349, dtype: category\n",
              "Categories (5, int64): [0, 1, 2, 3, 4]"
            ]
          },
          "metadata": {},
          "execution_count": 511
        }
      ]
    },
    {
      "cell_type": "code",
      "source": [
        "fig, axes = plt.subplots(figsize=(15,10), nrows=2, ncols=2,sharey=True)\n",
        "\n",
        "sns.boxplot(x=df_x_clean['How Often, ReadsWithOthers'],y=df_x_clean['Minutes Spent Observing'],ax=axes[0,0])\n",
        "sns.boxplot(x=df_x_clean['How Often, ReadsWithOthers'],y=df_x_clean['Minutes Spent Coaching'],ax=axes[0,1])\n",
        "sns.boxplot(x=df_x_clean['Reads With Others'],y=df_x_clean['Minutes Spent Observing'],ax=axes[1,0])\n",
        "sns.boxplot(x=df_x_clean['Reads With Others'],y=df_x_clean['Minutes Spent Coaching'],ax=axes[1,1])\n",
        "\n",
        "plt.show()"
      ],
      "metadata": {
        "id": "AcT7GGwwmdHn",
        "colab": {
          "base_uri": "https://localhost:8080/",
          "height": 611
        },
        "outputId": "f95f4092-87af-4362-a8f3-63ca71386c6d"
      },
      "execution_count": null,
      "outputs": [
        {
          "output_type": "display_data",
          "data": {
            "text/plain": [
              "<Figure size 1080x720 with 4 Axes>"
            ],
            "image/png": "[encoded data removed]"
          },
          "metadata": {}
        }
      ]
    },
    {
      "cell_type": "code",
      "source": [
        " sns.boxplot(x=df_x_clean['Reads With Others'],y=df_x_clean['Minutes Spent Observing'])\n",
        "sns.set(style=\"darkgrid\")\n"
      ],
      "metadata": {
        "colab": {
          "base_uri": "https://localhost:8080/",
          "height": 285
        },
        "id": "Yz3XLuMy1Zhl",
        "outputId": "6dfefe8b-e0ca-4db0-c1d8-9b24f408fbfe"
      },
      "execution_count": null,
      "outputs": [
        {
          "output_type": "display_data",
          "data": {
            "text/plain": [
              "<Figure size 432x288 with 1 Axes>"
            ],
            "image/png": "[encoded data removed]"
          },
          "metadata": {}
        }
      ]
    },
    {
      "cell_type": "code",
      "source": [
        "plt.hist(df_x_clean['Teacher Number: School Years in Teacher Support Program'])\n",
        "plt.title(\"School Years in Teacher Support Program\")\n",
        "plt.xticks(range(6))\n",
        "plt.show()"
      ],
      "metadata": {
        "colab": {
          "base_uri": "https://localhost:8080/",
          "height": 284
        },
        "id": "Ksgo8f0h5RXv",
        "outputId": "2e5a181b-75d9-4a5c-f215-c67f5311003d"
      },
      "execution_count": null,
      "outputs": [
        {
          "output_type": "display_data",
          "data": {
            "text/plain": [
              "<Figure size 432x288 with 1 Axes>"
            ],
            "image/png": "[encoded data removed]"
          },
          "metadata": {}
        }
      ]
    },
    {
      "cell_type": "code",
      "source": [
        "plt.hist(df_x_clean.groupby('Class Number')['Average Students Enrolled'].first())\n",
        "plt.title(\"Average Students Enrolled in each Class\")\n",
        "plt.show()"
      ],
      "metadata": {
        "colab": {
          "base_uri": "https://localhost:8080/",
          "height": 284
        },
        "id": "GLQ4VX2L74yx",
        "outputId": "1664f2d8-49ab-40e9-f727-1804df023b4f"
      },
      "execution_count": null,
      "outputs": [
        {
          "output_type": "display_data",
          "data": {
            "text/plain": [
              "<Figure size 432x288 with 1 Axes>"
            ],
            "image/png": "[encoded data removed]"
          },
          "metadata": {}
        }
      ]
    },
    {
      "cell_type": "code",
      "source": [
        "sns.scatterplot(df_x_clean['Minutes Spent Coaching'],df_x_clean['Minutes Spent Observing'],s=50,hue=df_x_clean['Teacher Number: Gender'])"
      ],
      "metadata": {
        "id": "HlrTaGAE6EEQ",
        "colab": {
          "base_uri": "https://localhost:8080/",
          "height": 302
        },
        "outputId": "3fab9e4a-565b-4635-e77f-0020ccbdf765"
      },
      "execution_count": null,
      "outputs": [
        {
          "output_type": "execute_result",
          "data": {
            "text/plain": [
              "<matplotlib.axes._subplots.AxesSubplot at 0x7f5c4e0b6730>"
            ]
          },
          "metadata": {},
          "execution_count": 516
        },
        {
          "output_type": "display_data",
          "data": {
            "text/plain": [
              "<Figure size 432x288 with 1 Axes>"
            ],
            "image/png": "[encoded data removed]"
          },
          "metadata": {}
        }
      ]
    },
    {
      "cell_type": "code",
      "source": [
        "sns.distplot(df_x_clean['Total Score'])"
      ],
      "metadata": {
        "id": "rFFUKoQ-670m",
        "colab": {
          "base_uri": "https://localhost:8080/",
          "height": 302
        },
        "outputId": "8cb51074-2ead-4cbd-ffb4-f3fec228919f"
      },
      "execution_count": null,
      "outputs": [
        {
          "output_type": "execute_result",
          "data": {
            "text/plain": [
              "<matplotlib.axes._subplots.AxesSubplot at 0x7f5c4e0d0100>"
            ]
          },
          "metadata": {},
          "execution_count": 517
        },
        {
          "output_type": "display_data",
          "data": {
            "text/plain": [
              "<Figure size 432x288 with 1 Axes>"
            ],
            "image/png": "[encoded data removed]"
          },
          "metadata": {}
        }
      ]
    },
    {
      "cell_type": "code",
      "source": [
        "df_x_clean.info()"
      ],
      "metadata": {
        "colab": {
          "base_uri": "https://localhost:8080/"
        },
        "id": "2NOHbchmmxgG",
        "outputId": "9e8f4993-f0e3-4937-c3af-37c21d683720"
      },
      "execution_count": null,
      "outputs": [
        {
          "output_type": "stream",
          "name": "stdout",
          "text": [
            "<class 'pandas.core.frame.DataFrame'>\n",
            "Int64Index: 349 entries, 14 to 997\n",
            "Data columns (total 31 columns):\n",
            " #   Column                                                   Non-Null Count  Dtype  \n",
            "---  ------                                                   --------------  -----  \n",
            " 0   Grade_x                                                  349 non-null    object \n",
            " 1   School Year_x                                            349 non-null    object \n",
            " 2   Date of Test                                             349 non-null    object \n",
            " 3   Pre or Post?                                             349 non-null    object \n",
            " 4   Main Language Used In Exam                               349 non-null    object \n",
            " 5   EGRA Question 1: Reading Habit                           349 non-null    object \n",
            " 6   EGRA Last Book Read                                      349 non-null    object \n",
            " 7   Reads With Others                                        349 non-null    int64  \n",
            " 8   How Often, ReadsWithOthers                               349 non-null    int64  \n",
            " 9   Student Gender                                           349 non-null    object \n",
            " 10  Class Number                                             349 non-null    object \n",
            " 11  Teacher Number: Teacher Number                           349 non-null    object \n",
            " 12  Date                                                     349 non-null    object \n",
            " 13  Q1 Rating or Answer                                      349 non-null    object \n",
            " 14  Q2 Rating                                                349 non-null    object \n",
            " 15  Q3 Rating or Answer                                      349 non-null    object \n",
            " 16  Q4 Rating or Answer                                      349 non-null    object \n",
            " 17  Q5 Rating or Answer                                      349 non-null    object \n",
            " 18  Q6 Rating or Answer                                      349 non-null    object \n",
            " 19  Q7 Rating                                                349 non-null    object \n",
            " 20  Q8 Rating                                                349 non-null    object \n",
            " 21  Skill to Improve 1                                       349 non-null    object \n",
            " 22  Skill to Improve 2                                       349 non-null    object \n",
            " 23  Minutes Spent Observing                                  349 non-null    float64\n",
            " 24  Minutes Spent Coaching                                   349 non-null    float64\n",
            " 25  Total Score                                              349 non-null    int64  \n",
            " 26  Teacher Number: Gender                                   349 non-null    object \n",
            " 27  Teacher Number: School Years in Teacher Support Program  349 non-null    int64  \n",
            " 28  Teacher Present                                          349 non-null    object \n",
            " 29  Average Students Enrolled                                349 non-null    int64  \n",
            " 30  School Year_y                                            349 non-null    object \n",
            "dtypes: float64(2), int64(5), object(24)\n",
            "memory usage: 95.4+ KB\n"
          ]
        }
      ]
    },
    {
      "cell_type": "code",
      "source": [],
      "metadata": {
        "id": "8hSa1ITrn8sm"
      },
      "execution_count": null,
      "outputs": []
    },
    {
      "cell_type": "markdown",
      "source": [
        "1. Create a match between the teacher data and Student data\n",
        "  - what join key\n",
        "2. Clean the Data\n",
        "  - fillna\n",
        "  - striping unwanted values\n",
        "  - creating new cal columns\n",
        "  - One hot encoding - desirable\n",
        "  - normalization -desirable\n",
        "3. Models\n",
        "  - Teacher score analysis - student performance vs teacher,student feature except skills\n",
        "  - skill analysis - student performance vs skill analysis\n",
        "  - course effectiveness - teacher performance vs school years in the program"
      ],
      "metadata": {
        "id": "BONYbo7NGTVb"
      }
    },
    {
      "cell_type": "code",
      "source": [
        "# plt.hist(df_x_clean.groupby('Teacher Number: Teacher Number')['Teacher Number: School Years in Teacher Support Program'].first())\n",
        "# plt.title(\"School Years in Teacher Support Program\")\n",
        "# plt.xticks(range(6))\n",
        "# plt.xlabel('Year')\n",
        "# plt.show()"
      ],
      "metadata": {
        "id": "jhWjQ00CHxeM"
      },
      "execution_count": null,
      "outputs": []
    },
    {
      "cell_type": "code",
      "source": [],
      "metadata": {
        "id": "y7nj6HS64Qpe"
      },
      "execution_count": null,
      "outputs": []
    },
    {
      "cell_type": "markdown",
      "source": [
        "Meeting\n",
        "- Comprehenseive score different needed?\n",
        "- how can we handle diff units points/min points"
      ],
      "metadata": {
        "id": "dDAtzFlrO4_O"
      }
    },
    {
      "cell_type": "markdown",
      "source": [
        "**Teacher score analysis - student performance vs teacher,student feature except skills** by wenxi chen\n",
        "- eg: https://machinelearningmastery.com/calculate-feature-importance-with-python/\n",
        "- Normalizing+one-hotcoding\n",
        "- EDA in combination"
      ],
      "metadata": {
        "id": "w3vMk6WgO70D"
      }
    },
    {
      "cell_type": "markdown",
      "source": [
        "**skill analysis - student performance vs skill analysis**\n",
        "- Linear regression \n",
        "- one hot encoding mandotary\\\n",
        "EDA\n",
        "- EDA 2 plots section 1 total score vs skill1"
      ],
      "metadata": {
        "id": "_BnVYNe2RFBa"
      }
    },
    {
      "cell_type": "code",
      "source": [],
      "metadata": {
        "id": "oQHYCCFhO8_b"
      },
      "execution_count": null,
      "outputs": []
    },
    {
      "cell_type": "markdown",
      "source": [
        "**course effectiveness - teacher performance vs school years in the program**\n",
        "Linear regression - school years+ when we add others how is it working out\n",
        "\n",
        "EDA plots\n"
      ],
      "metadata": {
        "id": "vePqUBwPSuE6"
      }
    },
    {
      "cell_type": "markdown",
      "source": [
        "COMPRHENSIVE Test\n",
        "STUDENT - Wenxi + Jane\n",
        "SKILL - George\n",
        "COURSE - Zoe\n",
        "\n",
        "EDA - Sydney + Jane\n",
        "PPT - 5\n",
        "FORMAT-\n"
      ],
      "metadata": {
        "id": "kwti2TNFUWuw"
      }
    },
    {
      "cell_type": "code",
      "source": [
        "df_target['EGRA Section 6 Total Score']"
      ],
      "metadata": {
        "id": "zJTjsvETTM0j",
        "colab": {
          "base_uri": "https://localhost:8080/"
        },
        "outputId": "90bc1abf-cc2c-43b0-c8f8-3bfbec573615"
      },
      "execution_count": null,
      "outputs": [
        {
          "output_type": "execute_result",
          "data": {
            "text/plain": [
              "14     8\n",
              "16     6\n",
              "18     8\n",
              "20     7\n",
              "22     6\n",
              "      ..\n",
              "989    5\n",
              "991    6\n",
              "993    7\n",
              "995    6\n",
              "997    8\n",
              "Name: EGRA Section 6 Total Score, Length: 349, dtype: int64"
            ]
          },
          "metadata": {},
          "execution_count": 520
        }
      ]
    },
    {
      "cell_type": "code",
      "source": [
        "df_target['EGRA Section 5 CWPM']"
      ],
      "metadata": {
        "colab": {
          "base_uri": "https://localhost:8080/"
        },
        "id": "a8QcW1b4VGOh",
        "outputId": "6b6aa205-09a1-4b02-8fe1-3c6b0a8968d2"
      },
      "execution_count": null,
      "outputs": [
        {
          "output_type": "execute_result",
          "data": {
            "text/plain": [
              "14     133\n",
              "16      77\n",
              "18     105\n",
              "20      79\n",
              "22      68\n",
              "      ... \n",
              "989     80\n",
              "991     94\n",
              "993     75\n",
              "995    120\n",
              "997    124\n",
              "Name: EGRA Section 5 CWPM, Length: 349, dtype: int64"
            ]
          },
          "metadata": {},
          "execution_count": 521
        }
      ]
    },
    {
      "cell_type": "code",
      "source": [
        "# linear regression feature importance\n",
        "from sklearn.datasets import make_regression\n",
        "from sklearn.linear_model import LinearRegression\n",
        "from sklearn.model_selection import train_test_split\n",
        "from matplotlib import pyplot"
      ],
      "metadata": {
        "id": "u63FMmVwvgM1"
      },
      "execution_count": null,
      "outputs": []
    },
    {
      "cell_type": "code",
      "source": [
        "df_x_clean"
      ],
      "metadata": {
        "colab": {
          "base_uri": "https://localhost:8080/",
          "height": 783
        },
        "id": "7DZQ3UoPR_O_",
        "outputId": "da0ea2aa-c863-43a5-8823-886bd67beaf6"
      },
      "execution_count": null,
      "outputs": [
        {
          "output_type": "execute_result",
          "data": {
            "text/plain": [
              "    Grade_x School Year_x Date of Test Pre or Post?  \\\n",
              "14        5     2020-2021   11/24/2021         Post   \n",
              "16        5     2020-2021   11/24/2021         Post   \n",
              "18        5     2020-2021   11/24/2021         Post   \n",
              "20        5     2020-2021   11/24/2021         Post   \n",
              "22        5     2020-2021   11/24/2021         Post   \n",
              "..      ...           ...          ...          ...   \n",
              "989       5     2020-2021   11/26/2021         Post   \n",
              "991       5     2020-2021   11/26/2021         Post   \n",
              "993       5     2020-2021   11/26/2021         Post   \n",
              "995       5     2020-2021   11/26/2021         Post   \n",
              "997       5     2020-2021   11/26/2021         Post   \n",
              "\n",
              "    Main Language Used In Exam EGRA Question 1: Reading Habit  \\\n",
              "14                     English                            Yes   \n",
              "16                     English                            Yes   \n",
              "18                     English                            Yes   \n",
              "20                English; Ewe                            Yes   \n",
              "22                English; Ewe                            Yes   \n",
              "..                         ...                            ...   \n",
              "989               English; Ewe                             No   \n",
              "991                    English                            Yes   \n",
              "993               English; Ewe                             No   \n",
              "995               English; Ewe                            Yes   \n",
              "997               English; Ewe                             No   \n",
              "\n",
              "    EGRA Last Book Read  Reads With Others  How Often, ReadsWithOthers  \\\n",
              "14                  Yes                  1                           1   \n",
              "16                  Yes                  1                           1   \n",
              "18                  Yes                  1                           2   \n",
              "20                  Yes                  1                           3   \n",
              "22                  Yes                  1                           1   \n",
              "..                  ...                ...                         ...   \n",
              "989                  No                  0                           0   \n",
              "991                 Yes                  1                           3   \n",
              "993                 Yes                  1                           2   \n",
              "995                 Yes                  1                           3   \n",
              "997                  No                  0                           0   \n",
              "\n",
              "    Student Gender  ... Skill to Improve 1 Skill to Improve 2  \\\n",
              "14            Male  ...               None               None   \n",
              "16          Female  ...               None               None   \n",
              "18          Female  ...               None               None   \n",
              "20          Female  ...               None               None   \n",
              "22          Female  ...               None               None   \n",
              "..             ...  ...                ...                ...   \n",
              "989           Male  ...               None               None   \n",
              "991         Female  ...               None               None   \n",
              "993           Male  ...               None               None   \n",
              "995           Male  ...               None               None   \n",
              "997           Male  ...               None               None   \n",
              "\n",
              "    Minutes Spent Observing Minutes Spent Coaching Total Score  \\\n",
              "14                17.846743               9.114943           0   \n",
              "16                17.846743               9.114943           0   \n",
              "18                17.846743               9.114943           0   \n",
              "20                17.846743               9.114943           0   \n",
              "22                17.846743               9.114943           0   \n",
              "..                      ...                    ...         ...   \n",
              "989               17.846743               9.114943           0   \n",
              "991               17.846743               9.114943           0   \n",
              "993               17.846743               9.114943           0   \n",
              "995               17.846743               9.114943           0   \n",
              "997               17.846743               9.114943           0   \n",
              "\n",
              "    Teacher Number: Gender  \\\n",
              "14                  Female   \n",
              "16                  Female   \n",
              "18                  Female   \n",
              "20                  Female   \n",
              "22                  Female   \n",
              "..                     ...   \n",
              "989                   Male   \n",
              "991                   Male   \n",
              "993                   Male   \n",
              "995                   Male   \n",
              "997                   Male   \n",
              "\n",
              "    Teacher Number: School Years in Teacher Support Program Teacher Present  \\\n",
              "14                                                   3          Not Present   \n",
              "16                                                   3          Not Present   \n",
              "18                                                   3          Not Present   \n",
              "20                                                   3          Not Present   \n",
              "22                                                   3          Not Present   \n",
              "..                                                 ...                  ...   \n",
              "989                                                  3          Not Present   \n",
              "991                                                  3          Not Present   \n",
              "993                                                  3          Not Present   \n",
              "995                                                  3          Not Present   \n",
              "997                                                  3          Not Present   \n",
              "\n",
              "    Average Students Enrolled School Year_y  \n",
              "14                         15     2020-2021  \n",
              "16                         15     2020-2021  \n",
              "18                         15     2020-2021  \n",
              "20                         15     2020-2021  \n",
              "22                         15     2020-2021  \n",
              "..                        ...           ...  \n",
              "989                        17     2020-2021  \n",
              "991                        17     2020-2021  \n",
              "993                        17     2020-2021  \n",
              "995                        17     2020-2021  \n",
              "997                        17     2020-2021  \n",
              "\n",
              "[349 rows x 31 columns]"
            ],
            "text/html": [
              "\n",
              "  <div id=\"df-01d00b11-b109-4f8e-a65d-0e925cca037c\">\n",
              "    <div class=\"colab-df-container\">\n",
              "      <div>\n",
              "<style scoped>\n",
              "    .dataframe tbody tr th:only-of-type {\n",
              "        vertical-align: middle;\n",
              "    }\n",
              "\n",
              "    .dataframe tbody tr th {\n",
              "        vertical-align: top;\n",
              "    }\n",
              "\n",
              "    .dataframe thead th {\n",
              "        text-align: right;\n",
              "    }\n",
              "</style>\n",
              "<table border=\"1\" class=\"dataframe\">\n",
              "  <thead>\n",
              "    <tr style=\"text-align: right;\">\n",
              "      <th></th>\n",
              "      <th>Grade_x</th>\n",
              "      <th>School Year_x</th>\n",
              "      <th>Date of Test</th>\n",
              "      <th>Pre or Post?</th>\n",
              "      <th>Main Language Used In Exam</th>\n",
              "      <th>EGRA Question 1: Reading Habit</th>\n",
              "      <th>EGRA Last Book Read</th>\n",
              "      <th>Reads With Others</th>\n",
              "      <th>How Often, ReadsWithOthers</th>\n",
              "      <th>Student Gender</th>\n",
              "      <th>...</th>\n",
              "      <th>Skill to Improve 1</th>\n",
              "      <th>Skill to Improve 2</th>\n",
              "      <th>Minutes Spent Observing</th>\n",
              "      <th>Minutes Spent Coaching</th>\n",
              "      <th>Total Score</th>\n",
              "      <th>Teacher Number: Gender</th>\n",
              "      <th>Teacher Number: School Years in Teacher Support Program</th>\n",
              "      <th>Teacher Present</th>\n",
              "      <th>Average Students Enrolled</th>\n",
              "      <th>School Year_y</th>\n",
              "    </tr>\n",
              "  </thead>\n",
              "  <tbody>\n",
              "    <tr>\n",
              "      <th>14</th>\n",
              "      <td>5</td>\n",
              "      <td>2020-2021</td>\n",
              "      <td>11/24/2021</td>\n",
              "      <td>Post</td>\n",
              "      <td>English</td>\n",
              "      <td>Yes</td>\n",
              "      <td>Yes</td>\n",
              "      <td>1</td>\n",
              "      <td>1</td>\n",
              "      <td>Male</td>\n",
              "      <td>...</td>\n",
              "      <td>None</td>\n",
              "      <td>None</td>\n",
              "      <td>17.846743</td>\n",
              "      <td>9.114943</td>\n",
              "      <td>0</td>\n",
              "      <td>Female</td>\n",
              "      <td>3</td>\n",
              "      <td>Not Present</td>\n",
              "      <td>15</td>\n",
              "      <td>2020-2021</td>\n",
              "    </tr>\n",
              "    <tr>\n",
              "      <th>16</th>\n",
              "      <td>5</td>\n",
              "      <td>2020-2021</td>\n",
              "      <td>11/24/2021</td>\n",
              "      <td>Post</td>\n",
              "      <td>English</td>\n",
              "      <td>Yes</td>\n",
              "      <td>Yes</td>\n",
              "      <td>1</td>\n",
              "      <td>1</td>\n",
              "      <td>Female</td>\n",
              "      <td>...</td>\n",
              "      <td>None</td>\n",
              "      <td>None</td>\n",
              "      <td>17.846743</td>\n",
              "      <td>9.114943</td>\n",
              "      <td>0</td>\n",
              "      <td>Female</td>\n",
              "      <td>3</td>\n",
              "      <td>Not Present</td>\n",
              "      <td>15</td>\n",
              "      <td>2020-2021</td>\n",
              "    </tr>\n",
              "    <tr>\n",
              "      <th>18</th>\n",
              "      <td>5</td>\n",
              "      <td>2020-2021</td>\n",
              "      <td>11/24/2021</td>\n",
              "      <td>Post</td>\n",
              "      <td>English</td>\n",
              "      <td>Yes</td>\n",
              "      <td>Yes</td>\n",
              "      <td>1</td>\n",
              "      <td>2</td>\n",
              "      <td>Female</td>\n",
              "      <td>...</td>\n",
              "      <td>None</td>\n",
              "      <td>None</td>\n",
              "      <td>17.846743</td>\n",
              "      <td>9.114943</td>\n",
              "      <td>0</td>\n",
              "      <td>Female</td>\n",
              "      <td>3</td>\n",
              "      <td>Not Present</td>\n",
              "      <td>15</td>\n",
              "      <td>2020-2021</td>\n",
              "    </tr>\n",
              "    <tr>\n",
              "      <th>20</th>\n",
              "      <td>5</td>\n",
              "      <td>2020-2021</td>\n",
              "      <td>11/24/2021</td>\n",
              "      <td>Post</td>\n",
              "      <td>English; Ewe</td>\n",
              "      <td>Yes</td>\n",
              "      <td>Yes</td>\n",
              "      <td>1</td>\n",
              "      <td>3</td>\n",
              "      <td>Female</td>\n",
              "      <td>...</td>\n",
              "      <td>None</td>\n",
              "      <td>None</td>\n",
              "      <td>17.846743</td>\n",
              "      <td>9.114943</td>\n",
              "      <td>0</td>\n",
              "      <td>Female</td>\n",
              "      <td>3</td>\n",
              "      <td>Not Present</td>\n",
              "      <td>15</td>\n",
              "      <td>2020-2021</td>\n",
              "    </tr>\n",
              "    <tr>\n",
              "      <th>22</th>\n",
              "      <td>5</td>\n",
              "      <td>2020-2021</td>\n",
              "      <td>11/24/2021</td>\n",
              "      <td>Post</td>\n",
              "      <td>English; Ewe</td>\n",
              "      <td>Yes</td>\n",
              "      <td>Yes</td>\n",
              "      <td>1</td>\n",
              "      <td>1</td>\n",
              "      <td>Female</td>\n",
              "      <td>...</td>\n",
              "      <td>None</td>\n",
              "      <td>None</td>\n",
              "      <td>17.846743</td>\n",
              "      <td>9.114943</td>\n",
              "      <td>0</td>\n",
              "      <td>Female</td>\n",
              "      <td>3</td>\n",
              "      <td>Not Present</td>\n",
              "      <td>15</td>\n",
              "      <td>2020-2021</td>\n",
              "    </tr>\n",
              "    <tr>\n",
              "      <th>...</th>\n",
              "      <td>...</td>\n",
              "      <td>...</td>\n",
              "      <td>...</td>\n",
              "      <td>...</td>\n",
              "      <td>...</td>\n",
              "      <td>...</td>\n",
              "      <td>...</td>\n",
              "      <td>...</td>\n",
              "      <td>...</td>\n",
              "      <td>...</td>\n",
              "      <td>...</td>\n",
              "      <td>...</td>\n",
              "      <td>...</td>\n",
              "      <td>...</td>\n",
              "      <td>...</td>\n",
              "      <td>...</td>\n",
              "      <td>...</td>\n",
              "      <td>...</td>\n",
              "      <td>...</td>\n",
              "      <td>...</td>\n",
              "      <td>...</td>\n",
              "    </tr>\n",
              "    <tr>\n",
              "      <th>989</th>\n",
              "      <td>5</td>\n",
              "      <td>2020-2021</td>\n",
              "      <td>11/26/2021</td>\n",
              "      <td>Post</td>\n",
              "      <td>English; Ewe</td>\n",
              "      <td>No</td>\n",
              "      <td>No</td>\n",
              "      <td>0</td>\n",
              "      <td>0</td>\n",
              "      <td>Male</td>\n",
              "      <td>...</td>\n",
              "      <td>None</td>\n",
              "      <td>None</td>\n",
              "      <td>17.846743</td>\n",
              "      <td>9.114943</td>\n",
              "      <td>0</td>\n",
              "      <td>Male</td>\n",
              "      <td>3</td>\n",
              "      <td>Not Present</td>\n",
              "      <td>17</td>\n",
              "      <td>2020-2021</td>\n",
              "    </tr>\n",
              "    <tr>\n",
              "      <th>991</th>\n",
              "      <td>5</td>\n",
              "      <td>2020-2021</td>\n",
              "      <td>11/26/2021</td>\n",
              "      <td>Post</td>\n",
              "      <td>English</td>\n",
              "      <td>Yes</td>\n",
              "      <td>Yes</td>\n",
              "      <td>1</td>\n",
              "      <td>3</td>\n",
              "      <td>Female</td>\n",
              "      <td>...</td>\n",
              "      <td>None</td>\n",
              "      <td>None</td>\n",
              "      <td>17.846743</td>\n",
              "      <td>9.114943</td>\n",
              "      <td>0</td>\n",
              "      <td>Male</td>\n",
              "      <td>3</td>\n",
              "      <td>Not Present</td>\n",
              "      <td>17</td>\n",
              "      <td>2020-2021</td>\n",
              "    </tr>\n",
              "    <tr>\n",
              "      <th>993</th>\n",
              "      <td>5</td>\n",
              "      <td>2020-2021</td>\n",
              "      <td>11/26/2021</td>\n",
              "      <td>Post</td>\n",
              "      <td>English; Ewe</td>\n",
              "      <td>No</td>\n",
              "      <td>Yes</td>\n",
              "      <td>1</td>\n",
              "      <td>2</td>\n",
              "      <td>Male</td>\n",
              "      <td>...</td>\n",
              "      <td>None</td>\n",
              "      <td>None</td>\n",
              "      <td>17.846743</td>\n",
              "      <td>9.114943</td>\n",
              "      <td>0</td>\n",
              "      <td>Male</td>\n",
              "      <td>3</td>\n",
              "      <td>Not Present</td>\n",
              "      <td>17</td>\n",
              "      <td>2020-2021</td>\n",
              "    </tr>\n",
              "    <tr>\n",
              "      <th>995</th>\n",
              "      <td>5</td>\n",
              "      <td>2020-2021</td>\n",
              "      <td>11/26/2021</td>\n",
              "      <td>Post</td>\n",
              "      <td>English; Ewe</td>\n",
              "      <td>Yes</td>\n",
              "      <td>Yes</td>\n",
              "      <td>1</td>\n",
              "      <td>3</td>\n",
              "      <td>Male</td>\n",
              "      <td>...</td>\n",
              "      <td>None</td>\n",
              "      <td>None</td>\n",
              "      <td>17.846743</td>\n",
              "      <td>9.114943</td>\n",
              "      <td>0</td>\n",
              "      <td>Male</td>\n",
              "      <td>3</td>\n",
              "      <td>Not Present</td>\n",
              "      <td>17</td>\n",
              "      <td>2020-2021</td>\n",
              "    </tr>\n",
              "    <tr>\n",
              "      <th>997</th>\n",
              "      <td>5</td>\n",
              "      <td>2020-2021</td>\n",
              "      <td>11/26/2021</td>\n",
              "      <td>Post</td>\n",
              "      <td>English; Ewe</td>\n",
              "      <td>No</td>\n",
              "      <td>No</td>\n",
              "      <td>0</td>\n",
              "      <td>0</td>\n",
              "      <td>Male</td>\n",
              "      <td>...</td>\n",
              "      <td>None</td>\n",
              "      <td>None</td>\n",
              "      <td>17.846743</td>\n",
              "      <td>9.114943</td>\n",
              "      <td>0</td>\n",
              "      <td>Male</td>\n",
              "      <td>3</td>\n",
              "      <td>Not Present</td>\n",
              "      <td>17</td>\n",
              "      <td>2020-2021</td>\n",
              "    </tr>\n",
              "  </tbody>\n",
              "</table>\n",
              "<p>349 rows × 31 columns</p>\n",
              "</div>\n",
              "      <button class=\"colab-df-convert\" onclick=\"convertToInteractive('df-01d00b11-b109-4f8e-a65d-0e925cca037c')\"\n",
              "              title=\"Convert this dataframe to an interactive table.\"\n",
              "              style=\"display:none;\">\n",
              "        \n",
              "  <svg xmlns=\"http://www.w3.org/2000/svg\" height=\"24px\"viewBox=\"0 0 24 24\"\n",
              "       width=\"24px\">\n",
              "    <path d=\"M0 0h24v24H0V0z\" fill=\"none\"/>\n",
              "    <path d=\"M18.56 5.44l.94 2.06.94-2.06 2.06-.94-2.06-.94-.94-2.06-.94 2.06-2.06.94zm-11 1L8.5 8.5l.94-2.06 2.06-.94-2.06-.94L8.5 2.5l-.94 2.06-2.06.94zm10 10l.94 2.06.94-2.06 2.06-.94-2.06-.94-.94-2.06-.94 2.06-2.06.94z\"/><path d=\"M17.41 7.96l-1.37-1.37c-.4-.4-.92-.59-1.43-.59-.52 0-1.04.2-1.43.59L10.3 9.45l-7.72 7.72c-.78.78-.78 2.05 0 2.83L4 21.41c.39.39.9.59 1.41.59.51 0 1.02-.2 1.41-.59l7.78-7.78 2.81-2.81c.8-.78.8-2.07 0-2.86zM5.41 20L4 18.59l7.72-7.72 1.47 1.35L5.41 20z\"/>\n",
              "  </svg>\n",
              "      </button>\n",
              "      \n",
              "  <style>\n",
              "    .colab-df-container {\n",
              "      display:flex;\n",
              "      flex-wrap:wrap;\n",
              "      gap: 12px;\n",
              "    }\n",
              "\n",
              "    .colab-df-convert {\n",
              "      background-color: #E8F0FE;\n",
              "      border: none;\n",
              "      border-radius: 50%;\n",
              "      cursor: pointer;\n",
              "      display: none;\n",
              "      fill: #1967D2;\n",
              "      height: 32px;\n",
              "      padding: 0 0 0 0;\n",
              "      width: 32px;\n",
              "    }\n",
              "\n",
              "    .colab-df-convert:hover {\n",
              "      background-color: #E2EBFA;\n",
              "      box-shadow: 0px 1px 2px rgba(60, 64, 67, 0.3), 0px 1px 3px 1px rgba(60, 64, 67, 0.15);\n",
              "      fill: #174EA6;\n",
              "    }\n",
              "\n",
              "    [theme=dark] .colab-df-convert {\n",
              "      background-color: #3B4455;\n",
              "      fill: #D2E3FC;\n",
              "    }\n",
              "\n",
              "    [theme=dark] .colab-df-convert:hover {\n",
              "      background-color: #434B5C;\n",
              "      box-shadow: 0px 1px 3px 1px rgba(0, 0, 0, 0.15);\n",
              "      filter: drop-shadow(0px 1px 2px rgba(0, 0, 0, 0.3));\n",
              "      fill: #FFFFFF;\n",
              "    }\n",
              "  </style>\n",
              "\n",
              "      <script>\n",
              "        const buttonEl =\n",
              "          document.querySelector('#df-01d00b11-b109-4f8e-a65d-0e925cca037c button.colab-df-convert');\n",
              "        buttonEl.style.display =\n",
              "          google.colab.kernel.accessAllowed ? 'block' : 'none';\n",
              "\n",
              "        async function convertToInteractive(key) {\n",
              "          const element = document.querySelector('#df-01d00b11-b109-4f8e-a65d-0e925cca037c');\n",
              "          const dataTable =\n",
              "            await google.colab.kernel.invokeFunction('convertToInteractive',\n",
              "                                                     [key], {});\n",
              "          if (!dataTable) return;\n",
              "\n",
              "          const docLinkHtml = 'Like what you see? Visit the ' +\n",
              "            '<a target=\"_blank\" href=https://colab.research.google.com/notebooks/data_table.ipynb>data table notebook</a>'\n",
              "            + ' to learn more about interactive tables.';\n",
              "          element.innerHTML = '';\n",
              "          dataTable['output_type'] = 'display_data';\n",
              "          await google.colab.output.renderOutput(dataTable, element);\n",
              "          const docLink = document.createElement('div');\n",
              "          docLink.innerHTML = docLinkHtml;\n",
              "          element.appendChild(docLink);\n",
              "        }\n",
              "      </script>\n",
              "    </div>\n",
              "  </div>\n",
              "  "
            ]
          },
          "metadata": {},
          "execution_count": 523
        }
      ]
    },
    {
      "cell_type": "code",
      "source": [
        "df_target['Cumulative Score'] = df_target['EGRA Section 1 Total Score']*33.3333 + df_target['EGRA Section 2a Score']*2 + df_target['EGRA Section 2b Score'] * 10 + df_target['EGRA Section 3 Letters Correct'] + df_target['EGRA Section 4 Words Correct'] * 2 + df_target['EGRA Section 5 Words Correct'] * 3 + df_target['EGRA Section 5 Questions Correct'] * 15 + df_target[\"EGRA Section 6 Total Score\"]*12.5 + df_target[\"EGRA Section 7a Score\"] *25"
      ],
      "metadata": {
        "id": "vZDCyTMDxoGs"
      },
      "execution_count": null,
      "outputs": []
    },
    {
      "cell_type": "code",
      "source": [
        "df_target['Cumulative Score'] "
      ],
      "metadata": {
        "colab": {
          "base_uri": "https://localhost:8080/"
        },
        "id": "ypvMELarhJ--",
        "outputId": "738e5aee-e12f-44ba-dc75-96cf0bb62dd5"
      },
      "execution_count": null,
      "outputs": [
        {
          "output_type": "execute_result",
          "data": {
            "text/plain": [
              "14     1015.9999\n",
              "16      890.9999\n",
              "18      846.6666\n",
              "20      826.1666\n",
              "22      795.6666\n",
              "         ...    \n",
              "989     851.8333\n",
              "991     903.9999\n",
              "993     902.4999\n",
              "995    1004.9999\n",
              "997    1010.9999\n",
              "Name: Cumulative Score, Length: 349, dtype: float64"
            ]
          },
          "metadata": {},
          "execution_count": 525
        }
      ]
    },
    {
      "cell_type": "code",
      "source": [
        "df_target.head(5)"
      ],
      "metadata": {
        "colab": {
          "base_uri": "https://localhost:8080/",
          "height": 386
        },
        "id": "hfoQfk06Cat6",
        "outputId": "42908e3a-caa1-4af8-a71c-9874e05d7822"
      },
      "execution_count": null,
      "outputs": [
        {
          "output_type": "execute_result",
          "data": {
            "text/plain": [
              "    EGRA Section 1a Score  EGRA Section 1b Score  EGRA Section 1c Score  \\\n",
              "14                      1                      1                      1   \n",
              "16                      1                      1                      1   \n",
              "18                      1                      0                      1   \n",
              "20                      1                      1                      0   \n",
              "22                      1                      1                      0   \n",
              "\n",
              "    EGRA Section 2a Score  EGRA Section 2b Score  \\\n",
              "14                     48                      9   \n",
              "16                     35                      8   \n",
              "18                     24                      8   \n",
              "20                     22                      6   \n",
              "22                     16                     10   \n",
              "\n",
              "    EGRA Section 3 Letters Correct  EGRA Section 3 Time Completed  \\\n",
              "14                             100                           55.0   \n",
              "16                              92                           60.0   \n",
              "18                              57                           60.0   \n",
              "20                              86                           60.0   \n",
              "22                              67                           60.0   \n",
              "\n",
              "    EGRA Section 3 LPM  EGRA Section 4 Words Correct  \\\n",
              "14               109.0                            50   \n",
              "16                92.0                            45   \n",
              "18                57.0                            43   \n",
              "20                86.0                            49   \n",
              "22                67.0                            29   \n",
              "\n",
              "    EGRA Section 4 Time Completed  ...  EGRA Section 5 CWPM  \\\n",
              "14                           37.0  ...                  133   \n",
              "16                           48.0  ...                   77   \n",
              "18                           53.0  ...                  105   \n",
              "20                           49.0  ...                   79   \n",
              "22                           60.0  ...                   68   \n",
              "\n",
              "    EGRA Section 5 Questions Correct  EGRA Section 6 Written Words Correct  \\\n",
              "14                                10                                     4   \n",
              "16                                 9                                     3   \n",
              "18                                 9                                     4   \n",
              "20                                 9                                     4   \n",
              "22                                 8                                     3   \n",
              "\n",
              "    EGRA Section 6 Correct Space/Direction  \\\n",
              "14                                       2   \n",
              "16                                       2   \n",
              "18                                       2   \n",
              "20                                       2   \n",
              "22                                       2   \n",
              "\n",
              "    EGRA Section 6 Correct Punctuation  \\\n",
              "14                                   1   \n",
              "16                                   0   \n",
              "18                                   1   \n",
              "20                                   0   \n",
              "22                                   0   \n",
              "\n",
              "    EGRA Section 6 Correct Use of Capitals  EGRA Section 7a Score  \\\n",
              "14                                       1                      4   \n",
              "16                                       1                      3   \n",
              "18                                       1                      4   \n",
              "20                                       1                      3   \n",
              "22                                       1                      4   \n",
              "\n",
              "    EGRA Section 1 Total Score  EGRA Section 6 Total Score  Cumulative Score  \n",
              "14                           3                           8         1015.9999  \n",
              "16                           3                           6          890.9999  \n",
              "18                           2                           8          846.6666  \n",
              "20                           2                           7          826.1666  \n",
              "22                           2                           6          795.6666  \n",
              "\n",
              "[5 rows x 23 columns]"
            ],
            "text/html": [
              "\n",
              "  <div id=\"df-3a2dd19b-58ce-49f2-abaa-60d6e54e1a52\">\n",
              "    <div class=\"colab-df-container\">\n",
              "      <div>\n",
              "<style scoped>\n",
              "    .dataframe tbody tr th:only-of-type {\n",
              "        vertical-align: middle;\n",
              "    }\n",
              "\n",
              "    .dataframe tbody tr th {\n",
              "        vertical-align: top;\n",
              "    }\n",
              "\n",
              "    .dataframe thead th {\n",
              "        text-align: right;\n",
              "    }\n",
              "</style>\n",
              "<table border=\"1\" class=\"dataframe\">\n",
              "  <thead>\n",
              "    <tr style=\"text-align: right;\">\n",
              "      <th></th>\n",
              "      <th>EGRA Section 1a Score</th>\n",
              "      <th>EGRA Section 1b Score</th>\n",
              "      <th>EGRA Section 1c Score</th>\n",
              "      <th>EGRA Section 2a Score</th>\n",
              "      <th>EGRA Section 2b Score</th>\n",
              "      <th>EGRA Section 3 Letters Correct</th>\n",
              "      <th>EGRA Section 3 Time Completed</th>\n",
              "      <th>EGRA Section 3 LPM</th>\n",
              "      <th>EGRA Section 4 Words Correct</th>\n",
              "      <th>EGRA Section 4 Time Completed</th>\n",
              "      <th>...</th>\n",
              "      <th>EGRA Section 5 CWPM</th>\n",
              "      <th>EGRA Section 5 Questions Correct</th>\n",
              "      <th>EGRA Section 6 Written Words Correct</th>\n",
              "      <th>EGRA Section 6 Correct Space/Direction</th>\n",
              "      <th>EGRA Section 6 Correct Punctuation</th>\n",
              "      <th>EGRA Section 6 Correct Use of Capitals</th>\n",
              "      <th>EGRA Section 7a Score</th>\n",
              "      <th>EGRA Section 1 Total Score</th>\n",
              "      <th>EGRA Section 6 Total Score</th>\n",
              "      <th>Cumulative Score</th>\n",
              "    </tr>\n",
              "  </thead>\n",
              "  <tbody>\n",
              "    <tr>\n",
              "      <th>14</th>\n",
              "      <td>1</td>\n",
              "      <td>1</td>\n",
              "      <td>1</td>\n",
              "      <td>48</td>\n",
              "      <td>9</td>\n",
              "      <td>100</td>\n",
              "      <td>55.0</td>\n",
              "      <td>109.0</td>\n",
              "      <td>50</td>\n",
              "      <td>37.0</td>\n",
              "      <td>...</td>\n",
              "      <td>133</td>\n",
              "      <td>10</td>\n",
              "      <td>4</td>\n",
              "      <td>2</td>\n",
              "      <td>1</td>\n",
              "      <td>1</td>\n",
              "      <td>4</td>\n",
              "      <td>3</td>\n",
              "      <td>8</td>\n",
              "      <td>1015.9999</td>\n",
              "    </tr>\n",
              "    <tr>\n",
              "      <th>16</th>\n",
              "      <td>1</td>\n",
              "      <td>1</td>\n",
              "      <td>1</td>\n",
              "      <td>35</td>\n",
              "      <td>8</td>\n",
              "      <td>92</td>\n",
              "      <td>60.0</td>\n",
              "      <td>92.0</td>\n",
              "      <td>45</td>\n",
              "      <td>48.0</td>\n",
              "      <td>...</td>\n",
              "      <td>77</td>\n",
              "      <td>9</td>\n",
              "      <td>3</td>\n",
              "      <td>2</td>\n",
              "      <td>0</td>\n",
              "      <td>1</td>\n",
              "      <td>3</td>\n",
              "      <td>3</td>\n",
              "      <td>6</td>\n",
              "      <td>890.9999</td>\n",
              "    </tr>\n",
              "    <tr>\n",
              "      <th>18</th>\n",
              "      <td>1</td>\n",
              "      <td>0</td>\n",
              "      <td>1</td>\n",
              "      <td>24</td>\n",
              "      <td>8</td>\n",
              "      <td>57</td>\n",
              "      <td>60.0</td>\n",
              "      <td>57.0</td>\n",
              "      <td>43</td>\n",
              "      <td>53.0</td>\n",
              "      <td>...</td>\n",
              "      <td>105</td>\n",
              "      <td>9</td>\n",
              "      <td>4</td>\n",
              "      <td>2</td>\n",
              "      <td>1</td>\n",
              "      <td>1</td>\n",
              "      <td>4</td>\n",
              "      <td>2</td>\n",
              "      <td>8</td>\n",
              "      <td>846.6666</td>\n",
              "    </tr>\n",
              "    <tr>\n",
              "      <th>20</th>\n",
              "      <td>1</td>\n",
              "      <td>1</td>\n",
              "      <td>0</td>\n",
              "      <td>22</td>\n",
              "      <td>6</td>\n",
              "      <td>86</td>\n",
              "      <td>60.0</td>\n",
              "      <td>86.0</td>\n",
              "      <td>49</td>\n",
              "      <td>49.0</td>\n",
              "      <td>...</td>\n",
              "      <td>79</td>\n",
              "      <td>9</td>\n",
              "      <td>4</td>\n",
              "      <td>2</td>\n",
              "      <td>0</td>\n",
              "      <td>1</td>\n",
              "      <td>3</td>\n",
              "      <td>2</td>\n",
              "      <td>7</td>\n",
              "      <td>826.1666</td>\n",
              "    </tr>\n",
              "    <tr>\n",
              "      <th>22</th>\n",
              "      <td>1</td>\n",
              "      <td>1</td>\n",
              "      <td>0</td>\n",
              "      <td>16</td>\n",
              "      <td>10</td>\n",
              "      <td>67</td>\n",
              "      <td>60.0</td>\n",
              "      <td>67.0</td>\n",
              "      <td>29</td>\n",
              "      <td>60.0</td>\n",
              "      <td>...</td>\n",
              "      <td>68</td>\n",
              "      <td>8</td>\n",
              "      <td>3</td>\n",
              "      <td>2</td>\n",
              "      <td>0</td>\n",
              "      <td>1</td>\n",
              "      <td>4</td>\n",
              "      <td>2</td>\n",
              "      <td>6</td>\n",
              "      <td>795.6666</td>\n",
              "    </tr>\n",
              "  </tbody>\n",
              "</table>\n",
              "<p>5 rows × 23 columns</p>\n",
              "</div>\n",
              "      <button class=\"colab-df-convert\" onclick=\"convertToInteractive('df-3a2dd19b-58ce-49f2-abaa-60d6e54e1a52')\"\n",
              "              title=\"Convert this dataframe to an interactive table.\"\n",
              "              style=\"display:none;\">\n",
              "        \n",
              "  <svg xmlns=\"http://www.w3.org/2000/svg\" height=\"24px\"viewBox=\"0 0 24 24\"\n",
              "       width=\"24px\">\n",
              "    <path d=\"M0 0h24v24H0V0z\" fill=\"none\"/>\n",
              "    <path d=\"M18.56 5.44l.94 2.06.94-2.06 2.06-.94-2.06-.94-.94-2.06-.94 2.06-2.06.94zm-11 1L8.5 8.5l.94-2.06 2.06-.94-2.06-.94L8.5 2.5l-.94 2.06-2.06.94zm10 10l.94 2.06.94-2.06 2.06-.94-2.06-.94-.94-2.06-.94 2.06-2.06.94z\"/><path d=\"M17.41 7.96l-1.37-1.37c-.4-.4-.92-.59-1.43-.59-.52 0-1.04.2-1.43.59L10.3 9.45l-7.72 7.72c-.78.78-.78 2.05 0 2.83L4 21.41c.39.39.9.59 1.41.59.51 0 1.02-.2 1.41-.59l7.78-7.78 2.81-2.81c.8-.78.8-2.07 0-2.86zM5.41 20L4 18.59l7.72-7.72 1.47 1.35L5.41 20z\"/>\n",
              "  </svg>\n",
              "      </button>\n",
              "      \n",
              "  <style>\n",
              "    .colab-df-container {\n",
              "      display:flex;\n",
              "      flex-wrap:wrap;\n",
              "      gap: 12px;\n",
              "    }\n",
              "\n",
              "    .colab-df-convert {\n",
              "      background-color: #E8F0FE;\n",
              "      border: none;\n",
              "      border-radius: 50%;\n",
              "      cursor: pointer;\n",
              "      display: none;\n",
              "      fill: #1967D2;\n",
              "      height: 32px;\n",
              "      padding: 0 0 0 0;\n",
              "      width: 32px;\n",
              "    }\n",
              "\n",
              "    .colab-df-convert:hover {\n",
              "      background-color: #E2EBFA;\n",
              "      box-shadow: 0px 1px 2px rgba(60, 64, 67, 0.3), 0px 1px 3px 1px rgba(60, 64, 67, 0.15);\n",
              "      fill: #174EA6;\n",
              "    }\n",
              "\n",
              "    [theme=dark] .colab-df-convert {\n",
              "      background-color: #3B4455;\n",
              "      fill: #D2E3FC;\n",
              "    }\n",
              "\n",
              "    [theme=dark] .colab-df-convert:hover {\n",
              "      background-color: #434B5C;\n",
              "      box-shadow: 0px 1px 3px 1px rgba(0, 0, 0, 0.15);\n",
              "      filter: drop-shadow(0px 1px 2px rgba(0, 0, 0, 0.3));\n",
              "      fill: #FFFFFF;\n",
              "    }\n",
              "  </style>\n",
              "\n",
              "      <script>\n",
              "        const buttonEl =\n",
              "          document.querySelector('#df-3a2dd19b-58ce-49f2-abaa-60d6e54e1a52 button.colab-df-convert');\n",
              "        buttonEl.style.display =\n",
              "          google.colab.kernel.accessAllowed ? 'block' : 'none';\n",
              "\n",
              "        async function convertToInteractive(key) {\n",
              "          const element = document.querySelector('#df-3a2dd19b-58ce-49f2-abaa-60d6e54e1a52');\n",
              "          const dataTable =\n",
              "            await google.colab.kernel.invokeFunction('convertToInteractive',\n",
              "                                                     [key], {});\n",
              "          if (!dataTable) return;\n",
              "\n",
              "          const docLinkHtml = 'Like what you see? Visit the ' +\n",
              "            '<a target=\"_blank\" href=https://colab.research.google.com/notebooks/data_table.ipynb>data table notebook</a>'\n",
              "            + ' to learn more about interactive tables.';\n",
              "          element.innerHTML = '';\n",
              "          dataTable['output_type'] = 'display_data';\n",
              "          await google.colab.output.renderOutput(dataTable, element);\n",
              "          const docLink = document.createElement('div');\n",
              "          docLink.innerHTML = docLinkHtml;\n",
              "          element.appendChild(docLink);\n",
              "        }\n",
              "      </script>\n",
              "    </div>\n",
              "  </div>\n",
              "  "
            ]
          },
          "metadata": {},
          "execution_count": 526
        }
      ]
    },
    {
      "cell_type": "code",
      "source": [
        "df_x_clean.head()"
      ],
      "metadata": {
        "colab": {
          "base_uri": "https://localhost:8080/",
          "height": 508
        },
        "id": "PcC9PjqIDr43",
        "outputId": "41b282b7-d284-49bf-bccc-29eedc1a3566"
      },
      "execution_count": null,
      "outputs": [
        {
          "output_type": "execute_result",
          "data": {
            "text/plain": [
              "   Grade_x School Year_x Date of Test Pre or Post? Main Language Used In Exam  \\\n",
              "14       5     2020-2021   11/24/2021         Post                    English   \n",
              "16       5     2020-2021   11/24/2021         Post                    English   \n",
              "18       5     2020-2021   11/24/2021         Post                    English   \n",
              "20       5     2020-2021   11/24/2021         Post               English; Ewe   \n",
              "22       5     2020-2021   11/24/2021         Post               English; Ewe   \n",
              "\n",
              "   EGRA Question 1: Reading Habit EGRA Last Book Read  Reads With Others  \\\n",
              "14                            Yes                 Yes                  1   \n",
              "16                            Yes                 Yes                  1   \n",
              "18                            Yes                 Yes                  1   \n",
              "20                            Yes                 Yes                  1   \n",
              "22                            Yes                 Yes                  1   \n",
              "\n",
              "    How Often, ReadsWithOthers Student Gender  ... Skill to Improve 1  \\\n",
              "14                           1           Male  ...               None   \n",
              "16                           1         Female  ...               None   \n",
              "18                           2         Female  ...               None   \n",
              "20                           3         Female  ...               None   \n",
              "22                           1         Female  ...               None   \n",
              "\n",
              "   Skill to Improve 2 Minutes Spent Observing Minutes Spent Coaching  \\\n",
              "14               None               17.846743               9.114943   \n",
              "16               None               17.846743               9.114943   \n",
              "18               None               17.846743               9.114943   \n",
              "20               None               17.846743               9.114943   \n",
              "22               None               17.846743               9.114943   \n",
              "\n",
              "   Total Score Teacher Number: Gender  \\\n",
              "14           0                 Female   \n",
              "16           0                 Female   \n",
              "18           0                 Female   \n",
              "20           0                 Female   \n",
              "22           0                 Female   \n",
              "\n",
              "   Teacher Number: School Years in Teacher Support Program Teacher Present  \\\n",
              "14                                                  3          Not Present   \n",
              "16                                                  3          Not Present   \n",
              "18                                                  3          Not Present   \n",
              "20                                                  3          Not Present   \n",
              "22                                                  3          Not Present   \n",
              "\n",
              "   Average Students Enrolled School Year_y  \n",
              "14                        15     2020-2021  \n",
              "16                        15     2020-2021  \n",
              "18                        15     2020-2021  \n",
              "20                        15     2020-2021  \n",
              "22                        15     2020-2021  \n",
              "\n",
              "[5 rows x 31 columns]"
            ],
            "text/html": [
              "\n",
              "  <div id=\"df-ef8d7ed4-3858-4311-93ab-681b1537b015\">\n",
              "    <div class=\"colab-df-container\">\n",
              "      <div>\n",
              "<style scoped>\n",
              "    .dataframe tbody tr th:only-of-type {\n",
              "        vertical-align: middle;\n",
              "    }\n",
              "\n",
              "    .dataframe tbody tr th {\n",
              "        vertical-align: top;\n",
              "    }\n",
              "\n",
              "    .dataframe thead th {\n",
              "        text-align: right;\n",
              "    }\n",
              "</style>\n",
              "<table border=\"1\" class=\"dataframe\">\n",
              "  <thead>\n",
              "    <tr style=\"text-align: right;\">\n",
              "      <th></th>\n",
              "      <th>Grade_x</th>\n",
              "      <th>School Year_x</th>\n",
              "      <th>Date of Test</th>\n",
              "      <th>Pre or Post?</th>\n",
              "      <th>Main Language Used In Exam</th>\n",
              "      <th>EGRA Question 1: Reading Habit</th>\n",
              "      <th>EGRA Last Book Read</th>\n",
              "      <th>Reads With Others</th>\n",
              "      <th>How Often, ReadsWithOthers</th>\n",
              "      <th>Student Gender</th>\n",
              "      <th>...</th>\n",
              "      <th>Skill to Improve 1</th>\n",
              "      <th>Skill to Improve 2</th>\n",
              "      <th>Minutes Spent Observing</th>\n",
              "      <th>Minutes Spent Coaching</th>\n",
              "      <th>Total Score</th>\n",
              "      <th>Teacher Number: Gender</th>\n",
              "      <th>Teacher Number: School Years in Teacher Support Program</th>\n",
              "      <th>Teacher Present</th>\n",
              "      <th>Average Students Enrolled</th>\n",
              "      <th>School Year_y</th>\n",
              "    </tr>\n",
              "  </thead>\n",
              "  <tbody>\n",
              "    <tr>\n",
              "      <th>14</th>\n",
              "      <td>5</td>\n",
              "      <td>2020-2021</td>\n",
              "      <td>11/24/2021</td>\n",
              "      <td>Post</td>\n",
              "      <td>English</td>\n",
              "      <td>Yes</td>\n",
              "      <td>Yes</td>\n",
              "      <td>1</td>\n",
              "      <td>1</td>\n",
              "      <td>Male</td>\n",
              "      <td>...</td>\n",
              "      <td>None</td>\n",
              "      <td>None</td>\n",
              "      <td>17.846743</td>\n",
              "      <td>9.114943</td>\n",
              "      <td>0</td>\n",
              "      <td>Female</td>\n",
              "      <td>3</td>\n",
              "      <td>Not Present</td>\n",
              "      <td>15</td>\n",
              "      <td>2020-2021</td>\n",
              "    </tr>\n",
              "    <tr>\n",
              "      <th>16</th>\n",
              "      <td>5</td>\n",
              "      <td>2020-2021</td>\n",
              "      <td>11/24/2021</td>\n",
              "      <td>Post</td>\n",
              "      <td>English</td>\n",
              "      <td>Yes</td>\n",
              "      <td>Yes</td>\n",
              "      <td>1</td>\n",
              "      <td>1</td>\n",
              "      <td>Female</td>\n",
              "      <td>...</td>\n",
              "      <td>None</td>\n",
              "      <td>None</td>\n",
              "      <td>17.846743</td>\n",
              "      <td>9.114943</td>\n",
              "      <td>0</td>\n",
              "      <td>Female</td>\n",
              "      <td>3</td>\n",
              "      <td>Not Present</td>\n",
              "      <td>15</td>\n",
              "      <td>2020-2021</td>\n",
              "    </tr>\n",
              "    <tr>\n",
              "      <th>18</th>\n",
              "      <td>5</td>\n",
              "      <td>2020-2021</td>\n",
              "      <td>11/24/2021</td>\n",
              "      <td>Post</td>\n",
              "      <td>English</td>\n",
              "      <td>Yes</td>\n",
              "      <td>Yes</td>\n",
              "      <td>1</td>\n",
              "      <td>2</td>\n",
              "      <td>Female</td>\n",
              "      <td>...</td>\n",
              "      <td>None</td>\n",
              "      <td>None</td>\n",
              "      <td>17.846743</td>\n",
              "      <td>9.114943</td>\n",
              "      <td>0</td>\n",
              "      <td>Female</td>\n",
              "      <td>3</td>\n",
              "      <td>Not Present</td>\n",
              "      <td>15</td>\n",
              "      <td>2020-2021</td>\n",
              "    </tr>\n",
              "    <tr>\n",
              "      <th>20</th>\n",
              "      <td>5</td>\n",
              "      <td>2020-2021</td>\n",
              "      <td>11/24/2021</td>\n",
              "      <td>Post</td>\n",
              "      <td>English; Ewe</td>\n",
              "      <td>Yes</td>\n",
              "      <td>Yes</td>\n",
              "      <td>1</td>\n",
              "      <td>3</td>\n",
              "      <td>Female</td>\n",
              "      <td>...</td>\n",
              "      <td>None</td>\n",
              "      <td>None</td>\n",
              "      <td>17.846743</td>\n",
              "      <td>9.114943</td>\n",
              "      <td>0</td>\n",
              "      <td>Female</td>\n",
              "      <td>3</td>\n",
              "      <td>Not Present</td>\n",
              "      <td>15</td>\n",
              "      <td>2020-2021</td>\n",
              "    </tr>\n",
              "    <tr>\n",
              "      <th>22</th>\n",
              "      <td>5</td>\n",
              "      <td>2020-2021</td>\n",
              "      <td>11/24/2021</td>\n",
              "      <td>Post</td>\n",
              "      <td>English; Ewe</td>\n",
              "      <td>Yes</td>\n",
              "      <td>Yes</td>\n",
              "      <td>1</td>\n",
              "      <td>1</td>\n",
              "      <td>Female</td>\n",
              "      <td>...</td>\n",
              "      <td>None</td>\n",
              "      <td>None</td>\n",
              "      <td>17.846743</td>\n",
              "      <td>9.114943</td>\n",
              "      <td>0</td>\n",
              "      <td>Female</td>\n",
              "      <td>3</td>\n",
              "      <td>Not Present</td>\n",
              "      <td>15</td>\n",
              "      <td>2020-2021</td>\n",
              "    </tr>\n",
              "  </tbody>\n",
              "</table>\n",
              "<p>5 rows × 31 columns</p>\n",
              "</div>\n",
              "      <button class=\"colab-df-convert\" onclick=\"convertToInteractive('df-ef8d7ed4-3858-4311-93ab-681b1537b015')\"\n",
              "              title=\"Convert this dataframe to an interactive table.\"\n",
              "              style=\"display:none;\">\n",
              "        \n",
              "  <svg xmlns=\"http://www.w3.org/2000/svg\" height=\"24px\"viewBox=\"0 0 24 24\"\n",
              "       width=\"24px\">\n",
              "    <path d=\"M0 0h24v24H0V0z\" fill=\"none\"/>\n",
              "    <path d=\"M18.56 5.44l.94 2.06.94-2.06 2.06-.94-2.06-.94-.94-2.06-.94 2.06-2.06.94zm-11 1L8.5 8.5l.94-2.06 2.06-.94-2.06-.94L8.5 2.5l-.94 2.06-2.06.94zm10 10l.94 2.06.94-2.06 2.06-.94-2.06-.94-.94-2.06-.94 2.06-2.06.94z\"/><path d=\"M17.41 7.96l-1.37-1.37c-.4-.4-.92-.59-1.43-.59-.52 0-1.04.2-1.43.59L10.3 9.45l-7.72 7.72c-.78.78-.78 2.05 0 2.83L4 21.41c.39.39.9.59 1.41.59.51 0 1.02-.2 1.41-.59l7.78-7.78 2.81-2.81c.8-.78.8-2.07 0-2.86zM5.41 20L4 18.59l7.72-7.72 1.47 1.35L5.41 20z\"/>\n",
              "  </svg>\n",
              "      </button>\n",
              "      \n",
              "  <style>\n",
              "    .colab-df-container {\n",
              "      display:flex;\n",
              "      flex-wrap:wrap;\n",
              "      gap: 12px;\n",
              "    }\n",
              "\n",
              "    .colab-df-convert {\n",
              "      background-color: #E8F0FE;\n",
              "      border: none;\n",
              "      border-radius: 50%;\n",
              "      cursor: pointer;\n",
              "      display: none;\n",
              "      fill: #1967D2;\n",
              "      height: 32px;\n",
              "      padding: 0 0 0 0;\n",
              "      width: 32px;\n",
              "    }\n",
              "\n",
              "    .colab-df-convert:hover {\n",
              "      background-color: #E2EBFA;\n",
              "      box-shadow: 0px 1px 2px rgba(60, 64, 67, 0.3), 0px 1px 3px 1px rgba(60, 64, 67, 0.15);\n",
              "      fill: #174EA6;\n",
              "    }\n",
              "\n",
              "    [theme=dark] .colab-df-convert {\n",
              "      background-color: #3B4455;\n",
              "      fill: #D2E3FC;\n",
              "    }\n",
              "\n",
              "    [theme=dark] .colab-df-convert:hover {\n",
              "      background-color: #434B5C;\n",
              "      box-shadow: 0px 1px 3px 1px rgba(0, 0, 0, 0.15);\n",
              "      filter: drop-shadow(0px 1px 2px rgba(0, 0, 0, 0.3));\n",
              "      fill: #FFFFFF;\n",
              "    }\n",
              "  </style>\n",
              "\n",
              "      <script>\n",
              "        const buttonEl =\n",
              "          document.querySelector('#df-ef8d7ed4-3858-4311-93ab-681b1537b015 button.colab-df-convert');\n",
              "        buttonEl.style.display =\n",
              "          google.colab.kernel.accessAllowed ? 'block' : 'none';\n",
              "\n",
              "        async function convertToInteractive(key) {\n",
              "          const element = document.querySelector('#df-ef8d7ed4-3858-4311-93ab-681b1537b015');\n",
              "          const dataTable =\n",
              "            await google.colab.kernel.invokeFunction('convertToInteractive',\n",
              "                                                     [key], {});\n",
              "          if (!dataTable) return;\n",
              "\n",
              "          const docLinkHtml = 'Like what you see? Visit the ' +\n",
              "            '<a target=\"_blank\" href=https://colab.research.google.com/notebooks/data_table.ipynb>data table notebook</a>'\n",
              "            + ' to learn more about interactive tables.';\n",
              "          element.innerHTML = '';\n",
              "          dataTable['output_type'] = 'display_data';\n",
              "          await google.colab.output.renderOutput(dataTable, element);\n",
              "          const docLink = document.createElement('div');\n",
              "          docLink.innerHTML = docLinkHtml;\n",
              "          element.appendChild(docLink);\n",
              "        }\n",
              "      </script>\n",
              "    </div>\n",
              "  </div>\n",
              "  "
            ]
          },
          "metadata": {},
          "execution_count": 527
        }
      ]
    },
    {
      "cell_type": "code",
      "source": [
        "df_x_clean['Pre or Post?'].value_counts()"
      ],
      "metadata": {
        "colab": {
          "base_uri": "https://localhost:8080/"
        },
        "id": "GZUo0tlvEHOw",
        "outputId": "be015e77-639c-4aae-d150-06425f027094"
      },
      "execution_count": null,
      "outputs": [
        {
          "output_type": "execute_result",
          "data": {
            "text/plain": [
              "Post    348\n",
              "Pre       1\n",
              "Name: Pre or Post?, dtype: int64"
            ]
          },
          "metadata": {},
          "execution_count": 528
        }
      ]
    },
    {
      "cell_type": "code",
      "source": [
        "df_x_clean.columns"
      ],
      "metadata": {
        "colab": {
          "base_uri": "https://localhost:8080/"
        },
        "id": "og7-RhHsEiWo",
        "outputId": "0bfc425c-5cee-4436-aba6-bc9d2abedb8e"
      },
      "execution_count": null,
      "outputs": [
        {
          "output_type": "execute_result",
          "data": {
            "text/plain": [
              "Index(['Grade_x', 'School Year_x', 'Date of Test', 'Pre or Post?',\n",
              "       'Main Language Used In Exam', 'EGRA Question 1: Reading Habit',\n",
              "       'EGRA Last Book Read', 'Reads With Others',\n",
              "       'How Often, ReadsWithOthers', 'Student Gender', 'Class Number',\n",
              "       'Teacher Number: Teacher Number', 'Date', 'Q1 Rating or Answer',\n",
              "       'Q2 Rating', 'Q3 Rating or Answer', 'Q4 Rating or Answer',\n",
              "       'Q5 Rating or Answer', 'Q6 Rating or Answer', 'Q7 Rating', 'Q8 Rating',\n",
              "       'Skill to Improve 1', 'Skill to Improve 2', 'Minutes Spent Observing',\n",
              "       'Minutes Spent Coaching', 'Total Score', 'Teacher Number: Gender',\n",
              "       'Teacher Number: School Years in Teacher Support Program',\n",
              "       'Teacher Present', 'Average Students Enrolled', 'School Year_y'],\n",
              "      dtype='object')"
            ]
          },
          "metadata": {},
          "execution_count": 529
        }
      ]
    },
    {
      "cell_type": "code",
      "source": [
        "df_x_clean['School Year_y']"
      ],
      "metadata": {
        "colab": {
          "base_uri": "https://localhost:8080/"
        },
        "id": "RUOZxvNJf9H2",
        "outputId": "b8cfb16e-2aba-4521-ef7f-2cf1f4bf5b13"
      },
      "execution_count": null,
      "outputs": [
        {
          "output_type": "execute_result",
          "data": {
            "text/plain": [
              "14     2020-2021\n",
              "16     2020-2021\n",
              "18     2020-2021\n",
              "20     2020-2021\n",
              "22     2020-2021\n",
              "         ...    \n",
              "989    2020-2021\n",
              "991    2020-2021\n",
              "993    2020-2021\n",
              "995    2020-2021\n",
              "997    2020-2021\n",
              "Name: School Year_y, Length: 349, dtype: object"
            ]
          },
          "metadata": {},
          "execution_count": 530
        }
      ]
    },
    {
      "cell_type": "code",
      "source": [
        "df_x_clean['Teacher Present'].unique()"
      ],
      "metadata": {
        "colab": {
          "base_uri": "https://localhost:8080/"
        },
        "id": "QnG5YyHbfN5-",
        "outputId": "ac37d814-15b1-48ad-fcc3-4a3635d62f56"
      },
      "execution_count": null,
      "outputs": [
        {
          "output_type": "execute_result",
          "data": {
            "text/plain": [
              "array(['Not Present', 'Present'], dtype=object)"
            ]
          },
          "metadata": {},
          "execution_count": 531
        }
      ]
    },
    {
      "cell_type": "code",
      "source": [
        "df_x_clean['Teacher Present'] = df_x_clean['Teacher Present'].map({\n",
        "    \"Present\":1,\n",
        "    \"Not Present\":0\n",
        "})"
      ],
      "metadata": {
        "id": "PmQiCitXfNyb"
      },
      "execution_count": null,
      "outputs": []
    },
    {
      "cell_type": "code",
      "source": [
        "df_x_clean['Teacher Number: Gender'].unique()"
      ],
      "metadata": {
        "colab": {
          "base_uri": "https://localhost:8080/"
        },
        "id": "zmathuIwefQ5",
        "outputId": "9eecbd20-9747-48b7-ca48-33df6c6a5699"
      },
      "execution_count": null,
      "outputs": [
        {
          "output_type": "execute_result",
          "data": {
            "text/plain": [
              "array(['Female', 'Male'], dtype=object)"
            ]
          },
          "metadata": {},
          "execution_count": 533
        }
      ]
    },
    {
      "cell_type": "code",
      "source": [
        "df_x_clean['Teacher Number: Gender'] = df_x_clean['Teacher Number: Gender'].map({\n",
        "    \"Male\":1,\n",
        "    \"Female\":0\n",
        "})"
      ],
      "metadata": {
        "id": "gkvUpGjeefIl"
      },
      "execution_count": null,
      "outputs": []
    },
    {
      "cell_type": "code",
      "source": [
        "df_x_clean['Student Gender'].unique()"
      ],
      "metadata": {
        "colab": {
          "base_uri": "https://localhost:8080/"
        },
        "id": "QeF8l0C_eODo",
        "outputId": "fdc09d9b-1d64-4fa4-8e7a-b609b00d5fe9"
      },
      "execution_count": null,
      "outputs": [
        {
          "output_type": "execute_result",
          "data": {
            "text/plain": [
              "array(['Male', 'Female'], dtype=object)"
            ]
          },
          "metadata": {},
          "execution_count": 535
        }
      ]
    },
    {
      "cell_type": "code",
      "source": [
        "df_x_clean['Student Gender'] = df_x_clean['Student Gender'].map({\n",
        "    \"Male\":1,\n",
        "    \"Female\":0\n",
        "})"
      ],
      "metadata": {
        "id": "S7Ev50AAeN8U"
      },
      "execution_count": null,
      "outputs": []
    },
    {
      "cell_type": "code",
      "source": [
        "df_x_clean['EGRA Last Book Read'].unique()"
      ],
      "metadata": {
        "colab": {
          "base_uri": "https://localhost:8080/"
        },
        "id": "JwzgKXy2eB8X",
        "outputId": "2b2573bc-1634-469b-9e66-01c1638f22f4"
      },
      "execution_count": null,
      "outputs": [
        {
          "output_type": "execute_result",
          "data": {
            "text/plain": [
              "array(['Yes', 'No'], dtype=object)"
            ]
          },
          "metadata": {},
          "execution_count": 537
        }
      ]
    },
    {
      "cell_type": "code",
      "source": [
        "df_x_clean['EGRA Last Book Read'] = df_x_clean['EGRA Last Book Read'].map({\n",
        "    \"Yes\":1,\n",
        "    \"No\":0\n",
        "})"
      ],
      "metadata": {
        "id": "jd308nOfeBzx"
      },
      "execution_count": null,
      "outputs": []
    },
    {
      "cell_type": "code",
      "source": [
        "df_x_clean['EGRA Question 1: Reading Habit'].unique()"
      ],
      "metadata": {
        "colab": {
          "base_uri": "https://localhost:8080/"
        },
        "id": "WRREb7JudSFS",
        "outputId": "2a0a6f77-d217-468d-821c-2b4fefb6d59b"
      },
      "execution_count": null,
      "outputs": [
        {
          "output_type": "execute_result",
          "data": {
            "text/plain": [
              "array(['Yes', 'No'], dtype=object)"
            ]
          },
          "metadata": {},
          "execution_count": 539
        }
      ]
    },
    {
      "cell_type": "code",
      "source": [
        "df_x_clean['EGRA Question 1: Reading Habit'] = df_x_clean['EGRA Question 1: Reading Habit'].map({\n",
        "    \"Yes\":1,\n",
        "    \"No\":0\n",
        "})"
      ],
      "metadata": {
        "id": "Rj2I2GH_dR_D"
      },
      "execution_count": null,
      "outputs": []
    },
    {
      "cell_type": "code",
      "source": [
        "df_x_clean=df_x_clean.drop(labels=['Date of Test','Class Number',\n",
        "       'Teacher Number: Teacher Number', 'Date','School Year_y'],axis=1)"
      ],
      "metadata": {
        "id": "gvg0CP10ciBi"
      },
      "execution_count": null,
      "outputs": []
    },
    {
      "cell_type": "code",
      "source": [
        "df_x_clean['Main Language Used In Exam'].unique()"
      ],
      "metadata": {
        "colab": {
          "base_uri": "https://localhost:8080/"
        },
        "id": "mUtBgk3Wc29G",
        "outputId": "a8dfc5e1-7058-4ffb-bf37-99f05d1404af"
      },
      "execution_count": null,
      "outputs": [
        {
          "output_type": "execute_result",
          "data": {
            "text/plain": [
              "array(['English', 'English; Ewe', 'Ewe'], dtype=object)"
            ]
          },
          "metadata": {},
          "execution_count": 542
        }
      ]
    },
    {
      "cell_type": "code",
      "source": [
        "df_x_clean['Main Language Used In Exam'] = df_x_clean['Main Language Used In Exam'].map({\n",
        "    \"Ewe\": 1,\n",
        "    \"English\": 2,\n",
        "    \"English; Ewe\": 3\n",
        "})"
      ],
      "metadata": {
        "id": "yJtlfpMDc_eJ"
      },
      "execution_count": null,
      "outputs": []
    },
    {
      "cell_type": "code",
      "source": [
        "len(df_x_clean.columns)"
      ],
      "metadata": {
        "colab": {
          "base_uri": "https://localhost:8080/"
        },
        "id": "WXrbfKl6NeMY",
        "outputId": "819be496-6700-41e7-c422-e50e7af6dcb0"
      },
      "execution_count": null,
      "outputs": [
        {
          "output_type": "execute_result",
          "data": {
            "text/plain": [
              "26"
            ]
          },
          "metadata": {},
          "execution_count": 544
        }
      ]
    },
    {
      "cell_type": "markdown",
      "source": [
        "### Encode to multiple categories"
      ],
      "metadata": {
        "id": "ZDwapIWxSo3V"
      }
    },
    {
      "cell_type": "code",
      "source": [
        "df_x_clean['School Year_x'].unique()"
      ],
      "metadata": {
        "colab": {
          "base_uri": "https://localhost:8080/"
        },
        "id": "iyOgjcWBN8jP",
        "outputId": "f6afa5fe-09a9-483e-da7c-c460c36e2ec7"
      },
      "execution_count": null,
      "outputs": [
        {
          "output_type": "execute_result",
          "data": {
            "text/plain": [
              "array(['2020-2021', '2018-2019', '2019-2020'], dtype=object)"
            ]
          },
          "metadata": {},
          "execution_count": 545
        }
      ]
    },
    {
      "cell_type": "code",
      "source": [
        "df_x_clean[\"School Year_x\"] = df_x_clean[\"School Year_x\"].map({\n",
        "    \"2019-2020\": 2020,\n",
        "    \"2020-2021\": 2021,\n",
        "    \"2018-2019\": 2019\n",
        "})"
      ],
      "metadata": {
        "id": "MAdPYBUYOgvp"
      },
      "execution_count": null,
      "outputs": []
    },
    {
      "cell_type": "code",
      "source": [
        "df_x_clean[\"School Year_x\"].unique()"
      ],
      "metadata": {
        "colab": {
          "base_uri": "https://localhost:8080/"
        },
        "id": "Av7BJpwwSb_C",
        "outputId": "0321cc7d-85f4-484a-ebc0-b272e101c417"
      },
      "execution_count": null,
      "outputs": [
        {
          "output_type": "execute_result",
          "data": {
            "text/plain": [
              "array([2021, 2019, 2020])"
            ]
          },
          "metadata": {},
          "execution_count": 547
        }
      ]
    },
    {
      "cell_type": "code",
      "source": [
        "df_x_clean['Pre or Post?'] = df_x_clean['Pre or Post?'].map({\n",
        "   \"Pre\":0,\n",
        "   \"Post\":1 \n",
        "})"
      ],
      "metadata": {
        "id": "sLQR8l3KSltw"
      },
      "execution_count": null,
      "outputs": []
    },
    {
      "cell_type": "code",
      "source": [
        "df_x_clean['Pre or Post?'] "
      ],
      "metadata": {
        "colab": {
          "base_uri": "https://localhost:8080/"
        },
        "id": "UHbRYm5sTFJQ",
        "outputId": "86756a03-bba8-486c-97a5-5678227a680b"
      },
      "execution_count": null,
      "outputs": [
        {
          "output_type": "execute_result",
          "data": {
            "text/plain": [
              "14     1\n",
              "16     1\n",
              "18     1\n",
              "20     1\n",
              "22     1\n",
              "      ..\n",
              "989    1\n",
              "991    1\n",
              "993    1\n",
              "995    1\n",
              "997    1\n",
              "Name: Pre or Post?, Length: 349, dtype: int64"
            ]
          },
          "metadata": {},
          "execution_count": 549
        }
      ]
    },
    {
      "cell_type": "code",
      "source": [
        "matched_clean=pd.concat([df_target,df_x_clean],axis=1)"
      ],
      "metadata": {
        "id": "TaJqI2JmxpSw"
      },
      "execution_count": null,
      "outputs": []
    },
    {
      "cell_type": "code",
      "source": [
        "matched_clean.to_csv(\"Matched Clean.csv\")"
      ],
      "metadata": {
        "id": "XFv6KDI8APYN"
      },
      "execution_count": null,
      "outputs": []
    },
    {
      "cell_type": "code",
      "source": [
        "df_target.to_csv(\"Target_Pop.csv\")"
      ],
      "metadata": {
        "id": "oOYpnFoBgEII"
      },
      "execution_count": null,
      "outputs": []
    },
    {
      "cell_type": "code",
      "source": [
        "df_x_clean.to_csv(\"Feature_Pop.csv\")"
      ],
      "metadata": {
        "id": "jNfs7e7tmTZW"
      },
      "execution_count": null,
      "outputs": []
    },
    {
      "cell_type": "code",
      "source": [
        "df_target"
      ],
      "metadata": {
        "id": "DmncqOxng2aw",
        "colab": {
          "base_uri": "https://localhost:8080/",
          "height": 574
        },
        "outputId": "2df09088-8f33-42b3-e00d-596e1ccb4ee4"
      },
      "execution_count": null,
      "outputs": [
        {
          "output_type": "execute_result",
          "data": {
            "text/plain": [
              "     EGRA Section 1a Score  EGRA Section 1b Score  EGRA Section 1c Score  \\\n",
              "14                       1                      1                      1   \n",
              "16                       1                      1                      1   \n",
              "18                       1                      0                      1   \n",
              "20                       1                      1                      0   \n",
              "22                       1                      1                      0   \n",
              "..                     ...                    ...                    ...   \n",
              "989                      1                      0                      0   \n",
              "991                      1                      1                      1   \n",
              "993                      1                      1                      1   \n",
              "995                      1                      1                      1   \n",
              "997                      1                      1                      1   \n",
              "\n",
              "     EGRA Section 2a Score  EGRA Section 2b Score  \\\n",
              "14                      48                      9   \n",
              "16                      35                      8   \n",
              "18                      24                      8   \n",
              "20                      22                      6   \n",
              "22                      16                     10   \n",
              "..                     ...                    ...   \n",
              "989                     20                      9   \n",
              "991                     31                      7   \n",
              "993                     11                      9   \n",
              "995                     50                     10   \n",
              "997                     48                     10   \n",
              "\n",
              "     EGRA Section 3 Letters Correct  EGRA Section 3 Time Completed  \\\n",
              "14                              100                           55.0   \n",
              "16                               92                           60.0   \n",
              "18                               57                           60.0   \n",
              "20                               86                           60.0   \n",
              "22                               67                           60.0   \n",
              "..                              ...                            ...   \n",
              "989                             100                           55.0   \n",
              "991                              81                           60.0   \n",
              "993                              81                           60.0   \n",
              "995                             100                           56.0   \n",
              "997                             100                           60.0   \n",
              "\n",
              "     EGRA Section 3 LPM  EGRA Section 4 Words Correct  \\\n",
              "14                109.0                            50   \n",
              "16                 92.0                            45   \n",
              "18                 57.0                            43   \n",
              "20                 86.0                            49   \n",
              "22                 67.0                            29   \n",
              "..                  ...                           ...   \n",
              "989               109.0                            48   \n",
              "991                81.0                            46   \n",
              "993                81.0                            46   \n",
              "995               107.0                            50   \n",
              "997               100.0                            50   \n",
              "\n",
              "     EGRA Section 4 Time Completed  ...  EGRA Section 5 CWPM  \\\n",
              "14                            37.0  ...                  133   \n",
              "16                            48.0  ...                   77   \n",
              "18                            53.0  ...                  105   \n",
              "20                            49.0  ...                   79   \n",
              "22                            60.0  ...                   68   \n",
              "..                             ...  ...                  ...   \n",
              "989                           60.0  ...                   80   \n",
              "991                           48.0  ...                   94   \n",
              "993                           59.0  ...                   75   \n",
              "995                           36.0  ...                  120   \n",
              "997                           42.0  ...                  124   \n",
              "\n",
              "     EGRA Section 5 Questions Correct  EGRA Section 6 Written Words Correct  \\\n",
              "14                                 10                                     4   \n",
              "16                                  9                                     3   \n",
              "18                                  9                                     4   \n",
              "20                                  9                                     4   \n",
              "22                                  8                                     3   \n",
              "..                                ...                                   ...   \n",
              "989                                10                                     2   \n",
              "991                                10                                     3   \n",
              "993                                10                                     4   \n",
              "995                                10                                     3   \n",
              "997                                 9                                     4   \n",
              "\n",
              "     EGRA Section 6 Correct Space/Direction  \\\n",
              "14                                        2   \n",
              "16                                        2   \n",
              "18                                        2   \n",
              "20                                        2   \n",
              "22                                        2   \n",
              "..                                      ...   \n",
              "989                                       2   \n",
              "991                                       2   \n",
              "993                                       2   \n",
              "995                                       2   \n",
              "997                                       2   \n",
              "\n",
              "     EGRA Section 6 Correct Punctuation  \\\n",
              "14                                    1   \n",
              "16                                    0   \n",
              "18                                    1   \n",
              "20                                    0   \n",
              "22                                    0   \n",
              "..                                  ...   \n",
              "989                                   1   \n",
              "991                                   1   \n",
              "993                                   0   \n",
              "995                                   0   \n",
              "997                                   1   \n",
              "\n",
              "     EGRA Section 6 Correct Use of Capitals  EGRA Section 7a Score  \\\n",
              "14                                        1                      4   \n",
              "16                                        1                      3   \n",
              "18                                        1                      4   \n",
              "20                                        1                      3   \n",
              "22                                        1                      4   \n",
              "..                                      ...                    ...   \n",
              "989                                       0                      4   \n",
              "991                                       0                      4   \n",
              "993                                       1                      4   \n",
              "995                                       1                      4   \n",
              "997                                       1                      4   \n",
              "\n",
              "     EGRA Section 1 Total Score  EGRA Section 6 Total Score  Cumulative Score  \n",
              "14                            3                           8         1015.9999  \n",
              "16                            3                           6          890.9999  \n",
              "18                            2                           8          846.6666  \n",
              "20                            2                           7          826.1666  \n",
              "22                            2                           6          795.6666  \n",
              "..                          ...                         ...               ...  \n",
              "989                           1                           5          851.8333  \n",
              "991                           3                           6          903.9999  \n",
              "993                           3                           7          902.4999  \n",
              "995                           3                           6         1004.9999  \n",
              "997                           3                           8         1010.9999  \n",
              "\n",
              "[349 rows x 23 columns]"
            ],
            "text/html": [
              "\n",
              "  <div id=\"df-7fff6495-b10c-4514-858f-7116042c1628\">\n",
              "    <div class=\"colab-df-container\">\n",
              "      <div>\n",
              "<style scoped>\n",
              "    .dataframe tbody tr th:only-of-type {\n",
              "        vertical-align: middle;\n",
              "    }\n",
              "\n",
              "    .dataframe tbody tr th {\n",
              "        vertical-align: top;\n",
              "    }\n",
              "\n",
              "    .dataframe thead th {\n",
              "        text-align: right;\n",
              "    }\n",
              "</style>\n",
              "<table border=\"1\" class=\"dataframe\">\n",
              "  <thead>\n",
              "    <tr style=\"text-align: right;\">\n",
              "      <th></th>\n",
              "      <th>EGRA Section 1a Score</th>\n",
              "      <th>EGRA Section 1b Score</th>\n",
              "      <th>EGRA Section 1c Score</th>\n",
              "      <th>EGRA Section 2a Score</th>\n",
              "      <th>EGRA Section 2b Score</th>\n",
              "      <th>EGRA Section 3 Letters Correct</th>\n",
              "      <th>EGRA Section 3 Time Completed</th>\n",
              "      <th>EGRA Section 3 LPM</th>\n",
              "      <th>EGRA Section 4 Words Correct</th>\n",
              "      <th>EGRA Section 4 Time Completed</th>\n",
              "      <th>...</th>\n",
              "      <th>EGRA Section 5 CWPM</th>\n",
              "      <th>EGRA Section 5 Questions Correct</th>\n",
              "      <th>EGRA Section 6 Written Words Correct</th>\n",
              "      <th>EGRA Section 6 Correct Space/Direction</th>\n",
              "      <th>EGRA Section 6 Correct Punctuation</th>\n",
              "      <th>EGRA Section 6 Correct Use of Capitals</th>\n",
              "      <th>EGRA Section 7a Score</th>\n",
              "      <th>EGRA Section 1 Total Score</th>\n",
              "      <th>EGRA Section 6 Total Score</th>\n",
              "      <th>Cumulative Score</th>\n",
              "    </tr>\n",
              "  </thead>\n",
              "  <tbody>\n",
              "    <tr>\n",
              "      <th>14</th>\n",
              "      <td>1</td>\n",
              "      <td>1</td>\n",
              "      <td>1</td>\n",
              "      <td>48</td>\n",
              "      <td>9</td>\n",
              "      <td>100</td>\n",
              "      <td>55.0</td>\n",
              "      <td>109.0</td>\n",
              "      <td>50</td>\n",
              "      <td>37.0</td>\n",
              "      <td>...</td>\n",
              "      <td>133</td>\n",
              "      <td>10</td>\n",
              "      <td>4</td>\n",
              "      <td>2</td>\n",
              "      <td>1</td>\n",
              "      <td>1</td>\n",
              "      <td>4</td>\n",
              "      <td>3</td>\n",
              "      <td>8</td>\n",
              "      <td>1015.9999</td>\n",
              "    </tr>\n",
              "    <tr>\n",
              "      <th>16</th>\n",
              "      <td>1</td>\n",
              "      <td>1</td>\n",
              "      <td>1</td>\n",
              "      <td>35</td>\n",
              "      <td>8</td>\n",
              "      <td>92</td>\n",
              "      <td>60.0</td>\n",
              "      <td>92.0</td>\n",
              "      <td>45</td>\n",
              "      <td>48.0</td>\n",
              "      <td>...</td>\n",
              "      <td>77</td>\n",
              "      <td>9</td>\n",
              "      <td>3</td>\n",
              "      <td>2</td>\n",
              "      <td>0</td>\n",
              "      <td>1</td>\n",
              "      <td>3</td>\n",
              "      <td>3</td>\n",
              "      <td>6</td>\n",
              "      <td>890.9999</td>\n",
              "    </tr>\n",
              "    <tr>\n",
              "      <th>18</th>\n",
              "      <td>1</td>\n",
              "      <td>0</td>\n",
              "      <td>1</td>\n",
              "      <td>24</td>\n",
              "      <td>8</td>\n",
              "      <td>57</td>\n",
              "      <td>60.0</td>\n",
              "      <td>57.0</td>\n",
              "      <td>43</td>\n",
              "      <td>53.0</td>\n",
              "      <td>...</td>\n",
              "      <td>105</td>\n",
              "      <td>9</td>\n",
              "      <td>4</td>\n",
              "      <td>2</td>\n",
              "      <td>1</td>\n",
              "      <td>1</td>\n",
              "      <td>4</td>\n",
              "      <td>2</td>\n",
              "      <td>8</td>\n",
              "      <td>846.6666</td>\n",
              "    </tr>\n",
              "    <tr>\n",
              "      <th>20</th>\n",
              "      <td>1</td>\n",
              "      <td>1</td>\n",
              "      <td>0</td>\n",
              "      <td>22</td>\n",
              "      <td>6</td>\n",
              "      <td>86</td>\n",
              "      <td>60.0</td>\n",
              "      <td>86.0</td>\n",
              "      <td>49</td>\n",
              "      <td>49.0</td>\n",
              "      <td>...</td>\n",
              "      <td>79</td>\n",
              "      <td>9</td>\n",
              "      <td>4</td>\n",
              "      <td>2</td>\n",
              "      <td>0</td>\n",
              "      <td>1</td>\n",
              "      <td>3</td>\n",
              "      <td>2</td>\n",
              "      <td>7</td>\n",
              "      <td>826.1666</td>\n",
              "    </tr>\n",
              "    <tr>\n",
              "      <th>22</th>\n",
              "      <td>1</td>\n",
              "      <td>1</td>\n",
              "      <td>0</td>\n",
              "      <td>16</td>\n",
              "      <td>10</td>\n",
              "      <td>67</td>\n",
              "      <td>60.0</td>\n",
              "      <td>67.0</td>\n",
              "      <td>29</td>\n",
              "      <td>60.0</td>\n",
              "      <td>...</td>\n",
              "      <td>68</td>\n",
              "      <td>8</td>\n",
              "      <td>3</td>\n",
              "      <td>2</td>\n",
              "      <td>0</td>\n",
              "      <td>1</td>\n",
              "      <td>4</td>\n",
              "      <td>2</td>\n",
              "      <td>6</td>\n",
              "      <td>795.6666</td>\n",
              "    </tr>\n",
              "    <tr>\n",
              "      <th>...</th>\n",
              "      <td>...</td>\n",
              "      <td>...</td>\n",
              "      <td>...</td>\n",
              "      <td>...</td>\n",
              "      <td>...</td>\n",
              "      <td>...</td>\n",
              "      <td>...</td>\n",
              "      <td>...</td>\n",
              "      <td>...</td>\n",
              "      <td>...</td>\n",
              "      <td>...</td>\n",
              "      <td>...</td>\n",
              "      <td>...</td>\n",
              "      <td>...</td>\n",
              "      <td>...</td>\n",
              "      <td>...</td>\n",
              "      <td>...</td>\n",
              "      <td>...</td>\n",
              "      <td>...</td>\n",
              "      <td>...</td>\n",
              "      <td>...</td>\n",
              "    </tr>\n",
              "    <tr>\n",
              "      <th>989</th>\n",
              "      <td>1</td>\n",
              "      <td>0</td>\n",
              "      <td>0</td>\n",
              "      <td>20</td>\n",
              "      <td>9</td>\n",
              "      <td>100</td>\n",
              "      <td>55.0</td>\n",
              "      <td>109.0</td>\n",
              "      <td>48</td>\n",
              "      <td>60.0</td>\n",
              "      <td>...</td>\n",
              "      <td>80</td>\n",
              "      <td>10</td>\n",
              "      <td>2</td>\n",
              "      <td>2</td>\n",
              "      <td>1</td>\n",
              "      <td>0</td>\n",
              "      <td>4</td>\n",
              "      <td>1</td>\n",
              "      <td>5</td>\n",
              "      <td>851.8333</td>\n",
              "    </tr>\n",
              "    <tr>\n",
              "      <th>991</th>\n",
              "      <td>1</td>\n",
              "      <td>1</td>\n",
              "      <td>1</td>\n",
              "      <td>31</td>\n",
              "      <td>7</td>\n",
              "      <td>81</td>\n",
              "      <td>60.0</td>\n",
              "      <td>81.0</td>\n",
              "      <td>46</td>\n",
              "      <td>48.0</td>\n",
              "      <td>...</td>\n",
              "      <td>94</td>\n",
              "      <td>10</td>\n",
              "      <td>3</td>\n",
              "      <td>2</td>\n",
              "      <td>1</td>\n",
              "      <td>0</td>\n",
              "      <td>4</td>\n",
              "      <td>3</td>\n",
              "      <td>6</td>\n",
              "      <td>903.9999</td>\n",
              "    </tr>\n",
              "    <tr>\n",
              "      <th>993</th>\n",
              "      <td>1</td>\n",
              "      <td>1</td>\n",
              "      <td>1</td>\n",
              "      <td>11</td>\n",
              "      <td>9</td>\n",
              "      <td>81</td>\n",
              "      <td>60.0</td>\n",
              "      <td>81.0</td>\n",
              "      <td>46</td>\n",
              "      <td>59.0</td>\n",
              "      <td>...</td>\n",
              "      <td>75</td>\n",
              "      <td>10</td>\n",
              "      <td>4</td>\n",
              "      <td>2</td>\n",
              "      <td>0</td>\n",
              "      <td>1</td>\n",
              "      <td>4</td>\n",
              "      <td>3</td>\n",
              "      <td>7</td>\n",
              "      <td>902.4999</td>\n",
              "    </tr>\n",
              "    <tr>\n",
              "      <th>995</th>\n",
              "      <td>1</td>\n",
              "      <td>1</td>\n",
              "      <td>1</td>\n",
              "      <td>50</td>\n",
              "      <td>10</td>\n",
              "      <td>100</td>\n",
              "      <td>56.0</td>\n",
              "      <td>107.0</td>\n",
              "      <td>50</td>\n",
              "      <td>36.0</td>\n",
              "      <td>...</td>\n",
              "      <td>120</td>\n",
              "      <td>10</td>\n",
              "      <td>3</td>\n",
              "      <td>2</td>\n",
              "      <td>0</td>\n",
              "      <td>1</td>\n",
              "      <td>4</td>\n",
              "      <td>3</td>\n",
              "      <td>6</td>\n",
              "      <td>1004.9999</td>\n",
              "    </tr>\n",
              "    <tr>\n",
              "      <th>997</th>\n",
              "      <td>1</td>\n",
              "      <td>1</td>\n",
              "      <td>1</td>\n",
              "      <td>48</td>\n",
              "      <td>10</td>\n",
              "      <td>100</td>\n",
              "      <td>60.0</td>\n",
              "      <td>100.0</td>\n",
              "      <td>50</td>\n",
              "      <td>42.0</td>\n",
              "      <td>...</td>\n",
              "      <td>124</td>\n",
              "      <td>9</td>\n",
              "      <td>4</td>\n",
              "      <td>2</td>\n",
              "      <td>1</td>\n",
              "      <td>1</td>\n",
              "      <td>4</td>\n",
              "      <td>3</td>\n",
              "      <td>8</td>\n",
              "      <td>1010.9999</td>\n",
              "    </tr>\n",
              "  </tbody>\n",
              "</table>\n",
              "<p>349 rows × 23 columns</p>\n",
              "</div>\n",
              "      <button class=\"colab-df-convert\" onclick=\"convertToInteractive('df-7fff6495-b10c-4514-858f-7116042c1628')\"\n",
              "              title=\"Convert this dataframe to an interactive table.\"\n",
              "              style=\"display:none;\">\n",
              "        \n",
              "  <svg xmlns=\"http://www.w3.org/2000/svg\" height=\"24px\"viewBox=\"0 0 24 24\"\n",
              "       width=\"24px\">\n",
              "    <path d=\"M0 0h24v24H0V0z\" fill=\"none\"/>\n",
              "    <path d=\"M18.56 5.44l.94 2.06.94-2.06 2.06-.94-2.06-.94-.94-2.06-.94 2.06-2.06.94zm-11 1L8.5 8.5l.94-2.06 2.06-.94-2.06-.94L8.5 2.5l-.94 2.06-2.06.94zm10 10l.94 2.06.94-2.06 2.06-.94-2.06-.94-.94-2.06-.94 2.06-2.06.94z\"/><path d=\"M17.41 7.96l-1.37-1.37c-.4-.4-.92-.59-1.43-.59-.52 0-1.04.2-1.43.59L10.3 9.45l-7.72 7.72c-.78.78-.78 2.05 0 2.83L4 21.41c.39.39.9.59 1.41.59.51 0 1.02-.2 1.41-.59l7.78-7.78 2.81-2.81c.8-.78.8-2.07 0-2.86zM5.41 20L4 18.59l7.72-7.72 1.47 1.35L5.41 20z\"/>\n",
              "  </svg>\n",
              "      </button>\n",
              "      \n",
              "  <style>\n",
              "    .colab-df-container {\n",
              "      display:flex;\n",
              "      flex-wrap:wrap;\n",
              "      gap: 12px;\n",
              "    }\n",
              "\n",
              "    .colab-df-convert {\n",
              "      background-color: #E8F0FE;\n",
              "      border: none;\n",
              "      border-radius: 50%;\n",
              "      cursor: pointer;\n",
              "      display: none;\n",
              "      fill: #1967D2;\n",
              "      height: 32px;\n",
              "      padding: 0 0 0 0;\n",
              "      width: 32px;\n",
              "    }\n",
              "\n",
              "    .colab-df-convert:hover {\n",
              "      background-color: #E2EBFA;\n",
              "      box-shadow: 0px 1px 2px rgba(60, 64, 67, 0.3), 0px 1px 3px 1px rgba(60, 64, 67, 0.15);\n",
              "      fill: #174EA6;\n",
              "    }\n",
              "\n",
              "    [theme=dark] .colab-df-convert {\n",
              "      background-color: #3B4455;\n",
              "      fill: #D2E3FC;\n",
              "    }\n",
              "\n",
              "    [theme=dark] .colab-df-convert:hover {\n",
              "      background-color: #434B5C;\n",
              "      box-shadow: 0px 1px 3px 1px rgba(0, 0, 0, 0.15);\n",
              "      filter: drop-shadow(0px 1px 2px rgba(0, 0, 0, 0.3));\n",
              "      fill: #FFFFFF;\n",
              "    }\n",
              "  </style>\n",
              "\n",
              "      <script>\n",
              "        const buttonEl =\n",
              "          document.querySelector('#df-7fff6495-b10c-4514-858f-7116042c1628 button.colab-df-convert');\n",
              "        buttonEl.style.display =\n",
              "          google.colab.kernel.accessAllowed ? 'block' : 'none';\n",
              "\n",
              "        async function convertToInteractive(key) {\n",
              "          const element = document.querySelector('#df-7fff6495-b10c-4514-858f-7116042c1628');\n",
              "          const dataTable =\n",
              "            await google.colab.kernel.invokeFunction('convertToInteractive',\n",
              "                                                     [key], {});\n",
              "          if (!dataTable) return;\n",
              "\n",
              "          const docLinkHtml = 'Like what you see? Visit the ' +\n",
              "            '<a target=\"_blank\" href=https://colab.research.google.com/notebooks/data_table.ipynb>data table notebook</a>'\n",
              "            + ' to learn more about interactive tables.';\n",
              "          element.innerHTML = '';\n",
              "          dataTable['output_type'] = 'display_data';\n",
              "          await google.colab.output.renderOutput(dataTable, element);\n",
              "          const docLink = document.createElement('div');\n",
              "          docLink.innerHTML = docLinkHtml;\n",
              "          element.appendChild(docLink);\n",
              "        }\n",
              "      </script>\n",
              "    </div>\n",
              "  </div>\n",
              "  "
            ]
          },
          "metadata": {},
          "execution_count": 554
        }
      ]
    },
    {
      "cell_type": "code",
      "source": [
        "df_target"
      ],
      "metadata": {
        "colab": {
          "base_uri": "https://localhost:8080/",
          "height": 574
        },
        "id": "YumKwzoT0EUN",
        "outputId": "d0654f3f-1802-4252-9fcd-eb22c01e3eaf"
      },
      "execution_count": null,
      "outputs": [
        {
          "output_type": "execute_result",
          "data": {
            "text/plain": [
              "     EGRA Section 1a Score  EGRA Section 1b Score  EGRA Section 1c Score  \\\n",
              "14                       1                      1                      1   \n",
              "16                       1                      1                      1   \n",
              "18                       1                      0                      1   \n",
              "20                       1                      1                      0   \n",
              "22                       1                      1                      0   \n",
              "..                     ...                    ...                    ...   \n",
              "989                      1                      0                      0   \n",
              "991                      1                      1                      1   \n",
              "993                      1                      1                      1   \n",
              "995                      1                      1                      1   \n",
              "997                      1                      1                      1   \n",
              "\n",
              "     EGRA Section 2a Score  EGRA Section 2b Score  \\\n",
              "14                      48                      9   \n",
              "16                      35                      8   \n",
              "18                      24                      8   \n",
              "20                      22                      6   \n",
              "22                      16                     10   \n",
              "..                     ...                    ...   \n",
              "989                     20                      9   \n",
              "991                     31                      7   \n",
              "993                     11                      9   \n",
              "995                     50                     10   \n",
              "997                     48                     10   \n",
              "\n",
              "     EGRA Section 3 Letters Correct  EGRA Section 3 Time Completed  \\\n",
              "14                              100                           55.0   \n",
              "16                               92                           60.0   \n",
              "18                               57                           60.0   \n",
              "20                               86                           60.0   \n",
              "22                               67                           60.0   \n",
              "..                              ...                            ...   \n",
              "989                             100                           55.0   \n",
              "991                              81                           60.0   \n",
              "993                              81                           60.0   \n",
              "995                             100                           56.0   \n",
              "997                             100                           60.0   \n",
              "\n",
              "     EGRA Section 3 LPM  EGRA Section 4 Words Correct  \\\n",
              "14                109.0                            50   \n",
              "16                 92.0                            45   \n",
              "18                 57.0                            43   \n",
              "20                 86.0                            49   \n",
              "22                 67.0                            29   \n",
              "..                  ...                           ...   \n",
              "989               109.0                            48   \n",
              "991                81.0                            46   \n",
              "993                81.0                            46   \n",
              "995               107.0                            50   \n",
              "997               100.0                            50   \n",
              "\n",
              "     EGRA Section 4 Time Completed  ...  EGRA Section 5 CWPM  \\\n",
              "14                            37.0  ...                  133   \n",
              "16                            48.0  ...                   77   \n",
              "18                            53.0  ...                  105   \n",
              "20                            49.0  ...                   79   \n",
              "22                            60.0  ...                   68   \n",
              "..                             ...  ...                  ...   \n",
              "989                           60.0  ...                   80   \n",
              "991                           48.0  ...                   94   \n",
              "993                           59.0  ...                   75   \n",
              "995                           36.0  ...                  120   \n",
              "997                           42.0  ...                  124   \n",
              "\n",
              "     EGRA Section 5 Questions Correct  EGRA Section 6 Written Words Correct  \\\n",
              "14                                 10                                     4   \n",
              "16                                  9                                     3   \n",
              "18                                  9                                     4   \n",
              "20                                  9                                     4   \n",
              "22                                  8                                     3   \n",
              "..                                ...                                   ...   \n",
              "989                                10                                     2   \n",
              "991                                10                                     3   \n",
              "993                                10                                     4   \n",
              "995                                10                                     3   \n",
              "997                                 9                                     4   \n",
              "\n",
              "     EGRA Section 6 Correct Space/Direction  \\\n",
              "14                                        2   \n",
              "16                                        2   \n",
              "18                                        2   \n",
              "20                                        2   \n",
              "22                                        2   \n",
              "..                                      ...   \n",
              "989                                       2   \n",
              "991                                       2   \n",
              "993                                       2   \n",
              "995                                       2   \n",
              "997                                       2   \n",
              "\n",
              "     EGRA Section 6 Correct Punctuation  \\\n",
              "14                                    1   \n",
              "16                                    0   \n",
              "18                                    1   \n",
              "20                                    0   \n",
              "22                                    0   \n",
              "..                                  ...   \n",
              "989                                   1   \n",
              "991                                   1   \n",
              "993                                   0   \n",
              "995                                   0   \n",
              "997                                   1   \n",
              "\n",
              "     EGRA Section 6 Correct Use of Capitals  EGRA Section 7a Score  \\\n",
              "14                                        1                      4   \n",
              "16                                        1                      3   \n",
              "18                                        1                      4   \n",
              "20                                        1                      3   \n",
              "22                                        1                      4   \n",
              "..                                      ...                    ...   \n",
              "989                                       0                      4   \n",
              "991                                       0                      4   \n",
              "993                                       1                      4   \n",
              "995                                       1                      4   \n",
              "997                                       1                      4   \n",
              "\n",
              "     EGRA Section 1 Total Score  EGRA Section 6 Total Score  Cumulative Score  \n",
              "14                            3                           8         1015.9999  \n",
              "16                            3                           6          890.9999  \n",
              "18                            2                           8          846.6666  \n",
              "20                            2                           7          826.1666  \n",
              "22                            2                           6          795.6666  \n",
              "..                          ...                         ...               ...  \n",
              "989                           1                           5          851.8333  \n",
              "991                           3                           6          903.9999  \n",
              "993                           3                           7          902.4999  \n",
              "995                           3                           6         1004.9999  \n",
              "997                           3                           8         1010.9999  \n",
              "\n",
              "[349 rows x 23 columns]"
            ],
            "text/html": [
              "\n",
              "  <div id=\"df-21a1000b-6eb2-40f5-b153-4b666656f93c\">\n",
              "    <div class=\"colab-df-container\">\n",
              "      <div>\n",
              "<style scoped>\n",
              "    .dataframe tbody tr th:only-of-type {\n",
              "        vertical-align: middle;\n",
              "    }\n",
              "\n",
              "    .dataframe tbody tr th {\n",
              "        vertical-align: top;\n",
              "    }\n",
              "\n",
              "    .dataframe thead th {\n",
              "        text-align: right;\n",
              "    }\n",
              "</style>\n",
              "<table border=\"1\" class=\"dataframe\">\n",
              "  <thead>\n",
              "    <tr style=\"text-align: right;\">\n",
              "      <th></th>\n",
              "      <th>EGRA Section 1a Score</th>\n",
              "      <th>EGRA Section 1b Score</th>\n",
              "      <th>EGRA Section 1c Score</th>\n",
              "      <th>EGRA Section 2a Score</th>\n",
              "      <th>EGRA Section 2b Score</th>\n",
              "      <th>EGRA Section 3 Letters Correct</th>\n",
              "      <th>EGRA Section 3 Time Completed</th>\n",
              "      <th>EGRA Section 3 LPM</th>\n",
              "      <th>EGRA Section 4 Words Correct</th>\n",
              "      <th>EGRA Section 4 Time Completed</th>\n",
              "      <th>...</th>\n",
              "      <th>EGRA Section 5 CWPM</th>\n",
              "      <th>EGRA Section 5 Questions Correct</th>\n",
              "      <th>EGRA Section 6 Written Words Correct</th>\n",
              "      <th>EGRA Section 6 Correct Space/Direction</th>\n",
              "      <th>EGRA Section 6 Correct Punctuation</th>\n",
              "      <th>EGRA Section 6 Correct Use of Capitals</th>\n",
              "      <th>EGRA Section 7a Score</th>\n",
              "      <th>EGRA Section 1 Total Score</th>\n",
              "      <th>EGRA Section 6 Total Score</th>\n",
              "      <th>Cumulative Score</th>\n",
              "    </tr>\n",
              "  </thead>\n",
              "  <tbody>\n",
              "    <tr>\n",
              "      <th>14</th>\n",
              "      <td>1</td>\n",
              "      <td>1</td>\n",
              "      <td>1</td>\n",
              "      <td>48</td>\n",
              "      <td>9</td>\n",
              "      <td>100</td>\n",
              "      <td>55.0</td>\n",
              "      <td>109.0</td>\n",
              "      <td>50</td>\n",
              "      <td>37.0</td>\n",
              "      <td>...</td>\n",
              "      <td>133</td>\n",
              "      <td>10</td>\n",
              "      <td>4</td>\n",
              "      <td>2</td>\n",
              "      <td>1</td>\n",
              "      <td>1</td>\n",
              "      <td>4</td>\n",
              "      <td>3</td>\n",
              "      <td>8</td>\n",
              "      <td>1015.9999</td>\n",
              "    </tr>\n",
              "    <tr>\n",
              "      <th>16</th>\n",
              "      <td>1</td>\n",
              "      <td>1</td>\n",
              "      <td>1</td>\n",
              "      <td>35</td>\n",
              "      <td>8</td>\n",
              "      <td>92</td>\n",
              "      <td>60.0</td>\n",
              "      <td>92.0</td>\n",
              "      <td>45</td>\n",
              "      <td>48.0</td>\n",
              "      <td>...</td>\n",
              "      <td>77</td>\n",
              "      <td>9</td>\n",
              "      <td>3</td>\n",
              "      <td>2</td>\n",
              "      <td>0</td>\n",
              "      <td>1</td>\n",
              "      <td>3</td>\n",
              "      <td>3</td>\n",
              "      <td>6</td>\n",
              "      <td>890.9999</td>\n",
              "    </tr>\n",
              "    <tr>\n",
              "      <th>18</th>\n",
              "      <td>1</td>\n",
              "      <td>0</td>\n",
              "      <td>1</td>\n",
              "      <td>24</td>\n",
              "      <td>8</td>\n",
              "      <td>57</td>\n",
              "      <td>60.0</td>\n",
              "      <td>57.0</td>\n",
              "      <td>43</td>\n",
              "      <td>53.0</td>\n",
              "      <td>...</td>\n",
              "      <td>105</td>\n",
              "      <td>9</td>\n",
              "      <td>4</td>\n",
              "      <td>2</td>\n",
              "      <td>1</td>\n",
              "      <td>1</td>\n",
              "      <td>4</td>\n",
              "      <td>2</td>\n",
              "      <td>8</td>\n",
              "      <td>846.6666</td>\n",
              "    </tr>\n",
              "    <tr>\n",
              "      <th>20</th>\n",
              "      <td>1</td>\n",
              "      <td>1</td>\n",
              "      <td>0</td>\n",
              "      <td>22</td>\n",
              "      <td>6</td>\n",
              "      <td>86</td>\n",
              "      <td>60.0</td>\n",
              "      <td>86.0</td>\n",
              "      <td>49</td>\n",
              "      <td>49.0</td>\n",
              "      <td>...</td>\n",
              "      <td>79</td>\n",
              "      <td>9</td>\n",
              "      <td>4</td>\n",
              "      <td>2</td>\n",
              "      <td>0</td>\n",
              "      <td>1</td>\n",
              "      <td>3</td>\n",
              "      <td>2</td>\n",
              "      <td>7</td>\n",
              "      <td>826.1666</td>\n",
              "    </tr>\n",
              "    <tr>\n",
              "      <th>22</th>\n",
              "      <td>1</td>\n",
              "      <td>1</td>\n",
              "      <td>0</td>\n",
              "      <td>16</td>\n",
              "      <td>10</td>\n",
              "      <td>67</td>\n",
              "      <td>60.0</td>\n",
              "      <td>67.0</td>\n",
              "      <td>29</td>\n",
              "      <td>60.0</td>\n",
              "      <td>...</td>\n",
              "      <td>68</td>\n",
              "      <td>8</td>\n",
              "      <td>3</td>\n",
              "      <td>2</td>\n",
              "      <td>0</td>\n",
              "      <td>1</td>\n",
              "      <td>4</td>\n",
              "      <td>2</td>\n",
              "      <td>6</td>\n",
              "      <td>795.6666</td>\n",
              "    </tr>\n",
              "    <tr>\n",
              "      <th>...</th>\n",
              "      <td>...</td>\n",
              "      <td>...</td>\n",
              "      <td>...</td>\n",
              "      <td>...</td>\n",
              "      <td>...</td>\n",
              "      <td>...</td>\n",
              "      <td>...</td>\n",
              "      <td>...</td>\n",
              "      <td>...</td>\n",
              "      <td>...</td>\n",
              "      <td>...</td>\n",
              "      <td>...</td>\n",
              "      <td>...</td>\n",
              "      <td>...</td>\n",
              "      <td>...</td>\n",
              "      <td>...</td>\n",
              "      <td>...</td>\n",
              "      <td>...</td>\n",
              "      <td>...</td>\n",
              "      <td>...</td>\n",
              "      <td>...</td>\n",
              "    </tr>\n",
              "    <tr>\n",
              "      <th>989</th>\n",
              "      <td>1</td>\n",
              "      <td>0</td>\n",
              "      <td>0</td>\n",
              "      <td>20</td>\n",
              "      <td>9</td>\n",
              "      <td>100</td>\n",
              "      <td>55.0</td>\n",
              "      <td>109.0</td>\n",
              "      <td>48</td>\n",
              "      <td>60.0</td>\n",
              "      <td>...</td>\n",
              "      <td>80</td>\n",
              "      <td>10</td>\n",
              "      <td>2</td>\n",
              "      <td>2</td>\n",
              "      <td>1</td>\n",
              "      <td>0</td>\n",
              "      <td>4</td>\n",
              "      <td>1</td>\n",
              "      <td>5</td>\n",
              "      <td>851.8333</td>\n",
              "    </tr>\n",
              "    <tr>\n",
              "      <th>991</th>\n",
              "      <td>1</td>\n",
              "      <td>1</td>\n",
              "      <td>1</td>\n",
              "      <td>31</td>\n",
              "      <td>7</td>\n",
              "      <td>81</td>\n",
              "      <td>60.0</td>\n",
              "      <td>81.0</td>\n",
              "      <td>46</td>\n",
              "      <td>48.0</td>\n",
              "      <td>...</td>\n",
              "      <td>94</td>\n",
              "      <td>10</td>\n",
              "      <td>3</td>\n",
              "      <td>2</td>\n",
              "      <td>1</td>\n",
              "      <td>0</td>\n",
              "      <td>4</td>\n",
              "      <td>3</td>\n",
              "      <td>6</td>\n",
              "      <td>903.9999</td>\n",
              "    </tr>\n",
              "    <tr>\n",
              "      <th>993</th>\n",
              "      <td>1</td>\n",
              "      <td>1</td>\n",
              "      <td>1</td>\n",
              "      <td>11</td>\n",
              "      <td>9</td>\n",
              "      <td>81</td>\n",
              "      <td>60.0</td>\n",
              "      <td>81.0</td>\n",
              "      <td>46</td>\n",
              "      <td>59.0</td>\n",
              "      <td>...</td>\n",
              "      <td>75</td>\n",
              "      <td>10</td>\n",
              "      <td>4</td>\n",
              "      <td>2</td>\n",
              "      <td>0</td>\n",
              "      <td>1</td>\n",
              "      <td>4</td>\n",
              "      <td>3</td>\n",
              "      <td>7</td>\n",
              "      <td>902.4999</td>\n",
              "    </tr>\n",
              "    <tr>\n",
              "      <th>995</th>\n",
              "      <td>1</td>\n",
              "      <td>1</td>\n",
              "      <td>1</td>\n",
              "      <td>50</td>\n",
              "      <td>10</td>\n",
              "      <td>100</td>\n",
              "      <td>56.0</td>\n",
              "      <td>107.0</td>\n",
              "      <td>50</td>\n",
              "      <td>36.0</td>\n",
              "      <td>...</td>\n",
              "      <td>120</td>\n",
              "      <td>10</td>\n",
              "      <td>3</td>\n",
              "      <td>2</td>\n",
              "      <td>0</td>\n",
              "      <td>1</td>\n",
              "      <td>4</td>\n",
              "      <td>3</td>\n",
              "      <td>6</td>\n",
              "      <td>1004.9999</td>\n",
              "    </tr>\n",
              "    <tr>\n",
              "      <th>997</th>\n",
              "      <td>1</td>\n",
              "      <td>1</td>\n",
              "      <td>1</td>\n",
              "      <td>48</td>\n",
              "      <td>10</td>\n",
              "      <td>100</td>\n",
              "      <td>60.0</td>\n",
              "      <td>100.0</td>\n",
              "      <td>50</td>\n",
              "      <td>42.0</td>\n",
              "      <td>...</td>\n",
              "      <td>124</td>\n",
              "      <td>9</td>\n",
              "      <td>4</td>\n",
              "      <td>2</td>\n",
              "      <td>1</td>\n",
              "      <td>1</td>\n",
              "      <td>4</td>\n",
              "      <td>3</td>\n",
              "      <td>8</td>\n",
              "      <td>1010.9999</td>\n",
              "    </tr>\n",
              "  </tbody>\n",
              "</table>\n",
              "<p>349 rows × 23 columns</p>\n",
              "</div>\n",
              "      <button class=\"colab-df-convert\" onclick=\"convertToInteractive('df-21a1000b-6eb2-40f5-b153-4b666656f93c')\"\n",
              "              title=\"Convert this dataframe to an interactive table.\"\n",
              "              style=\"display:none;\">\n",
              "        \n",
              "  <svg xmlns=\"http://www.w3.org/2000/svg\" height=\"24px\"viewBox=\"0 0 24 24\"\n",
              "       width=\"24px\">\n",
              "    <path d=\"M0 0h24v24H0V0z\" fill=\"none\"/>\n",
              "    <path d=\"M18.56 5.44l.94 2.06.94-2.06 2.06-.94-2.06-.94-.94-2.06-.94 2.06-2.06.94zm-11 1L8.5 8.5l.94-2.06 2.06-.94-2.06-.94L8.5 2.5l-.94 2.06-2.06.94zm10 10l.94 2.06.94-2.06 2.06-.94-2.06-.94-.94-2.06-.94 2.06-2.06.94z\"/><path d=\"M17.41 7.96l-1.37-1.37c-.4-.4-.92-.59-1.43-.59-.52 0-1.04.2-1.43.59L10.3 9.45l-7.72 7.72c-.78.78-.78 2.05 0 2.83L4 21.41c.39.39.9.59 1.41.59.51 0 1.02-.2 1.41-.59l7.78-7.78 2.81-2.81c.8-.78.8-2.07 0-2.86zM5.41 20L4 18.59l7.72-7.72 1.47 1.35L5.41 20z\"/>\n",
              "  </svg>\n",
              "      </button>\n",
              "      \n",
              "  <style>\n",
              "    .colab-df-container {\n",
              "      display:flex;\n",
              "      flex-wrap:wrap;\n",
              "      gap: 12px;\n",
              "    }\n",
              "\n",
              "    .colab-df-convert {\n",
              "      background-color: #E8F0FE;\n",
              "      border: none;\n",
              "      border-radius: 50%;\n",
              "      cursor: pointer;\n",
              "      display: none;\n",
              "      fill: #1967D2;\n",
              "      height: 32px;\n",
              "      padding: 0 0 0 0;\n",
              "      width: 32px;\n",
              "    }\n",
              "\n",
              "    .colab-df-convert:hover {\n",
              "      background-color: #E2EBFA;\n",
              "      box-shadow: 0px 1px 2px rgba(60, 64, 67, 0.3), 0px 1px 3px 1px rgba(60, 64, 67, 0.15);\n",
              "      fill: #174EA6;\n",
              "    }\n",
              "\n",
              "    [theme=dark] .colab-df-convert {\n",
              "      background-color: #3B4455;\n",
              "      fill: #D2E3FC;\n",
              "    }\n",
              "\n",
              "    [theme=dark] .colab-df-convert:hover {\n",
              "      background-color: #434B5C;\n",
              "      box-shadow: 0px 1px 3px 1px rgba(0, 0, 0, 0.15);\n",
              "      filter: drop-shadow(0px 1px 2px rgba(0, 0, 0, 0.3));\n",
              "      fill: #FFFFFF;\n",
              "    }\n",
              "  </style>\n",
              "\n",
              "      <script>\n",
              "        const buttonEl =\n",
              "          document.querySelector('#df-21a1000b-6eb2-40f5-b153-4b666656f93c button.colab-df-convert');\n",
              "        buttonEl.style.display =\n",
              "          google.colab.kernel.accessAllowed ? 'block' : 'none';\n",
              "\n",
              "        async function convertToInteractive(key) {\n",
              "          const element = document.querySelector('#df-21a1000b-6eb2-40f5-b153-4b666656f93c');\n",
              "          const dataTable =\n",
              "            await google.colab.kernel.invokeFunction('convertToInteractive',\n",
              "                                                     [key], {});\n",
              "          if (!dataTable) return;\n",
              "\n",
              "          const docLinkHtml = 'Like what you see? Visit the ' +\n",
              "            '<a target=\"_blank\" href=https://colab.research.google.com/notebooks/data_table.ipynb>data table notebook</a>'\n",
              "            + ' to learn more about interactive tables.';\n",
              "          element.innerHTML = '';\n",
              "          dataTable['output_type'] = 'display_data';\n",
              "          await google.colab.output.renderOutput(dataTable, element);\n",
              "          const docLink = document.createElement('div');\n",
              "          docLink.innerHTML = docLinkHtml;\n",
              "          element.appendChild(docLink);\n",
              "        }\n",
              "      </script>\n",
              "    </div>\n",
              "  </div>\n",
              "  "
            ]
          },
          "metadata": {},
          "execution_count": 555
        }
      ]
    },
    {
      "cell_type": "code",
      "source": [],
      "metadata": {
        "id": "g6y-rOolTTko"
      },
      "execution_count": null,
      "outputs": []
    }
  ]
}