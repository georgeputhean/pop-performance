{
  "nbformat": 4,
  "nbformat_minor": 0,
  "metadata": {
    "colab": {
      "provenance": []
    },
    "kernelspec": {
      "name": "python3",
      "display_name": "Python 3"
    },
    "language_info": {
      "name": "python"
    }
  },
  "cells": [
    {
      "cell_type": "code",
      "execution_count": 137,
      "metadata": {
        "id": "Y6VAXKpfhpA6"
      },
      "outputs": [],
      "source": [
        "import warnings\n",
        "warnings.simplefilter(action='ignore', category=FutureWarning)\n",
        "import pandas as pd\n",
        "pd.options.mode.chained_assignment = None \n",
        "\n",
        "import seaborn as sns\n",
        "import matplotlib.pyplot as plt"
      ]
    },
    {
      "cell_type": "code",
      "source": [
        "df=pd.read_csv(\"/content/Matched Data.csv\")"
      ],
      "metadata": {
        "id": "mgtjK7JXh-Th"
      },
      "execution_count": 138,
      "outputs": []
    },
    {
      "cell_type": "code",
      "source": [
        "df.columns"
      ],
      "metadata": {
        "colab": {
          "base_uri": "https://localhost:8080/"
        },
        "id": "RY43QmN-kpmo",
        "outputId": "7c55985c-4090-47a1-f232-62d827f11ffa"
      },
      "execution_count": 139,
      "outputs": [
        {
          "output_type": "execute_result",
          "data": {
            "text/plain": [
              "Index(['Unnamed: 0', 'Grade_x', 'School Name', 'School Year_x', 'Notes',\n",
              "       'Tangerine Test ID', 'Student Number', 'Student Test Number',\n",
              "       'Date of Test', 'Control or Treatment?', 'Pre or Post?',\n",
              "       'EGRA Section 1a Score', 'EGRA Section 1b Score',\n",
              "       'EGRA Section 1c Score', 'EGRA Section 2a Score',\n",
              "       'EGRA Section 2b Score', 'EGRA Section 3 Letters Correct',\n",
              "       'EGRA Section 3 Time Completed', 'EGRA Section 3 LPM',\n",
              "       'EGRA Section 4 Words Correct', 'EGRA Section 4 Time Completed',\n",
              "       'EGRA Section 4: WPM', 'EGRA Section 5 Words Correct',\n",
              "       'EGRA Section 5 Time Completed', 'EGRA Section 5 CWPM',\n",
              "       'EGRA Section 5 Questions Correct',\n",
              "       'EGRA Section 6 Written Words Correct',\n",
              "       'EGRA Section 6 Correct Space/Direction',\n",
              "       'EGRA Section 6 Correct Punctuation',\n",
              "       'EGRA Section 6 Correct Use of Capitals', 'EGRA Section 7a Score',\n",
              "       'Main Language Used In Exam', 'EGRA Question 1: Reading Habit',\n",
              "       'EGRA Last Book Read', 'Reads With Others',\n",
              "       'How Often, ReadsWithOthers', 'Student Gender', 'Class Number',\n",
              "       'Teacher Number: Teacher Number', 'Teacher Number: Full Name',\n",
              "       'School: School Name', 'Grade_y', 'Teacher Class Number',\n",
              "       'Teacher Assessment Number', 'Date', 'Question 1',\n",
              "       'Q1 Rating or Answer', 'Question 2', 'Q2 Rating', 'Question 3',\n",
              "       'Q3 Rating or Answer', 'Question 4', 'Q4 Rating or Answer',\n",
              "       'Question 5', 'Q5 Rating or Answer', 'Question 6',\n",
              "       'Q6 Rating or Answer', 'Question 7', 'Q7 Rating', 'Question 8',\n",
              "       'Q8 Rating', 'Skill to Improve 1', 'Skill to Improve 1 Notes',\n",
              "       'Skill to Improve 2', 'Skill to Improve 2 Notes', 'Skill to Improve 3',\n",
              "       'Skill to Improve 3 Notes', 'Recommended Next Steps', 'What Went Well?',\n",
              "       'Minutes Spent Observing', 'Minutes Spent Coaching', 'Total Score',\n",
              "       'Teacher Number: Gender',\n",
              "       'Teacher Number: School Years in Teacher Support Program',\n",
              "       'Teacher Present', 'Second Teacher Present',\n",
              "       'Average Students Enrolled', 'School Year_y'],\n",
              "      dtype='object')"
            ]
          },
          "metadata": {},
          "execution_count": 139
        }
      ]
    },
    {
      "cell_type": "code",
      "source": [
        "df1=df.drop(['School Name','Unnamed: 0','Notes','Tangerine Test ID','Student Number', 'Student Test Number','Skill to Improve 1 Notes','Skill to Improve 2 Notes','Skill to Improve 3 Notes', 'Class Number',\n",
        "       'Teacher Number: Teacher Number', 'Teacher Number: Full Name','Skill to Improve 3','Recommended Next Steps', 'What Went Well?', 'Second Teacher Present','Control or Treatment?',\n",
        "       'School: School Name','Teacher Class Number', 'Teacher Assessment Number', 'Question 1', 'Question 2','Question 3','Question 4','Question 5','Question 6','Question 7','Question 8', 'Grade_y'],axis=1)"
      ],
      "metadata": {
        "id": "K_iu_EHPiDJn"
      },
      "execution_count": 140,
      "outputs": []
    },
    {
      "cell_type": "code",
      "source": [],
      "metadata": {
        "id": "9KTWZLFdiK-h"
      },
      "execution_count": 140,
      "outputs": []
    },
    {
      "cell_type": "code",
      "source": [
        "df_target=df1.filter(like='EGRA Section')"
      ],
      "metadata": {
        "id": "4iqLFnENkfG8"
      },
      "execution_count": 141,
      "outputs": []
    },
    {
      "cell_type": "code",
      "source": [
        "df_x = df1[df1.columns.drop(list(df.filter(regex='EGRA Section')))]"
      ],
      "metadata": {
        "id": "Cs514QbPmg1_"
      },
      "execution_count": 142,
      "outputs": []
    },
    {
      "cell_type": "code",
      "source": [
        "len(df_target.columns)"
      ],
      "metadata": {
        "colab": {
          "base_uri": "https://localhost:8080/"
        },
        "id": "o8Q5UPihJMtS",
        "outputId": "6261cc93-6cf1-4745-f1dc-b54a4c2ceaea"
      },
      "execution_count": 143,
      "outputs": [
        {
          "output_type": "execute_result",
          "data": {
            "text/plain": [
              "20"
            ]
          },
          "metadata": {},
          "execution_count": 143
        }
      ]
    },
    {
      "cell_type": "code",
      "source": [
        "df_x.columns"
      ],
      "metadata": {
        "colab": {
          "base_uri": "https://localhost:8080/"
        },
        "id": "ZpbVx8kgpu8O",
        "outputId": "17ca95a3-2949-4de1-cb8d-814a0aa9abee"
      },
      "execution_count": 144,
      "outputs": [
        {
          "output_type": "execute_result",
          "data": {
            "text/plain": [
              "Index(['Grade_x', 'School Year_x', 'Date of Test', 'Pre or Post?',\n",
              "       'Main Language Used In Exam', 'EGRA Question 1: Reading Habit',\n",
              "       'EGRA Last Book Read', 'Reads With Others',\n",
              "       'How Often, ReadsWithOthers', 'Student Gender', 'Date',\n",
              "       'Q1 Rating or Answer', 'Q2 Rating', 'Q3 Rating or Answer',\n",
              "       'Q4 Rating or Answer', 'Q5 Rating or Answer', 'Q6 Rating or Answer',\n",
              "       'Q7 Rating', 'Q8 Rating', 'Skill to Improve 1', 'Skill to Improve 2',\n",
              "       'Minutes Spent Observing', 'Minutes Spent Coaching', 'Total Score',\n",
              "       'Teacher Number: Gender',\n",
              "       'Teacher Number: School Years in Teacher Support Program',\n",
              "       'Teacher Present', 'Average Students Enrolled', 'School Year_y'],\n",
              "      dtype='object')"
            ]
          },
          "metadata": {},
          "execution_count": 144
        }
      ]
    },
    {
      "cell_type": "code",
      "source": [
        "df_x.to_csv(\"New Target.csv\")"
      ],
      "metadata": {
        "id": "Pj2C-bKrqYmp"
      },
      "execution_count": 145,
      "outputs": []
    },
    {
      "cell_type": "code",
      "source": [
        "df_x_clean=df_x"
      ],
      "metadata": {
        "id": "cfpyPn0M2kDh"
      },
      "execution_count": 146,
      "outputs": []
    },
    {
      "cell_type": "code",
      "source": [
        "df_x_clean['Grade_x']=df_x['Grade_x'].str[8:9]"
      ],
      "metadata": {
        "id": "60unsivxrCwm"
      },
      "execution_count": 147,
      "outputs": []
    },
    {
      "cell_type": "code",
      "source": [
        "df_x_clean['Q1 Rating or Answer']=df_x['Q1 Rating or Answer'].str[0:1]\n",
        "df_x_clean['Q2 Rating'] = df_x['Q2 Rating'].str[0:1]\n",
        "df_x_clean['Q3 Rating or Answer']= df_x['Q3 Rating or Answer'].str[0:1]\n",
        "df_x_clean['Q4 Rating or Answer']= df_x['Q4 Rating or Answer'].str[0:1]\n",
        "df_x_clean['Q5 Rating or Answer']= df_x['Q5 Rating or Answer'].str[0:1]\n",
        "df_x_clean['Q6 Rating or Answer']= df_x['Q6 Rating or Answer'].str[0:1]\n",
        "df_x_clean['Q7 Rating']= df_x['Q7 Rating'].str[0:1]\n",
        "df_x_clean['Q8 Rating']= df_x['Q8 Rating'].str[0:1]"
      ],
      "metadata": {
        "id": "tzhnctECu0zf"
      },
      "execution_count": 148,
      "outputs": []
    },
    {
      "cell_type": "code",
      "source": [
        "len(df_x_clean.columns)"
      ],
      "metadata": {
        "colab": {
          "base_uri": "https://localhost:8080/"
        },
        "id": "E4PbHjUSxzT6",
        "outputId": "7b833d04-4538-423a-e2e2-38aaf8d693e3"
      },
      "execution_count": 149,
      "outputs": [
        {
          "output_type": "execute_result",
          "data": {
            "text/plain": [
              "29"
            ]
          },
          "metadata": {},
          "execution_count": 149
        }
      ]
    },
    {
      "cell_type": "markdown",
      "source": [
        "Set the Rating to None when teacher not present"
      ],
      "metadata": {
        "id": "kPyLtwUu-n6g"
      }
    },
    {
      "cell_type": "code",
      "source": [
        "df_x_clean[['Q1 Rating or Answer','Q2 Rating','Q3 Rating or Answer','Q4 Rating or Answer','Q5 Rating or Answer','Q6 Rating or Answer','Q7 Rating','Q8 Rating']]=df_x_clean[['Q1 Rating or Answer','Q2 Rating','Q3 Rating or Answer','Q4 Rating or Answer','Q5 Rating or Answer','Q6 Rating or Answer','Q7 Rating','Q8 Rating']].fillna(0)"
      ],
      "metadata": {
        "id": "lwXO_laD3esY"
      },
      "execution_count": 150,
      "outputs": []
    },
    {
      "cell_type": "code",
      "source": [
        "df_x_clean[df_x_clean['Teacher Present']=='Not Present'].count()"
      ],
      "metadata": {
        "colab": {
          "base_uri": "https://localhost:8080/"
        },
        "id": "ceU2-z5crZLA",
        "outputId": "b750cbd8-051f-4987-a569-5e78727c69d4"
      },
      "execution_count": 151,
      "outputs": [
        {
          "output_type": "execute_result",
          "data": {
            "text/plain": [
              "Grade_x                                                    277\n",
              "School Year_x                                              277\n",
              "Date of Test                                               277\n",
              "Pre or Post?                                               277\n",
              "Main Language Used In Exam                                 272\n",
              "EGRA Question 1: Reading Habit                             277\n",
              "EGRA Last Book Read                                        277\n",
              "Reads With Others                                          277\n",
              "How Often, ReadsWithOthers                                 277\n",
              "Student Gender                                             277\n",
              "Date                                                       277\n",
              "Q1 Rating or Answer                                        277\n",
              "Q2 Rating                                                  277\n",
              "Q3 Rating or Answer                                        277\n",
              "Q4 Rating or Answer                                        277\n",
              "Q5 Rating or Answer                                        277\n",
              "Q6 Rating or Answer                                        277\n",
              "Q7 Rating                                                  277\n",
              "Q8 Rating                                                  277\n",
              "Skill to Improve 1                                           0\n",
              "Skill to Improve 2                                           0\n",
              "Minutes Spent Observing                                     20\n",
              "Minutes Spent Coaching                                      20\n",
              "Total Score                                                277\n",
              "Teacher Number: Gender                                     277\n",
              "Teacher Number: School Years in Teacher Support Program    277\n",
              "Teacher Present                                            277\n",
              "Average Students Enrolled                                  277\n",
              "School Year_y                                              277\n",
              "dtype: int64"
            ]
          },
          "metadata": {},
          "execution_count": 151
        }
      ]
    },
    {
      "cell_type": "code",
      "source": [
        "df_x_clean['Q1 Rating or Answer'].value_counts()"
      ],
      "metadata": {
        "colab": {
          "base_uri": "https://localhost:8080/"
        },
        "id": "oRp94pRpuI3x",
        "outputId": "095b27ab-8a0b-4ebd-b454-070be02b993c"
      },
      "execution_count": 152,
      "outputs": [
        {
          "output_type": "execute_result",
          "data": {
            "text/plain": [
              "3    474\n",
              "2    306\n",
              "0    277\n",
              "Name: Q1 Rating or Answer, dtype: int64"
            ]
          },
          "metadata": {},
          "execution_count": 152
        }
      ]
    },
    {
      "cell_type": "markdown",
      "source": [
        "Minutes mean"
      ],
      "metadata": {
        "id": "ultN1q2l-hbq"
      }
    },
    {
      "cell_type": "code",
      "source": [],
      "metadata": {
        "id": "P8vMWA9EvZkX"
      },
      "execution_count": 152,
      "outputs": []
    },
    {
      "cell_type": "code",
      "source": [
        "mean_min=df_x_clean[['Minutes Spent Observing','Minutes Spent Coaching']].mean()"
      ],
      "metadata": {
        "id": "od-zFDMz3scm"
      },
      "execution_count": 153,
      "outputs": []
    },
    {
      "cell_type": "code",
      "source": [
        "df_x_clean[['Minutes Spent Observing','Minutes Spent Coaching']]=df_x_clean[['Minutes Spent Observing','Minutes Spent Coaching']].fillna(mean_min)"
      ],
      "metadata": {
        "id": "30KrsABV8Mby"
      },
      "execution_count": 154,
      "outputs": []
    },
    {
      "cell_type": "markdown",
      "source": [
        "Skills to None"
      ],
      "metadata": {
        "id": "t0B-IgSZ-ee4"
      }
    },
    {
      "cell_type": "code",
      "source": [
        "df_x_clean[['Skill to Improve 1','Skill to Improve 2']]=df_x_clean[['Skill to Improve 1','Skill to Improve 2']].fillna(\"None\")"
      ],
      "metadata": {
        "id": "_HLK2d6584Kx"
      },
      "execution_count": 155,
      "outputs": []
    },
    {
      "cell_type": "code",
      "source": [
        "df_x_clean[['Main Language Used In Exam']].value_counts()"
      ],
      "metadata": {
        "colab": {
          "base_uri": "https://localhost:8080/"
        },
        "id": "82fvzqTeiz4J",
        "outputId": "fe47d120-2eea-49f4-c397-96fac04dffd4"
      },
      "execution_count": 156,
      "outputs": [
        {
          "output_type": "execute_result",
          "data": {
            "text/plain": [
              "Main Language Used In Exam\n",
              "English; Ewe                  776\n",
              "English                       167\n",
              "Ewe                            95\n",
              "dtype: int64"
            ]
          },
          "metadata": {},
          "execution_count": 156
        }
      ]
    },
    {
      "cell_type": "code",
      "source": [
        "df_x_clean[['Main Language Used In Exam']]=df_x_clean[['Main Language Used In Exam']].fillna(\"English; Ewe\")"
      ],
      "metadata": {
        "id": "JkR5sbl2j2D4"
      },
      "execution_count": 157,
      "outputs": []
    },
    {
      "cell_type": "code",
      "source": [
        "#ns.pairplot(df1,hue=\"Pre or Post?\")"
      ],
      "metadata": {
        "id": "M1sTDa3z-dsj"
      },
      "execution_count": 158,
      "outputs": []
    },
    {
      "cell_type": "code",
      "source": [
        "df_x_clean.columns"
      ],
      "metadata": {
        "colab": {
          "base_uri": "https://localhost:8080/"
        },
        "id": "W1AsvXSvCGKC",
        "outputId": "f73d9ea7-7e85-4e72-9f61-6e4f46da649e"
      },
      "execution_count": 159,
      "outputs": [
        {
          "output_type": "execute_result",
          "data": {
            "text/plain": [
              "Index(['Grade_x', 'School Year_x', 'Date of Test', 'Pre or Post?',\n",
              "       'Main Language Used In Exam', 'EGRA Question 1: Reading Habit',\n",
              "       'EGRA Last Book Read', 'Reads With Others',\n",
              "       'How Often, ReadsWithOthers', 'Student Gender', 'Date',\n",
              "       'Q1 Rating or Answer', 'Q2 Rating', 'Q3 Rating or Answer',\n",
              "       'Q4 Rating or Answer', 'Q5 Rating or Answer', 'Q6 Rating or Answer',\n",
              "       'Q7 Rating', 'Q8 Rating', 'Skill to Improve 1', 'Skill to Improve 2',\n",
              "       'Minutes Spent Observing', 'Minutes Spent Coaching', 'Total Score',\n",
              "       'Teacher Number: Gender',\n",
              "       'Teacher Number: School Years in Teacher Support Program',\n",
              "       'Teacher Present', 'Average Students Enrolled', 'School Year_y'],\n",
              "      dtype='object')"
            ]
          },
          "metadata": {},
          "execution_count": 159
        }
      ]
    },
    {
      "cell_type": "code",
      "source": [
        "df_x_clean.count()"
      ],
      "metadata": {
        "colab": {
          "base_uri": "https://localhost:8080/"
        },
        "id": "pfivmIOwiRdr",
        "outputId": "ebbf3945-c946-4c28-9291-ac59ece115b1"
      },
      "execution_count": 160,
      "outputs": [
        {
          "output_type": "execute_result",
          "data": {
            "text/plain": [
              "Grade_x                                                    1057\n",
              "School Year_x                                              1057\n",
              "Date of Test                                               1057\n",
              "Pre or Post?                                               1057\n",
              "Main Language Used In Exam                                 1057\n",
              "EGRA Question 1: Reading Habit                             1057\n",
              "EGRA Last Book Read                                        1057\n",
              "Reads With Others                                          1057\n",
              "How Often, ReadsWithOthers                                 1057\n",
              "Student Gender                                             1057\n",
              "Date                                                       1057\n",
              "Q1 Rating or Answer                                        1057\n",
              "Q2 Rating                                                  1057\n",
              "Q3 Rating or Answer                                        1057\n",
              "Q4 Rating or Answer                                        1057\n",
              "Q5 Rating or Answer                                        1057\n",
              "Q6 Rating or Answer                                        1057\n",
              "Q7 Rating                                                  1057\n",
              "Q8 Rating                                                  1057\n",
              "Skill to Improve 1                                         1057\n",
              "Skill to Improve 2                                         1057\n",
              "Minutes Spent Observing                                    1057\n",
              "Minutes Spent Coaching                                     1057\n",
              "Total Score                                                1057\n",
              "Teacher Number: Gender                                     1057\n",
              "Teacher Number: School Years in Teacher Support Program    1057\n",
              "Teacher Present                                            1057\n",
              "Average Students Enrolled                                  1057\n",
              "School Year_y                                              1057\n",
              "dtype: int64"
            ]
          },
          "metadata": {},
          "execution_count": 160
        }
      ]
    },
    {
      "cell_type": "code",
      "source": [
        "df_x_clean['Teacher Number: School Years in Teacher Support Program']=df_x_clean['Teacher Number: School Years in Teacher Support Program'].str.count('-')"
      ],
      "metadata": {
        "id": "L_Em7Glp0PmR"
      },
      "execution_count": 161,
      "outputs": []
    },
    {
      "cell_type": "code",
      "source": [
        "df_q=df_x_clean.filter(like='Rating')"
      ],
      "metadata": {
        "id": "uJlU54lLKTXF"
      },
      "execution_count": 162,
      "outputs": []
    },
    {
      "cell_type": "code",
      "source": [
        "df_q = df_q.astype('int')"
      ],
      "metadata": {
        "id": "qbH8vIDnMC3x"
      },
      "execution_count": 163,
      "outputs": []
    },
    {
      "cell_type": "code",
      "source": [
        "sns.heatmap(df_q.corr(),annot=True,cmap=\"Greens\")\n",
        "plt.figure(figsize=(16, 6))\n"
      ],
      "metadata": {
        "colab": {
          "base_uri": "https://localhost:8080/",
          "height": 397
        },
        "id": "zHjPiPG0GjMU",
        "outputId": "c5980955-d0d6-4b39-a2ee-4e0ce32f85d9"
      },
      "execution_count": 164,
      "outputs": [
        {
          "output_type": "execute_result",
          "data": {
            "text/plain": [
              "<Figure size 1152x432 with 0 Axes>"
            ]
          },
          "metadata": {},
          "execution_count": 164
        },
        {
          "output_type": "display_data",
          "data": {
            "text/plain": [
              "<Figure size 432x288 with 2 Axes>"
            ],
            "image/png": "[encoded data removed]"
          },
          "metadata": {
            "needs_background": "light"
          }
        },
        {
          "output_type": "display_data",
          "data": {
            "text/plain": [
              "<Figure size 1152x432 with 0 Axes>"
            ]
          },
          "metadata": {}
        }
      ]
    },
    {
      "cell_type": "code",
      "source": [
        "df_target['EGRA Section 1 Total Score']=df_target['EGRA Section 1a Score']+df_target['EGRA Section 1b Score']+df_target['EGRA Section 1c Score']\n",
        "df_target['EGRA Section 6 Total Score']=df_target['EGRA Section 6 Written Words Correct']+df_target['EGRA Section 6 Correct Space/Direction']+df_target['EGRA Section 6 Correct Punctuation']+df_target['EGRA Section 6 Correct Use of Capitals']"
      ],
      "metadata": {
        "id": "f2-9lXc2F-aj"
      },
      "execution_count": 165,
      "outputs": []
    },
    {
      "cell_type": "code",
      "source": [
        "df_target['EGRA Section 3 LPM']=df_target['EGRA Section 3 LPM'].fillna(df_target['EGRA Section 3 LPM'].mean())"
      ],
      "metadata": {
        "id": "I1w9cvsDbsKN"
      },
      "execution_count": 166,
      "outputs": []
    },
    {
      "cell_type": "code",
      "source": [
        "df_target.count()"
      ],
      "metadata": {
        "colab": {
          "base_uri": "https://localhost:8080/"
        },
        "id": "fJiYMBLtx3aB",
        "outputId": "e7169535-83aa-4475-ded5-24ed79873c25"
      },
      "execution_count": 167,
      "outputs": [
        {
          "output_type": "execute_result",
          "data": {
            "text/plain": [
              "EGRA Section 1a Score                     1057\n",
              "EGRA Section 1b Score                     1057\n",
              "EGRA Section 1c Score                     1057\n",
              "EGRA Section 2a Score                     1057\n",
              "EGRA Section 2b Score                     1057\n",
              "EGRA Section 3 Letters Correct            1057\n",
              "EGRA Section 3 Time Completed             1055\n",
              "EGRA Section 3 LPM                        1057\n",
              "EGRA Section 4 Words Correct              1057\n",
              "EGRA Section 4 Time Completed             1052\n",
              "EGRA Section 4: WPM                       1057\n",
              "EGRA Section 5 Words Correct              1057\n",
              "EGRA Section 5 Time Completed             1054\n",
              "EGRA Section 5 CWPM                       1057\n",
              "EGRA Section 5 Questions Correct          1057\n",
              "EGRA Section 6 Written Words Correct      1057\n",
              "EGRA Section 6 Correct Space/Direction    1057\n",
              "EGRA Section 6 Correct Punctuation        1057\n",
              "EGRA Section 6 Correct Use of Capitals    1057\n",
              "EGRA Section 7a Score                     1057\n",
              "EGRA Section 1 Total Score                1057\n",
              "EGRA Section 6 Total Score                1057\n",
              "dtype: int64"
            ]
          },
          "metadata": {},
          "execution_count": 167
        }
      ]
    },
    {
      "cell_type": "code",
      "source": [
        "df_target_unique=df_target.drop(columns=['EGRA Section 1a Score','EGRA Section 1b Score','EGRA Section 1c Score',\n",
        "                        'EGRA Section 6 Written Words Correct','EGRA Section 6 Correct Space/Direction','EGRA Section 6 Correct Punctuation','EGRA Section 6 Correct Use of Capitals',\n",
        "                        'EGRA Section 3 Letters Correct', 'EGRA Section 3 Time Completed',\n",
        "                        'EGRA Section 4 Words Correct','EGRA Section 4 Time Completed',\n",
        "                        'EGRA Section 5 Words Correct', 'EGRA Section 5 Time Completed',\n",
        "                        ])"
      ],
      "metadata": {
        "id": "8_ffyaZeGtE2"
      },
      "execution_count": 168,
      "outputs": []
    },
    {
      "cell_type": "code",
      "source": [
        "df_target_unique.columns"
      ],
      "metadata": {
        "colab": {
          "base_uri": "https://localhost:8080/"
        },
        "id": "gtypAXlva0A9",
        "outputId": "60235e22-d45c-4d7f-a084-74df1d16426f"
      },
      "execution_count": 169,
      "outputs": [
        {
          "output_type": "execute_result",
          "data": {
            "text/plain": [
              "Index(['EGRA Section 2a Score', 'EGRA Section 2b Score', 'EGRA Section 3 LPM',\n",
              "       'EGRA Section 4: WPM', 'EGRA Section 5 CWPM',\n",
              "       'EGRA Section 5 Questions Correct', 'EGRA Section 7a Score',\n",
              "       'EGRA Section 1 Total Score', 'EGRA Section 6 Total Score'],\n",
              "      dtype='object')"
            ]
          },
          "metadata": {},
          "execution_count": 169
        }
      ]
    },
    {
      "cell_type": "code",
      "source": [
        "plt.figure(figsize=(16, 6))\n",
        "\n",
        "sns.heatmap(df_target_unique.corr(),annot=True);\n"
      ],
      "metadata": {
        "colab": {
          "base_uri": "https://localhost:8080/",
          "height": 537
        },
        "id": "VXfTvbyPHXDm",
        "outputId": "47be9eea-2842-46c1-bd3f-48beeecb7433"
      },
      "execution_count": 170,
      "outputs": [
        {
          "output_type": "display_data",
          "data": {
            "text/plain": [
              "<Figure size 1152x432 with 2 Axes>"
            ],
            "image/png": "[encoded data removed]"
          },
          "metadata": {
            "needs_background": "light"
          }
        }
      ]
    },
    {
      "cell_type": "code",
      "source": [
        "plt.hist(df_x_clean['Average Students Enrolled'])\n",
        "plt.title(\"Distribution of Average Students Enrolled\")\n",
        "plt.show()\n"
      ],
      "metadata": {
        "colab": {
          "base_uri": "https://localhost:8080/",
          "height": 281
        },
        "id": "eLfpizmYZ6e5",
        "outputId": "f838808d-ca85-4cfb-c1bd-7e9087c55662"
      },
      "execution_count": 171,
      "outputs": [
        {
          "output_type": "display_data",
          "data": {
            "text/plain": [
              "<Figure size 432x288 with 1 Axes>"
            ],
            "image/png": "[encoded data removed]"
          },
          "metadata": {
            "needs_background": "light"
          }
        }
      ]
    },
    {
      "cell_type": "code",
      "source": [
        "df_target"
      ],
      "metadata": {
        "colab": {
          "base_uri": "https://localhost:8080/",
          "height": 574
        },
        "id": "QlhQ5e8Gdv7w",
        "outputId": "c364b989-fbfa-4cf2-8119-bcd42c290b6f"
      },
      "execution_count": 172,
      "outputs": [
        {
          "output_type": "execute_result",
          "data": {
            "text/plain": [
              "      EGRA Section 1a Score  EGRA Section 1b Score  EGRA Section 1c Score  \\\n",
              "0                         1                      1                      1   \n",
              "1                         1                      1                      1   \n",
              "2                         1                      1                      1   \n",
              "3                         1                      1                      1   \n",
              "4                         1                      1                      1   \n",
              "...                     ...                    ...                    ...   \n",
              "1052                      1                      1                      1   \n",
              "1053                      1                      1                      1   \n",
              "1054                      1                      1                      1   \n",
              "1055                      1                      1                      1   \n",
              "1056                      1                      1                      1   \n",
              "\n",
              "      EGRA Section 2a Score  EGRA Section 2b Score  \\\n",
              "0                         0                      3   \n",
              "1                         0                      0   \n",
              "2                         0                      0   \n",
              "3                        12                      7   \n",
              "4                         0                      6   \n",
              "...                     ...                    ...   \n",
              "1052                      0                      2   \n",
              "1053                      5                      0   \n",
              "1054                      0                      1   \n",
              "1055                      0                      5   \n",
              "1056                      0                      6   \n",
              "\n",
              "      EGRA Section 3 Letters Correct  EGRA Section 3 Time Completed  \\\n",
              "0                                 14                           60.0   \n",
              "1                                 52                           60.0   \n",
              "2                                 28                           60.0   \n",
              "3                                 75                           60.0   \n",
              "4                                 26                           60.0   \n",
              "...                              ...                            ...   \n",
              "1052                               3                           60.0   \n",
              "1053                              32                           60.0   \n",
              "1054                               2                           60.0   \n",
              "1055                               1                           60.0   \n",
              "1056                              64                           60.0   \n",
              "\n",
              "      EGRA Section 3 LPM  EGRA Section 4 Words Correct  \\\n",
              "0                   14.0                            45   \n",
              "1                   52.0                            23   \n",
              "2                   28.0                            32   \n",
              "3                   75.0                            12   \n",
              "4                   26.0                            12   \n",
              "...                  ...                           ...   \n",
              "1052                 3.0                             0   \n",
              "1053                32.0                             0   \n",
              "1054                 2.0                             0   \n",
              "1055                 1.0                             0   \n",
              "1056                64.0                             0   \n",
              "\n",
              "      EGRA Section 4 Time Completed  ...  EGRA Section 5 Time Completed  \\\n",
              "0                              43.0  ...                           38.0   \n",
              "1                              60.0  ...                          103.0   \n",
              "2                              60.0  ...                           70.0   \n",
              "3                              60.0  ...                          117.0   \n",
              "4                              60.0  ...                          121.0   \n",
              "...                             ...  ...                            ...   \n",
              "1052                           16.0  ...                           96.0   \n",
              "1053                           15.0  ...                          180.0   \n",
              "1054                            8.0  ...                           16.0   \n",
              "1055                           11.0  ...                           31.0   \n",
              "1056                           15.0  ...                           13.0   \n",
              "\n",
              "      EGRA Section 5 CWPM  EGRA Section 5 Questions Correct  \\\n",
              "0                      93                                 0   \n",
              "1                      30                                 3   \n",
              "2                      50                                 2   \n",
              "3                      24                                 6   \n",
              "4                      25                                 0   \n",
              "...                   ...                               ...   \n",
              "1052                    1                                 0   \n",
              "1053                    4                                 2   \n",
              "1054                    0                                 0   \n",
              "1055                    0                                 0   \n",
              "1056                    0                                 6   \n",
              "\n",
              "      EGRA Section 6 Written Words Correct  \\\n",
              "0                                        0   \n",
              "1                                        0   \n",
              "2                                        0   \n",
              "3                                        0   \n",
              "4                                        0   \n",
              "...                                    ...   \n",
              "1052                                     0   \n",
              "1053                                     0   \n",
              "1054                                     0   \n",
              "1055                                     0   \n",
              "1056                                     0   \n",
              "\n",
              "      EGRA Section 6 Correct Space/Direction  \\\n",
              "0                                          1   \n",
              "1                                          2   \n",
              "2                                          1   \n",
              "3                                          2   \n",
              "4                                          1   \n",
              "...                                      ...   \n",
              "1052                                       2   \n",
              "1053                                       1   \n",
              "1054                                       2   \n",
              "1055                                       0   \n",
              "1056                                       2   \n",
              "\n",
              "      EGRA Section 6 Correct Punctuation  \\\n",
              "0                                      0   \n",
              "1                                      0   \n",
              "2                                      0   \n",
              "3                                      0   \n",
              "4                                      0   \n",
              "...                                  ...   \n",
              "1052                                   0   \n",
              "1053                                   0   \n",
              "1054                                   0   \n",
              "1055                                   0   \n",
              "1056                                   0   \n",
              "\n",
              "      EGRA Section 6 Correct Use of Capitals  EGRA Section 7a Score  \\\n",
              "0                                          0                      0   \n",
              "1                                          0                      2   \n",
              "2                                          0                      3   \n",
              "3                                          0                      3   \n",
              "4                                          1                      2   \n",
              "...                                      ...                    ...   \n",
              "1052                                       0                      0   \n",
              "1053                                       0                      3   \n",
              "1054                                       0                      0   \n",
              "1055                                       0                      1   \n",
              "1056                                       0                      1   \n",
              "\n",
              "      EGRA Section 1 Total Score  EGRA Section 6 Total Score  \n",
              "0                              3                           1  \n",
              "1                              3                           2  \n",
              "2                              3                           1  \n",
              "3                              3                           2  \n",
              "4                              3                           2  \n",
              "...                          ...                         ...  \n",
              "1052                           3                           2  \n",
              "1053                           3                           1  \n",
              "1054                           3                           2  \n",
              "1055                           3                           0  \n",
              "1056                           3                           2  \n",
              "\n",
              "[1057 rows x 22 columns]"
            ],
            "text/html": [
              "\n",
              "  <div id=\"df-83c66f1e-13b4-4539-b67f-6cce46c42c97\">\n",
              "    <div class=\"colab-df-container\">\n",
              "      <div>\n",
              "<style scoped>\n",
              "    .dataframe tbody tr th:only-of-type {\n",
              "        vertical-align: middle;\n",
              "    }\n",
              "\n",
              "    .dataframe tbody tr th {\n",
              "        vertical-align: top;\n",
              "    }\n",
              "\n",
              "    .dataframe thead th {\n",
              "        text-align: right;\n",
              "    }\n",
              "</style>\n",
              "<table border=\"1\" class=\"dataframe\">\n",
              "  <thead>\n",
              "    <tr style=\"text-align: right;\">\n",
              "      <th></th>\n",
              "      <th>EGRA Section 1a Score</th>\n",
              "      <th>EGRA Section 1b Score</th>\n",
              "      <th>EGRA Section 1c Score</th>\n",
              "      <th>EGRA Section 2a Score</th>\n",
              "      <th>EGRA Section 2b Score</th>\n",
              "      <th>EGRA Section 3 Letters Correct</th>\n",
              "      <th>EGRA Section 3 Time Completed</th>\n",
              "      <th>EGRA Section 3 LPM</th>\n",
              "      <th>EGRA Section 4 Words Correct</th>\n",
              "      <th>EGRA Section 4 Time Completed</th>\n",
              "      <th>...</th>\n",
              "      <th>EGRA Section 5 Time Completed</th>\n",
              "      <th>EGRA Section 5 CWPM</th>\n",
              "      <th>EGRA Section 5 Questions Correct</th>\n",
              "      <th>EGRA Section 6 Written Words Correct</th>\n",
              "      <th>EGRA Section 6 Correct Space/Direction</th>\n",
              "      <th>EGRA Section 6 Correct Punctuation</th>\n",
              "      <th>EGRA Section 6 Correct Use of Capitals</th>\n",
              "      <th>EGRA Section 7a Score</th>\n",
              "      <th>EGRA Section 1 Total Score</th>\n",
              "      <th>EGRA Section 6 Total Score</th>\n",
              "    </tr>\n",
              "  </thead>\n",
              "  <tbody>\n",
              "    <tr>\n",
              "      <th>0</th>\n",
              "      <td>1</td>\n",
              "      <td>1</td>\n",
              "      <td>1</td>\n",
              "      <td>0</td>\n",
              "      <td>3</td>\n",
              "      <td>14</td>\n",
              "      <td>60.0</td>\n",
              "      <td>14.0</td>\n",
              "      <td>45</td>\n",
              "      <td>43.0</td>\n",
              "      <td>...</td>\n",
              "      <td>38.0</td>\n",
              "      <td>93</td>\n",
              "      <td>0</td>\n",
              "      <td>0</td>\n",
              "      <td>1</td>\n",
              "      <td>0</td>\n",
              "      <td>0</td>\n",
              "      <td>0</td>\n",
              "      <td>3</td>\n",
              "      <td>1</td>\n",
              "    </tr>\n",
              "    <tr>\n",
              "      <th>1</th>\n",
              "      <td>1</td>\n",
              "      <td>1</td>\n",
              "      <td>1</td>\n",
              "      <td>0</td>\n",
              "      <td>0</td>\n",
              "      <td>52</td>\n",
              "      <td>60.0</td>\n",
              "      <td>52.0</td>\n",
              "      <td>23</td>\n",
              "      <td>60.0</td>\n",
              "      <td>...</td>\n",
              "      <td>103.0</td>\n",
              "      <td>30</td>\n",
              "      <td>3</td>\n",
              "      <td>0</td>\n",
              "      <td>2</td>\n",
              "      <td>0</td>\n",
              "      <td>0</td>\n",
              "      <td>2</td>\n",
              "      <td>3</td>\n",
              "      <td>2</td>\n",
              "    </tr>\n",
              "    <tr>\n",
              "      <th>2</th>\n",
              "      <td>1</td>\n",
              "      <td>1</td>\n",
              "      <td>1</td>\n",
              "      <td>0</td>\n",
              "      <td>0</td>\n",
              "      <td>28</td>\n",
              "      <td>60.0</td>\n",
              "      <td>28.0</td>\n",
              "      <td>32</td>\n",
              "      <td>60.0</td>\n",
              "      <td>...</td>\n",
              "      <td>70.0</td>\n",
              "      <td>50</td>\n",
              "      <td>2</td>\n",
              "      <td>0</td>\n",
              "      <td>1</td>\n",
              "      <td>0</td>\n",
              "      <td>0</td>\n",
              "      <td>3</td>\n",
              "      <td>3</td>\n",
              "      <td>1</td>\n",
              "    </tr>\n",
              "    <tr>\n",
              "      <th>3</th>\n",
              "      <td>1</td>\n",
              "      <td>1</td>\n",
              "      <td>1</td>\n",
              "      <td>12</td>\n",
              "      <td>7</td>\n",
              "      <td>75</td>\n",
              "      <td>60.0</td>\n",
              "      <td>75.0</td>\n",
              "      <td>12</td>\n",
              "      <td>60.0</td>\n",
              "      <td>...</td>\n",
              "      <td>117.0</td>\n",
              "      <td>24</td>\n",
              "      <td>6</td>\n",
              "      <td>0</td>\n",
              "      <td>2</td>\n",
              "      <td>0</td>\n",
              "      <td>0</td>\n",
              "      <td>3</td>\n",
              "      <td>3</td>\n",
              "      <td>2</td>\n",
              "    </tr>\n",
              "    <tr>\n",
              "      <th>4</th>\n",
              "      <td>1</td>\n",
              "      <td>1</td>\n",
              "      <td>1</td>\n",
              "      <td>0</td>\n",
              "      <td>6</td>\n",
              "      <td>26</td>\n",
              "      <td>60.0</td>\n",
              "      <td>26.0</td>\n",
              "      <td>12</td>\n",
              "      <td>60.0</td>\n",
              "      <td>...</td>\n",
              "      <td>121.0</td>\n",
              "      <td>25</td>\n",
              "      <td>0</td>\n",
              "      <td>0</td>\n",
              "      <td>1</td>\n",
              "      <td>0</td>\n",
              "      <td>1</td>\n",
              "      <td>2</td>\n",
              "      <td>3</td>\n",
              "      <td>2</td>\n",
              "    </tr>\n",
              "    <tr>\n",
              "      <th>...</th>\n",
              "      <td>...</td>\n",
              "      <td>...</td>\n",
              "      <td>...</td>\n",
              "      <td>...</td>\n",
              "      <td>...</td>\n",
              "      <td>...</td>\n",
              "      <td>...</td>\n",
              "      <td>...</td>\n",
              "      <td>...</td>\n",
              "      <td>...</td>\n",
              "      <td>...</td>\n",
              "      <td>...</td>\n",
              "      <td>...</td>\n",
              "      <td>...</td>\n",
              "      <td>...</td>\n",
              "      <td>...</td>\n",
              "      <td>...</td>\n",
              "      <td>...</td>\n",
              "      <td>...</td>\n",
              "      <td>...</td>\n",
              "      <td>...</td>\n",
              "    </tr>\n",
              "    <tr>\n",
              "      <th>1052</th>\n",
              "      <td>1</td>\n",
              "      <td>1</td>\n",
              "      <td>1</td>\n",
              "      <td>0</td>\n",
              "      <td>2</td>\n",
              "      <td>3</td>\n",
              "      <td>60.0</td>\n",
              "      <td>3.0</td>\n",
              "      <td>0</td>\n",
              "      <td>16.0</td>\n",
              "      <td>...</td>\n",
              "      <td>96.0</td>\n",
              "      <td>1</td>\n",
              "      <td>0</td>\n",
              "      <td>0</td>\n",
              "      <td>2</td>\n",
              "      <td>0</td>\n",
              "      <td>0</td>\n",
              "      <td>0</td>\n",
              "      <td>3</td>\n",
              "      <td>2</td>\n",
              "    </tr>\n",
              "    <tr>\n",
              "      <th>1053</th>\n",
              "      <td>1</td>\n",
              "      <td>1</td>\n",
              "      <td>1</td>\n",
              "      <td>5</td>\n",
              "      <td>0</td>\n",
              "      <td>32</td>\n",
              "      <td>60.0</td>\n",
              "      <td>32.0</td>\n",
              "      <td>0</td>\n",
              "      <td>15.0</td>\n",
              "      <td>...</td>\n",
              "      <td>180.0</td>\n",
              "      <td>4</td>\n",
              "      <td>2</td>\n",
              "      <td>0</td>\n",
              "      <td>1</td>\n",
              "      <td>0</td>\n",
              "      <td>0</td>\n",
              "      <td>3</td>\n",
              "      <td>3</td>\n",
              "      <td>1</td>\n",
              "    </tr>\n",
              "    <tr>\n",
              "      <th>1054</th>\n",
              "      <td>1</td>\n",
              "      <td>1</td>\n",
              "      <td>1</td>\n",
              "      <td>0</td>\n",
              "      <td>1</td>\n",
              "      <td>2</td>\n",
              "      <td>60.0</td>\n",
              "      <td>2.0</td>\n",
              "      <td>0</td>\n",
              "      <td>8.0</td>\n",
              "      <td>...</td>\n",
              "      <td>16.0</td>\n",
              "      <td>0</td>\n",
              "      <td>0</td>\n",
              "      <td>0</td>\n",
              "      <td>2</td>\n",
              "      <td>0</td>\n",
              "      <td>0</td>\n",
              "      <td>0</td>\n",
              "      <td>3</td>\n",
              "      <td>2</td>\n",
              "    </tr>\n",
              "    <tr>\n",
              "      <th>1055</th>\n",
              "      <td>1</td>\n",
              "      <td>1</td>\n",
              "      <td>1</td>\n",
              "      <td>0</td>\n",
              "      <td>5</td>\n",
              "      <td>1</td>\n",
              "      <td>60.0</td>\n",
              "      <td>1.0</td>\n",
              "      <td>0</td>\n",
              "      <td>11.0</td>\n",
              "      <td>...</td>\n",
              "      <td>31.0</td>\n",
              "      <td>0</td>\n",
              "      <td>0</td>\n",
              "      <td>0</td>\n",
              "      <td>0</td>\n",
              "      <td>0</td>\n",
              "      <td>0</td>\n",
              "      <td>1</td>\n",
              "      <td>3</td>\n",
              "      <td>0</td>\n",
              "    </tr>\n",
              "    <tr>\n",
              "      <th>1056</th>\n",
              "      <td>1</td>\n",
              "      <td>1</td>\n",
              "      <td>1</td>\n",
              "      <td>0</td>\n",
              "      <td>6</td>\n",
              "      <td>64</td>\n",
              "      <td>60.0</td>\n",
              "      <td>64.0</td>\n",
              "      <td>0</td>\n",
              "      <td>15.0</td>\n",
              "      <td>...</td>\n",
              "      <td>13.0</td>\n",
              "      <td>0</td>\n",
              "      <td>6</td>\n",
              "      <td>0</td>\n",
              "      <td>2</td>\n",
              "      <td>0</td>\n",
              "      <td>0</td>\n",
              "      <td>1</td>\n",
              "      <td>3</td>\n",
              "      <td>2</td>\n",
              "    </tr>\n",
              "  </tbody>\n",
              "</table>\n",
              "<p>1057 rows × 22 columns</p>\n",
              "</div>\n",
              "      <button class=\"colab-df-convert\" onclick=\"convertToInteractive('df-83c66f1e-13b4-4539-b67f-6cce46c42c97')\"\n",
              "              title=\"Convert this dataframe to an interactive table.\"\n",
              "              style=\"display:none;\">\n",
              "        \n",
              "  <svg xmlns=\"http://www.w3.org/2000/svg\" height=\"24px\"viewBox=\"0 0 24 24\"\n",
              "       width=\"24px\">\n",
              "    <path d=\"M0 0h24v24H0V0z\" fill=\"none\"/>\n",
              "    <path d=\"M18.56 5.44l.94 2.06.94-2.06 2.06-.94-2.06-.94-.94-2.06-.94 2.06-2.06.94zm-11 1L8.5 8.5l.94-2.06 2.06-.94-2.06-.94L8.5 2.5l-.94 2.06-2.06.94zm10 10l.94 2.06.94-2.06 2.06-.94-2.06-.94-.94-2.06-.94 2.06-2.06.94z\"/><path d=\"M17.41 7.96l-1.37-1.37c-.4-.4-.92-.59-1.43-.59-.52 0-1.04.2-1.43.59L10.3 9.45l-7.72 7.72c-.78.78-.78 2.05 0 2.83L4 21.41c.39.39.9.59 1.41.59.51 0 1.02-.2 1.41-.59l7.78-7.78 2.81-2.81c.8-.78.8-2.07 0-2.86zM5.41 20L4 18.59l7.72-7.72 1.47 1.35L5.41 20z\"/>\n",
              "  </svg>\n",
              "      </button>\n",
              "      \n",
              "  <style>\n",
              "    .colab-df-container {\n",
              "      display:flex;\n",
              "      flex-wrap:wrap;\n",
              "      gap: 12px;\n",
              "    }\n",
              "\n",
              "    .colab-df-convert {\n",
              "      background-color: #E8F0FE;\n",
              "      border: none;\n",
              "      border-radius: 50%;\n",
              "      cursor: pointer;\n",
              "      display: none;\n",
              "      fill: #1967D2;\n",
              "      height: 32px;\n",
              "      padding: 0 0 0 0;\n",
              "      width: 32px;\n",
              "    }\n",
              "\n",
              "    .colab-df-convert:hover {\n",
              "      background-color: #E2EBFA;\n",
              "      box-shadow: 0px 1px 2px rgba(60, 64, 67, 0.3), 0px 1px 3px 1px rgba(60, 64, 67, 0.15);\n",
              "      fill: #174EA6;\n",
              "    }\n",
              "\n",
              "    [theme=dark] .colab-df-convert {\n",
              "      background-color: #3B4455;\n",
              "      fill: #D2E3FC;\n",
              "    }\n",
              "\n",
              "    [theme=dark] .colab-df-convert:hover {\n",
              "      background-color: #434B5C;\n",
              "      box-shadow: 0px 1px 3px 1px rgba(0, 0, 0, 0.15);\n",
              "      filter: drop-shadow(0px 1px 2px rgba(0, 0, 0, 0.3));\n",
              "      fill: #FFFFFF;\n",
              "    }\n",
              "  </style>\n",
              "\n",
              "      <script>\n",
              "        const buttonEl =\n",
              "          document.querySelector('#df-83c66f1e-13b4-4539-b67f-6cce46c42c97 button.colab-df-convert');\n",
              "        buttonEl.style.display =\n",
              "          google.colab.kernel.accessAllowed ? 'block' : 'none';\n",
              "\n",
              "        async function convertToInteractive(key) {\n",
              "          const element = document.querySelector('#df-83c66f1e-13b4-4539-b67f-6cce46c42c97');\n",
              "          const dataTable =\n",
              "            await google.colab.kernel.invokeFunction('convertToInteractive',\n",
              "                                                     [key], {});\n",
              "          if (!dataTable) return;\n",
              "\n",
              "          const docLinkHtml = 'Like what you see? Visit the ' +\n",
              "            '<a target=\"_blank\" href=https://colab.research.google.com/notebooks/data_table.ipynb>data table notebook</a>'\n",
              "            + ' to learn more about interactive tables.';\n",
              "          element.innerHTML = '';\n",
              "          dataTable['output_type'] = 'display_data';\n",
              "          await google.colab.output.renderOutput(dataTable, element);\n",
              "          const docLink = document.createElement('div');\n",
              "          docLink.innerHTML = docLinkHtml;\n",
              "          element.appendChild(docLink);\n",
              "        }\n",
              "      </script>\n",
              "    </div>\n",
              "  </div>\n",
              "  "
            ]
          },
          "metadata": {},
          "execution_count": 172
        }
      ]
    },
    {
      "cell_type": "code",
      "source": [
        "df_target_unique.to_csv(\"Target_Pop.csv\")"
      ],
      "metadata": {
        "id": "oOYpnFoBgEII"
      },
      "execution_count": 175,
      "outputs": []
    },
    {
      "cell_type": "code",
      "source": [
        "df_x_clean.to_csv(\"Feature_Pop .csv\")"
      ],
      "metadata": {
        "id": "jNfs7e7tmTZW"
      },
      "execution_count": 176,
      "outputs": []
    },
    {
      "cell_type": "code",
      "source": [],
      "metadata": {
        "id": "AcT7GGwwmdHn"
      },
      "execution_count": 174,
      "outputs": []
    }
  ]
}